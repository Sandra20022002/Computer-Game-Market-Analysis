{
 "cells": [
  {
   "cell_type": "markdown",
   "metadata": {},
   "source": [
    "<div stle=\"border:solid green 2px; padding: 20px\">\n",
    "    \n",
    "<b>Привет!</b> Мы рады тебя видеть на территории код-ревьюеров. Ты проделал большую работу над проектом, но давай познакомимся и сделаем его еще лучше! У нас тут своя атмосфера и несколько правил:\n",
    "\n",
    "\n",
    "1. Меня зовут Александр Матвеевский. Я работаю код-ревьюером, моя основная цель — не указать на совершенные тобою ошибки, а поделиться своим опытом и помочь тебе стать аналитиком данных.\n",
    "2. Общаемся на ты.\n",
    "3. Если хочешь написать, спросить - не нужно стесняться. Только выбери свой цвет для комментария.  \n",
    "4. Это учебный проект, тут можно не бояться сделать ошибку.  \n",
    "5. У тебя неограниченное количество попыток для сдачи проекта.  \n",
    "6. Let's Go!\n",
    "\n",
    "---\n",
    "\n",
    "Я буду красить комментарии цветом, пожалуйста, не удаляй их:\n",
    "\n",
    "<div class=\"alert alert-block alert-danger\">✍\n",
    "    \n",
    "\n",
    "__Комментарий от ревьюера №1__\n",
    "\n",
    "Такой комментарий нужно исправить обязательно, он критически влияет на удачное выполнение проекта.\n",
    "</div>\n",
    "    \n",
    "---\n",
    "\n",
    "<div class=\"alert alert-block alert-warning\">📝\n",
    "    \n",
    "\n",
    "__Комментарий от ревьюера №1__\n",
    "\n",
    "\n",
    "Такой комментарий является рекомендацией или советом. Можешь использовать их на своё усмотрение.\n",
    "</div>\n",
    "\n",
    "---\n",
    "\n",
    "<div class=\"alert alert-block alert-success\">✔️\n",
    "    \n",
    "\n",
    "__Комментарий от ревьюера №1__\n",
    "\n",
    "Такой комментарий  говорит о том, что было сделано что-то качественное и правильное =)\n",
    "</div>\n",
    "    \n",
    "---\n",
    "    \n",
    "Предлагаю работать над проектом в диалоге: если ты что-то меняешь в проекте или отвечаешь на мои комментарии — пиши об этом. Мне будет легче отследить изменения, если ты выделишь свои комментарии:   \n",
    "    \n",
    "<div class=\"alert alert-info\"> <b>Комментарии студента:</b> Например, вот так.</div>\n",
    "    \n",
    "Всё это поможет выполнить повторную проверку твоего проекта оперативнее. Если будут какие-нибудь вопросы по моим комментариям, пиши, будем разбираться вместе :)    \n",
    "    \n",
    "---"
   ]
  },
  {
   "cell_type": "markdown",
   "metadata": {},
   "source": [
    "<div class=\"alert alert-info\"> <b>Комментарии студента:</b> Привет, Александр! Спасибо за ревью, приступаю к исправлениям )</div>"
   ]
  },
  {
   "cell_type": "markdown",
   "metadata": {},
   "source": [
    "# Анализ данных для интернет-магазина «Стримчик»"
   ]
  },
  {
   "cell_type": "markdown",
   "metadata": {},
   "source": [
    "Интернет-магазин «Стримчик» продаёт по всему миру компьютерные игры. Из открытых источников доступны исторические данные о продажах игр, оценки пользователей и экспертов, жанры и платформы (например, Xbox или PlayStation). Нужно выявить определяющие успешность игры закономерности. Это позволит сделать ставку на потенциально популярный продукт и спланировать рекламные кампании  на 2017 год. \n",
    "В наборе данных попадается аббревиатура ESRB (Entertainment Software Rating Board) — это ассоциация, определяющая возрастной рейтинг компьютерных игр. ESRB оценивает игровой контент и присваивает ему подходящую возрастную категорию, например, «Для взрослых», «Для детей младшего возраста» или «Для подростков»."
   ]
  },
  {
   "cell_type": "markdown",
   "metadata": {},
   "source": [
    "### План работ:\n",
    "- подготовка данных: замена названий столбцов, замена типов данных, обработка пропусков, проверка на дубликаты\n",
    "- исследовательский анализ данных: анализ продаж за все время, лидеры продаж за все время, потенциально прибыльные платформы, влияние рейтингов на продажи\n",
    "- портрет пользователей: предпочтения пользователей в Северной Америке, Японии и Европе\n",
    "- влияние рейтинга ESRB на продажи\n",
    "- проверка гипотез\n"
   ]
  },
  {
   "cell_type": "markdown",
   "metadata": {},
   "source": [
    "<div class=\"alert alert-block alert-success\">✔️\n",
    "    \n",
    "\n",
    "__Комментарий от ревьюера №1__\n",
    "\n",
    "\n",
    "Отличная практика - расписывать цель и основные этапы своими словами (этот навык очень поможет на фильнальном проекте).\n",
    "</div>"
   ]
  },
  {
   "cell_type": "markdown",
   "metadata": {},
   "source": [
    "## Общие сведения"
   ]
  },
  {
   "cell_type": "markdown",
   "metadata": {},
   "source": [
    "Импортируем библиотеки, которые понадобятся для анализа данных:"
   ]
  },
  {
   "cell_type": "code",
   "execution_count": 1,
   "metadata": {},
   "outputs": [],
   "source": [
    "import pandas as pd\n",
    "import numpy as np\n",
    "import seaborn as sns\n",
    "import matplotlib.pyplot as plt\n",
    "from scipy import stats as st "
   ]
  },
  {
   "cell_type": "markdown",
   "metadata": {},
   "source": [
    "Откроем файл с данными и изучим сведения:"
   ]
  },
  {
   "cell_type": "code",
   "execution_count": 2,
   "metadata": {},
   "outputs": [
    {
     "ename": "FileNotFoundError",
     "evalue": "[Errno 2] No such file or directory: '/datasets/games.csv'",
     "output_type": "error",
     "traceback": [
      "\u001b[1;31m---------------------------------------------------------------------------\u001b[0m",
      "\u001b[1;31mFileNotFoundError\u001b[0m                         Traceback (most recent call last)",
      "\u001b[1;32m~\\AppData\\Local\\Temp/ipykernel_55168/149915317.py\u001b[0m in \u001b[0;36m<module>\u001b[1;34m\u001b[0m\n\u001b[1;32m----> 1\u001b[1;33m \u001b[0mdata\u001b[0m \u001b[1;33m=\u001b[0m \u001b[0mpd\u001b[0m\u001b[1;33m.\u001b[0m\u001b[0mread_csv\u001b[0m\u001b[1;33m(\u001b[0m\u001b[1;34m'/datasets/games.csv'\u001b[0m\u001b[1;33m)\u001b[0m\u001b[1;33m\u001b[0m\u001b[1;33m\u001b[0m\u001b[0m\n\u001b[0m\u001b[0;32m      2\u001b[0m \u001b[0mdata\u001b[0m\u001b[1;33m.\u001b[0m\u001b[0minfo\u001b[0m\u001b[1;33m(\u001b[0m\u001b[1;33m)\u001b[0m\u001b[1;33m\u001b[0m\u001b[1;33m\u001b[0m\u001b[0m\n",
      "\u001b[1;32m~\\anaconda3\\lib\\site-packages\\pandas\\util\\_decorators.py\u001b[0m in \u001b[0;36mwrapper\u001b[1;34m(*args, **kwargs)\u001b[0m\n\u001b[0;32m    309\u001b[0m                     \u001b[0mstacklevel\u001b[0m\u001b[1;33m=\u001b[0m\u001b[0mstacklevel\u001b[0m\u001b[1;33m,\u001b[0m\u001b[1;33m\u001b[0m\u001b[1;33m\u001b[0m\u001b[0m\n\u001b[0;32m    310\u001b[0m                 )\n\u001b[1;32m--> 311\u001b[1;33m             \u001b[1;32mreturn\u001b[0m \u001b[0mfunc\u001b[0m\u001b[1;33m(\u001b[0m\u001b[1;33m*\u001b[0m\u001b[0margs\u001b[0m\u001b[1;33m,\u001b[0m \u001b[1;33m**\u001b[0m\u001b[0mkwargs\u001b[0m\u001b[1;33m)\u001b[0m\u001b[1;33m\u001b[0m\u001b[1;33m\u001b[0m\u001b[0m\n\u001b[0m\u001b[0;32m    312\u001b[0m \u001b[1;33m\u001b[0m\u001b[0m\n\u001b[0;32m    313\u001b[0m         \u001b[1;32mreturn\u001b[0m \u001b[0mwrapper\u001b[0m\u001b[1;33m\u001b[0m\u001b[1;33m\u001b[0m\u001b[0m\n",
      "\u001b[1;32m~\\anaconda3\\lib\\site-packages\\pandas\\io\\parsers\\readers.py\u001b[0m in \u001b[0;36mread_csv\u001b[1;34m(filepath_or_buffer, sep, delimiter, header, names, index_col, usecols, squeeze, prefix, mangle_dupe_cols, dtype, engine, converters, true_values, false_values, skipinitialspace, skiprows, skipfooter, nrows, na_values, keep_default_na, na_filter, verbose, skip_blank_lines, parse_dates, infer_datetime_format, keep_date_col, date_parser, dayfirst, cache_dates, iterator, chunksize, compression, thousands, decimal, lineterminator, quotechar, quoting, doublequote, escapechar, comment, encoding, encoding_errors, dialect, error_bad_lines, warn_bad_lines, on_bad_lines, delim_whitespace, low_memory, memory_map, float_precision, storage_options)\u001b[0m\n\u001b[0;32m    584\u001b[0m     \u001b[0mkwds\u001b[0m\u001b[1;33m.\u001b[0m\u001b[0mupdate\u001b[0m\u001b[1;33m(\u001b[0m\u001b[0mkwds_defaults\u001b[0m\u001b[1;33m)\u001b[0m\u001b[1;33m\u001b[0m\u001b[1;33m\u001b[0m\u001b[0m\n\u001b[0;32m    585\u001b[0m \u001b[1;33m\u001b[0m\u001b[0m\n\u001b[1;32m--> 586\u001b[1;33m     \u001b[1;32mreturn\u001b[0m \u001b[0m_read\u001b[0m\u001b[1;33m(\u001b[0m\u001b[0mfilepath_or_buffer\u001b[0m\u001b[1;33m,\u001b[0m \u001b[0mkwds\u001b[0m\u001b[1;33m)\u001b[0m\u001b[1;33m\u001b[0m\u001b[1;33m\u001b[0m\u001b[0m\n\u001b[0m\u001b[0;32m    587\u001b[0m \u001b[1;33m\u001b[0m\u001b[0m\n\u001b[0;32m    588\u001b[0m \u001b[1;33m\u001b[0m\u001b[0m\n",
      "\u001b[1;32m~\\anaconda3\\lib\\site-packages\\pandas\\io\\parsers\\readers.py\u001b[0m in \u001b[0;36m_read\u001b[1;34m(filepath_or_buffer, kwds)\u001b[0m\n\u001b[0;32m    480\u001b[0m \u001b[1;33m\u001b[0m\u001b[0m\n\u001b[0;32m    481\u001b[0m     \u001b[1;31m# Create the parser.\u001b[0m\u001b[1;33m\u001b[0m\u001b[1;33m\u001b[0m\u001b[0m\n\u001b[1;32m--> 482\u001b[1;33m     \u001b[0mparser\u001b[0m \u001b[1;33m=\u001b[0m \u001b[0mTextFileReader\u001b[0m\u001b[1;33m(\u001b[0m\u001b[0mfilepath_or_buffer\u001b[0m\u001b[1;33m,\u001b[0m \u001b[1;33m**\u001b[0m\u001b[0mkwds\u001b[0m\u001b[1;33m)\u001b[0m\u001b[1;33m\u001b[0m\u001b[1;33m\u001b[0m\u001b[0m\n\u001b[0m\u001b[0;32m    483\u001b[0m \u001b[1;33m\u001b[0m\u001b[0m\n\u001b[0;32m    484\u001b[0m     \u001b[1;32mif\u001b[0m \u001b[0mchunksize\u001b[0m \u001b[1;32mor\u001b[0m \u001b[0miterator\u001b[0m\u001b[1;33m:\u001b[0m\u001b[1;33m\u001b[0m\u001b[1;33m\u001b[0m\u001b[0m\n",
      "\u001b[1;32m~\\anaconda3\\lib\\site-packages\\pandas\\io\\parsers\\readers.py\u001b[0m in \u001b[0;36m__init__\u001b[1;34m(self, f, engine, **kwds)\u001b[0m\n\u001b[0;32m    809\u001b[0m             \u001b[0mself\u001b[0m\u001b[1;33m.\u001b[0m\u001b[0moptions\u001b[0m\u001b[1;33m[\u001b[0m\u001b[1;34m\"has_index_names\"\u001b[0m\u001b[1;33m]\u001b[0m \u001b[1;33m=\u001b[0m \u001b[0mkwds\u001b[0m\u001b[1;33m[\u001b[0m\u001b[1;34m\"has_index_names\"\u001b[0m\u001b[1;33m]\u001b[0m\u001b[1;33m\u001b[0m\u001b[1;33m\u001b[0m\u001b[0m\n\u001b[0;32m    810\u001b[0m \u001b[1;33m\u001b[0m\u001b[0m\n\u001b[1;32m--> 811\u001b[1;33m         \u001b[0mself\u001b[0m\u001b[1;33m.\u001b[0m\u001b[0m_engine\u001b[0m \u001b[1;33m=\u001b[0m \u001b[0mself\u001b[0m\u001b[1;33m.\u001b[0m\u001b[0m_make_engine\u001b[0m\u001b[1;33m(\u001b[0m\u001b[0mself\u001b[0m\u001b[1;33m.\u001b[0m\u001b[0mengine\u001b[0m\u001b[1;33m)\u001b[0m\u001b[1;33m\u001b[0m\u001b[1;33m\u001b[0m\u001b[0m\n\u001b[0m\u001b[0;32m    812\u001b[0m \u001b[1;33m\u001b[0m\u001b[0m\n\u001b[0;32m    813\u001b[0m     \u001b[1;32mdef\u001b[0m \u001b[0mclose\u001b[0m\u001b[1;33m(\u001b[0m\u001b[0mself\u001b[0m\u001b[1;33m)\u001b[0m\u001b[1;33m:\u001b[0m\u001b[1;33m\u001b[0m\u001b[1;33m\u001b[0m\u001b[0m\n",
      "\u001b[1;32m~\\anaconda3\\lib\\site-packages\\pandas\\io\\parsers\\readers.py\u001b[0m in \u001b[0;36m_make_engine\u001b[1;34m(self, engine)\u001b[0m\n\u001b[0;32m   1038\u001b[0m             )\n\u001b[0;32m   1039\u001b[0m         \u001b[1;31m# error: Too many arguments for \"ParserBase\"\u001b[0m\u001b[1;33m\u001b[0m\u001b[1;33m\u001b[0m\u001b[0m\n\u001b[1;32m-> 1040\u001b[1;33m         \u001b[1;32mreturn\u001b[0m \u001b[0mmapping\u001b[0m\u001b[1;33m[\u001b[0m\u001b[0mengine\u001b[0m\u001b[1;33m]\u001b[0m\u001b[1;33m(\u001b[0m\u001b[0mself\u001b[0m\u001b[1;33m.\u001b[0m\u001b[0mf\u001b[0m\u001b[1;33m,\u001b[0m \u001b[1;33m**\u001b[0m\u001b[0mself\u001b[0m\u001b[1;33m.\u001b[0m\u001b[0moptions\u001b[0m\u001b[1;33m)\u001b[0m  \u001b[1;31m# type: ignore[call-arg]\u001b[0m\u001b[1;33m\u001b[0m\u001b[1;33m\u001b[0m\u001b[0m\n\u001b[0m\u001b[0;32m   1041\u001b[0m \u001b[1;33m\u001b[0m\u001b[0m\n\u001b[0;32m   1042\u001b[0m     \u001b[1;32mdef\u001b[0m \u001b[0m_failover_to_python\u001b[0m\u001b[1;33m(\u001b[0m\u001b[0mself\u001b[0m\u001b[1;33m)\u001b[0m\u001b[1;33m:\u001b[0m\u001b[1;33m\u001b[0m\u001b[1;33m\u001b[0m\u001b[0m\n",
      "\u001b[1;32m~\\anaconda3\\lib\\site-packages\\pandas\\io\\parsers\\c_parser_wrapper.py\u001b[0m in \u001b[0;36m__init__\u001b[1;34m(self, src, **kwds)\u001b[0m\n\u001b[0;32m     49\u001b[0m \u001b[1;33m\u001b[0m\u001b[0m\n\u001b[0;32m     50\u001b[0m         \u001b[1;31m# open handles\u001b[0m\u001b[1;33m\u001b[0m\u001b[1;33m\u001b[0m\u001b[0m\n\u001b[1;32m---> 51\u001b[1;33m         \u001b[0mself\u001b[0m\u001b[1;33m.\u001b[0m\u001b[0m_open_handles\u001b[0m\u001b[1;33m(\u001b[0m\u001b[0msrc\u001b[0m\u001b[1;33m,\u001b[0m \u001b[0mkwds\u001b[0m\u001b[1;33m)\u001b[0m\u001b[1;33m\u001b[0m\u001b[1;33m\u001b[0m\u001b[0m\n\u001b[0m\u001b[0;32m     52\u001b[0m         \u001b[1;32massert\u001b[0m \u001b[0mself\u001b[0m\u001b[1;33m.\u001b[0m\u001b[0mhandles\u001b[0m \u001b[1;32mis\u001b[0m \u001b[1;32mnot\u001b[0m \u001b[1;32mNone\u001b[0m\u001b[1;33m\u001b[0m\u001b[1;33m\u001b[0m\u001b[0m\n\u001b[0;32m     53\u001b[0m \u001b[1;33m\u001b[0m\u001b[0m\n",
      "\u001b[1;32m~\\anaconda3\\lib\\site-packages\\pandas\\io\\parsers\\base_parser.py\u001b[0m in \u001b[0;36m_open_handles\u001b[1;34m(self, src, kwds)\u001b[0m\n\u001b[0;32m    220\u001b[0m         \u001b[0mLet\u001b[0m \u001b[0mthe\u001b[0m \u001b[0mreaders\u001b[0m \u001b[0mopen\u001b[0m \u001b[0mIOHandles\u001b[0m \u001b[0mafter\u001b[0m \u001b[0mthey\u001b[0m \u001b[0mare\u001b[0m \u001b[0mdone\u001b[0m \u001b[1;32mwith\u001b[0m \u001b[0mtheir\u001b[0m \u001b[0mpotential\u001b[0m \u001b[0mraises\u001b[0m\u001b[1;33m.\u001b[0m\u001b[1;33m\u001b[0m\u001b[1;33m\u001b[0m\u001b[0m\n\u001b[0;32m    221\u001b[0m         \"\"\"\n\u001b[1;32m--> 222\u001b[1;33m         self.handles = get_handle(\n\u001b[0m\u001b[0;32m    223\u001b[0m             \u001b[0msrc\u001b[0m\u001b[1;33m,\u001b[0m\u001b[1;33m\u001b[0m\u001b[1;33m\u001b[0m\u001b[0m\n\u001b[0;32m    224\u001b[0m             \u001b[1;34m\"r\"\u001b[0m\u001b[1;33m,\u001b[0m\u001b[1;33m\u001b[0m\u001b[1;33m\u001b[0m\u001b[0m\n",
      "\u001b[1;32m~\\anaconda3\\lib\\site-packages\\pandas\\io\\common.py\u001b[0m in \u001b[0;36mget_handle\u001b[1;34m(path_or_buf, mode, encoding, compression, memory_map, is_text, errors, storage_options)\u001b[0m\n\u001b[0;32m    700\u001b[0m         \u001b[1;32mif\u001b[0m \u001b[0mioargs\u001b[0m\u001b[1;33m.\u001b[0m\u001b[0mencoding\u001b[0m \u001b[1;32mand\u001b[0m \u001b[1;34m\"b\"\u001b[0m \u001b[1;32mnot\u001b[0m \u001b[1;32min\u001b[0m \u001b[0mioargs\u001b[0m\u001b[1;33m.\u001b[0m\u001b[0mmode\u001b[0m\u001b[1;33m:\u001b[0m\u001b[1;33m\u001b[0m\u001b[1;33m\u001b[0m\u001b[0m\n\u001b[0;32m    701\u001b[0m             \u001b[1;31m# Encoding\u001b[0m\u001b[1;33m\u001b[0m\u001b[1;33m\u001b[0m\u001b[0m\n\u001b[1;32m--> 702\u001b[1;33m             handle = open(\n\u001b[0m\u001b[0;32m    703\u001b[0m                 \u001b[0mhandle\u001b[0m\u001b[1;33m,\u001b[0m\u001b[1;33m\u001b[0m\u001b[1;33m\u001b[0m\u001b[0m\n\u001b[0;32m    704\u001b[0m                 \u001b[0mioargs\u001b[0m\u001b[1;33m.\u001b[0m\u001b[0mmode\u001b[0m\u001b[1;33m,\u001b[0m\u001b[1;33m\u001b[0m\u001b[1;33m\u001b[0m\u001b[0m\n",
      "\u001b[1;31mFileNotFoundError\u001b[0m: [Errno 2] No such file or directory: '/datasets/games.csv'"
     ]
    }
   ],
   "source": [
    "data = pd.read_csv('/datasets/games.csv')\n",
    "data.info()"
   ]
  },
  {
   "cell_type": "markdown",
   "metadata": {},
   "source": [
    "Уже видно, что данные представлены не полностью: например, в столбцах 'Year_of_Release' и 'Critic_Score' меньше данных, чем в столбцах 'Platform' или 'NA_sales'.   \n",
    "Также в некоторых столбцах нужно будет изменить тип значений: например, год выпуска должен быть целым числом, соответственно, нужно будет поменять тип данных на int.\n"
   ]
  },
  {
   "cell_type": "code",
   "execution_count": null,
   "metadata": {},
   "outputs": [],
   "source": [
    "data.head(10)"
   ]
  },
  {
   "cell_type": "markdown",
   "metadata": {},
   "source": [
    "C помощью фукции head() можно вывести первые 10 строк датасета. В каждой строке содержится название игры, платформа, год выпуска, жанр игры, данные по продажам игры, оценка критиков и пользователей, а также рейтинг от организации ESRB."
   ]
  },
  {
   "cell_type": "code",
   "execution_count": null,
   "metadata": {},
   "outputs": [],
   "source": [
    "data.describe()"
   ]
  },
  {
   "cell_type": "markdown",
   "metadata": {},
   "source": [
    "Функция describe() помогает узнать, что данные по продажам представлены полностью, и в Северной Америке продажи прошли наиболее успешно."
   ]
  },
  {
   "cell_type": "markdown",
   "metadata": {},
   "source": [
    "<div class=\"alert alert-block alert-success\">✔️\n",
    "    \n",
    "<b>__Комментарий ревьюера v1__:</b>\n",
    "    \n",
    "Отлично! Первый взгляд на данные есть, план намечен."
   ]
  },
  {
   "cell_type": "markdown",
   "metadata": {},
   "source": [
    "## Подготовка данных\n"
   ]
  },
  {
   "cell_type": "markdown",
   "metadata": {},
   "source": [
    "### Замена названий столбцов"
   ]
  },
  {
   "cell_type": "markdown",
   "metadata": {},
   "source": [
    "Приведем к нижнему регистру названия столбцов:"
   ]
  },
  {
   "cell_type": "code",
   "execution_count": null,
   "metadata": {},
   "outputs": [],
   "source": [
    "data.columns = data.columns.str.lower()\n",
    "data.head(5)"
   ]
  },
  {
   "cell_type": "markdown",
   "metadata": {},
   "source": [
    "<div class=\"alert alert-block alert-success\">✔️\n",
    "<b>Комментарий ревьюера v1:</b>\n",
    "    \n",
    "В данных может быть более 100 столбцов, и за всеми аналитику тяжко уследить. Данный момент существенно облегчает жизнь =) "
   ]
  },
  {
   "cell_type": "markdown",
   "metadata": {},
   "source": [
    "### Проверка на дубликаты"
   ]
  },
  {
   "cell_type": "markdown",
   "metadata": {},
   "source": [
    "Убедимся, что в датасете нет полных дубликатов:"
   ]
  },
  {
   "cell_type": "code",
   "execution_count": null,
   "metadata": {},
   "outputs": [],
   "source": [
    "data.duplicated().sum()"
   ]
  },
  {
   "cell_type": "markdown",
   "metadata": {},
   "source": [
    "<div class=\"alert alert-block alert-success\">✔️\n",
    "    \n",
    "\n",
    "__Комментарий от ревьюера №1__\n",
    "\n",
    "Проверка на дубликаты - основа предобработки данных\n",
    "</div>"
   ]
  },
  {
   "cell_type": "markdown",
   "metadata": {},
   "source": [
    "### Обработка пропусков"
   ]
  },
  {
   "cell_type": "markdown",
   "metadata": {},
   "source": [
    "С помощью функции isna() проверим, сколько пропусков есть в каждом столбце:"
   ]
  },
  {
   "cell_type": "code",
   "execution_count": null,
   "metadata": {
    "scrolled": true
   },
   "outputs": [],
   "source": [
    "data.isna().sum()"
   ]
  },
  {
   "cell_type": "markdown",
   "metadata": {},
   "source": [
    "Проверим столбцы 'name' и 'genre' с пропусками: "
   ]
  },
  {
   "cell_type": "code",
   "execution_count": null,
   "metadata": {},
   "outputs": [],
   "source": [
    "display (data[data['name'].isna()])"
   ]
  },
  {
   "cell_type": "code",
   "execution_count": null,
   "metadata": {},
   "outputs": [],
   "source": [
    "display (data[data['genre'].isna()])"
   ]
  },
  {
   "cell_type": "markdown",
   "metadata": {},
   "source": [
    "Видно, что игры были выпущены в 1993 году, и игра в строке 659 была популярна в Северной Америке. Но названия игр, жанры, оценки и рейтинги в этих двух строках отсутствуют, поэтому лучше избавиться от этих двух строк, так как они не несут практически никакой полезной информации. Вероятно, эти данные в таблице - одни из самых старых, когда еще не осуществлялся сбор оценок, поэтому  данные отсутствуют.  \n",
    "\n",
    "Удалим из датасета обе строки:"
   ]
  },
  {
   "cell_type": "markdown",
   "metadata": {},
   "source": [
    "<div class=\"alert alert-block alert-success\">✔️\n",
    "<b>Комментарий ревьюера v1:</b>\n",
    "    \n",
    "Строки с пропусками в Name лучше удалить. Мы почти ничего не знаем об этих играх."
   ]
  },
  {
   "cell_type": "code",
   "execution_count": null,
   "metadata": {},
   "outputs": [],
   "source": [
    "data.dropna(subset=['name'], inplace=True)"
   ]
  },
  {
   "cell_type": "markdown",
   "metadata": {},
   "source": [
    "Проверим строки с пропущенным годом выпуска:"
   ]
  },
  {
   "cell_type": "code",
   "execution_count": null,
   "metadata": {},
   "outputs": [],
   "source": [
    "display ( data[data['year_of_release'].isna()])"
   ]
  },
  {
   "cell_type": "markdown",
   "metadata": {},
   "source": [
    "Строк с пропущенным годом выпуска 269. По-видимому, год выпуска игр не заполнялся для игр, выпущенных в начале 2000х. Эти строки тоже лучше удалить:"
   ]
  },
  {
   "cell_type": "code",
   "execution_count": null,
   "metadata": {},
   "outputs": [],
   "source": [
    "data.dropna(subset=['year_of_release'], inplace=True)\n"
   ]
  },
  {
   "cell_type": "markdown",
   "metadata": {},
   "source": [
    "Рейтинг для многих игр отсутствует, так как он мог не собираться для всех игр, или данные не были перенесены конкретно в этот датасет.\n",
    "Не будем заполнять пропущенные данные в рейтингах, так как это может привести к искажению данных. Рейтинг присваивается каждой игре индивидуально и непосредственно связан с уровнем продаж. Заменим пропущенные значения в рейтингах на 'unknown'."
   ]
  },
  {
   "cell_type": "markdown",
   "metadata": {},
   "source": [
    "Проверим уникальные значения в столбце 'user_score':"
   ]
  },
  {
   "cell_type": "code",
   "execution_count": null,
   "metadata": {
    "scrolled": true
   },
   "outputs": [],
   "source": [
    "data['user_score'].unique()"
   ]
  },
  {
   "cell_type": "markdown",
   "metadata": {},
   "source": [
    "Tbd означает 'to be determined', то есть рейтинг еще не присвоен, и это значение можно приравнять к NaN через функцию 'errors - coerce'."
   ]
  },
  {
   "cell_type": "markdown",
   "metadata": {},
   "source": [
    "<div class=\"alert alert-block alert-success\">✔️\n",
    "    \n",
    "\n",
    "__Комментарий от ревьюера №1__\n",
    "\n",
    "Верно, tbd по смыслу то же, что и пропуск</div>"
   ]
  },
  {
   "cell_type": "code",
   "execution_count": null,
   "metadata": {},
   "outputs": [],
   "source": [
    "data['critic_score'] = data['critic_score'].apply(pd.to_numeric, errors='coerce')\n",
    "data['user_score'] = data['user_score'].apply(pd.to_numeric, errors='coerce')\n",
    "data['rating'] = data['rating'].apply(pd.to_numeric, errors='coerce')\n",
    "\n",
    "data['critic_score'] = data['critic_score'].fillna('unknown')\n",
    "data['user_score'] = data['user_score'].fillna('unknown')\n",
    "data['rating'] = data['rating'].fillna('unknown')"
   ]
  },
  {
   "cell_type": "code",
   "execution_count": null,
   "metadata": {},
   "outputs": [],
   "source": [
    "data.isna().sum()"
   ]
  },
  {
   "cell_type": "markdown",
   "metadata": {},
   "source": [
    "В итоге, в датасете не осталось пропусков."
   ]
  },
  {
   "cell_type": "markdown",
   "metadata": {},
   "source": [
    "<div class=\"alert alert-block alert-danger\">\n",
    "    \n",
    "\n",
    "__Комментарий от ревьюера №1__\n",
    "\n",
    "Мы заметили ранее,  что  пропущены одновременно и рейтинг, и оценка критиков, и оценка пользователей.Например пропусков рейтинга слишком много, что бы мы могли их восстановить. Удалить также нельзя. Выходит один путь: Пропуски в рейтинге стоит пометить значением-заглушкой (unknown, no_info, -1. и т.д.)  Это нам пригодится при составлении портрета пользователя.\n",
    "    \n",
    "---\n",
    "    \n",
    "Столбец `year_of_release` имеет малую долю пропусков. Их лучше удалить\n",
    "</div> "
   ]
  },
  {
   "cell_type": "markdown",
   "metadata": {},
   "source": [
    "### Замена типов данных"
   ]
  },
  {
   "cell_type": "code",
   "execution_count": null,
   "metadata": {},
   "outputs": [],
   "source": [
    "data.info()"
   ]
  },
  {
   "cell_type": "markdown",
   "metadata": {},
   "source": [
    "Заменим типы значений в следующем столбце:\n",
    "\n",
    "'year_of_release'  - c 'float64' на 'int', так как числа в этих столбцах должны быть целыми; \n",
    "\n",
    "'user_score', 'critic_score', ' rating ' теперь содержат strings, поэтому должны оставаться типом object\n",
    "\n",
    "Оставим тип 'float'  в данных по продажам, так как счет идет в миллионах копий, и числа также не всегда являются целыми."
   ]
  },
  {
   "cell_type": "code",
   "execution_count": null,
   "metadata": {},
   "outputs": [],
   "source": [
    "data['year_of_release'] = data['year_of_release'].astype('Int64')\n"
   ]
  },
  {
   "cell_type": "markdown",
   "metadata": {},
   "source": [
    "Проверим, что типы данных заменились на нужные:"
   ]
  },
  {
   "cell_type": "code",
   "execution_count": null,
   "metadata": {
    "scrolled": true
   },
   "outputs": [],
   "source": [
    "data.info()"
   ]
  },
  {
   "cell_type": "markdown",
   "metadata": {},
   "source": [
    "Проверим, что 'tbd' в 'user_score' превратилось в 'unknown':"
   ]
  },
  {
   "cell_type": "code",
   "execution_count": null,
   "metadata": {
    "scrolled": true
   },
   "outputs": [],
   "source": [
    "data['user_score'].unique()"
   ]
  },
  {
   "cell_type": "markdown",
   "metadata": {},
   "source": [
    "<div class=\"alert alert-block alert-success\">✔️\n",
    "    \n",
    "\n",
    "__Комментарий от ревьюера №1__\n",
    "\n",
    "Отличная работа!\n",
    "</div>"
   ]
  },
  {
   "cell_type": "markdown",
   "metadata": {},
   "source": [
    "### Cуммарные продажи во всех регионах"
   ]
  },
  {
   "cell_type": "markdown",
   "metadata": {},
   "source": [
    "Создадим столбец с суммарными продажами по всем регионам: 'all_sales_total':"
   ]
  },
  {
   "cell_type": "code",
   "execution_count": null,
   "metadata": {},
   "outputs": [],
   "source": [
    "data['all_sales_total'] = data[['na_sales', 'eu_sales', 'jp_sales', 'other_sales']].sum(axis=1)"
   ]
  },
  {
   "cell_type": "markdown",
   "metadata": {},
   "source": [
    "<div class=\"alert alert-block alert-success\">✔️\n",
    "    \n",
    "\n",
    "__Комментарий от ревьюера №1__\n",
    "\n",
    "Идеально! Добавить нечего, выбран самый лучше способ\n",
    "</div>"
   ]
  },
  {
   "cell_type": "markdown",
   "metadata": {},
   "source": [
    "Проверим, что столбец создался:"
   ]
  },
  {
   "cell_type": "code",
   "execution_count": null,
   "metadata": {},
   "outputs": [],
   "source": [
    "data.head(10)"
   ]
  },
  {
   "cell_type": "markdown",
   "metadata": {},
   "source": [
    "### Вывод"
   ]
  },
  {
   "cell_type": "markdown",
   "metadata": {},
   "source": [
    "Мы подготовили данные к дальнейшей обработке:\n",
    "- названия столбцов приведены к нижнему регистру\n",
    "- некоторые типы данных заменены на нужные\n",
    "- обработали пропуски там, где это было нужно. Большая часть пропусков осталась без изменений, так как замена может повлиять на результаты анализа.\n",
    "- был создан столбец с суммарными продажами по регионам\n"
   ]
  },
  {
   "cell_type": "markdown",
   "metadata": {},
   "source": [
    "## Исследовательский анализ данных"
   ]
  },
  {
   "cell_type": "markdown",
   "metadata": {},
   "source": [
    "#### Количество игр с 1980 по 2016 годы и лидеры продаж за весь период."
   ]
  },
  {
   "cell_type": "markdown",
   "metadata": {},
   "source": [
    "Посмотрим, сколько игр выпускалось в разные годы. Видно, что до 1995 года количество игр, выпускаемых ежегодно, не превышало 200. Резкий рост начался с 1993 года и продолжался вплоть до 2009, когда было выпущено более 1400 игр. Затем начался спад, который продолжился до 2016 года.\n",
    "\n",
    "В дальнейшем мы можем не принимать во внимание данные до 1990 года, так как количество игр, выпущенных в те годы, незначительно."
   ]
  },
  {
   "cell_type": "code",
   "execution_count": null,
   "metadata": {
    "scrolled": true
   },
   "outputs": [],
   "source": [
    "(data\n",
    " .pivot_table(index='year_of_release', values='name', aggfunc='count') \n",
    " .plot(kind='bar', figsize=(10,4),  style = 'o-', grid=True)\n",
    ")\n",
    "plt.title('Количество игр, выпущенных с 1980 по 2016 гг.'+ \"\\n\")\n",
    "plt.xlabel('Год')\n",
    "plt.ylabel('кол-во выпущенных игр');"
   ]
  },
  {
   "attachments": {
    "image-2.png": {
     "image/png": "[encoded data removed]"
    },
    "image.png": {
     "image/png": "[encoded data removed]"
    }
   },
   "cell_type": "markdown",
   "metadata": {},
   "source": [
    "<div class=\"alert alert-block alert-success\">✔️\n",
    "    \n",
    "\n",
    "__Комментарий от ревьюера №1__\n",
    "\n",
    "Отличная визуализация. При желании можно немного улучшить. Смотри: Для того, чтобы построить графить, нужно сгруппировать данные (в нашем случае год релиза и колличество)\n",
    "    \n",
    "![image.png](attachment:image.png)\n",
    "    \n",
    "---\n",
    "А потом с помощью библиотеки sns (она мощная, и с ней можно делать всё, что угодно). По данным сгруппированной таблицы строим график. При желании забирай себе =) Главное поиграйся с аргументами и разберись. В дальнейших проектах вы будете строить мощные графики, там пригодится такой навык    \n",
    "    \n",
    "![image-2.png](attachment:image-2.png) \n",
    "</div>"
   ]
  },
  {
   "cell_type": "markdown",
   "metadata": {},
   "source": [
    "Посмотрим, как менялись продажи по платформам. Выберем платформы с наибольшими суммарными продажами и построим распределение по годам:"
   ]
  },
  {
   "cell_type": "code",
   "execution_count": null,
   "metadata": {},
   "outputs": [],
   "source": [
    "#platform_sales = platform_sales.groupby('all_sales_total').agg({'all_sales_total':'sum'})\n",
    "platform_sales = data.pivot_table(index='platform', values='all_sales_total', aggfunc='sum').sort_values('all_sales_total', ascending=True)\n",
    "\n",
    "plt.figure(figsize=(13,6))\n",
    "sns.set_style('whitegrid')\n",
    "sns.barplot(x=platform)\n",
    "#display (platform_sales)\n",
    "\n",
    "\n",
    "\n",
    "plt.title('Продажи игр по платформам, с 1980 по 2016 гг.'+ \"\\n\")\n",
    "plt.xlabel('Название платформы')\n",
    "plt.ylabel('Суммарные продажи')\n",
    "plt.show()"
   ]
  },
  {
   "cell_type": "code",
   "execution_count": null,
   "metadata": {},
   "outputs": [],
   "source": [
    "(data\n",
    " .pivot_table(index='platform', values='all_sales_total', aggfunc='sum')\n",
    " .sort_values('all_sales_total', ascending=True)\n",
    " .plot(kind='bar', figsize=(9,5),  style = 'o-', grid=True)\n",
    ")\n",
    "\n",
    "plt.title('Продажи игр по платформам, с 1980 по 2016 гг.'+ \"\\n\")\n",
    "plt.xlabel('Название платформы')\n",
    "plt.ylabel('Суммарные продажи')"
   ]
  },
  {
   "cell_type": "code",
   "execution_count": null,
   "metadata": {},
   "outputs": [],
   "source": [
    "(data\n",
    " .pivot_table(index='platform', values='all_sales_total', aggfunc='sum')\n",
    " .sort_values('all_sales_total', ascending=True)\n",
    " .plot(kind='bar', figsize=(9,5),  style = 'o-', grid=True)\n",
    ")\n",
    "\n",
    "plt.title('Продажи игр по платформам, с 1980 по 2016 гг.'+ \"\\n\")\n",
    "plt.xlabel('Название платформы')\n",
    "plt.ylabel('Суммарные продажи')\n"
   ]
  },
  {
   "cell_type": "markdown",
   "metadata": {},
   "source": [
    "Для построения графика с распределением по годам, оставим только топ-6 платформ: PS2, X360, PS3, Wii, DS, PS."
   ]
  },
  {
   "cell_type": "code",
   "execution_count": null,
   "metadata": {},
   "outputs": [],
   "source": [
    "top_platforms = data.groupby('platform') ['all_sales_total'].sum()\n",
    "top_platforms = pd.DataFrame(top_platforms)\n",
    "top_platforms = top_platforms.query('all_sales_total > 400').sort_values('all_sales_total', ascending=False).reset_index()\n",
    "top_platforms.head(10)"
   ]
  },
  {
   "cell_type": "code",
   "execution_count": null,
   "metadata": {
    "scrolled": false
   },
   "outputs": [],
   "source": [
    "(top_platforms\n",
    " .sort_values('all_sales_total', ascending=True)\n",
    " .reset_index()\n",
    " .plot(kind='bar', x='platform', y = 'all_sales_total', figsize=(7,5), grid='True')\n",
    ")\n",
    "\n",
    "plt.title('Продажи игр по платформам, топ-6 платформ'+ \"\\n\")\n",
    "plt.xlabel('Название платформы')\n",
    "plt.ylabel('Суммарные продажи')\n",
    "plt.show()"
   ]
  },
  {
   "attachments": {
    "image.png": {
     "image/png": "[encoded data removed]"
    }
   },
   "cell_type": "markdown",
   "metadata": {},
   "source": [
    "<div class=\"alert alert-block alert-success\">✔️\n",
    "    \n",
    "\n",
    "__Комментарий от ревьюера №1__\n",
    "Такие предупреждения можно убрать 2 способами:\n",
    "    \n",
    "1. В конец кода добавить `plt.show()`, но для этого нужно вызвать библиотеку matplotlib\n",
    "2. В конец кода добавить `;`\n",
    "    \n",
    "![image.png](attachment:image.png))\n",
    "</div>"
   ]
  },
  {
   "cell_type": "markdown",
   "metadata": {},
   "source": [
    "#### Жизненные циклы для топ-6 платформ, весь период"
   ]
  },
  {
   "cell_type": "markdown",
   "metadata": {},
   "source": [
    "Проанализируем данные из общего датасета по годам, только для этих 6 платформ:"
   ]
  },
  {
   "cell_type": "code",
   "execution_count": null,
   "metadata": {},
   "outputs": [],
   "source": [
    "top_platforms['platform'].unique()"
   ]
  },
  {
   "cell_type": "code",
   "execution_count": null,
   "metadata": {},
   "outputs": [],
   "source": [
    "top_platforms_names = ['DS', 'PS', 'PS2', 'PS3', 'Wii', 'X360']\n",
    "data_top_platforms = data.query('platform in @top_platforms_names')"
   ]
  },
  {
   "cell_type": "code",
   "execution_count": null,
   "metadata": {},
   "outputs": [],
   "source": [
    "(data_top_platforms \n",
    " .query('year_of_release > 1990')\n",
    " .pivot_table(index='year_of_release', columns='platform', values='all_sales_total', aggfunc='sum') \n",
    " .plot(kind='line', figsize=(14,7),  style = 'o-', grid=True)\n",
    ")\n",
    "plt.title('Tоп-6 платформ, распределение по годам с 1993 по 2016 гг.'+ \"\\n\")\n",
    "plt.xlabel('Год')\n",
    "plt.ylabel('кол-во продаж на платформу')\n"
   ]
  },
  {
   "cell_type": "markdown",
   "metadata": {},
   "source": [
    "На графике видны пики продаж для каждой из топ-6 приставок. Видно, что каждая платформа проходит свой пик популярности, после чего продажи начинают падать. В среднем, 'жизненный цикл'  платформы составляет около 10 лет."
   ]
  },
  {
   "cell_type": "markdown",
   "metadata": {},
   "source": [
    "<div class=\"alert alert-block alert-success\">✔️\n",
    "    \n",
    "\n",
    "__Комментарий от ревьюера №1__\n",
    "\n",
    "Полостью согласен с графиками. Распределение PS2 похоже на котика ^^\n",
    "</div>"
   ]
  },
  {
   "cell_type": "markdown",
   "metadata": {},
   "source": [
    "<div class=\"alert alert-block alert-success\">✔️\n",
    "    \n",
    "\n",
    "__Комментарий от ревьюера №1__\n",
    "\n",
    "Здесь еще можно построить тепловую карту\n",
    "</div>"
   ]
  },
  {
   "cell_type": "markdown",
   "metadata": {},
   "source": [
    "#### Лидеры продаж за 2016 год. Рост и падение платформ за актуальный период.   Потенциально прибыльные платформы."
   ]
  },
  {
   "cell_type": "markdown",
   "metadata": {},
   "source": [
    "Возьмем данные за соответствующий актуальный период, чтобы спланировать продажи на 2017 год. Актуальным периодом будем считать данные с 2013 года, так как данные  за 4-летний  период могут точно указать, куда идет тенденция продаж - на рост или на падение. Четырех точек на графике будет достаточно, чтобы понять тенденцию. \n",
    "\n",
    "В то же время, для выбора платформ для продажи на 2017 год, нет смысла ориентироваться на данные трехлетней давности - нужно брать только самые свежие данные за 2016 год. В 2017 году выгоднее всего будет продавать игры для платформ - лидеров продаж за 2016 год, даже если кривая продаж идет на спад. \n",
    "\n",
    "Поэтому будем использовать данные за 2016 год для поиска популярных жанров и платформ, и данные за последние три года - для выявления общих тенденций (влияние рейтингов, тенденции продаж).\n"
   ]
  },
  {
   "cell_type": "code",
   "execution_count": null,
   "metadata": {},
   "outputs": [],
   "source": [
    "data_actual = data.query('year_of_release > 2012')"
   ]
  },
  {
   "cell_type": "markdown",
   "metadata": {},
   "source": [
    "<div class=\"alert alert-block alert-success\">✔️\n",
    "    \n",
    "\n",
    "__Комментарий от ревьюера №1__\n",
    "\n",
    "Для целей прогнозирования продаж на следующий год даже в традиционных бизнесах редко берут данные более чем за 2-3 года. А в такой динамично меняющейся индустрии, как компьютерные игры и вовсе не стоит брать слишком большой временной интервал - иначе обязательно захватишь уже отжившие тренды. Но и слишком короткий период тоже брать не стоит\n",
    "</div>"
   ]
  },
  {
   "cell_type": "code",
   "execution_count": null,
   "metadata": {
    "scrolled": false
   },
   "outputs": [],
   "source": [
    "(data_actual \n",
    " .pivot_table(index='year_of_release', columns='platform', values='all_sales_total', aggfunc='sum') \n",
    " .plot(kind='line', figsize=(15,7),  style = 'o-', grid=True)\n",
    ")\n",
    "plt.title('Все платформы, продажи с 2013 по 2016 гг.'+ \"\\n\")\n",
    "plt.xlabel('Год')\n",
    "plt.ylabel('кол-во суммарных продаж на платформу')"
   ]
  },
  {
   "cell_type": "markdown",
   "metadata": {},
   "source": [
    "<div class=\"alert alert-block alert-danger\">✍\n",
    "    \n",
    "\n",
    "__Комментарий от ревьюера №1__\n",
    "\n",
    "Легенда по центру графика. Поправишь, пожалуйста?\n",
    "</div>"
   ]
  },
  {
   "cell_type": "markdown",
   "metadata": {},
   "source": [
    "Видно, что в целом тенденция продаж идет на спад. Нет ни одного графика, где продажи бы выросли между 2015 и 2016 годом. Однако есть еще несколько платформ, где потенциал продаж не полностью исчерпан. Это платформы, лидирующие по продажам в 2016 году: PS4, 3DS, XOne. \n",
    "\n",
    "Рассмотрим подробнее графики нижней части:"
   ]
  },
  {
   "cell_type": "code",
   "execution_count": null,
   "metadata": {},
   "outputs": [],
   "source": [
    "(data_actual \n",
    " .pivot_table(index='year_of_release', columns='platform', values='all_sales_total', aggfunc='sum') \n",
    " .plot(kind='line', figsize=(15,7),  style = 'o-', grid=True)\n",
    ")\n",
    "plt.title('Tоп-6 платформ, распределение по годам с 2013 по 2016 гг. Продажи до 20 млн.'+ \"\\n\")\n",
    "plt.xlabel('Год')\n",
    "plt.ylabel('кол-во продаж на платформу')\n",
    "plt.ylim(0, 20)"
   ]
  },
  {
   "cell_type": "markdown",
   "metadata": {},
   "source": [
    "В нижней части графика также заметен общий спад продаж. Результаты продаж примерно одинаковы у платформ PC, WiiU, PSV, PS3 - порядка 5 млн копий за 2016 год.   \n",
    "Построим таблицу лидеров продаж за 2016 год:"
   ]
  },
  {
   "cell_type": "code",
   "execution_count": null,
   "metadata": {},
   "outputs": [],
   "source": [
    "data_2016 = data.query('year_of_release == 2016')\n",
    "data_2016_top_platforms = data_2016.pivot_table(index='platform', values='all_sales_total', aggfunc='sum').sort_values('all_sales_total', \n",
    "                                                                                        ascending=False).reset_index()\n",
    "data_2016_top_platforms.head(10)\n"
   ]
  },
  {
   "cell_type": "markdown",
   "metadata": {},
   "source": [
    "В 2016 году по продажам лидировали PS4, XOne, 3DS."
   ]
  },
  {
   "cell_type": "markdown",
   "metadata": {},
   "source": [
    "Построим диаграмму размаха  по глобальным продажам игр в 2016 году в разбивке по платформам:"
   ]
  },
  {
   "cell_type": "markdown",
   "metadata": {},
   "source": [
    "Видны большие выбросы у PS3 и других платформ. Сократим лимит по оси x, чтобы лучше увидеть диаграммы размаха:"
   ]
  },
  {
   "cell_type": "code",
   "execution_count": null,
   "metadata": {},
   "outputs": [],
   "source": [
    "data_actual_catplot = data.query('year_of_release > 2015')\n",
    "g = sns.catplot(y='platform', x='all_sales_total', data=data_actual_catplot, kind='box');\n",
    "g.set(xlim=(0, 2))\n",
    "fig = plt.gcf()\n",
    "fig.set_size_inches(15, 8)\n",
    "fig.suptitle('Количество продаж по платформам, 2016 г.' + '\\n')"
   ]
  },
  {
   "cell_type": "markdown",
   "metadata": {},
   "source": [
    "Видно, что на диаграмме размаха в лидерах опять находятся PS4, XOne, 3DS. За счет почти полного отсутствия выбросов, сравнимая с лидерами диаграмма получилась и у платформы WiiU. Хотя по суммарному объему продаж она находится на 5 месте, после PC, медиана продаж у нее самая высокая. Результаты диаграммы WiiU говорят о равномерности доходов по этой платформе. Эта платформа также может быть включена в план продаж на 2017 год."
   ]
  },
  {
   "cell_type": "markdown",
   "metadata": {},
   "source": [
    "<div class=\"alert alert-block alert-warning\">\n",
    "    \n",
    "\n",
    "__Комментарий от ревьюера №1__\n",
    "\n",
    "\n",
    "Будет лучше, если добавить и график со \"всеми данными\" (без xlim).\n",
    "</div>"
   ]
  },
  {
   "cell_type": "markdown",
   "metadata": {},
   "source": [
    "#### Влияние  отзывов пользователей и критиков на продажи, на примере платформы PS4. "
   ]
  },
  {
   "cell_type": "markdown",
   "metadata": {},
   "source": [
    "Построим диаграмму рассеяния и посчитаем корреляцию между отзывами и продажами на актуальных данных с 2013 года:"
   ]
  },
  {
   "cell_type": "code",
   "execution_count": null,
   "metadata": {},
   "outputs": [],
   "source": [
    "data_ps4 = data_actual.query('platform == \"PS4\"')\n",
    "data_ps4 = data_ps4[['na_sales', 'eu_sales', 'jp_sales', 'other_sales', 'critic_score', 'user_score', 'all_sales_total']].copy()\n",
    "data_ps4.corr()"
   ]
  },
  {
   "cell_type": "code",
   "execution_count": null,
   "metadata": {},
   "outputs": [],
   "source": [
    "pd.plotting.scatter_matrix(data_ps4, figsize=(10,10), alpha=0.5)\n",
    "plt.suptitle('Корреляция между отзывами и продажами, все регионы')"
   ]
  },
  {
   "cell_type": "markdown",
   "metadata": {},
   "source": [
    "В целом, продажи во всех регионах больше коррелируют с отзывами критиков и меньше - с отзывами пользователей. Чем выше рейтинг игры по оценкам критиков, тем выше количество продаж. Особенно сильна корреляция рейтинга критиков и продаж в Северной Америке (0.41) и в 'других' регионах (0.41).\n",
    "Рейтинг пользователей и продаж коррелирует не так сильно и близок к нулю практически во всех регионах, кроме Японии. В Японии корреляция рейтинга пользователей и продаж составляет 0.17, а рейтинга критиков и продаж - 0.56. То есть в целом, японские пользователи немного больше доверяют рейтингу пользователей и меньше - рейтингу критиков, чем в других регионах."
   ]
  },
  {
   "cell_type": "code",
   "execution_count": null,
   "metadata": {},
   "outputs": [],
   "source": [
    "data_ps4.plot(kind='scatter', x='critic_score', y='all_sales_total', grid=True, title='Зависимость продаж PS4 от оценки критиков, все регионы')\n",
    "plt.ylim=(0,8)\n",
    "\n",
    "data_ps4.plot(kind='scatter', x='user_score', y='all_sales_total', grid=True, title='Зависимость продаж PS4  от оценки пользователей, все регионы')\n",
    "plt.ylim=(0,8)"
   ]
  },
  {
   "cell_type": "markdown",
   "metadata": {},
   "source": [
    "На графиках видно, что продажи никогда не бывают высокими, если оценка критиков низкая. Это не всегда бывает так при низкой оценке пользователей. Некоторые игры, низко оцененные пользователями, тем не менее хорошо продаются.\n",
    "\n",
    "То же должно быть верно и для других платформ: при выборе игр для продажи, ориентироваться стоит в первую очередь на рейтинг критиков. Проверим эту версию на грaфиках для других популярных платформ:"
   ]
  },
  {
   "cell_type": "code",
   "execution_count": null,
   "metadata": {},
   "outputs": [],
   "source": [
    "platforms = [\"XOne\", \"3DS\", \"PC\", \"WiiU\"]\n",
    "data_other_platforms = data_actual.query('platform in @platforms')"
   ]
  },
  {
   "cell_type": "code",
   "execution_count": null,
   "metadata": {
    "scrolled": false
   },
   "outputs": [],
   "source": [
    "sns.scatterplot(x=\"critic_score\", y=\"all_sales_total\", data=data_other_platforms, hue = 'platform' , marker = 'o')\n",
    "sns.set_style(\"white\")\n",
    "plt.xlabel(\"Рейтинг критиков\", fontsize= 12)\n",
    "plt.ylabel(\"Продажи игр, млн.\", fontsize= 12)\n",
    "plt.title(\"Продажи в зависимости от рейтинга критиков\", fontsize= 15)\n",
    "plt.show()"
   ]
  },
  {
   "cell_type": "code",
   "execution_count": null,
   "metadata": {},
   "outputs": [],
   "source": [
    "sns.scatterplot(x=\"user_score\", y=\"all_sales_total\", data=data_other_platforms, hue = 'platform' , marker = 'o')\n",
    "sns.set_style(\"white\")\n",
    "plt.xlabel(\"Рейтинг пользователей\", fontsize= 12)\n",
    "plt.ylabel(\"Продажи игр, млн.\", fontsize= 12)\n",
    "plt.title(\"Продажи в зависимости от рейтинга пользователей\", fontsize= 15)\n",
    "plt.show()"
   ]
  },
  {
   "cell_type": "markdown",
   "metadata": {},
   "source": [
    "Та же тенденция наблюдается и у других известных платформ. Продажи строже коррелируют с рейтингом критиков, чем с рейтингом пользователей. Некоторые продажи были высокими, несмотря на низкую оценку игры пользователями, но такого не случалось с играми, низко оцениваемыми критиками."
   ]
  },
  {
   "cell_type": "markdown",
   "metadata": {},
   "source": [
    "<div class=\"alert alert-block alert-success\">✔️\n",
    "    \n",
    "\n",
    "__Комментарий от ревьюера №1__\n",
    "\n",
    "Ух ты! Один график на котором можно посмотреть корреляцию нескольких платформ! Здорово!))))\n",
    "</div>"
   ]
  },
  {
   "cell_type": "markdown",
   "metadata": {},
   "source": [
    "#### Общее распределение игр по жанрам"
   ]
  },
  {
   "cell_type": "markdown",
   "metadata": {},
   "source": [
    "Построим таблицу и диаграмму с самыми прибыльными жанрами за 2016 год. Как видно, самых прибыльных жанров четыре - 'Shooter', 'Action', 'Sports', 'Role-Playing'. Остальные жанры значительно менее прибыльны:\n"
   ]
  },
  {
   "cell_type": "code",
   "execution_count": null,
   "metadata": {
    "scrolled": false
   },
   "outputs": [],
   "source": [
    "data_genres = data.query('year_of_release == 2016')\n",
    "\n",
    "data_genres = data_genres.pivot_table(index='genre', values='all_sales_total', aggfunc='sum').sort_values('all_sales_total', ascending=False)\n",
    "plt = data_genres.plot( kind='pie', y='all_sales_total', figsize=(10, 10), wedgeprops={'alpha':0.8})\n",
    "plt.legend(bbox_to_anchor=(1.1,0.8), loc=\"center right\")\n"
   ]
  },
  {
   "cell_type": "markdown",
   "metadata": {},
   "source": [
    "### Вывод"
   ]
  },
  {
   "cell_type": "markdown",
   "metadata": {},
   "source": [
    "Проанализировав продажи за все годы, мы сделали следующие выводы:\n",
    "- рост количества новых игр продолжался с 1993 по 2011 год. С 2011 года, продажи пошли на спад, который продолжается до сих пор\n",
    "- за прошедшие годы, следующие платформы вошли в топ-6 мировых лидеров: PS2, X360, PS3, Wii, DS, PS\n",
    "- каждая платформа проходит свой пик популярности, после чего продажи начинают падать. В среднем, 'жизненный цикл'  платформы составляет около 10 лет\n",
    "- эта тенденция спада коррелирует с данными за прошедшие несколько лет. Нет ни одной платформы, чьи продажи бы возросли с 2015 по 2016 год. Тем не менее, некоторые платформы пока не исчерпали свой потенциал и могут быть рекомендованы к продажам в 2017 году. Это платформы PS4, XOne, 3DS, PC, WiiU.\n",
    "- показатели продаж больше коррелируют с рейтингами критиков, чем с рейтингами пользователей. Япония - единственная страна, где рейтинги пользователей имеют влияние (хоть и слабое) на продажи\n",
    "- четыре наиболее прибыльных игровых жанра в 2016 году - 'Shooter', 'Action', 'Sports', 'Role-Playing'. Остальные жанры значительно менее прибыльны.\n"
   ]
  },
  {
   "cell_type": "code",
   "execution_count": null,
   "metadata": {},
   "outputs": [],
   "source": []
  },
  {
   "cell_type": "markdown",
   "metadata": {},
   "source": [
    "<div class=\"alert alert-block alert-danger\">\n",
    "    \n",
    "\n",
    "__Комментарий от ревьюера №1__\n",
    "\n",
    "Твои расчеты нужно еще немного дополнить. Общие продажи - плохая метрика для поиска наиболее прибыльного жанра. За высокими показателями общих продаж может скрываться множество мелких игр с низкими продажами. Или 2-3 звезды и куча провалов. Лучше найти жанр, где игры стабильно приносят высокий доход - для этого стоит рассмотреть средние или медианные продажи\n",
    "    \n",
    "---\n",
    "    \n",
    "Давай тут ещё посмотрим на распределение с помощью боксплота?\n",
    "</div>"
   ]
  },
  {
   "cell_type": "markdown",
   "metadata": {},
   "source": [
    "##  Портрет пользователя каждого региона"
   ]
  },
  {
   "cell_type": "markdown",
   "metadata": {},
   "source": [
    "Определим портрет пользователя каждого региона. Найдем топ-5 самых популярных жанров и платформ для каждого региона (NA, EU, JP) в 2016 году. Потом определим, влияет ли рейтинг ESRB на продажи в отдельном регионе."
   ]
  },
  {
   "cell_type": "markdown",
   "metadata": {},
   "source": [
    "### Предпочтения пользователей в Северной Америке"
   ]
  },
  {
   "cell_type": "code",
   "execution_count": null,
   "metadata": {
    "scrolled": true
   },
   "outputs": [],
   "source": [
    "data_na = data.query('year_of_release == 2016')\n",
    "data_na_genre = data_na.pivot_table(index='genre', values='na_sales', aggfunc='sum').sort_values('na_sales', ascending=False).reset_index()\n",
    "\n",
    "data_na_genre.head(5)\n"
   ]
  },
  {
   "cell_type": "code",
   "execution_count": null,
   "metadata": {},
   "outputs": [],
   "source": [
    "data_na_platform = data_na.pivot_table(index='platform', values='na_sales', aggfunc='sum').sort_values('na_sales', ascending=False).reset_index()\n",
    "data_na_platform.head(5)"
   ]
  },
  {
   "cell_type": "markdown",
   "metadata": {},
   "source": [
    "Среди пользователей в Северной Америке популярны такие же жанры, как и в мире в целом. Аналогичны и предпочтения среди платформ - топ-5 в Северной Америке также является топ-5 в мире."
   ]
  },
  {
   "cell_type": "markdown",
   "metadata": {},
   "source": [
    "<div class=\"alert alert-block alert-danger\">\n",
    "    \n",
    "\n",
    "__Комментарий от ревьюера №1__\n",
    "\n",
    "Давай визуализируем эти данные? Тут идеально подойдет круговая диаграмма\n",
    "</div>"
   ]
  },
  {
   "cell_type": "markdown",
   "metadata": {},
   "source": [
    "###  Предпочтения пользователей  в ЕС"
   ]
  },
  {
   "cell_type": "code",
   "execution_count": null,
   "metadata": {},
   "outputs": [],
   "source": [
    "data_eu = data.query('year_of_release == 2016')\n",
    "data_eu_genre = data_eu.pivot_table(index='genre', values='eu_sales', aggfunc='sum').sort_values('eu_sales', ascending=False).reset_index()\n",
    "\n",
    "data_eu_genre.head(5)"
   ]
  },
  {
   "cell_type": "code",
   "execution_count": null,
   "metadata": {},
   "outputs": [],
   "source": [
    "data_eu_platform = data_eu.pivot_table(index='platform', values='eu_sales', aggfunc='sum').sort_values('eu_sales', ascending=False).reset_index()\n",
    "data_eu_platform.head(5)"
   ]
  },
  {
   "cell_type": "markdown",
   "metadata": {},
   "source": [
    "Tоп-4 игр в ЕС такие же, как и в мире, но пятое место занимает жанр 'Racing', а не 'Fighting', как во всем мире. Кроме того, в Европе предпочитают жанр  'Sports' жанру 'Action', а в мире эти жанры занимают 3е и 2е место соответственно."
   ]
  },
  {
   "cell_type": "markdown",
   "metadata": {},
   "source": [
    "Топ-5 платформ в ЕС такие же, как в мире и в Северной Америке."
   ]
  },
  {
   "cell_type": "markdown",
   "metadata": {},
   "source": [
    "### Предпочтения пользователей в Японии"
   ]
  },
  {
   "cell_type": "code",
   "execution_count": null,
   "metadata": {},
   "outputs": [],
   "source": [
    "data_jp = data.query('year_of_release == 2016')\n",
    "data_jp_genre = data_jp.pivot_table(index='genre', values='jp_sales', aggfunc='sum').sort_values('jp_sales', ascending=False).reset_index()\n",
    "\n",
    "data_jp_genre.head(5)"
   ]
  },
  {
   "cell_type": "markdown",
   "metadata": {},
   "source": [
    "В Японии вкусы пользователей отличаются от мировых: в пятерку лидеров вошли жанры 'Adventure' и 'Misc', менее популярные в мире. И наоборот, популярные в мире жанры 'Sports' и 'Fighting' в Японии не вошли в топ-5."
   ]
  },
  {
   "cell_type": "code",
   "execution_count": null,
   "metadata": {},
   "outputs": [],
   "source": [
    "data_jp_platform = data_jp.pivot_table(index='platform', values='jp_sales', aggfunc='sum').sort_values('jp_sales', ascending=False).reset_index()\n",
    "data_jp_platform.head(5)"
   ]
  },
  {
   "cell_type": "markdown",
   "metadata": {},
   "source": [
    " В японский топ-5 платформ вошли PSV  и PS3, которые не так популярны за пределами Японии. В то же время, в топ японских платформ не вошли популярные в Америке и Европе XOne и PC."
   ]
  },
  {
   "cell_type": "markdown",
   "metadata": {},
   "source": [
    "<div class=\"alert alert-block alert-success\">✔️\n",
    "    \n",
    "\n",
    "__Комментарий от ревьюера №1__\n",
    "\n",
    "Данные верны =)\n",
    "</div>"
   ]
  },
  {
   "cell_type": "markdown",
   "metadata": {},
   "source": [
    "### Влияние рейтинга ESRB"
   ]
  },
  {
   "cell_type": "markdown",
   "metadata": {},
   "source": [
    "Влияет ли рейтинг ESRB на продажи в отдельном регионе? Проанализируем продажи в разных регионах в зависимости от рейтинга. В 2016 году рейтинги ESRB присуждались всего по 4 категориям: 'E', 'E10+', 'M' и 'T':"
   ]
  },
  {
   "cell_type": "code",
   "execution_count": null,
   "metadata": {},
   "outputs": [],
   "source": [
    "data_esrb = data.query('year_of_release == 2016')\n",
    "(data_esrb\n",
    " .pivot_table(columns='rating', values=['jp_sales', 'eu_sales', 'na_sales'], aggfunc='sum')\n",
    " .T\n",
    " .plot(kind='bar', ylabel ='Кол-во продаж, млн копий', figsize= (8,6), alpha=0.8, grid=True,\n",
    "       title='Продажи в разных регионах в зависимости от рейтинга ERSB, 2016 г' + '\\n', rot=360)\n",
    ")\n"
   ]
  },
  {
   "cell_type": "markdown",
   "metadata": {},
   "source": [
    "Продажи в разных регионах зависят от рейтингов ESRB. В Японии самые большие продажи - в категории 'T', в Северной Америке и ЕС - в категории 'M'. Игры категории 'E' намного более популярны в ЕС, чем в Северной Америке."
   ]
  },
  {
   "cell_type": "markdown",
   "metadata": {},
   "source": [
    "<div class=\"alert alert-block alert-danger\">\n",
    "    \n",
    "\n",
    "__Комментарий от ревьюера №1__\n",
    "\n",
    "При твоем способе подсчета игры без рейтинга оказываются полностью исключенными из анализа. Но продажи именно этих игр могут указать на ключевое различие в регионах\n",
    "</div>"
   ]
  },
  {
   "cell_type": "markdown",
   "metadata": {},
   "source": [
    "###  Вывод"
   ]
  },
  {
   "cell_type": "markdown",
   "metadata": {},
   "source": [
    "Мы проанализировали предпочтения пользователей из трех регионов - Северной Америки, Европы и Японии и выяснили, что предпочтения в Северной Америке и Европе схожи, но отличаются от японских:\n",
    "\n",
    "- В европейский и американский топ-5 платформ в 2016 году вошли PS4, XOne, 3DS, WiiU, PC.  \n",
    "- В японский топ-5 платформ в 2016 году вошли PSV  и PS3, которые не так популярны за пределами Японии. В то же время, в топ японских платформ не вошли популярные в Америке и Европе XOne и PC.\n",
    "- В 2016 году топ-4 жанров в Америке и  ЕС одинаковые и включают 'Shooter', 'Action', 'Sports', 'Role-Playing'. Пятое место в Европе занимает  жанр 'Racing', а в США -  'Fighting'.\n",
    "- В Японии вкусы пользователей отличаются от мировых: в пятерку лидеров вошли жанры 'Adventure' и 'Misc', не очень популярные в мире. И наоборот, популярные в мире жанры 'Sports' и 'Fighting' в Японии не вошли в топ 5.\n",
    "- Продажи в разных регионах зависят от рейтингов ESRB. В Японии самые большие продажи - в категории 'T', в Северной Америке и ЕС - в категории 'M'. Игры категории 'E' намного более популярны в ЕС, чем в Северной Америке.\n"
   ]
  },
  {
   "cell_type": "markdown",
   "metadata": {},
   "source": [
    "## Проверка гипотез"
   ]
  },
  {
   "cell_type": "markdown",
   "metadata": {},
   "source": [
    "Проверим гипотезы:  \n",
    "- cредние пользовательские рейтинги платформ Xbox One и PC одинаковые;\n",
    "- cредние пользовательские рейтинги жанров Action  и Sports  разные."
   ]
  },
  {
   "cell_type": "markdown",
   "metadata": {},
   "source": [
    "<div class=\"alert alert-block alert-success\">✔️\n",
    "    \n",
    "\n",
    "__Комментарий от ревьюера №1__\n",
    "\n",
    "Гипотезы верные. Отлично!\n",
    "</div>"
   ]
  },
  {
   "cell_type": "markdown",
   "metadata": {},
   "source": [
    "### Гипотеза 1: cредние пользовательские рейтинги платформ Xbox One и PC за 2016 год"
   ]
  },
  {
   "cell_type": "markdown",
   "metadata": {},
   "source": [
    "Проверим гипотезу: cредние пользовательские рейтинги платформ Xbox One и PC одинаковые\n",
    "\n",
    "Чтобы подтвердить это, нужно отвергнуть гипотезу H₀:\n",
    "\n",
    "H₀ - cредние пользовательские рейтинги платформ Xbox One и PC одинаковые  \n",
    "H₁ - cредние пользовательские рейтинги платформ Xbox One и PC отличаются\n",
    "\n",
    "Нам интересны различия в обе стороны - меньшую и большую, поэтому гипотеза H₁ двусторонняя.\n",
    "\n",
    "H₀ всегда формулируется так, чтобы использовать знак равенства.\n",
    "\n",
    "H₁ - альтернативная гипотеза, которая противоречит нулевой гипотезе, — либо нулевая гипотеза не отвергается, либо отвергается и принимается H₁.\n",
    "\n",
    "Возьмем стандартный уровень критической значимости alpha - 0.05.\n",
    "\n",
    "Используем ttest для двух независимых совокупностей 'ind'. Используем ttest для двух независимых совокупностей 'ind'. Перед тестом избавимся от пропусков в столбце, чтобы они не влияли на расчеты:"
   ]
  },
  {
   "cell_type": "code",
   "execution_count": null,
   "metadata": {},
   "outputs": [],
   "source": [
    "data_xbox = data_2016.query('platform == \"XOne\"')\n",
    "data_pc = data_2016.query('platform == \"PC\"')\n",
    "\n",
    "data_xbox_rating = data_xbox['user_score']\n",
    "data_pc_rating = data_pc['user_score'] \n",
    "\n",
    "data_xbox_rating = data_xbox_rating.dropna()\n",
    "data_pc_rating = data_pc_rating.dropna()\n",
    "\n",
    "print('cреднее xbox:',pd.Series(data_xbox_rating).mean())\n",
    "print('cреднее pc:',pd.Series(data_pc_rating).mean())\n",
    "\n",
    "alpha = .05 \n",
    "results = st.ttest_ind(\n",
    "    data_xbox_rating,\n",
    "    data_pc_rating)\n",
    "\n",
    "print('p-значение:', results.pvalue) \n",
    "if results.pvalue < alpha:\n",
    "    print(\"Отвергаем нулевую гипотезу\")\n",
    "else:\n",
    "    print(\"Не получилось отвергнуть нулевую гипотезу\")\n",
    "\n"
   ]
  },
  {
   "cell_type": "markdown",
   "metadata": {},
   "source": [
    "\n",
    "Мы получили p-value равное 0.3 , то есть при условии, что нулевая гипотеза верна, вероятность получить такое или большее различие случайно больше уровня критической значимости alpha 0.05.  Значит, нет основания отбросить нулевую гипотезу.\n"
   ]
  },
  {
   "cell_type": "markdown",
   "metadata": {},
   "source": [
    "<div class=\"alert alert-block alert-warning\">📝\n",
    "    \n",
    "\n",
    "__Комментарий от ревьюера №1__\n",
    "\n",
    "Как думаешь, что означает p-value?\n",
    "</div>"
   ]
  },
  {
   "cell_type": "markdown",
   "metadata": {},
   "source": [
    "### Гипотеза 2: cредние пользовательские рейтинги жанров Action  и Sports за 2016 год"
   ]
  },
  {
   "cell_type": "markdown",
   "metadata": {},
   "source": [
    "Проверим гипотезу: cредние пользовательские рейтинги жанров Action и Sports разные.\n",
    "\n",
    "Чтобы подтвердить это, нужно отвергнуть гипотезу H₀:\n",
    "\n",
    "H₀ - cредние пользовательские рейтинги жанров Action и Sports одинаковые.  \n",
    "H₁ - cредние пользовательские рейтинги жанров Action и Sports разные.\n",
    "\n",
    "Нам интересны различия в обе стороны - меньшую и большую, поэтому гипотеза H₁ двусторонняя.\n",
    "\n",
    "H₀ всегда формулируется так, чтобы использовать знак равенства.\n",
    "\n",
    "H₁ - альтернативная гипотеза, которая противоречит нулевой гипотезе, — либо нулевая гипотеза не отвергается, либо отвергается и принимается H₁.\n",
    "\n",
    "Возьмем стандартный уровень критической значимости alpha - 0.05.\n",
    "\n",
    "Используем ttest для двух независимых совокупностей 'ind'. Перед тестом избавимся от пропусков в столбце, чтобы они не влияли на расчеты:"
   ]
  },
  {
   "cell_type": "code",
   "execution_count": null,
   "metadata": {
    "scrolled": true
   },
   "outputs": [],
   "source": [
    "data_action = data_2016.query('genre == \"Action\"')\n",
    "data_sports = data_2016.query('genre == \"Sports\"')\n",
    "\n",
    "data_action_rating = data_action['user_score']\n",
    "data_sports_rating = data_sports['user_score']\n",
    "\n",
    "data_action_rating = data_action_rating.dropna()\n",
    "data_sports_rating = data_sports_rating.dropna()\n",
    "\n",
    "print('cреднее Action:',pd.Series(data_action_rating).mean())\n",
    "print('cреднее Sports:',pd.Series(data_sports_rating).mean())\n",
    "\n",
    "alpha = 0.05 \n",
    "results = st.ttest_ind(\n",
    "    data_action_rating,\n",
    "    data_sports_rating)\n",
    "\n",
    "print('p-значение:', results.pvalue) \n",
    "if results.pvalue < alpha:\n",
    "    print(\"Отвергаем нулевую гипотезу\")\n",
    "else:\n",
    "    print(\"Не получилось отвергнуть нулевую гипотезу\")"
   ]
  },
  {
   "cell_type": "markdown",
   "metadata": {},
   "source": [
    "Мы получили p-value 0.00034, то есть при условии, что нулевая гипотеза верна, вероятность получить такое или большее различие случайно равна 0.00034. Это ниже уровня критической значимости alpha 0.05.  Значит, есть основание отбросить нулевую гипотезу, которая утверждает,  что рейтинги одинаковые."
   ]
  },
  {
   "cell_type": "markdown",
   "metadata": {},
   "source": [
    "<div class=\"alert alert-block alert-danger\">✍\n",
    "    \n",
    "\n",
    "__Комментарий от ревьюера №1__\n",
    "\n",
    "А почему ты смотришь в гипотезах данные за 2016 год? Если уже выбран актуальнйы (>2012?)\n",
    "</div>"
   ]
  },
  {
   "cell_type": "markdown",
   "metadata": {},
   "source": [
    "## Вывод"
   ]
  },
  {
   "cell_type": "markdown",
   "metadata": {},
   "source": [
    "Был проанализирован датасет с данными из открытых источников, содержащие сведения о продажах игр, оценки пользователей и экспертов, жанры и платформы (например, Xbox или PlayStation). Были сделаны следующие выводы:\n",
    "\n",
    "- рост количества новых игр продолжался с 1993 по 2011 год. С 2011 года, продажи пошли на спад, который продолжается до сих пор\n",
    "- за прошедшие годы, следующие платформы вошли в топ-6 мировых лидеров: PS2, X360, PS3, Wii, DS, PS\n",
    "- каждая платформа проходит свой пик популярности, после чего продажи начинают падать. В среднем, 'жизненный цикл'  платформы составляет около 10 лет\n",
    "- эта тенденция спада коррелирует с данными за прошедшие несколько лет. Нет ни одной платформы, где продажи бы возросли с 2015 по 2016 год. Тем не менее, некоторые платформы пока не исчерпали свой потенциал и могут быть рекомендованы к продажам в 2017 году. Это платформы PS4, XOne, 3DS, PC, WiiU.\n",
    "- показатели продаж больше коррелируют с рейтингами критиков, чем с рейтингами пользователей. Япония - единственная страна, где рейтинги пользователей имеют влияние (хоть и слабое) на продажи\n",
    "- четыре наиболее прибыльных игровых жанра в 2016 году в мире - 'Shooter', 'Action', 'Sports', 'Role-Playing'. Остальные жанры значительно менее прибыльны.\n",
    "- В европейский и американский топ-5 платформ в 2016 году вошли PS4, XOne, 3DS, WiiU, PC.  \n",
    "- В японский топ-5 платформ в 2016 году вошли PSV  и PS3, которые не так популярны за пределами Японии. В то же время, в топ японских платформ не вошли популярные в Америке и Европе XOne и PC.\n",
    "- В 2016 году топ-4 жанров в Америке и  ЕС одинаковые и включают 'Shooter', 'Action', 'Sports', 'Role-Playing'. Пятое место в Европе занимает  жанр 'Racing', а в США -  'Fighting'.\n",
    "- В Японии вкусы пользователей отличаются от мировых: в пятерку лидеров вошли жанры 'Adventure' и 'Misc', не очень популярные в мире. И наоборот, популярные в мире жанры 'Sports' и 'Fighting' в Японии не вошли в топ 5.\n",
    "- Продажи в разных регионах зависят от рейтингов ESRB. В Японии самые большие продажи - в категории 'T', в Северной Америке и ЕС - в категории 'M'. Игры категории 'E' намного более популярны в ЕС, чем в Северной Америке.\n"
   ]
  },
  {
   "cell_type": "markdown",
   "metadata": {},
   "source": [
    "Рекламную компанию стоит планировать, принимая во внимание рейтинги жанров и платформ за последний год, также с учетом аудитории сайта (предпочтения пользователей в разных регионах различны). Следует принимать во внимание оценку критиков, так как оценка достаточно сильно коррелирует с уровнем продаж."
   ]
  },
  {
   "cell_type": "markdown",
   "metadata": {},
   "source": [
    "<div class=\"alert alert-block alert-warning\">📝\n",
    "    \n",
    "\n",
    "__Комментарий от ревьюера №1__\n",
    "\n",
    "Шикарный вывод и рекомендации для бизнеса. Кстати, хорошей практикой является написание в общем выводе всех твоих действий (кратко) по проекту. Ведь вывод раскрывает для заказчика всю твою проделанную работу и за что он платит деньги, даже если ему не интересен весь процесс исследования, то в отчёт он заглянет обязательно.\n",
    "</div>"
   ]
  },
  {
   "cell_type": "code",
   "execution_count": null,
   "metadata": {},
   "outputs": [],
   "source": []
  },
  {
   "cell_type": "code",
   "execution_count": null,
   "metadata": {},
   "outputs": [],
   "source": []
  },
  {
   "cell_type": "code",
   "execution_count": null,
   "metadata": {},
   "outputs": [],
   "source": []
  },
  {
   "cell_type": "markdown",
   "metadata": {},
   "source": [
    "<div class=\"alert alert-block alert-warning\">📝\n",
    "Комментарий от ревьюера №1 </b> \n",
    "\n",
    "---\n",
    "\n",
    "У тебя получилась очень сильная и хорошая работа. Здорово, что расчеты ты сопровождаешь иллюстрациями и выявляешь выбросы в числовых данных, а так же не забываешь про комментарии, твой проект интересно проверять. \n",
    "\n",
    "---\n",
    "\n",
    "Нужно поправить:\n",
    "\n",
    "1) Заглушки в рейтинге, и оценке критиков, и оценка пользователей (не забудь исключить колличественные заглушки, при постройке графкиков и проверке гипотез)\n",
    "\n",
    "2) легенда на по центру графика, давай уберем её\n",
    "\n",
    "3) Общие продажи лучше смотреть через медиану\n",
    "\n",
    "4) Визуализировать портреты пользователей\n",
    "\n",
    "5) При твоем способе подсчета игры без рейтинга оказываются полностью исключенными из анализа (заглушка)\n",
    "\n",
    "6) Гипотезы построены по 2016 году, а нужно по актуальному\n",
    "\n",
    "7) Подправить выводы, после изменений\n",
    "\n",
    "---\n",
    "\n",
    "\n",
    "Если у тебя будут какие-то вопросы по моим комментариям - обязательно пиши! Буду ждать работу на повторное ревью :)</div>"
   ]
  },
  {
   "cell_type": "code",
   "execution_count": null,
   "metadata": {},
   "outputs": [],
   "source": [
    "index=['na_sales', 'eu_sales']\n",
    "for column in index:\n",
    "    print ([column].unique_values())"
   ]
  },
  {
   "cell_type": "code",
   "execution_count": null,
   "metadata": {},
   "outputs": [],
   "source": [
    "plt.style.use('seaborn')\n",
    " \n",
    "region = 'na_sales'\n",
    " \n",
    "def top5_in_region(column):\n",
    "    return (\n",
    "        data_actual\n",
    "            .pivot_table(index=column, values=region, aggfunc='sum')\n",
    "            .sort_values(region, ascending=False)\n",
    "            .head(5)\n",
    "    )\n",
    " \n",
    "def sales_pie_by_region(data_actual):\n",
    "    (\n",
    "        data_actual\n",
    "            .plot(kind='pie', y=region, autopct='%1.0f%%', figsize=(10, 5), legend=False)\n",
    "            .set(ylabel='Продажи')\n",
    "    )\n",
    "    plt.show()\n",
    " \n",
    "sales_pie_by_region(top5_in_region('platform'))\n"
   ]
  },
  {
   "cell_type": "code",
   "execution_count": null,
   "metadata": {},
   "outputs": [],
   "source": []
  }
 ],
 "metadata": {
  "ExecuteTimeLog": [
   {
    "duration": 1182,
    "start_time": "2022-06-13T14:31:39.311Z"
   },
   {
    "duration": 208,
    "start_time": "2022-06-13T14:32:17.481Z"
   },
   {
    "duration": 39,
    "start_time": "2022-06-13T14:35:50.267Z"
   },
   {
    "duration": 24,
    "start_time": "2022-06-13T14:41:07.350Z"
   },
   {
    "duration": 19,
    "start_time": "2022-06-13T14:41:33.955Z"
   },
   {
    "duration": 1022,
    "start_time": "2022-06-13T14:45:20.641Z"
   },
   {
    "duration": 59,
    "start_time": "2022-06-13T14:45:21.665Z"
   },
   {
    "duration": 17,
    "start_time": "2022-06-13T14:45:21.726Z"
   },
   {
    "duration": 25,
    "start_time": "2022-06-13T14:45:21.745Z"
   },
   {
    "duration": 13,
    "start_time": "2022-06-13T14:50:01.133Z"
   },
   {
    "duration": 12,
    "start_time": "2022-06-13T14:51:19.456Z"
   },
   {
    "duration": 4,
    "start_time": "2022-06-13T15:04:54.181Z"
   },
   {
    "duration": 500,
    "start_time": "2022-06-13T15:05:50.724Z"
   },
   {
    "duration": 36,
    "start_time": "2022-06-13T15:07:02.452Z"
   },
   {
    "duration": 12,
    "start_time": "2022-06-13T15:07:27.205Z"
   },
   {
    "duration": 13,
    "start_time": "2022-06-13T15:07:38.383Z"
   },
   {
    "duration": 15,
    "start_time": "2022-06-13T15:07:43.915Z"
   },
   {
    "duration": 6,
    "start_time": "2022-06-13T15:07:57.652Z"
   },
   {
    "duration": 5,
    "start_time": "2022-06-13T15:08:11.676Z"
   },
   {
    "duration": 17,
    "start_time": "2022-06-13T15:08:24.028Z"
   },
   {
    "duration": 13,
    "start_time": "2022-06-13T15:08:34.383Z"
   },
   {
    "duration": 124,
    "start_time": "2022-06-13T15:10:23.757Z"
   },
   {
    "duration": 14,
    "start_time": "2022-06-13T15:11:07.759Z"
   },
   {
    "duration": 1126,
    "start_time": "2022-06-13T15:11:17.257Z"
   },
   {
    "duration": 59,
    "start_time": "2022-06-13T15:11:18.385Z"
   },
   {
    "duration": 18,
    "start_time": "2022-06-13T15:11:18.445Z"
   },
   {
    "duration": 30,
    "start_time": "2022-06-13T15:11:18.464Z"
   },
   {
    "duration": 12,
    "start_time": "2022-06-13T15:11:18.497Z"
   },
   {
    "duration": 15,
    "start_time": "2022-06-13T15:11:18.511Z"
   },
   {
    "duration": 111,
    "start_time": "2022-06-13T15:11:18.527Z"
   },
   {
    "duration": 12,
    "start_time": "2022-06-13T15:11:18.640Z"
   },
   {
    "duration": 4,
    "start_time": "2022-06-13T15:12:11.523Z"
   },
   {
    "duration": 1123,
    "start_time": "2022-06-13T15:12:17.958Z"
   },
   {
    "duration": 58,
    "start_time": "2022-06-13T15:12:19.083Z"
   },
   {
    "duration": 18,
    "start_time": "2022-06-13T15:12:19.143Z"
   },
   {
    "duration": 27,
    "start_time": "2022-06-13T15:12:19.162Z"
   },
   {
    "duration": 14,
    "start_time": "2022-06-13T15:12:19.190Z"
   },
   {
    "duration": 24,
    "start_time": "2022-06-13T15:12:19.205Z"
   },
   {
    "duration": 120,
    "start_time": "2022-06-13T15:12:19.231Z"
   },
   {
    "duration": 4,
    "start_time": "2022-06-13T15:12:19.353Z"
   },
   {
    "duration": 22,
    "start_time": "2022-06-13T15:12:19.359Z"
   },
   {
    "duration": 972,
    "start_time": "2022-06-13T15:13:12.114Z"
   },
   {
    "duration": 59,
    "start_time": "2022-06-13T15:13:13.088Z"
   },
   {
    "duration": 19,
    "start_time": "2022-06-13T15:13:13.149Z"
   },
   {
    "duration": 36,
    "start_time": "2022-06-13T15:13:13.169Z"
   },
   {
    "duration": 12,
    "start_time": "2022-06-13T15:13:13.207Z"
   },
   {
    "duration": 18,
    "start_time": "2022-06-13T15:13:13.220Z"
   },
   {
    "duration": 126,
    "start_time": "2022-06-13T15:13:13.240Z"
   },
   {
    "duration": 4,
    "start_time": "2022-06-13T15:13:13.367Z"
   },
   {
    "duration": 15,
    "start_time": "2022-06-13T15:13:13.378Z"
   },
   {
    "duration": 1017,
    "start_time": "2022-06-13T15:13:22.482Z"
   },
   {
    "duration": 59,
    "start_time": "2022-06-13T15:13:23.501Z"
   },
   {
    "duration": 17,
    "start_time": "2022-06-13T15:13:23.562Z"
   },
   {
    "duration": 25,
    "start_time": "2022-06-13T15:13:23.581Z"
   },
   {
    "duration": 12,
    "start_time": "2022-06-13T15:13:23.608Z"
   },
   {
    "duration": 13,
    "start_time": "2022-06-13T15:13:23.621Z"
   },
   {
    "duration": 119,
    "start_time": "2022-06-13T15:13:23.636Z"
   },
   {
    "duration": 11,
    "start_time": "2022-06-13T15:13:23.757Z"
   },
   {
    "duration": 15,
    "start_time": "2022-06-13T15:15:52.362Z"
   },
   {
    "duration": 9,
    "start_time": "2022-06-13T15:18:36.462Z"
   },
   {
    "duration": 10,
    "start_time": "2022-06-13T15:20:25.679Z"
   },
   {
    "duration": 9,
    "start_time": "2022-06-13T15:20:53.901Z"
   },
   {
    "duration": 9,
    "start_time": "2022-06-13T15:21:13.773Z"
   },
   {
    "duration": 5,
    "start_time": "2022-06-13T15:21:26.269Z"
   },
   {
    "duration": 5,
    "start_time": "2022-06-13T15:21:36.578Z"
   },
   {
    "duration": 13,
    "start_time": "2022-06-13T15:21:47.352Z"
   },
   {
    "duration": 13,
    "start_time": "2022-06-13T15:22:03.551Z"
   },
   {
    "duration": 14,
    "start_time": "2022-06-13T15:22:29.103Z"
   },
   {
    "duration": 9,
    "start_time": "2022-06-13T15:23:49.038Z"
   },
   {
    "duration": 9,
    "start_time": "2022-06-13T15:24:17.607Z"
   },
   {
    "duration": 84,
    "start_time": "2022-06-13T15:24:30.820Z"
   },
   {
    "duration": 10,
    "start_time": "2022-06-13T15:24:41.739Z"
   },
   {
    "duration": 10,
    "start_time": "2022-06-13T15:25:42.726Z"
   },
   {
    "duration": 1059,
    "start_time": "2022-06-13T15:25:48.480Z"
   },
   {
    "duration": 57,
    "start_time": "2022-06-13T15:25:49.541Z"
   },
   {
    "duration": 17,
    "start_time": "2022-06-13T15:25:49.599Z"
   },
   {
    "duration": 28,
    "start_time": "2022-06-13T15:25:49.617Z"
   },
   {
    "duration": 11,
    "start_time": "2022-06-13T15:25:49.647Z"
   },
   {
    "duration": 25,
    "start_time": "2022-06-13T15:25:49.660Z"
   },
   {
    "duration": 107,
    "start_time": "2022-06-13T15:25:49.686Z"
   },
   {
    "duration": 12,
    "start_time": "2022-06-13T15:25:49.794Z"
   },
   {
    "duration": 14,
    "start_time": "2022-06-13T15:25:49.807Z"
   },
   {
    "duration": 10,
    "start_time": "2022-06-13T15:25:49.823Z"
   },
   {
    "duration": 12,
    "start_time": "2022-06-13T15:25:49.835Z"
   },
   {
    "duration": 39,
    "start_time": "2022-06-13T15:25:49.848Z"
   },
   {
    "duration": 13,
    "start_time": "2022-06-13T15:25:49.888Z"
   },
   {
    "duration": 4,
    "start_time": "2022-06-13T15:30:18.107Z"
   },
   {
    "duration": 17,
    "start_time": "2022-06-13T15:30:45.735Z"
   },
   {
    "duration": 15,
    "start_time": "2022-06-13T15:31:53.692Z"
   },
   {
    "duration": 20,
    "start_time": "2022-06-13T15:34:19.921Z"
   },
   {
    "duration": 5,
    "start_time": "2022-06-13T15:53:26.991Z"
   },
   {
    "duration": 393,
    "start_time": "2022-06-13T15:54:49.556Z"
   },
   {
    "duration": 1006,
    "start_time": "2022-06-13T15:55:02.146Z"
   },
   {
    "duration": 1033,
    "start_time": "2022-06-13T15:55:18.943Z"
   },
   {
    "duration": 60,
    "start_time": "2022-06-13T15:55:19.978Z"
   },
   {
    "duration": 20,
    "start_time": "2022-06-13T15:55:20.040Z"
   },
   {
    "duration": 38,
    "start_time": "2022-06-13T15:55:20.062Z"
   },
   {
    "duration": 19,
    "start_time": "2022-06-13T15:55:20.102Z"
   },
   {
    "duration": 23,
    "start_time": "2022-06-13T15:55:20.122Z"
   },
   {
    "duration": 138,
    "start_time": "2022-06-13T15:55:20.147Z"
   },
   {
    "duration": 13,
    "start_time": "2022-06-13T15:55:20.286Z"
   },
   {
    "duration": 17,
    "start_time": "2022-06-13T15:55:20.300Z"
   },
   {
    "duration": 9,
    "start_time": "2022-06-13T15:55:20.318Z"
   },
   {
    "duration": 16,
    "start_time": "2022-06-13T15:55:20.329Z"
   },
   {
    "duration": 41,
    "start_time": "2022-06-13T15:55:20.346Z"
   },
   {
    "duration": 6,
    "start_time": "2022-06-13T15:55:20.389Z"
   },
   {
    "duration": 116,
    "start_time": "2022-06-13T15:55:20.397Z"
   },
   {
    "duration": 25,
    "start_time": "2022-06-13T15:55:46.293Z"
   },
   {
    "duration": 22,
    "start_time": "2022-06-13T15:56:03.871Z"
   },
   {
    "duration": 1048,
    "start_time": "2022-06-13T15:56:10.276Z"
   },
   {
    "duration": 84,
    "start_time": "2022-06-13T15:56:11.327Z"
   },
   {
    "duration": 26,
    "start_time": "2022-06-13T15:56:11.413Z"
   },
   {
    "duration": 46,
    "start_time": "2022-06-13T15:56:11.441Z"
   },
   {
    "duration": 14,
    "start_time": "2022-06-13T15:56:11.489Z"
   },
   {
    "duration": 22,
    "start_time": "2022-06-13T15:56:11.504Z"
   },
   {
    "duration": 117,
    "start_time": "2022-06-13T15:56:11.527Z"
   },
   {
    "duration": 13,
    "start_time": "2022-06-13T15:56:11.646Z"
   },
   {
    "duration": 28,
    "start_time": "2022-06-13T15:56:11.660Z"
   },
   {
    "duration": 10,
    "start_time": "2022-06-13T15:56:11.690Z"
   },
   {
    "duration": 15,
    "start_time": "2022-06-13T15:56:11.702Z"
   },
   {
    "duration": 13,
    "start_time": "2022-06-13T15:56:11.719Z"
   },
   {
    "duration": 7,
    "start_time": "2022-06-13T15:56:11.734Z"
   },
   {
    "duration": 44,
    "start_time": "2022-06-13T15:56:11.744Z"
   },
   {
    "duration": 1033,
    "start_time": "2022-06-13T16:01:40.700Z"
   },
   {
    "duration": 62,
    "start_time": "2022-06-13T16:01:41.735Z"
   },
   {
    "duration": 19,
    "start_time": "2022-06-13T16:01:41.798Z"
   },
   {
    "duration": 29,
    "start_time": "2022-06-13T16:01:41.819Z"
   },
   {
    "duration": 29,
    "start_time": "2022-06-13T16:01:41.850Z"
   },
   {
    "duration": 15,
    "start_time": "2022-06-13T16:01:41.881Z"
   },
   {
    "duration": 136,
    "start_time": "2022-06-13T16:01:41.897Z"
   },
   {
    "duration": 12,
    "start_time": "2022-06-13T16:01:42.035Z"
   },
   {
    "duration": 34,
    "start_time": "2022-06-13T16:01:42.048Z"
   },
   {
    "duration": 9,
    "start_time": "2022-06-13T16:01:42.083Z"
   },
   {
    "duration": 15,
    "start_time": "2022-06-13T16:01:42.094Z"
   },
   {
    "duration": 13,
    "start_time": "2022-06-13T16:01:42.111Z"
   },
   {
    "duration": 8,
    "start_time": "2022-06-13T16:01:42.126Z"
   },
   {
    "duration": 46,
    "start_time": "2022-06-13T16:01:42.136Z"
   },
   {
    "duration": 9,
    "start_time": "2022-06-13T16:36:07.584Z"
   },
   {
    "duration": 1029,
    "start_time": "2022-06-13T16:36:13.814Z"
   },
   {
    "duration": 57,
    "start_time": "2022-06-13T16:36:14.845Z"
   },
   {
    "duration": 18,
    "start_time": "2022-06-13T16:36:14.903Z"
   },
   {
    "duration": 24,
    "start_time": "2022-06-13T16:36:14.922Z"
   },
   {
    "duration": 12,
    "start_time": "2022-06-13T16:36:14.948Z"
   },
   {
    "duration": 28,
    "start_time": "2022-06-13T16:36:14.961Z"
   },
   {
    "duration": 125,
    "start_time": "2022-06-13T16:36:14.990Z"
   },
   {
    "duration": 12,
    "start_time": "2022-06-13T16:36:15.117Z"
   },
   {
    "duration": 14,
    "start_time": "2022-06-13T16:36:15.131Z"
   },
   {
    "duration": 8,
    "start_time": "2022-06-13T16:36:15.147Z"
   },
   {
    "duration": 14,
    "start_time": "2022-06-13T16:36:15.178Z"
   },
   {
    "duration": 12,
    "start_time": "2022-06-13T16:36:15.194Z"
   },
   {
    "duration": 10,
    "start_time": "2022-06-13T16:36:15.208Z"
   },
   {
    "duration": 18,
    "start_time": "2022-06-13T16:36:15.220Z"
   },
   {
    "duration": 7,
    "start_time": "2022-06-13T16:36:15.240Z"
   },
   {
    "duration": 89,
    "start_time": "2022-06-13T16:37:32.716Z"
   },
   {
    "duration": 10,
    "start_time": "2022-06-13T16:37:48.740Z"
   },
   {
    "duration": 1120,
    "start_time": "2022-06-13T16:37:53.373Z"
   },
   {
    "duration": 70,
    "start_time": "2022-06-13T16:37:54.496Z"
   },
   {
    "duration": 24,
    "start_time": "2022-06-13T16:37:54.568Z"
   },
   {
    "duration": 34,
    "start_time": "2022-06-13T16:37:54.594Z"
   },
   {
    "duration": 12,
    "start_time": "2022-06-13T16:37:54.631Z"
   },
   {
    "duration": 36,
    "start_time": "2022-06-13T16:37:54.645Z"
   },
   {
    "duration": 145,
    "start_time": "2022-06-13T16:37:54.683Z"
   },
   {
    "duration": 17,
    "start_time": "2022-06-13T16:37:54.830Z"
   },
   {
    "duration": 32,
    "start_time": "2022-06-13T16:37:54.849Z"
   },
   {
    "duration": 11,
    "start_time": "2022-06-13T16:37:54.882Z"
   },
   {
    "duration": 19,
    "start_time": "2022-06-13T16:37:54.895Z"
   },
   {
    "duration": 18,
    "start_time": "2022-06-13T16:37:54.916Z"
   },
   {
    "duration": 22,
    "start_time": "2022-06-13T16:37:54.936Z"
   },
   {
    "duration": 28,
    "start_time": "2022-06-13T16:37:54.977Z"
   },
   {
    "duration": 11,
    "start_time": "2022-06-13T16:37:55.006Z"
   },
   {
    "duration": 16,
    "start_time": "2022-06-13T16:42:30.565Z"
   },
   {
    "duration": 1014,
    "start_time": "2022-06-13T16:42:41.772Z"
   },
   {
    "duration": 57,
    "start_time": "2022-06-13T16:42:42.787Z"
   },
   {
    "duration": 18,
    "start_time": "2022-06-13T16:42:42.846Z"
   },
   {
    "duration": 27,
    "start_time": "2022-06-13T16:42:42.865Z"
   },
   {
    "duration": 12,
    "start_time": "2022-06-13T16:42:42.893Z"
   },
   {
    "duration": 14,
    "start_time": "2022-06-13T16:42:42.907Z"
   },
   {
    "duration": 115,
    "start_time": "2022-06-13T16:42:42.923Z"
   },
   {
    "duration": 11,
    "start_time": "2022-06-13T16:42:43.039Z"
   },
   {
    "duration": 27,
    "start_time": "2022-06-13T16:42:43.052Z"
   },
   {
    "duration": 8,
    "start_time": "2022-06-13T16:42:43.080Z"
   },
   {
    "duration": 13,
    "start_time": "2022-06-13T16:42:43.089Z"
   },
   {
    "duration": 11,
    "start_time": "2022-06-13T16:42:43.104Z"
   },
   {
    "duration": 9,
    "start_time": "2022-06-13T16:42:43.116Z"
   },
   {
    "duration": 53,
    "start_time": "2022-06-13T16:42:43.127Z"
   },
   {
    "duration": 8,
    "start_time": "2022-06-13T16:42:43.181Z"
   },
   {
    "duration": 511,
    "start_time": "2022-06-13T16:43:48.718Z"
   },
   {
    "duration": 5,
    "start_time": "2022-06-13T16:43:52.876Z"
   },
   {
    "duration": 960,
    "start_time": "2022-06-13T16:44:12.595Z"
   },
   {
    "duration": 57,
    "start_time": "2022-06-13T16:44:13.556Z"
   },
   {
    "duration": 19,
    "start_time": "2022-06-13T16:44:13.615Z"
   },
   {
    "duration": 23,
    "start_time": "2022-06-13T16:44:13.635Z"
   },
   {
    "duration": 23,
    "start_time": "2022-06-13T16:44:13.660Z"
   },
   {
    "duration": 14,
    "start_time": "2022-06-13T16:44:13.685Z"
   },
   {
    "duration": 119,
    "start_time": "2022-06-13T16:44:13.700Z"
   },
   {
    "duration": 11,
    "start_time": "2022-06-13T16:44:13.821Z"
   },
   {
    "duration": 19,
    "start_time": "2022-06-13T16:44:13.833Z"
   },
   {
    "duration": 8,
    "start_time": "2022-06-13T16:44:13.853Z"
   },
   {
    "duration": 26,
    "start_time": "2022-06-13T16:44:13.862Z"
   },
   {
    "duration": 11,
    "start_time": "2022-06-13T16:44:13.889Z"
   },
   {
    "duration": 15,
    "start_time": "2022-06-13T16:44:13.901Z"
   },
   {
    "duration": 17,
    "start_time": "2022-06-13T16:44:13.917Z"
   },
   {
    "duration": 5,
    "start_time": "2022-06-13T16:44:13.935Z"
   },
   {
    "duration": 9,
    "start_time": "2022-06-13T16:44:13.941Z"
   },
   {
    "duration": 1087,
    "start_time": "2022-06-13T16:45:30.396Z"
   },
   {
    "duration": 60,
    "start_time": "2022-06-13T16:45:31.485Z"
   },
   {
    "duration": 21,
    "start_time": "2022-06-13T16:45:31.548Z"
   },
   {
    "duration": 39,
    "start_time": "2022-06-13T16:45:31.572Z"
   },
   {
    "duration": 26,
    "start_time": "2022-06-13T16:45:31.613Z"
   },
   {
    "duration": 45,
    "start_time": "2022-06-13T16:45:31.640Z"
   },
   {
    "duration": 41,
    "start_time": "2022-06-13T16:45:31.687Z"
   },
   {
    "duration": 127,
    "start_time": "2022-06-13T16:45:31.730Z"
   },
   {
    "duration": 13,
    "start_time": "2022-06-13T16:45:31.859Z"
   },
   {
    "duration": 43,
    "start_time": "2022-06-13T16:45:31.878Z"
   },
   {
    "duration": 11,
    "start_time": "2022-06-13T16:45:31.923Z"
   },
   {
    "duration": 23,
    "start_time": "2022-06-13T16:45:31.936Z"
   },
   {
    "duration": 19,
    "start_time": "2022-06-13T16:45:31.961Z"
   },
   {
    "duration": 13,
    "start_time": "2022-06-13T16:45:31.982Z"
   },
   {
    "duration": 49,
    "start_time": "2022-06-13T16:45:31.997Z"
   },
   {
    "duration": 59,
    "start_time": "2022-06-13T16:45:32.048Z"
   },
   {
    "duration": 1100,
    "start_time": "2022-06-13T16:47:27.663Z"
   },
   {
    "duration": 62,
    "start_time": "2022-06-13T16:47:28.765Z"
   },
   {
    "duration": 19,
    "start_time": "2022-06-13T16:47:28.828Z"
   },
   {
    "duration": 27,
    "start_time": "2022-06-13T16:47:28.849Z"
   },
   {
    "duration": 11,
    "start_time": "2022-06-13T16:47:28.878Z"
   },
   {
    "duration": 15,
    "start_time": "2022-06-13T16:47:28.891Z"
   },
   {
    "duration": 4,
    "start_time": "2022-06-13T16:47:28.908Z"
   },
   {
    "duration": 110,
    "start_time": "2022-06-13T16:47:28.913Z"
   },
   {
    "duration": 11,
    "start_time": "2022-06-13T16:47:29.024Z"
   },
   {
    "duration": 14,
    "start_time": "2022-06-13T16:47:29.037Z"
   },
   {
    "duration": 10,
    "start_time": "2022-06-13T16:47:29.052Z"
   },
   {
    "duration": 13,
    "start_time": "2022-06-13T16:47:29.078Z"
   },
   {
    "duration": 12,
    "start_time": "2022-06-13T16:47:29.093Z"
   },
   {
    "duration": 9,
    "start_time": "2022-06-13T16:47:29.107Z"
   },
   {
    "duration": 21,
    "start_time": "2022-06-13T16:47:29.117Z"
   },
   {
    "duration": 13,
    "start_time": "2022-06-13T16:47:29.139Z"
   },
   {
    "duration": 980,
    "start_time": "2022-06-13T16:48:44.507Z"
   },
   {
    "duration": 57,
    "start_time": "2022-06-13T16:48:45.489Z"
   },
   {
    "duration": 19,
    "start_time": "2022-06-13T16:48:45.547Z"
   },
   {
    "duration": 24,
    "start_time": "2022-06-13T16:48:45.567Z"
   },
   {
    "duration": 12,
    "start_time": "2022-06-13T16:48:45.593Z"
   },
   {
    "duration": 14,
    "start_time": "2022-06-13T16:48:45.606Z"
   },
   {
    "duration": 5,
    "start_time": "2022-06-13T16:48:45.622Z"
   },
   {
    "duration": 129,
    "start_time": "2022-06-13T16:48:45.629Z"
   },
   {
    "duration": 11,
    "start_time": "2022-06-13T16:48:45.760Z"
   },
   {
    "duration": 13,
    "start_time": "2022-06-13T16:48:45.778Z"
   },
   {
    "duration": 9,
    "start_time": "2022-06-13T16:48:45.792Z"
   },
   {
    "duration": 19,
    "start_time": "2022-06-13T16:48:45.803Z"
   },
   {
    "duration": 11,
    "start_time": "2022-06-13T16:48:45.824Z"
   },
   {
    "duration": 40,
    "start_time": "2022-06-13T16:48:45.838Z"
   },
   {
    "duration": 21,
    "start_time": "2022-06-13T16:48:45.879Z"
   },
   {
    "duration": 13,
    "start_time": "2022-06-13T16:48:45.901Z"
   },
   {
    "duration": 6,
    "start_time": "2022-06-13T16:49:52.979Z"
   },
   {
    "duration": 1050,
    "start_time": "2022-06-13T16:50:00.742Z"
   },
   {
    "duration": 61,
    "start_time": "2022-06-13T16:50:01.794Z"
   },
   {
    "duration": 21,
    "start_time": "2022-06-13T16:50:01.856Z"
   },
   {
    "duration": 35,
    "start_time": "2022-06-13T16:50:01.893Z"
   },
   {
    "duration": 15,
    "start_time": "2022-06-13T16:50:01.931Z"
   },
   {
    "duration": 28,
    "start_time": "2022-06-13T16:50:01.948Z"
   },
   {
    "duration": 27,
    "start_time": "2022-06-13T16:50:01.978Z"
   },
   {
    "duration": 116,
    "start_time": "2022-06-13T16:50:02.007Z"
   },
   {
    "duration": 13,
    "start_time": "2022-06-13T16:50:02.125Z"
   },
   {
    "duration": 21,
    "start_time": "2022-06-13T16:50:02.139Z"
   },
   {
    "duration": 47,
    "start_time": "2022-06-13T16:50:02.162Z"
   },
   {
    "duration": 10,
    "start_time": "2022-06-13T16:50:02.211Z"
   },
   {
    "duration": 26,
    "start_time": "2022-06-13T16:50:02.223Z"
   },
   {
    "duration": 15,
    "start_time": "2022-06-13T16:50:02.251Z"
   },
   {
    "duration": 34,
    "start_time": "2022-06-13T16:50:02.268Z"
   },
   {
    "duration": 21,
    "start_time": "2022-06-13T16:50:02.304Z"
   },
   {
    "duration": 6,
    "start_time": "2022-06-13T16:50:02.327Z"
   },
   {
    "duration": 482,
    "start_time": "2022-06-13T17:03:19.167Z"
   },
   {
    "duration": 1053,
    "start_time": "2022-06-13T17:04:18.941Z"
   },
   {
    "duration": 62,
    "start_time": "2022-06-13T17:04:20.000Z"
   },
   {
    "duration": 24,
    "start_time": "2022-06-13T17:04:20.063Z"
   },
   {
    "duration": 29,
    "start_time": "2022-06-13T17:04:20.088Z"
   },
   {
    "duration": 13,
    "start_time": "2022-06-13T17:04:20.119Z"
   },
   {
    "duration": 15,
    "start_time": "2022-06-13T17:04:20.133Z"
   },
   {
    "duration": 4,
    "start_time": "2022-06-13T17:04:20.150Z"
   },
   {
    "duration": 174,
    "start_time": "2022-06-13T17:04:20.156Z"
   },
   {
    "duration": 11,
    "start_time": "2022-06-13T17:04:20.332Z"
   },
   {
    "duration": 5,
    "start_time": "2022-06-13T17:04:20.344Z"
   },
   {
    "duration": 34,
    "start_time": "2022-06-13T17:04:20.350Z"
   },
   {
    "duration": 9,
    "start_time": "2022-06-13T17:04:20.391Z"
   },
   {
    "duration": 15,
    "start_time": "2022-06-13T17:04:20.401Z"
   },
   {
    "duration": 12,
    "start_time": "2022-06-13T17:04:20.418Z"
   },
   {
    "duration": 9,
    "start_time": "2022-06-13T17:04:20.432Z"
   },
   {
    "duration": 37,
    "start_time": "2022-06-13T17:04:20.442Z"
   },
   {
    "duration": 15,
    "start_time": "2022-06-13T17:04:20.486Z"
   },
   {
    "duration": 123,
    "start_time": "2022-06-13T17:04:20.503Z"
   },
   {
    "duration": 6,
    "start_time": "2022-06-13T17:08:03.307Z"
   },
   {
    "duration": 18,
    "start_time": "2022-06-13T17:08:34.835Z"
   },
   {
    "duration": 1079,
    "start_time": "2022-06-13T17:09:18.625Z"
   },
   {
    "duration": 58,
    "start_time": "2022-06-13T17:09:19.706Z"
   },
   {
    "duration": 27,
    "start_time": "2022-06-13T17:09:19.766Z"
   },
   {
    "duration": 27,
    "start_time": "2022-06-13T17:09:19.794Z"
   },
   {
    "duration": 14,
    "start_time": "2022-06-13T17:09:19.824Z"
   },
   {
    "duration": 24,
    "start_time": "2022-06-13T17:09:19.840Z"
   },
   {
    "duration": 6,
    "start_time": "2022-06-13T17:09:19.866Z"
   },
   {
    "duration": 124,
    "start_time": "2022-06-13T17:09:19.878Z"
   },
   {
    "duration": 12,
    "start_time": "2022-06-13T17:09:20.004Z"
   },
   {
    "duration": 6,
    "start_time": "2022-06-13T17:09:20.017Z"
   },
   {
    "duration": 18,
    "start_time": "2022-06-13T17:09:20.024Z"
   },
   {
    "duration": 9,
    "start_time": "2022-06-13T17:09:20.044Z"
   },
   {
    "duration": 41,
    "start_time": "2022-06-13T17:09:20.055Z"
   },
   {
    "duration": 20,
    "start_time": "2022-06-13T17:09:20.099Z"
   },
   {
    "duration": 13,
    "start_time": "2022-06-13T17:09:20.121Z"
   },
   {
    "duration": 27,
    "start_time": "2022-06-13T17:09:20.135Z"
   },
   {
    "duration": 12,
    "start_time": "2022-06-13T17:09:20.181Z"
   },
   {
    "duration": 13,
    "start_time": "2022-06-13T17:09:20.195Z"
   },
   {
    "duration": 30,
    "start_time": "2022-06-13T17:09:20.210Z"
   },
   {
    "duration": 91,
    "start_time": "2022-06-13T17:13:11.547Z"
   },
   {
    "duration": 11030,
    "start_time": "2022-06-13T17:13:19.522Z"
   },
   {
    "duration": 1083,
    "start_time": "2022-06-13T17:13:32.574Z"
   },
   {
    "duration": 65,
    "start_time": "2022-06-13T17:13:33.659Z"
   },
   {
    "duration": 19,
    "start_time": "2022-06-13T17:13:33.725Z"
   },
   {
    "duration": 24,
    "start_time": "2022-06-13T17:13:33.746Z"
   },
   {
    "duration": 27,
    "start_time": "2022-06-13T17:13:33.772Z"
   },
   {
    "duration": 15,
    "start_time": "2022-06-13T17:13:33.801Z"
   },
   {
    "duration": 7,
    "start_time": "2022-06-13T17:13:33.817Z"
   },
   {
    "duration": 124,
    "start_time": "2022-06-13T17:13:33.826Z"
   },
   {
    "duration": 12,
    "start_time": "2022-06-13T17:13:33.951Z"
   },
   {
    "duration": 4,
    "start_time": "2022-06-13T17:13:33.965Z"
   },
   {
    "duration": 27,
    "start_time": "2022-06-13T17:13:33.970Z"
   },
   {
    "duration": 13,
    "start_time": "2022-06-13T17:13:33.999Z"
   },
   {
    "duration": 13,
    "start_time": "2022-06-13T17:13:34.014Z"
   },
   {
    "duration": 11,
    "start_time": "2022-06-13T17:13:34.029Z"
   },
   {
    "duration": 11,
    "start_time": "2022-06-13T17:13:34.041Z"
   },
   {
    "duration": 44,
    "start_time": "2022-06-13T17:13:34.053Z"
   },
   {
    "duration": 7,
    "start_time": "2022-06-13T17:13:34.099Z"
   },
   {
    "duration": 7,
    "start_time": "2022-06-13T17:13:34.107Z"
   },
   {
    "duration": 16,
    "start_time": "2022-06-13T17:13:34.116Z"
   },
   {
    "duration": 11132,
    "start_time": "2022-06-13T17:13:34.133Z"
   },
   {
    "duration": 1067,
    "start_time": "2022-06-13T17:14:39.702Z"
   },
   {
    "duration": 66,
    "start_time": "2022-06-13T17:14:40.771Z"
   },
   {
    "duration": 20,
    "start_time": "2022-06-13T17:14:40.838Z"
   },
   {
    "duration": 31,
    "start_time": "2022-06-13T17:14:40.860Z"
   },
   {
    "duration": 14,
    "start_time": "2022-06-13T17:14:40.893Z"
   },
   {
    "duration": 15,
    "start_time": "2022-06-13T17:14:40.908Z"
   },
   {
    "duration": 4,
    "start_time": "2022-06-13T17:14:40.924Z"
   },
   {
    "duration": 124,
    "start_time": "2022-06-13T17:14:40.929Z"
   },
   {
    "duration": 11,
    "start_time": "2022-06-13T17:14:41.054Z"
   },
   {
    "duration": 21,
    "start_time": "2022-06-13T17:14:41.068Z"
   },
   {
    "duration": 15,
    "start_time": "2022-06-13T17:14:41.091Z"
   },
   {
    "duration": 8,
    "start_time": "2022-06-13T17:14:41.108Z"
   },
   {
    "duration": 15,
    "start_time": "2022-06-13T17:14:41.118Z"
   },
   {
    "duration": 14,
    "start_time": "2022-06-13T17:14:41.135Z"
   },
   {
    "duration": 12,
    "start_time": "2022-06-13T17:14:41.151Z"
   },
   {
    "duration": 26,
    "start_time": "2022-06-13T17:14:41.188Z"
   },
   {
    "duration": 7,
    "start_time": "2022-06-13T17:14:41.216Z"
   },
   {
    "duration": 5,
    "start_time": "2022-06-13T17:14:41.226Z"
   },
   {
    "duration": 20,
    "start_time": "2022-06-13T17:14:41.232Z"
   },
   {
    "duration": 1057,
    "start_time": "2022-06-13T17:16:29.769Z"
   },
   {
    "duration": 63,
    "start_time": "2022-06-13T17:16:30.829Z"
   },
   {
    "duration": 21,
    "start_time": "2022-06-13T17:16:30.894Z"
   },
   {
    "duration": 33,
    "start_time": "2022-06-13T17:16:30.917Z"
   },
   {
    "duration": 42,
    "start_time": "2022-06-13T17:16:30.952Z"
   },
   {
    "duration": 21,
    "start_time": "2022-06-13T17:16:30.996Z"
   },
   {
    "duration": 5,
    "start_time": "2022-06-13T17:16:31.019Z"
   },
   {
    "duration": 123,
    "start_time": "2022-06-13T17:16:31.025Z"
   },
   {
    "duration": 12,
    "start_time": "2022-06-13T17:16:31.150Z"
   },
   {
    "duration": 17,
    "start_time": "2022-06-13T17:16:31.164Z"
   },
   {
    "duration": 18,
    "start_time": "2022-06-13T17:16:31.191Z"
   },
   {
    "duration": 11,
    "start_time": "2022-06-13T17:16:31.211Z"
   },
   {
    "duration": 13,
    "start_time": "2022-06-13T17:16:31.224Z"
   },
   {
    "duration": 11,
    "start_time": "2022-06-13T17:16:31.240Z"
   },
   {
    "duration": 13,
    "start_time": "2022-06-13T17:16:31.253Z"
   },
   {
    "duration": 23,
    "start_time": "2022-06-13T17:16:31.278Z"
   },
   {
    "duration": 8,
    "start_time": "2022-06-13T17:16:31.303Z"
   },
   {
    "duration": 7,
    "start_time": "2022-06-13T17:16:31.313Z"
   },
   {
    "duration": 19,
    "start_time": "2022-06-13T17:16:31.321Z"
   },
   {
    "duration": 492,
    "start_time": "2022-06-13T17:16:31.341Z"
   },
   {
    "duration": 150,
    "start_time": "2022-06-13T17:17:29.792Z"
   },
   {
    "duration": 161,
    "start_time": "2022-06-13T17:19:05.033Z"
   },
   {
    "duration": 165,
    "start_time": "2022-06-13T17:19:41.784Z"
   },
   {
    "duration": 173,
    "start_time": "2022-06-13T17:25:53.364Z"
   },
   {
    "duration": 165,
    "start_time": "2022-06-13T17:26:03.789Z"
   },
   {
    "duration": 155,
    "start_time": "2022-06-13T17:32:04.756Z"
   },
   {
    "duration": 91,
    "start_time": "2022-06-13T17:32:45.898Z"
   },
   {
    "duration": 15,
    "start_time": "2022-06-13T17:32:55.007Z"
   },
   {
    "duration": 15,
    "start_time": "2022-06-13T17:34:04.158Z"
   },
   {
    "duration": 145,
    "start_time": "2022-06-13T17:34:41.053Z"
   },
   {
    "duration": 240,
    "start_time": "2022-06-13T17:35:02.877Z"
   },
   {
    "duration": 146,
    "start_time": "2022-06-13T17:36:01.984Z"
   },
   {
    "duration": 140,
    "start_time": "2022-06-13T17:36:14.073Z"
   },
   {
    "duration": 161,
    "start_time": "2022-06-13T17:36:27.375Z"
   },
   {
    "duration": 141,
    "start_time": "2022-06-13T17:38:41.104Z"
   },
   {
    "duration": 153,
    "start_time": "2022-06-13T17:39:02.519Z"
   },
   {
    "duration": 158,
    "start_time": "2022-06-13T17:39:39.320Z"
   },
   {
    "duration": 19,
    "start_time": "2022-06-13T17:43:18.076Z"
   },
   {
    "duration": 980,
    "start_time": "2022-06-13T17:43:42.689Z"
   },
   {
    "duration": 65,
    "start_time": "2022-06-13T17:43:43.670Z"
   },
   {
    "duration": 20,
    "start_time": "2022-06-13T17:43:43.736Z"
   },
   {
    "duration": 36,
    "start_time": "2022-06-13T17:43:43.757Z"
   },
   {
    "duration": 13,
    "start_time": "2022-06-13T17:43:43.795Z"
   },
   {
    "duration": 13,
    "start_time": "2022-06-13T17:43:43.809Z"
   },
   {
    "duration": 5,
    "start_time": "2022-06-13T17:43:43.823Z"
   },
   {
    "duration": 118,
    "start_time": "2022-06-13T17:43:43.830Z"
   },
   {
    "duration": 12,
    "start_time": "2022-06-13T17:43:43.950Z"
   },
   {
    "duration": 26,
    "start_time": "2022-06-13T17:43:43.964Z"
   },
   {
    "duration": 15,
    "start_time": "2022-06-13T17:43:43.992Z"
   },
   {
    "duration": 9,
    "start_time": "2022-06-13T17:43:44.008Z"
   },
   {
    "duration": 14,
    "start_time": "2022-06-13T17:43:44.018Z"
   },
   {
    "duration": 12,
    "start_time": "2022-06-13T17:43:44.035Z"
   },
   {
    "duration": 46,
    "start_time": "2022-06-13T17:43:44.048Z"
   },
   {
    "duration": 21,
    "start_time": "2022-06-13T17:43:44.096Z"
   },
   {
    "duration": 9,
    "start_time": "2022-06-13T17:43:44.118Z"
   },
   {
    "duration": 7,
    "start_time": "2022-06-13T17:43:44.128Z"
   },
   {
    "duration": 19,
    "start_time": "2022-06-13T17:43:44.136Z"
   },
   {
    "duration": 202,
    "start_time": "2022-06-13T17:43:44.156Z"
   },
   {
    "duration": 162,
    "start_time": "2022-06-13T17:43:44.360Z"
   },
   {
    "duration": 108,
    "start_time": "2022-06-13T17:43:44.523Z"
   },
   {
    "duration": 28,
    "start_time": "2022-06-13T17:45:32.563Z"
   },
   {
    "duration": 19,
    "start_time": "2022-06-13T17:46:04.516Z"
   },
   {
    "duration": 157,
    "start_time": "2022-06-13T17:46:12.368Z"
   },
   {
    "duration": 161,
    "start_time": "2022-06-13T17:47:26.764Z"
   },
   {
    "duration": 218,
    "start_time": "2022-06-13T17:47:37.675Z"
   },
   {
    "duration": 156,
    "start_time": "2022-06-13T17:47:58.959Z"
   },
   {
    "duration": 161,
    "start_time": "2022-06-13T17:48:15.640Z"
   },
   {
    "duration": 148,
    "start_time": "2022-06-13T17:48:44.591Z"
   },
   {
    "duration": 159,
    "start_time": "2022-06-13T17:50:28.912Z"
   },
   {
    "duration": 222,
    "start_time": "2022-06-13T17:50:38.540Z"
   },
   {
    "duration": 168,
    "start_time": "2022-06-13T17:51:48.500Z"
   },
   {
    "duration": 162,
    "start_time": "2022-06-13T17:51:58.312Z"
   },
   {
    "duration": 1024,
    "start_time": "2022-06-13T17:55:32.502Z"
   },
   {
    "duration": 65,
    "start_time": "2022-06-13T17:55:33.528Z"
   },
   {
    "duration": 18,
    "start_time": "2022-06-13T17:55:33.595Z"
   },
   {
    "duration": 26,
    "start_time": "2022-06-13T17:55:33.614Z"
   },
   {
    "duration": 13,
    "start_time": "2022-06-13T17:55:33.642Z"
   },
   {
    "duration": 34,
    "start_time": "2022-06-13T17:55:33.656Z"
   },
   {
    "duration": 19,
    "start_time": "2022-06-13T17:55:33.692Z"
   },
   {
    "duration": 128,
    "start_time": "2022-06-13T17:55:33.712Z"
   },
   {
    "duration": 11,
    "start_time": "2022-06-13T17:55:33.842Z"
   },
   {
    "duration": 29,
    "start_time": "2022-06-13T17:55:33.855Z"
   },
   {
    "duration": 34,
    "start_time": "2022-06-13T17:55:33.885Z"
   },
   {
    "duration": 7,
    "start_time": "2022-06-13T17:55:33.921Z"
   },
   {
    "duration": 32,
    "start_time": "2022-06-13T17:55:33.930Z"
   },
   {
    "duration": 39,
    "start_time": "2022-06-13T17:55:33.965Z"
   },
   {
    "duration": 16,
    "start_time": "2022-06-13T17:55:34.005Z"
   },
   {
    "duration": 42,
    "start_time": "2022-06-13T17:55:34.022Z"
   },
   {
    "duration": 25,
    "start_time": "2022-06-13T17:55:34.066Z"
   },
   {
    "duration": 26,
    "start_time": "2022-06-13T17:55:34.092Z"
   },
   {
    "duration": 36,
    "start_time": "2022-06-13T17:55:34.120Z"
   },
   {
    "duration": 204,
    "start_time": "2022-06-13T17:55:34.157Z"
   },
   {
    "duration": 161,
    "start_time": "2022-06-13T17:55:34.363Z"
   },
   {
    "duration": 971,
    "start_time": "2022-06-13T17:56:24.436Z"
   },
   {
    "duration": 61,
    "start_time": "2022-06-13T17:56:25.409Z"
   },
   {
    "duration": 23,
    "start_time": "2022-06-13T17:56:25.471Z"
   },
   {
    "duration": 29,
    "start_time": "2022-06-13T17:56:25.496Z"
   },
   {
    "duration": 12,
    "start_time": "2022-06-13T17:56:25.526Z"
   },
   {
    "duration": 13,
    "start_time": "2022-06-13T17:56:25.540Z"
   },
   {
    "duration": 5,
    "start_time": "2022-06-13T17:56:25.555Z"
   },
   {
    "duration": 146,
    "start_time": "2022-06-13T17:56:25.578Z"
   },
   {
    "duration": 14,
    "start_time": "2022-06-13T17:56:25.726Z"
   },
   {
    "duration": 5,
    "start_time": "2022-06-13T17:56:25.743Z"
   },
   {
    "duration": 42,
    "start_time": "2022-06-13T17:56:25.749Z"
   },
   {
    "duration": 10,
    "start_time": "2022-06-13T17:56:25.793Z"
   },
   {
    "duration": 17,
    "start_time": "2022-06-13T17:56:25.804Z"
   },
   {
    "duration": 12,
    "start_time": "2022-06-13T17:56:25.823Z"
   },
   {
    "duration": 9,
    "start_time": "2022-06-13T17:56:25.836Z"
   },
   {
    "duration": 44,
    "start_time": "2022-06-13T17:56:25.847Z"
   },
   {
    "duration": 10,
    "start_time": "2022-06-13T17:56:25.893Z"
   },
   {
    "duration": 9,
    "start_time": "2022-06-13T17:56:25.905Z"
   },
   {
    "duration": 19,
    "start_time": "2022-06-13T17:56:25.916Z"
   },
   {
    "duration": 186,
    "start_time": "2022-06-13T17:56:25.936Z"
   },
   {
    "duration": 167,
    "start_time": "2022-06-13T17:56:26.124Z"
   },
   {
    "duration": 272,
    "start_time": "2022-06-13T17:56:26.293Z"
   },
   {
    "duration": 162,
    "start_time": "2022-06-13T18:00:19.899Z"
   },
   {
    "duration": 7010,
    "start_time": "2022-06-13T18:00:36.723Z"
   },
   {
    "duration": 1007,
    "start_time": "2022-06-13T18:01:19.720Z"
   },
   {
    "duration": 73,
    "start_time": "2022-06-13T18:01:20.730Z"
   },
   {
    "duration": 27,
    "start_time": "2022-06-13T18:01:20.807Z"
   },
   {
    "duration": 29,
    "start_time": "2022-06-13T18:01:20.836Z"
   },
   {
    "duration": 20,
    "start_time": "2022-06-13T18:01:20.879Z"
   },
   {
    "duration": 19,
    "start_time": "2022-06-13T18:01:20.900Z"
   },
   {
    "duration": 5,
    "start_time": "2022-06-13T18:01:20.921Z"
   },
   {
    "duration": 156,
    "start_time": "2022-06-13T18:01:20.927Z"
   },
   {
    "duration": 16,
    "start_time": "2022-06-13T18:01:21.085Z"
   },
   {
    "duration": 9,
    "start_time": "2022-06-13T18:01:21.103Z"
   },
   {
    "duration": 17,
    "start_time": "2022-06-13T18:01:21.114Z"
   },
   {
    "duration": 9,
    "start_time": "2022-06-13T18:01:21.133Z"
   },
   {
    "duration": 43,
    "start_time": "2022-06-13T18:01:21.143Z"
   },
   {
    "duration": 18,
    "start_time": "2022-06-13T18:01:21.191Z"
   },
   {
    "duration": 11,
    "start_time": "2022-06-13T18:01:21.210Z"
   },
   {
    "duration": 21,
    "start_time": "2022-06-13T18:01:21.222Z"
   },
   {
    "duration": 8,
    "start_time": "2022-06-13T18:01:21.244Z"
   },
   {
    "duration": 37,
    "start_time": "2022-06-13T18:01:21.254Z"
   },
   {
    "duration": 17,
    "start_time": "2022-06-13T18:01:21.292Z"
   },
   {
    "duration": 193,
    "start_time": "2022-06-13T18:01:21.311Z"
   },
   {
    "duration": 163,
    "start_time": "2022-06-13T18:01:21.506Z"
   },
   {
    "duration": 4,
    "start_time": "2022-06-13T18:01:21.671Z"
   },
   {
    "duration": 933,
    "start_time": "2022-06-13T18:01:35.540Z"
   },
   {
    "duration": 63,
    "start_time": "2022-06-13T18:01:36.475Z"
   },
   {
    "duration": 19,
    "start_time": "2022-06-13T18:01:36.539Z"
   },
   {
    "duration": 29,
    "start_time": "2022-06-13T18:01:36.560Z"
   },
   {
    "duration": 12,
    "start_time": "2022-06-13T18:01:36.590Z"
   },
   {
    "duration": 12,
    "start_time": "2022-06-13T18:01:36.604Z"
   },
   {
    "duration": 3,
    "start_time": "2022-06-13T18:01:36.618Z"
   },
   {
    "duration": 120,
    "start_time": "2022-06-13T18:01:36.622Z"
   },
   {
    "duration": 10,
    "start_time": "2022-06-13T18:01:36.744Z"
   },
   {
    "duration": 4,
    "start_time": "2022-06-13T18:01:36.755Z"
   },
   {
    "duration": 33,
    "start_time": "2022-06-13T18:01:36.761Z"
   },
   {
    "duration": 7,
    "start_time": "2022-06-13T18:01:36.796Z"
   },
   {
    "duration": 11,
    "start_time": "2022-06-13T18:01:36.805Z"
   },
   {
    "duration": 12,
    "start_time": "2022-06-13T18:01:36.819Z"
   },
   {
    "duration": 9,
    "start_time": "2022-06-13T18:01:36.833Z"
   },
   {
    "duration": 45,
    "start_time": "2022-06-13T18:01:36.844Z"
   },
   {
    "duration": 7,
    "start_time": "2022-06-13T18:01:36.894Z"
   },
   {
    "duration": 8,
    "start_time": "2022-06-13T18:01:36.902Z"
   },
   {
    "duration": 15,
    "start_time": "2022-06-13T18:01:36.912Z"
   },
   {
    "duration": 185,
    "start_time": "2022-06-13T18:01:36.929Z"
   },
   {
    "duration": 175,
    "start_time": "2022-06-13T18:01:37.116Z"
   },
   {
    "duration": 4,
    "start_time": "2022-06-13T18:01:37.293Z"
   },
   {
    "duration": 34504,
    "start_time": "2022-06-13T18:01:41.209Z"
   },
   {
    "duration": 1121,
    "start_time": "2022-06-13T18:02:30.926Z"
   },
   {
    "duration": 166,
    "start_time": "2022-06-13T18:02:32.049Z"
   },
   {
    "duration": 18,
    "start_time": "2022-06-13T18:02:32.217Z"
   },
   {
    "duration": 24,
    "start_time": "2022-06-13T18:02:32.237Z"
   },
   {
    "duration": 12,
    "start_time": "2022-06-13T18:02:32.263Z"
   },
   {
    "duration": 28,
    "start_time": "2022-06-13T18:02:32.278Z"
   },
   {
    "duration": 10,
    "start_time": "2022-06-13T18:02:32.307Z"
   },
   {
    "duration": 112,
    "start_time": "2022-06-13T18:02:32.319Z"
   },
   {
    "duration": 11,
    "start_time": "2022-06-13T18:02:32.432Z"
   },
   {
    "duration": 15,
    "start_time": "2022-06-13T18:02:32.444Z"
   },
   {
    "duration": 28,
    "start_time": "2022-06-13T18:02:32.461Z"
   },
   {
    "duration": 12,
    "start_time": "2022-06-13T18:02:32.490Z"
   },
   {
    "duration": 14,
    "start_time": "2022-06-13T18:02:32.504Z"
   },
   {
    "duration": 11,
    "start_time": "2022-06-13T18:02:32.520Z"
   },
   {
    "duration": 10,
    "start_time": "2022-06-13T18:02:32.532Z"
   },
   {
    "duration": 18,
    "start_time": "2022-06-13T18:02:32.543Z"
   },
   {
    "duration": 34,
    "start_time": "2022-06-13T18:02:32.562Z"
   },
   {
    "duration": 7,
    "start_time": "2022-06-13T18:02:32.597Z"
   },
   {
    "duration": 21,
    "start_time": "2022-06-13T18:02:32.605Z"
   },
   {
    "duration": 173,
    "start_time": "2022-06-13T18:02:32.627Z"
   },
   {
    "duration": 148,
    "start_time": "2022-06-13T18:02:32.802Z"
   },
   {
    "duration": 5,
    "start_time": "2022-06-13T18:02:32.951Z"
   },
   {
    "duration": 1117,
    "start_time": "2022-06-13T18:02:59.690Z"
   },
   {
    "duration": 58,
    "start_time": "2022-06-13T18:03:00.809Z"
   },
   {
    "duration": 31,
    "start_time": "2022-06-13T18:03:00.869Z"
   },
   {
    "duration": 25,
    "start_time": "2022-06-13T18:03:00.902Z"
   },
   {
    "duration": 12,
    "start_time": "2022-06-13T18:03:00.928Z"
   },
   {
    "duration": 15,
    "start_time": "2022-06-13T18:03:00.941Z"
   },
   {
    "duration": 4,
    "start_time": "2022-06-13T18:03:00.958Z"
   },
   {
    "duration": 153,
    "start_time": "2022-06-13T18:03:00.963Z"
   },
   {
    "duration": 13,
    "start_time": "2022-06-13T18:03:01.117Z"
   },
   {
    "duration": 16,
    "start_time": "2022-06-13T18:03:01.132Z"
   },
   {
    "duration": 20,
    "start_time": "2022-06-13T18:03:01.150Z"
   },
   {
    "duration": 28,
    "start_time": "2022-06-13T18:03:01.172Z"
   },
   {
    "duration": 15,
    "start_time": "2022-06-13T18:03:01.202Z"
   },
   {
    "duration": 17,
    "start_time": "2022-06-13T18:03:01.218Z"
   },
   {
    "duration": 15,
    "start_time": "2022-06-13T18:03:01.236Z"
   },
   {
    "duration": 21,
    "start_time": "2022-06-13T18:03:01.253Z"
   },
   {
    "duration": 19,
    "start_time": "2022-06-13T18:03:01.275Z"
   },
   {
    "duration": 9,
    "start_time": "2022-06-13T18:03:01.295Z"
   },
   {
    "duration": 27,
    "start_time": "2022-06-13T18:03:01.305Z"
   },
   {
    "duration": 199,
    "start_time": "2022-06-13T18:03:01.334Z"
   },
   {
    "duration": 156,
    "start_time": "2022-06-13T18:03:01.535Z"
   },
   {
    "duration": 35106,
    "start_time": "2022-06-13T18:03:01.694Z"
   },
   {
    "duration": 961,
    "start_time": "2022-06-13T18:06:58.443Z"
   },
   {
    "duration": 58,
    "start_time": "2022-06-13T18:06:59.406Z"
   },
   {
    "duration": 28,
    "start_time": "2022-06-13T18:06:59.466Z"
   },
   {
    "duration": 37,
    "start_time": "2022-06-13T18:06:59.496Z"
   },
   {
    "duration": 16,
    "start_time": "2022-06-13T18:06:59.535Z"
   },
   {
    "duration": 14,
    "start_time": "2022-06-13T18:06:59.553Z"
   },
   {
    "duration": 10,
    "start_time": "2022-06-13T18:06:59.579Z"
   },
   {
    "duration": 127,
    "start_time": "2022-06-13T18:06:59.591Z"
   },
   {
    "duration": 11,
    "start_time": "2022-06-13T18:06:59.719Z"
   },
   {
    "duration": 18,
    "start_time": "2022-06-13T18:06:59.733Z"
   },
   {
    "duration": 16,
    "start_time": "2022-06-13T18:06:59.752Z"
   },
   {
    "duration": 15,
    "start_time": "2022-06-13T18:06:59.770Z"
   },
   {
    "duration": 22,
    "start_time": "2022-06-13T18:06:59.786Z"
   },
   {
    "duration": 11,
    "start_time": "2022-06-13T18:06:59.809Z"
   },
   {
    "duration": 8,
    "start_time": "2022-06-13T18:06:59.822Z"
   },
   {
    "duration": 18,
    "start_time": "2022-06-13T18:06:59.831Z"
   },
   {
    "duration": 7,
    "start_time": "2022-06-13T18:06:59.851Z"
   },
   {
    "duration": 23,
    "start_time": "2022-06-13T18:06:59.860Z"
   },
   {
    "duration": 18,
    "start_time": "2022-06-13T18:06:59.884Z"
   },
   {
    "duration": 184,
    "start_time": "2022-06-13T18:06:59.903Z"
   },
   {
    "duration": 161,
    "start_time": "2022-06-13T18:07:00.093Z"
   },
   {
    "duration": 1066,
    "start_time": "2022-06-13T18:07:59.965Z"
   },
   {
    "duration": 68,
    "start_time": "2022-06-13T18:08:01.032Z"
   },
   {
    "duration": 18,
    "start_time": "2022-06-13T18:08:01.102Z"
   },
   {
    "duration": 25,
    "start_time": "2022-06-13T18:08:01.121Z"
   },
   {
    "duration": 12,
    "start_time": "2022-06-13T18:08:01.147Z"
   },
   {
    "duration": 31,
    "start_time": "2022-06-13T18:08:01.160Z"
   },
   {
    "duration": 5,
    "start_time": "2022-06-13T18:08:01.193Z"
   },
   {
    "duration": 117,
    "start_time": "2022-06-13T18:08:01.199Z"
   },
   {
    "duration": 12,
    "start_time": "2022-06-13T18:08:01.317Z"
   },
   {
    "duration": 10,
    "start_time": "2022-06-13T18:08:01.330Z"
   },
   {
    "duration": 19,
    "start_time": "2022-06-13T18:08:01.341Z"
   },
   {
    "duration": 23,
    "start_time": "2022-06-13T18:08:01.362Z"
   },
   {
    "duration": 18,
    "start_time": "2022-06-13T18:08:01.390Z"
   },
   {
    "duration": 13,
    "start_time": "2022-06-13T18:08:01.410Z"
   },
   {
    "duration": 8,
    "start_time": "2022-06-13T18:08:01.425Z"
   },
   {
    "duration": 19,
    "start_time": "2022-06-13T18:08:01.434Z"
   },
   {
    "duration": 28,
    "start_time": "2022-06-13T18:08:01.455Z"
   },
   {
    "duration": 7,
    "start_time": "2022-06-13T18:08:01.484Z"
   },
   {
    "duration": 22,
    "start_time": "2022-06-13T18:08:01.493Z"
   },
   {
    "duration": 181,
    "start_time": "2022-06-13T18:08:01.517Z"
   },
   {
    "duration": 162,
    "start_time": "2022-06-13T18:08:01.700Z"
   },
   {
    "duration": 331,
    "start_time": "2022-06-13T18:08:01.864Z"
   },
   {
    "duration": 167,
    "start_time": "2022-06-13T18:12:26.073Z"
   },
   {
    "duration": 158,
    "start_time": "2022-06-13T18:12:45.966Z"
   },
   {
    "duration": 189,
    "start_time": "2022-06-13T18:12:58.936Z"
   },
   {
    "duration": 34,
    "start_time": "2022-06-13T18:13:20.140Z"
   },
   {
    "duration": 191,
    "start_time": "2022-06-13T18:22:32.610Z"
   },
   {
    "duration": 152,
    "start_time": "2022-06-13T18:23:25.520Z"
   },
   {
    "duration": 190,
    "start_time": "2022-06-13T18:24:13.644Z"
   },
   {
    "duration": 349,
    "start_time": "2022-06-13T18:24:22.922Z"
   },
   {
    "duration": 203,
    "start_time": "2022-06-13T18:25:44.850Z"
   },
   {
    "duration": 208,
    "start_time": "2022-06-13T18:26:01.419Z"
   },
   {
    "duration": 1099,
    "start_time": "2022-06-13T18:26:32.205Z"
   },
   {
    "duration": 62,
    "start_time": "2022-06-13T18:26:33.306Z"
   },
   {
    "duration": 22,
    "start_time": "2022-06-13T18:26:33.370Z"
   },
   {
    "duration": 26,
    "start_time": "2022-06-13T18:26:33.393Z"
   },
   {
    "duration": 12,
    "start_time": "2022-06-13T18:26:33.422Z"
   },
   {
    "duration": 16,
    "start_time": "2022-06-13T18:26:33.436Z"
   },
   {
    "duration": 7,
    "start_time": "2022-06-13T18:26:33.453Z"
   },
   {
    "duration": 127,
    "start_time": "2022-06-13T18:26:33.461Z"
   },
   {
    "duration": 11,
    "start_time": "2022-06-13T18:26:33.589Z"
   },
   {
    "duration": 4,
    "start_time": "2022-06-13T18:26:33.602Z"
   },
   {
    "duration": 15,
    "start_time": "2022-06-13T18:26:33.607Z"
   },
   {
    "duration": 8,
    "start_time": "2022-06-13T18:26:33.623Z"
   },
   {
    "duration": 17,
    "start_time": "2022-06-13T18:26:33.632Z"
   },
   {
    "duration": 36,
    "start_time": "2022-06-13T18:26:33.651Z"
   },
   {
    "duration": 10,
    "start_time": "2022-06-13T18:26:33.689Z"
   },
   {
    "duration": 23,
    "start_time": "2022-06-13T18:26:33.700Z"
   },
   {
    "duration": 9,
    "start_time": "2022-06-13T18:26:33.725Z"
   },
   {
    "duration": 5,
    "start_time": "2022-06-13T18:26:33.735Z"
   },
   {
    "duration": 38,
    "start_time": "2022-06-13T18:26:33.741Z"
   },
   {
    "duration": 188,
    "start_time": "2022-06-13T18:26:33.781Z"
   },
   {
    "duration": 154,
    "start_time": "2022-06-13T18:26:33.977Z"
   },
   {
    "duration": 103,
    "start_time": "2022-06-13T18:26:34.133Z"
   },
   {
    "duration": 198,
    "start_time": "2022-06-13T18:27:05.930Z"
   },
   {
    "duration": 13,
    "start_time": "2022-06-13T18:28:51.175Z"
   },
   {
    "duration": 13,
    "start_time": "2022-06-13T18:28:58.447Z"
   },
   {
    "duration": 3,
    "start_time": "2022-06-13T18:29:07.708Z"
   },
   {
    "duration": 10,
    "start_time": "2022-06-13T18:29:19.893Z"
   },
   {
    "duration": 7,
    "start_time": "2022-06-13T18:29:39.859Z"
   },
   {
    "duration": 10,
    "start_time": "2022-06-13T18:30:48.858Z"
   },
   {
    "duration": 11,
    "start_time": "2022-06-13T18:30:58.603Z"
   },
   {
    "duration": 425,
    "start_time": "2022-06-13T18:32:05.753Z"
   },
   {
    "duration": 401,
    "start_time": "2022-06-13T18:32:21.248Z"
   },
   {
    "duration": 12,
    "start_time": "2022-06-13T18:32:35.418Z"
   },
   {
    "duration": 11,
    "start_time": "2022-06-13T18:33:23.265Z"
   },
   {
    "duration": 9,
    "start_time": "2022-06-13T18:35:50.891Z"
   },
   {
    "duration": 11,
    "start_time": "2022-06-13T18:49:01.970Z"
   },
   {
    "duration": 7,
    "start_time": "2022-06-13T18:49:24.861Z"
   },
   {
    "duration": 9,
    "start_time": "2022-06-13T18:49:44.331Z"
   },
   {
    "duration": 9,
    "start_time": "2022-06-13T18:49:53.177Z"
   },
   {
    "duration": 11,
    "start_time": "2022-06-13T18:51:30.917Z"
   },
   {
    "duration": 13,
    "start_time": "2022-06-13T18:51:42.002Z"
   },
   {
    "duration": 14,
    "start_time": "2022-06-13T18:51:58.529Z"
   },
   {
    "duration": 12,
    "start_time": "2022-06-13T18:52:23.553Z"
   },
   {
    "duration": 12,
    "start_time": "2022-06-13T18:54:29.332Z"
   },
   {
    "duration": 33,
    "start_time": "2022-06-13T18:58:47.116Z"
   },
   {
    "duration": 9,
    "start_time": "2022-06-13T18:58:56.382Z"
   },
   {
    "duration": 13,
    "start_time": "2022-06-13T18:59:21.420Z"
   },
   {
    "duration": 1023,
    "start_time": "2022-06-13T18:59:32.531Z"
   },
   {
    "duration": 56,
    "start_time": "2022-06-13T18:59:33.556Z"
   },
   {
    "duration": 19,
    "start_time": "2022-06-13T18:59:33.613Z"
   },
   {
    "duration": 24,
    "start_time": "2022-06-13T18:59:33.634Z"
   },
   {
    "duration": 22,
    "start_time": "2022-06-13T18:59:33.660Z"
   },
   {
    "duration": 21,
    "start_time": "2022-06-13T18:59:33.684Z"
   },
   {
    "duration": 5,
    "start_time": "2022-06-13T18:59:33.706Z"
   },
   {
    "duration": 119,
    "start_time": "2022-06-13T18:59:33.712Z"
   },
   {
    "duration": 12,
    "start_time": "2022-06-13T18:59:33.832Z"
   },
   {
    "duration": 4,
    "start_time": "2022-06-13T18:59:33.846Z"
   },
   {
    "duration": 30,
    "start_time": "2022-06-13T18:59:33.851Z"
   },
   {
    "duration": 7,
    "start_time": "2022-06-13T18:59:33.882Z"
   },
   {
    "duration": 12,
    "start_time": "2022-06-13T18:59:33.891Z"
   },
   {
    "duration": 12,
    "start_time": "2022-06-13T18:59:33.905Z"
   },
   {
    "duration": 8,
    "start_time": "2022-06-13T18:59:33.918Z"
   },
   {
    "duration": 17,
    "start_time": "2022-06-13T18:59:33.928Z"
   },
   {
    "duration": 35,
    "start_time": "2022-06-13T18:59:33.947Z"
   },
   {
    "duration": 5,
    "start_time": "2022-06-13T18:59:33.983Z"
   },
   {
    "duration": 22,
    "start_time": "2022-06-13T18:59:33.989Z"
   },
   {
    "duration": 173,
    "start_time": "2022-06-13T18:59:34.012Z"
   },
   {
    "duration": 159,
    "start_time": "2022-06-13T18:59:34.187Z"
   },
   {
    "duration": 100,
    "start_time": "2022-06-13T18:59:34.347Z"
   },
   {
    "duration": 0,
    "start_time": "2022-06-13T18:59:34.449Z"
   },
   {
    "duration": 0,
    "start_time": "2022-06-13T18:59:34.450Z"
   },
   {
    "duration": 520,
    "start_time": "2022-06-13T19:02:21.138Z"
   },
   {
    "duration": 439,
    "start_time": "2022-06-13T19:02:35.426Z"
   },
   {
    "duration": 7,
    "start_time": "2022-06-13T19:03:21.931Z"
   },
   {
    "duration": 14,
    "start_time": "2022-06-13T19:04:09.762Z"
   },
   {
    "duration": 7,
    "start_time": "2022-06-13T19:04:40.435Z"
   },
   {
    "duration": 6,
    "start_time": "2022-06-13T19:05:17.266Z"
   },
   {
    "duration": 126,
    "start_time": "2022-06-13T19:05:26.002Z"
   },
   {
    "duration": 14,
    "start_time": "2022-06-13T19:05:56.589Z"
   },
   {
    "duration": 126,
    "start_time": "2022-06-13T19:06:03.116Z"
   },
   {
    "duration": 7,
    "start_time": "2022-06-13T19:06:22.686Z"
   },
   {
    "duration": 234,
    "start_time": "2022-06-13T19:06:46.004Z"
   },
   {
    "duration": 165,
    "start_time": "2022-06-13T19:06:58.555Z"
   },
   {
    "duration": 163,
    "start_time": "2022-06-13T19:07:08.149Z"
   },
   {
    "duration": 142,
    "start_time": "2022-06-13T19:07:14.756Z"
   },
   {
    "duration": 14,
    "start_time": "2022-06-13T19:08:19.174Z"
   },
   {
    "duration": 10,
    "start_time": "2022-06-13T19:08:49.591Z"
   },
   {
    "duration": 138,
    "start_time": "2022-06-13T19:10:08.316Z"
   },
   {
    "duration": 210,
    "start_time": "2022-06-13T19:10:29.349Z"
   },
   {
    "duration": 11,
    "start_time": "2022-06-13T19:10:47.525Z"
   },
   {
    "duration": 13,
    "start_time": "2022-06-13T19:11:06.791Z"
   },
   {
    "duration": 32,
    "start_time": "2022-06-13T19:11:55.624Z"
   },
   {
    "duration": 12,
    "start_time": "2022-06-13T19:12:05.135Z"
   },
   {
    "duration": 11,
    "start_time": "2022-06-13T19:12:10.294Z"
   },
   {
    "duration": 12,
    "start_time": "2022-06-13T19:12:41.058Z"
   },
   {
    "duration": 13,
    "start_time": "2022-06-13T19:13:59.096Z"
   },
   {
    "duration": 12,
    "start_time": "2022-06-13T19:14:04.511Z"
   },
   {
    "duration": 129,
    "start_time": "2022-06-13T19:14:17.494Z"
   },
   {
    "duration": 118,
    "start_time": "2022-06-13T19:14:27.073Z"
   },
   {
    "duration": 13,
    "start_time": "2022-06-13T19:14:42.375Z"
   },
   {
    "duration": 119,
    "start_time": "2022-06-13T19:18:48.938Z"
   },
   {
    "duration": 151,
    "start_time": "2022-06-13T19:18:58.409Z"
   },
   {
    "duration": 177,
    "start_time": "2022-06-13T19:19:18.145Z"
   },
   {
    "duration": 150,
    "start_time": "2022-06-13T19:19:40.945Z"
   },
   {
    "duration": 56,
    "start_time": "2022-06-13T19:20:32.465Z"
   },
   {
    "duration": 149,
    "start_time": "2022-06-13T19:20:42.937Z"
   },
   {
    "duration": 7,
    "start_time": "2022-06-13T19:21:19.506Z"
   },
   {
    "duration": 168,
    "start_time": "2022-06-13T19:21:39.332Z"
   },
   {
    "duration": 165,
    "start_time": "2022-06-13T19:21:47.857Z"
   },
   {
    "duration": 190,
    "start_time": "2022-06-13T19:21:55.210Z"
   },
   {
    "duration": 282,
    "start_time": "2022-06-13T19:22:21.066Z"
   },
   {
    "duration": 178,
    "start_time": "2022-06-13T19:22:33.060Z"
   },
   {
    "duration": 187,
    "start_time": "2022-06-13T19:23:12.385Z"
   },
   {
    "duration": 138,
    "start_time": "2022-06-13T19:24:43.540Z"
   },
   {
    "duration": 185,
    "start_time": "2022-06-13T19:25:18.785Z"
   },
   {
    "duration": 18,
    "start_time": "2022-06-13T19:29:18.818Z"
   },
   {
    "duration": 10,
    "start_time": "2022-06-13T19:29:42.252Z"
   },
   {
    "duration": 501,
    "start_time": "2022-06-13T19:30:17.982Z"
   },
   {
    "duration": 519,
    "start_time": "2022-06-13T19:30:30.061Z"
   },
   {
    "duration": 413,
    "start_time": "2022-06-13T19:31:50.253Z"
   },
   {
    "duration": 9,
    "start_time": "2022-06-13T19:34:00.863Z"
   },
   {
    "duration": 10,
    "start_time": "2022-06-13T19:36:25.974Z"
   },
   {
    "duration": 8,
    "start_time": "2022-06-13T19:36:42.817Z"
   },
   {
    "duration": 8,
    "start_time": "2022-06-13T19:37:01.033Z"
   },
   {
    "duration": 9,
    "start_time": "2022-06-13T19:37:19.519Z"
   },
   {
    "duration": 8,
    "start_time": "2022-06-13T19:37:54.858Z"
   },
   {
    "duration": 11,
    "start_time": "2022-06-13T19:38:33.185Z"
   },
   {
    "duration": 10,
    "start_time": "2022-06-13T19:40:30.259Z"
   },
   {
    "duration": 9,
    "start_time": "2022-06-13T19:41:31.368Z"
   },
   {
    "duration": 8,
    "start_time": "2022-06-13T19:44:08.925Z"
   },
   {
    "duration": 12,
    "start_time": "2022-06-13T19:44:20.690Z"
   },
   {
    "duration": 9,
    "start_time": "2022-06-13T19:46:07.620Z"
   },
   {
    "duration": 8,
    "start_time": "2022-06-13T19:46:51.512Z"
   },
   {
    "duration": 8,
    "start_time": "2022-06-13T19:47:09.451Z"
   },
   {
    "duration": 12,
    "start_time": "2022-06-13T19:47:27.692Z"
   },
   {
    "duration": 9,
    "start_time": "2022-06-13T19:47:45.004Z"
   },
   {
    "duration": 10,
    "start_time": "2022-06-13T19:48:04.302Z"
   },
   {
    "duration": 4,
    "start_time": "2022-06-13T19:48:35.228Z"
   },
   {
    "duration": 9,
    "start_time": "2022-06-13T19:48:51.318Z"
   },
   {
    "duration": 11,
    "start_time": "2022-06-13T19:49:01.946Z"
   },
   {
    "duration": 11,
    "start_time": "2022-06-13T19:49:36.789Z"
   },
   {
    "duration": 442,
    "start_time": "2022-06-13T19:50:04.529Z"
   },
   {
    "duration": 433,
    "start_time": "2022-06-13T19:58:26.016Z"
   },
   {
    "duration": 11,
    "start_time": "2022-06-13T19:58:57.242Z"
   },
   {
    "duration": 4,
    "start_time": "2022-06-13T19:59:01.813Z"
   },
   {
    "duration": 36,
    "start_time": "2022-06-13T19:59:50.133Z"
   },
   {
    "duration": 1066,
    "start_time": "2022-06-13T20:00:09.808Z"
   },
   {
    "duration": 64,
    "start_time": "2022-06-13T20:00:10.875Z"
   },
   {
    "duration": 18,
    "start_time": "2022-06-13T20:00:10.940Z"
   },
   {
    "duration": 33,
    "start_time": "2022-06-13T20:00:10.960Z"
   },
   {
    "duration": 13,
    "start_time": "2022-06-13T20:00:10.994Z"
   },
   {
    "duration": 16,
    "start_time": "2022-06-13T20:00:11.008Z"
   },
   {
    "duration": 5,
    "start_time": "2022-06-13T20:00:11.026Z"
   },
   {
    "duration": 133,
    "start_time": "2022-06-13T20:00:11.032Z"
   },
   {
    "duration": 16,
    "start_time": "2022-06-13T20:00:11.167Z"
   },
   {
    "duration": 7,
    "start_time": "2022-06-13T20:00:11.189Z"
   },
   {
    "duration": 22,
    "start_time": "2022-06-13T20:00:11.198Z"
   },
   {
    "duration": 9,
    "start_time": "2022-06-13T20:00:11.222Z"
   },
   {
    "duration": 15,
    "start_time": "2022-06-13T20:00:11.232Z"
   },
   {
    "duration": 14,
    "start_time": "2022-06-13T20:00:11.248Z"
   },
   {
    "duration": 15,
    "start_time": "2022-06-13T20:00:11.278Z"
   },
   {
    "duration": 25,
    "start_time": "2022-06-13T20:00:11.294Z"
   },
   {
    "duration": 10,
    "start_time": "2022-06-13T20:00:11.320Z"
   },
   {
    "duration": 5,
    "start_time": "2022-06-13T20:00:11.332Z"
   },
   {
    "duration": 21,
    "start_time": "2022-06-13T20:00:11.339Z"
   },
   {
    "duration": 185,
    "start_time": "2022-06-13T20:00:11.362Z"
   },
   {
    "duration": 154,
    "start_time": "2022-06-13T20:00:11.548Z"
   },
   {
    "duration": 13,
    "start_time": "2022-06-13T20:00:11.703Z"
   },
   {
    "duration": 229,
    "start_time": "2022-06-13T20:00:11.717Z"
   },
   {
    "duration": 5,
    "start_time": "2022-06-13T20:00:11.948Z"
   },
   {
    "duration": 56,
    "start_time": "2022-06-13T20:00:11.955Z"
   },
   {
    "duration": 103,
    "start_time": "2022-06-13T20:00:12.013Z"
   },
   {
    "duration": 0,
    "start_time": "2022-06-13T20:00:12.118Z"
   },
   {
    "duration": 0,
    "start_time": "2022-06-13T20:00:12.119Z"
   },
   {
    "duration": 10,
    "start_time": "2022-06-13T20:01:22.742Z"
   },
   {
    "duration": 58,
    "start_time": "2022-06-13T20:01:36.680Z"
   },
   {
    "duration": 9,
    "start_time": "2022-06-13T20:01:46.310Z"
   },
   {
    "duration": 199,
    "start_time": "2022-06-13T20:02:19.896Z"
   },
   {
    "duration": 35,
    "start_time": "2022-06-13T20:03:18.349Z"
   },
   {
    "duration": 18,
    "start_time": "2022-06-13T20:03:47.177Z"
   },
   {
    "duration": 8,
    "start_time": "2022-06-13T20:04:48.446Z"
   },
   {
    "duration": 19,
    "start_time": "2022-06-13T20:05:04.656Z"
   },
   {
    "duration": 37,
    "start_time": "2022-06-13T20:06:23.906Z"
   },
   {
    "duration": 25,
    "start_time": "2022-06-13T20:13:58.011Z"
   },
   {
    "duration": 12,
    "start_time": "2022-06-13T20:15:17.628Z"
   },
   {
    "duration": 5,
    "start_time": "2022-06-13T20:15:24.404Z"
   },
   {
    "duration": 26,
    "start_time": "2022-06-13T20:15:39.739Z"
   },
   {
    "duration": 25,
    "start_time": "2022-06-13T20:15:44.225Z"
   },
   {
    "duration": 43,
    "start_time": "2022-06-13T20:15:48.719Z"
   },
   {
    "duration": 1085,
    "start_time": "2022-06-13T20:16:02.557Z"
   },
   {
    "duration": 59,
    "start_time": "2022-06-13T20:16:03.644Z"
   },
   {
    "duration": 20,
    "start_time": "2022-06-13T20:16:03.704Z"
   },
   {
    "duration": 25,
    "start_time": "2022-06-13T20:16:03.726Z"
   },
   {
    "duration": 27,
    "start_time": "2022-06-13T20:16:03.753Z"
   },
   {
    "duration": 23,
    "start_time": "2022-06-13T20:16:03.782Z"
   },
   {
    "duration": 6,
    "start_time": "2022-06-13T20:16:03.807Z"
   },
   {
    "duration": 144,
    "start_time": "2022-06-13T20:16:03.815Z"
   },
   {
    "duration": 19,
    "start_time": "2022-06-13T20:16:03.960Z"
   },
   {
    "duration": 5,
    "start_time": "2022-06-13T20:16:03.980Z"
   },
   {
    "duration": 16,
    "start_time": "2022-06-13T20:16:03.986Z"
   },
   {
    "duration": 8,
    "start_time": "2022-06-13T20:16:04.003Z"
   },
   {
    "duration": 15,
    "start_time": "2022-06-13T20:16:04.012Z"
   },
   {
    "duration": 13,
    "start_time": "2022-06-13T20:16:04.029Z"
   },
   {
    "duration": 39,
    "start_time": "2022-06-13T20:16:04.044Z"
   },
   {
    "duration": 19,
    "start_time": "2022-06-13T20:16:04.085Z"
   },
   {
    "duration": 7,
    "start_time": "2022-06-13T20:16:04.106Z"
   },
   {
    "duration": 4,
    "start_time": "2022-06-13T20:16:04.115Z"
   },
   {
    "duration": 16,
    "start_time": "2022-06-13T20:16:04.121Z"
   },
   {
    "duration": 194,
    "start_time": "2022-06-13T20:16:04.138Z"
   },
   {
    "duration": 153,
    "start_time": "2022-06-13T20:16:04.333Z"
   },
   {
    "duration": 11,
    "start_time": "2022-06-13T20:16:04.488Z"
   },
   {
    "duration": 162,
    "start_time": "2022-06-13T20:16:04.501Z"
   },
   {
    "duration": 4,
    "start_time": "2022-06-13T20:16:04.664Z"
   },
   {
    "duration": 31,
    "start_time": "2022-06-13T20:16:04.670Z"
   },
   {
    "duration": 133,
    "start_time": "2022-06-13T20:16:04.703Z"
   },
   {
    "duration": 1,
    "start_time": "2022-06-13T20:16:04.837Z"
   },
   {
    "duration": 0,
    "start_time": "2022-06-13T20:16:04.838Z"
   },
   {
    "duration": 0,
    "start_time": "2022-06-13T20:16:04.839Z"
   },
   {
    "duration": 24,
    "start_time": "2022-06-13T20:16:22.597Z"
   },
   {
    "duration": 35,
    "start_time": "2022-06-13T20:17:18.980Z"
   },
   {
    "duration": 25,
    "start_time": "2022-06-13T20:17:33.501Z"
   },
   {
    "duration": 25,
    "start_time": "2022-06-13T20:18:12.943Z"
   },
   {
    "duration": 2,
    "start_time": "2022-06-13T20:18:52.277Z"
   },
   {
    "duration": 30,
    "start_time": "2022-06-13T20:18:57.572Z"
   },
   {
    "duration": 25,
    "start_time": "2022-06-13T20:19:01.061Z"
   },
   {
    "duration": 940,
    "start_time": "2022-06-13T20:19:05.443Z"
   },
   {
    "duration": 30,
    "start_time": "2022-06-13T20:19:13.757Z"
   },
   {
    "duration": 67,
    "start_time": "2022-06-13T20:20:06.761Z"
   },
   {
    "duration": 24,
    "start_time": "2022-06-13T20:20:30.798Z"
   },
   {
    "duration": 149,
    "start_time": "2022-06-13T20:21:13.159Z"
   },
   {
    "duration": 199,
    "start_time": "2022-06-13T20:22:05.909Z"
   },
   {
    "duration": 994,
    "start_time": "2022-06-13T20:22:35.018Z"
   },
   {
    "duration": 66,
    "start_time": "2022-06-13T20:22:36.014Z"
   },
   {
    "duration": 20,
    "start_time": "2022-06-13T20:22:36.081Z"
   },
   {
    "duration": 26,
    "start_time": "2022-06-13T20:22:36.102Z"
   },
   {
    "duration": 12,
    "start_time": "2022-06-13T20:22:36.130Z"
   },
   {
    "duration": 35,
    "start_time": "2022-06-13T20:22:36.143Z"
   },
   {
    "duration": 6,
    "start_time": "2022-06-13T20:22:36.180Z"
   },
   {
    "duration": 113,
    "start_time": "2022-06-13T20:22:36.187Z"
   },
   {
    "duration": 12,
    "start_time": "2022-06-13T20:22:36.302Z"
   },
   {
    "duration": 6,
    "start_time": "2022-06-13T20:22:36.315Z"
   },
   {
    "duration": 17,
    "start_time": "2022-06-13T20:22:36.322Z"
   },
   {
    "duration": 8,
    "start_time": "2022-06-13T20:22:36.340Z"
   },
   {
    "duration": 37,
    "start_time": "2022-06-13T20:22:36.349Z"
   },
   {
    "duration": 16,
    "start_time": "2022-06-13T20:22:36.390Z"
   },
   {
    "duration": 9,
    "start_time": "2022-06-13T20:22:36.407Z"
   },
   {
    "duration": 20,
    "start_time": "2022-06-13T20:22:36.418Z"
   },
   {
    "duration": 6,
    "start_time": "2022-06-13T20:22:36.440Z"
   },
   {
    "duration": 30,
    "start_time": "2022-06-13T20:22:36.448Z"
   },
   {
    "duration": 24,
    "start_time": "2022-06-13T20:22:36.480Z"
   },
   {
    "duration": 198,
    "start_time": "2022-06-13T20:22:36.506Z"
   },
   {
    "duration": 177,
    "start_time": "2022-06-13T20:22:36.706Z"
   },
   {
    "duration": 12,
    "start_time": "2022-06-13T20:22:36.884Z"
   },
   {
    "duration": 171,
    "start_time": "2022-06-13T20:22:36.897Z"
   },
   {
    "duration": 8,
    "start_time": "2022-06-13T20:22:37.071Z"
   },
   {
    "duration": 17,
    "start_time": "2022-06-13T20:22:37.080Z"
   },
   {
    "duration": 154,
    "start_time": "2022-06-13T20:22:37.098Z"
   },
   {
    "duration": 116,
    "start_time": "2022-06-13T20:22:37.254Z"
   },
   {
    "duration": 0,
    "start_time": "2022-06-13T20:22:37.372Z"
   },
   {
    "duration": 0,
    "start_time": "2022-06-13T20:22:37.373Z"
   },
   {
    "duration": 145,
    "start_time": "2022-06-13T20:23:45.605Z"
   },
   {
    "duration": 161,
    "start_time": "2022-06-13T20:24:23.093Z"
   },
   {
    "duration": 9,
    "start_time": "2022-06-13T20:24:50.906Z"
   },
   {
    "duration": 198,
    "start_time": "2022-06-13T20:25:05.267Z"
   },
   {
    "duration": 266,
    "start_time": "2022-06-13T20:25:47.810Z"
   },
   {
    "duration": 208,
    "start_time": "2022-06-13T20:25:56.131Z"
   },
   {
    "duration": 280,
    "start_time": "2022-06-13T20:27:29.183Z"
   },
   {
    "duration": 498,
    "start_time": "2022-06-13T20:27:47.723Z"
   },
   {
    "duration": 225,
    "start_time": "2022-06-13T20:28:00.522Z"
   },
   {
    "duration": 34,
    "start_time": "2022-06-13T20:29:22.436Z"
   },
   {
    "duration": 238,
    "start_time": "2022-06-13T20:29:31.917Z"
   },
   {
    "duration": 227,
    "start_time": "2022-06-13T20:31:01.028Z"
   },
   {
    "duration": 223,
    "start_time": "2022-06-13T20:31:31.511Z"
   },
   {
    "duration": 1037,
    "start_time": "2022-06-13T20:32:29.493Z"
   },
   {
    "duration": 64,
    "start_time": "2022-06-13T20:32:30.532Z"
   },
   {
    "duration": 22,
    "start_time": "2022-06-13T20:32:30.598Z"
   },
   {
    "duration": 42,
    "start_time": "2022-06-13T20:32:30.622Z"
   },
   {
    "duration": 15,
    "start_time": "2022-06-13T20:32:30.665Z"
   },
   {
    "duration": 37,
    "start_time": "2022-06-13T20:32:30.681Z"
   },
   {
    "duration": 12,
    "start_time": "2022-06-13T20:32:30.719Z"
   },
   {
    "duration": 126,
    "start_time": "2022-06-13T20:32:30.732Z"
   },
   {
    "duration": 10,
    "start_time": "2022-06-13T20:32:30.860Z"
   },
   {
    "duration": 9,
    "start_time": "2022-06-13T20:32:30.873Z"
   },
   {
    "duration": 73,
    "start_time": "2022-06-13T20:32:30.884Z"
   },
   {
    "duration": 8,
    "start_time": "2022-06-13T20:32:30.958Z"
   },
   {
    "duration": 14,
    "start_time": "2022-06-13T20:32:30.967Z"
   },
   {
    "duration": 20,
    "start_time": "2022-06-13T20:32:30.983Z"
   },
   {
    "duration": 25,
    "start_time": "2022-06-13T20:32:31.005Z"
   },
   {
    "duration": 32,
    "start_time": "2022-06-13T20:32:31.031Z"
   },
   {
    "duration": 13,
    "start_time": "2022-06-13T20:32:31.065Z"
   },
   {
    "duration": 28,
    "start_time": "2022-06-13T20:32:31.080Z"
   },
   {
    "duration": 19,
    "start_time": "2022-06-13T20:32:31.109Z"
   },
   {
    "duration": 181,
    "start_time": "2022-06-13T20:32:31.129Z"
   },
   {
    "duration": 178,
    "start_time": "2022-06-13T20:32:31.311Z"
   },
   {
    "duration": 14,
    "start_time": "2022-06-13T20:32:31.490Z"
   },
   {
    "duration": 164,
    "start_time": "2022-06-13T20:32:31.506Z"
   },
   {
    "duration": 5,
    "start_time": "2022-06-13T20:32:31.678Z"
   },
   {
    "duration": 18,
    "start_time": "2022-06-13T20:32:31.685Z"
   },
   {
    "duration": 100,
    "start_time": "2022-06-13T20:32:31.704Z"
   },
   {
    "duration": 34,
    "start_time": "2022-06-13T20:33:30.445Z"
   },
   {
    "duration": 8,
    "start_time": "2022-06-13T20:34:30.179Z"
   },
   {
    "duration": 26,
    "start_time": "2022-06-13T20:34:31.212Z"
   },
   {
    "duration": 274,
    "start_time": "2022-06-13T20:34:43.198Z"
   },
   {
    "duration": 233,
    "start_time": "2022-06-13T20:34:52.507Z"
   },
   {
    "duration": 243,
    "start_time": "2022-06-13T20:53:01.163Z"
   },
   {
    "duration": 35,
    "start_time": "2022-06-13T21:04:02.743Z"
   },
   {
    "duration": 7,
    "start_time": "2022-06-13T21:04:17.048Z"
   },
   {
    "duration": 305,
    "start_time": "2022-06-13T21:05:01.062Z"
   },
   {
    "duration": 6,
    "start_time": "2022-06-13T21:05:28.750Z"
   },
   {
    "duration": 284,
    "start_time": "2022-06-13T21:05:30.723Z"
   },
   {
    "duration": 297,
    "start_time": "2022-06-13T21:06:00.285Z"
   },
   {
    "duration": 373,
    "start_time": "2022-06-13T21:06:42.989Z"
   },
   {
    "duration": 339,
    "start_time": "2022-06-13T21:08:18.239Z"
   },
   {
    "duration": 362,
    "start_time": "2022-06-13T21:09:21.147Z"
   },
   {
    "duration": 6,
    "start_time": "2022-06-13T21:13:47.052Z"
   },
   {
    "duration": 324,
    "start_time": "2022-06-13T21:13:49.744Z"
   },
   {
    "duration": 403,
    "start_time": "2022-06-13T21:14:03.048Z"
   },
   {
    "duration": 1067,
    "start_time": "2022-06-13T21:16:18.287Z"
   },
   {
    "duration": 61,
    "start_time": "2022-06-13T21:16:19.356Z"
   },
   {
    "duration": 21,
    "start_time": "2022-06-13T21:16:19.418Z"
   },
   {
    "duration": 38,
    "start_time": "2022-06-13T21:16:19.441Z"
   },
   {
    "duration": 13,
    "start_time": "2022-06-13T21:16:19.480Z"
   },
   {
    "duration": 14,
    "start_time": "2022-06-13T21:16:19.495Z"
   },
   {
    "duration": 5,
    "start_time": "2022-06-13T21:16:19.510Z"
   },
   {
    "duration": 130,
    "start_time": "2022-06-13T21:16:19.516Z"
   },
   {
    "duration": 12,
    "start_time": "2022-06-13T21:16:19.647Z"
   },
   {
    "duration": 19,
    "start_time": "2022-06-13T21:16:19.662Z"
   },
   {
    "duration": 20,
    "start_time": "2022-06-13T21:16:19.682Z"
   },
   {
    "duration": 8,
    "start_time": "2022-06-13T21:16:19.703Z"
   },
   {
    "duration": 16,
    "start_time": "2022-06-13T21:16:19.712Z"
   },
   {
    "duration": 13,
    "start_time": "2022-06-13T21:16:19.729Z"
   },
   {
    "duration": 36,
    "start_time": "2022-06-13T21:16:19.744Z"
   },
   {
    "duration": 22,
    "start_time": "2022-06-13T21:16:19.782Z"
   },
   {
    "duration": 8,
    "start_time": "2022-06-13T21:16:19.805Z"
   },
   {
    "duration": 6,
    "start_time": "2022-06-13T21:16:19.815Z"
   },
   {
    "duration": 22,
    "start_time": "2022-06-13T21:16:19.822Z"
   },
   {
    "duration": 204,
    "start_time": "2022-06-13T21:16:19.846Z"
   },
   {
    "duration": 186,
    "start_time": "2022-06-13T21:16:20.052Z"
   },
   {
    "duration": 15,
    "start_time": "2022-06-13T21:16:20.240Z"
   },
   {
    "duration": 179,
    "start_time": "2022-06-13T21:16:20.257Z"
   },
   {
    "duration": 5,
    "start_time": "2022-06-13T21:16:20.437Z"
   },
   {
    "duration": 21,
    "start_time": "2022-06-13T21:16:20.444Z"
   },
   {
    "duration": 276,
    "start_time": "2022-06-13T21:16:20.468Z"
   },
   {
    "duration": 6,
    "start_time": "2022-06-13T21:16:20.746Z"
   },
   {
    "duration": 307,
    "start_time": "2022-06-13T21:16:20.755Z"
   },
   {
    "duration": 317,
    "start_time": "2022-06-13T21:16:21.064Z"
   },
   {
    "duration": 7,
    "start_time": "2022-06-13T21:17:08.947Z"
   },
   {
    "duration": 257,
    "start_time": "2022-06-13T21:17:11.612Z"
   },
   {
    "duration": 256,
    "start_time": "2022-06-13T21:17:17.239Z"
   },
   {
    "duration": 6,
    "start_time": "2022-06-13T21:17:31.027Z"
   },
   {
    "duration": 268,
    "start_time": "2022-06-13T21:17:33.686Z"
   },
   {
    "duration": 6,
    "start_time": "2022-06-13T21:17:46.121Z"
   },
   {
    "duration": 365,
    "start_time": "2022-06-13T21:17:49.407Z"
   },
   {
    "duration": 296,
    "start_time": "2022-06-13T21:17:57.155Z"
   },
   {
    "duration": 7,
    "start_time": "2022-06-13T21:31:20.117Z"
   },
   {
    "duration": 331,
    "start_time": "2022-06-13T21:31:22.475Z"
   },
   {
    "duration": 307,
    "start_time": "2022-06-13T21:32:58.155Z"
   },
   {
    "duration": 7,
    "start_time": "2022-06-13T21:34:17.316Z"
   },
   {
    "duration": 295,
    "start_time": "2022-06-13T21:34:18.024Z"
   },
   {
    "duration": 297,
    "start_time": "2022-06-13T21:34:21.643Z"
   },
   {
    "duration": 5,
    "start_time": "2022-06-13T21:34:40.333Z"
   },
   {
    "duration": 284,
    "start_time": "2022-06-13T21:34:41.475Z"
   },
   {
    "duration": 296,
    "start_time": "2022-06-13T21:34:42.276Z"
   },
   {
    "duration": 269,
    "start_time": "2022-06-13T21:44:22.974Z"
   },
   {
    "duration": 92,
    "start_time": "2022-06-13T21:46:17.471Z"
   },
   {
    "duration": 9,
    "start_time": "2022-06-13T21:46:23.511Z"
   },
   {
    "duration": 3,
    "start_time": "2022-06-13T21:47:53.822Z"
   },
   {
    "duration": 14,
    "start_time": "2022-06-13T21:49:52.647Z"
   },
   {
    "duration": 13,
    "start_time": "2022-06-13T21:50:01.680Z"
   },
   {
    "duration": 14,
    "start_time": "2022-06-13T21:51:25.115Z"
   },
   {
    "duration": 989,
    "start_time": "2022-06-13T21:51:32.625Z"
   },
   {
    "duration": 58,
    "start_time": "2022-06-13T21:51:33.616Z"
   },
   {
    "duration": 20,
    "start_time": "2022-06-13T21:51:33.676Z"
   },
   {
    "duration": 25,
    "start_time": "2022-06-13T21:51:33.697Z"
   },
   {
    "duration": 12,
    "start_time": "2022-06-13T21:51:33.725Z"
   },
   {
    "duration": 13,
    "start_time": "2022-06-13T21:51:33.739Z"
   },
   {
    "duration": 28,
    "start_time": "2022-06-13T21:51:33.754Z"
   },
   {
    "duration": 115,
    "start_time": "2022-06-13T21:51:33.784Z"
   },
   {
    "duration": 11,
    "start_time": "2022-06-13T21:51:33.901Z"
   },
   {
    "duration": 5,
    "start_time": "2022-06-13T21:51:33.913Z"
   },
   {
    "duration": 15,
    "start_time": "2022-06-13T21:51:33.920Z"
   },
   {
    "duration": 7,
    "start_time": "2022-06-13T21:51:33.936Z"
   },
   {
    "duration": 37,
    "start_time": "2022-06-13T21:51:33.945Z"
   },
   {
    "duration": 13,
    "start_time": "2022-06-13T21:51:33.985Z"
   },
   {
    "duration": 7,
    "start_time": "2022-06-13T21:51:34.000Z"
   },
   {
    "duration": 20,
    "start_time": "2022-06-13T21:51:34.009Z"
   },
   {
    "duration": 9,
    "start_time": "2022-06-13T21:51:34.030Z"
   },
   {
    "duration": 5,
    "start_time": "2022-06-13T21:51:34.041Z"
   },
   {
    "duration": 44,
    "start_time": "2022-06-13T21:51:34.048Z"
   },
   {
    "duration": 173,
    "start_time": "2022-06-13T21:51:34.093Z"
   },
   {
    "duration": 295,
    "start_time": "2022-06-13T21:51:34.267Z"
   },
   {
    "duration": 19,
    "start_time": "2022-06-13T21:51:34.564Z"
   },
   {
    "duration": 154,
    "start_time": "2022-06-13T21:51:34.585Z"
   },
   {
    "duration": 4,
    "start_time": "2022-06-13T21:51:34.740Z"
   },
   {
    "duration": 25,
    "start_time": "2022-06-13T21:51:34.745Z"
   },
   {
    "duration": 265,
    "start_time": "2022-06-13T21:51:34.772Z"
   },
   {
    "duration": 6,
    "start_time": "2022-06-13T21:51:35.039Z"
   },
   {
    "duration": 305,
    "start_time": "2022-06-13T21:51:35.046Z"
   },
   {
    "duration": 294,
    "start_time": "2022-06-13T21:51:35.352Z"
   },
   {
    "duration": 301,
    "start_time": "2022-06-13T21:51:35.648Z"
   },
   {
    "duration": 95,
    "start_time": "2022-06-13T21:51:35.951Z"
   },
   {
    "duration": 681,
    "start_time": "2022-06-13T21:56:41.471Z"
   },
   {
    "duration": 453,
    "start_time": "2022-06-13T21:56:57.463Z"
   },
   {
    "duration": 208,
    "start_time": "2022-06-13T21:58:35.222Z"
   },
   {
    "duration": 405,
    "start_time": "2022-06-13T21:58:59.767Z"
   },
   {
    "duration": 383,
    "start_time": "2022-06-13T21:59:07.880Z"
   },
   {
    "duration": 328,
    "start_time": "2022-06-13T22:01:54.513Z"
   },
   {
    "duration": 396,
    "start_time": "2022-06-13T22:02:05.472Z"
   },
   {
    "duration": 475,
    "start_time": "2022-06-13T22:02:13.888Z"
   },
   {
    "duration": 369,
    "start_time": "2022-06-13T22:02:21.305Z"
   },
   {
    "duration": 414,
    "start_time": "2022-06-13T22:03:39.768Z"
   },
   {
    "duration": 455,
    "start_time": "2022-06-13T22:03:53.249Z"
   },
   {
    "duration": 457,
    "start_time": "2022-06-13T22:09:08.372Z"
   },
   {
    "duration": 452,
    "start_time": "2022-06-13T22:09:24.770Z"
   },
   {
    "duration": 541,
    "start_time": "2022-06-13T22:10:30.317Z"
   },
   {
    "duration": 450,
    "start_time": "2022-06-13T22:10:36.975Z"
   },
   {
    "duration": 484,
    "start_time": "2022-06-13T22:11:15.657Z"
   },
   {
    "duration": 32,
    "start_time": "2022-06-13T22:11:50.128Z"
   },
   {
    "duration": 26,
    "start_time": "2022-06-13T22:12:07.038Z"
   },
   {
    "duration": 441,
    "start_time": "2022-06-13T22:12:35.484Z"
   },
   {
    "duration": 471,
    "start_time": "2022-06-13T22:13:03.443Z"
   },
   {
    "duration": 634,
    "start_time": "2022-06-13T22:28:57.842Z"
   },
   {
    "duration": 439,
    "start_time": "2022-06-13T22:30:35.819Z"
   },
   {
    "duration": 1140,
    "start_time": "2022-06-13T22:31:52.361Z"
   },
   {
    "duration": 63,
    "start_time": "2022-06-13T22:31:53.503Z"
   },
   {
    "duration": 26,
    "start_time": "2022-06-13T22:31:53.568Z"
   },
   {
    "duration": 32,
    "start_time": "2022-06-13T22:31:53.596Z"
   },
   {
    "duration": 12,
    "start_time": "2022-06-13T22:31:53.630Z"
   },
   {
    "duration": 24,
    "start_time": "2022-06-13T22:31:53.643Z"
   },
   {
    "duration": 37,
    "start_time": "2022-06-13T22:31:53.668Z"
   },
   {
    "duration": 130,
    "start_time": "2022-06-13T22:31:53.707Z"
   },
   {
    "duration": 16,
    "start_time": "2022-06-13T22:31:53.839Z"
   },
   {
    "duration": 5,
    "start_time": "2022-06-13T22:31:53.859Z"
   },
   {
    "duration": 31,
    "start_time": "2022-06-13T22:31:53.866Z"
   },
   {
    "duration": 15,
    "start_time": "2022-06-13T22:31:53.899Z"
   },
   {
    "duration": 14,
    "start_time": "2022-06-13T22:31:53.916Z"
   },
   {
    "duration": 17,
    "start_time": "2022-06-13T22:31:53.932Z"
   },
   {
    "duration": 30,
    "start_time": "2022-06-13T22:31:53.950Z"
   },
   {
    "duration": 33,
    "start_time": "2022-06-13T22:31:53.982Z"
   },
   {
    "duration": 8,
    "start_time": "2022-06-13T22:31:54.017Z"
   },
   {
    "duration": 4,
    "start_time": "2022-06-13T22:31:54.027Z"
   },
   {
    "duration": 17,
    "start_time": "2022-06-13T22:31:54.033Z"
   },
   {
    "duration": 207,
    "start_time": "2022-06-13T22:31:54.051Z"
   },
   {
    "duration": 294,
    "start_time": "2022-06-13T22:31:54.259Z"
   },
   {
    "duration": 13,
    "start_time": "2022-06-13T22:31:54.555Z"
   },
   {
    "duration": 179,
    "start_time": "2022-06-13T22:31:54.569Z"
   },
   {
    "duration": 5,
    "start_time": "2022-06-13T22:31:54.750Z"
   },
   {
    "duration": 27,
    "start_time": "2022-06-13T22:31:54.756Z"
   },
   {
    "duration": 283,
    "start_time": "2022-06-13T22:31:54.785Z"
   },
   {
    "duration": 7,
    "start_time": "2022-06-13T22:31:55.070Z"
   },
   {
    "duration": 322,
    "start_time": "2022-06-13T22:31:55.090Z"
   },
   {
    "duration": 325,
    "start_time": "2022-06-13T22:31:55.413Z"
   },
   {
    "duration": 343,
    "start_time": "2022-06-13T22:31:55.740Z"
   },
   {
    "duration": 506,
    "start_time": "2022-06-13T22:31:56.088Z"
   },
   {
    "duration": 463,
    "start_time": "2022-06-13T22:31:56.595Z"
   },
   {
    "duration": 1073,
    "start_time": "2022-06-13T22:40:14.104Z"
   },
   {
    "duration": 63,
    "start_time": "2022-06-13T22:40:15.188Z"
   },
   {
    "duration": 20,
    "start_time": "2022-06-13T22:40:15.253Z"
   },
   {
    "duration": 36,
    "start_time": "2022-06-13T22:40:15.275Z"
   },
   {
    "duration": 12,
    "start_time": "2022-06-13T22:40:15.313Z"
   },
   {
    "duration": 14,
    "start_time": "2022-06-13T22:40:15.327Z"
   },
   {
    "duration": 6,
    "start_time": "2022-06-13T22:40:15.342Z"
   },
   {
    "duration": 135,
    "start_time": "2022-06-13T22:40:15.349Z"
   },
   {
    "duration": 21,
    "start_time": "2022-06-13T22:40:15.491Z"
   },
   {
    "duration": 5,
    "start_time": "2022-06-13T22:40:15.514Z"
   },
   {
    "duration": 16,
    "start_time": "2022-06-13T22:40:15.520Z"
   },
   {
    "duration": 7,
    "start_time": "2022-06-13T22:40:15.538Z"
   },
   {
    "duration": 14,
    "start_time": "2022-06-13T22:40:15.546Z"
   },
   {
    "duration": 37,
    "start_time": "2022-06-13T22:40:15.561Z"
   },
   {
    "duration": 9,
    "start_time": "2022-06-13T22:40:15.608Z"
   },
   {
    "duration": 22,
    "start_time": "2022-06-13T22:40:15.618Z"
   },
   {
    "duration": 11,
    "start_time": "2022-06-13T22:40:15.641Z"
   },
   {
    "duration": 5,
    "start_time": "2022-06-13T22:40:15.654Z"
   },
   {
    "duration": 26,
    "start_time": "2022-06-13T22:40:15.660Z"
   },
   {
    "duration": 198,
    "start_time": "2022-06-13T22:40:15.695Z"
   },
   {
    "duration": 289,
    "start_time": "2022-06-13T22:40:15.894Z"
   },
   {
    "duration": 14,
    "start_time": "2022-06-13T22:40:16.186Z"
   },
   {
    "duration": 161,
    "start_time": "2022-06-13T22:40:16.202Z"
   },
   {
    "duration": 4,
    "start_time": "2022-06-13T22:40:16.365Z"
   },
   {
    "duration": 39,
    "start_time": "2022-06-13T22:40:16.370Z"
   },
   {
    "duration": 237,
    "start_time": "2022-06-13T22:40:16.411Z"
   },
   {
    "duration": 6,
    "start_time": "2022-06-13T22:40:16.650Z"
   },
   {
    "duration": 292,
    "start_time": "2022-06-13T22:40:16.658Z"
   },
   {
    "duration": 307,
    "start_time": "2022-06-13T22:40:16.952Z"
   },
   {
    "duration": 344,
    "start_time": "2022-06-13T22:40:17.260Z"
   },
   {
    "duration": 470,
    "start_time": "2022-06-13T22:40:17.607Z"
   },
   {
    "duration": 436,
    "start_time": "2022-06-13T22:40:18.084Z"
   },
   {
    "duration": 49,
    "start_time": "2022-06-14T07:14:26.317Z"
   },
   {
    "duration": 7,
    "start_time": "2022-06-14T07:14:40.767Z"
   },
   {
    "duration": 1350,
    "start_time": "2022-06-14T07:14:47.966Z"
   },
   {
    "duration": 185,
    "start_time": "2022-06-14T07:14:49.318Z"
   },
   {
    "duration": 23,
    "start_time": "2022-06-14T07:14:49.505Z"
   },
   {
    "duration": 31,
    "start_time": "2022-06-14T07:14:49.530Z"
   },
   {
    "duration": 15,
    "start_time": "2022-06-14T07:14:49.563Z"
   },
   {
    "duration": 16,
    "start_time": "2022-06-14T07:14:49.579Z"
   },
   {
    "duration": 7,
    "start_time": "2022-06-14T07:14:49.597Z"
   },
   {
    "duration": 194,
    "start_time": "2022-06-14T07:14:49.607Z"
   },
   {
    "duration": 13,
    "start_time": "2022-06-14T07:14:49.803Z"
   },
   {
    "duration": 5,
    "start_time": "2022-06-14T07:14:49.819Z"
   },
   {
    "duration": 44,
    "start_time": "2022-06-14T07:14:49.826Z"
   },
   {
    "duration": 9,
    "start_time": "2022-06-14T07:14:49.873Z"
   },
   {
    "duration": 16,
    "start_time": "2022-06-14T07:14:49.884Z"
   },
   {
    "duration": 15,
    "start_time": "2022-06-14T07:14:49.902Z"
   },
   {
    "duration": 12,
    "start_time": "2022-06-14T07:14:49.919Z"
   },
   {
    "duration": 24,
    "start_time": "2022-06-14T07:14:49.957Z"
   },
   {
    "duration": 11,
    "start_time": "2022-06-14T07:14:49.983Z"
   },
   {
    "duration": 5,
    "start_time": "2022-06-14T07:14:49.995Z"
   },
   {
    "duration": 19,
    "start_time": "2022-06-14T07:14:50.002Z"
   },
   {
    "duration": 228,
    "start_time": "2022-06-14T07:14:50.023Z"
   },
   {
    "duration": 336,
    "start_time": "2022-06-14T07:14:50.258Z"
   },
   {
    "duration": 13,
    "start_time": "2022-06-14T07:14:50.596Z"
   },
   {
    "duration": 193,
    "start_time": "2022-06-14T07:14:50.610Z"
   },
   {
    "duration": 5,
    "start_time": "2022-06-14T07:14:50.805Z"
   },
   {
    "duration": 13,
    "start_time": "2022-06-14T07:14:50.811Z"
   },
   {
    "duration": 320,
    "start_time": "2022-06-14T07:14:50.826Z"
   },
   {
    "duration": 6,
    "start_time": "2022-06-14T07:14:51.148Z"
   },
   {
    "duration": 340,
    "start_time": "2022-06-14T07:14:51.157Z"
   },
   {
    "duration": 396,
    "start_time": "2022-06-14T07:14:51.499Z"
   },
   {
    "duration": 437,
    "start_time": "2022-06-14T07:14:51.897Z"
   },
   {
    "duration": 587,
    "start_time": "2022-06-14T07:14:52.336Z"
   },
   {
    "duration": 489,
    "start_time": "2022-06-14T07:14:52.925Z"
   },
   {
    "duration": 6,
    "start_time": "2022-06-14T07:15:09.646Z"
   },
   {
    "duration": 14,
    "start_time": "2022-06-14T07:15:32.699Z"
   },
   {
    "duration": 1177,
    "start_time": "2022-06-14T07:15:40.544Z"
   },
   {
    "duration": 69,
    "start_time": "2022-06-14T07:15:41.723Z"
   },
   {
    "duration": 27,
    "start_time": "2022-06-14T07:15:41.794Z"
   },
   {
    "duration": 57,
    "start_time": "2022-06-14T07:15:41.824Z"
   },
   {
    "duration": 20,
    "start_time": "2022-06-14T07:15:41.884Z"
   },
   {
    "duration": 28,
    "start_time": "2022-06-14T07:15:41.906Z"
   },
   {
    "duration": 26,
    "start_time": "2022-06-14T07:15:41.936Z"
   },
   {
    "duration": 189,
    "start_time": "2022-06-14T07:15:41.965Z"
   },
   {
    "duration": 14,
    "start_time": "2022-06-14T07:15:42.156Z"
   },
   {
    "duration": 16,
    "start_time": "2022-06-14T07:15:42.173Z"
   },
   {
    "duration": 61,
    "start_time": "2022-06-14T07:15:42.191Z"
   },
   {
    "duration": 12,
    "start_time": "2022-06-14T07:15:42.253Z"
   },
   {
    "duration": 25,
    "start_time": "2022-06-14T07:15:42.267Z"
   },
   {
    "duration": 15,
    "start_time": "2022-06-14T07:15:42.294Z"
   },
   {
    "duration": 19,
    "start_time": "2022-06-14T07:15:42.311Z"
   },
   {
    "duration": 33,
    "start_time": "2022-06-14T07:15:42.332Z"
   },
   {
    "duration": 15,
    "start_time": "2022-06-14T07:15:42.367Z"
   },
   {
    "duration": 9,
    "start_time": "2022-06-14T07:15:42.384Z"
   },
   {
    "duration": 26,
    "start_time": "2022-06-14T07:15:42.395Z"
   },
   {
    "duration": 220,
    "start_time": "2022-06-14T07:15:42.423Z"
   },
   {
    "duration": 334,
    "start_time": "2022-06-14T07:15:42.645Z"
   },
   {
    "duration": 16,
    "start_time": "2022-06-14T07:15:42.980Z"
   },
   {
    "duration": 222,
    "start_time": "2022-06-14T07:15:42.998Z"
   },
   {
    "duration": 4,
    "start_time": "2022-06-14T07:15:43.222Z"
   },
   {
    "duration": 20,
    "start_time": "2022-06-14T07:15:43.228Z"
   },
   {
    "duration": 327,
    "start_time": "2022-06-14T07:15:43.251Z"
   },
   {
    "duration": 7,
    "start_time": "2022-06-14T07:15:43.580Z"
   },
   {
    "duration": 371,
    "start_time": "2022-06-14T07:15:43.591Z"
   },
   {
    "duration": 413,
    "start_time": "2022-06-14T07:15:43.963Z"
   },
   {
    "duration": 365,
    "start_time": "2022-06-14T07:15:44.378Z"
   },
   {
    "duration": 550,
    "start_time": "2022-06-14T07:15:44.746Z"
   },
   {
    "duration": 512,
    "start_time": "2022-06-14T07:15:45.298Z"
   },
   {
    "duration": 338,
    "start_time": "2022-06-14T07:33:07.641Z"
   },
   {
    "duration": 337,
    "start_time": "2022-06-14T07:33:36.515Z"
   },
   {
    "duration": 7,
    "start_time": "2022-06-14T07:40:02.291Z"
   },
   {
    "duration": 15,
    "start_time": "2022-06-14T07:40:49.076Z"
   },
   {
    "duration": 17,
    "start_time": "2022-06-14T07:41:06.978Z"
   },
   {
    "duration": 15,
    "start_time": "2022-06-14T07:41:26.483Z"
   },
   {
    "duration": 18,
    "start_time": "2022-06-14T07:41:49.774Z"
   },
   {
    "duration": 13,
    "start_time": "2022-06-14T07:42:03.227Z"
   },
   {
    "duration": 1102,
    "start_time": "2022-06-14T07:42:09.205Z"
   },
   {
    "duration": 68,
    "start_time": "2022-06-14T07:42:10.309Z"
   },
   {
    "duration": 24,
    "start_time": "2022-06-14T07:42:10.380Z"
   },
   {
    "duration": 30,
    "start_time": "2022-06-14T07:42:10.407Z"
   },
   {
    "duration": 15,
    "start_time": "2022-06-14T07:42:10.465Z"
   },
   {
    "duration": 20,
    "start_time": "2022-06-14T07:42:10.483Z"
   },
   {
    "duration": 19,
    "start_time": "2022-06-14T07:42:10.505Z"
   },
   {
    "duration": 127,
    "start_time": "2022-06-14T07:42:10.525Z"
   },
   {
    "duration": 21,
    "start_time": "2022-06-14T07:42:10.654Z"
   },
   {
    "duration": 8,
    "start_time": "2022-06-14T07:42:10.678Z"
   },
   {
    "duration": 21,
    "start_time": "2022-06-14T07:42:10.689Z"
   },
   {
    "duration": 10,
    "start_time": "2022-06-14T07:42:10.712Z"
   },
   {
    "duration": 36,
    "start_time": "2022-06-14T07:42:10.725Z"
   },
   {
    "duration": 15,
    "start_time": "2022-06-14T07:42:10.763Z"
   },
   {
    "duration": 23,
    "start_time": "2022-06-14T07:42:10.780Z"
   },
   {
    "duration": 38,
    "start_time": "2022-06-14T07:42:10.805Z"
   },
   {
    "duration": 23,
    "start_time": "2022-06-14T07:42:10.845Z"
   },
   {
    "duration": 6,
    "start_time": "2022-06-14T07:42:10.869Z"
   },
   {
    "duration": 38,
    "start_time": "2022-06-14T07:42:10.877Z"
   },
   {
    "duration": 211,
    "start_time": "2022-06-14T07:42:10.916Z"
   },
   {
    "duration": 350,
    "start_time": "2022-06-14T07:42:11.129Z"
   },
   {
    "duration": 16,
    "start_time": "2022-06-14T07:42:11.481Z"
   },
   {
    "duration": 191,
    "start_time": "2022-06-14T07:42:11.498Z"
   },
   {
    "duration": 4,
    "start_time": "2022-06-14T07:42:11.691Z"
   },
   {
    "duration": 8,
    "start_time": "2022-06-14T07:42:11.697Z"
   },
   {
    "duration": 359,
    "start_time": "2022-06-14T07:42:11.707Z"
   },
   {
    "duration": 6,
    "start_time": "2022-06-14T07:42:12.069Z"
   },
   {
    "duration": 356,
    "start_time": "2022-06-14T07:42:12.080Z"
   },
   {
    "duration": 354,
    "start_time": "2022-06-14T07:42:12.438Z"
   },
   {
    "duration": 15,
    "start_time": "2022-06-14T07:42:12.795Z"
   },
   {
    "duration": 526,
    "start_time": "2022-06-14T07:42:12.812Z"
   },
   {
    "duration": 620,
    "start_time": "2022-06-14T07:42:13.339Z"
   },
   {
    "duration": 15,
    "start_time": "2022-06-14T07:43:40.357Z"
   },
   {
    "duration": 29,
    "start_time": "2022-06-14T07:44:04.029Z"
   },
   {
    "duration": 330,
    "start_time": "2022-06-14T07:46:35.855Z"
   },
   {
    "duration": 192,
    "start_time": "2022-06-14T07:46:42.470Z"
   },
   {
    "duration": 18,
    "start_time": "2022-06-14T07:47:43.054Z"
   },
   {
    "duration": 16,
    "start_time": "2022-06-14T07:48:26.896Z"
   },
   {
    "duration": 110,
    "start_time": "2022-06-14T07:50:47.611Z"
   },
   {
    "duration": 26,
    "start_time": "2022-06-14T07:51:22.165Z"
   },
   {
    "duration": 497,
    "start_time": "2022-06-14T07:51:24.921Z"
   },
   {
    "duration": 1338,
    "start_time": "2022-06-14T07:51:36.741Z"
   },
   {
    "duration": 75,
    "start_time": "2022-06-14T07:51:38.088Z"
   },
   {
    "duration": 29,
    "start_time": "2022-06-14T07:51:38.165Z"
   },
   {
    "duration": 35,
    "start_time": "2022-06-14T07:51:38.197Z"
   },
   {
    "duration": 39,
    "start_time": "2022-06-14T07:51:38.234Z"
   },
   {
    "duration": 33,
    "start_time": "2022-06-14T07:51:38.275Z"
   },
   {
    "duration": 9,
    "start_time": "2022-06-14T07:51:38.311Z"
   },
   {
    "duration": 184,
    "start_time": "2022-06-14T07:51:38.322Z"
   },
   {
    "duration": 17,
    "start_time": "2022-06-14T07:51:38.508Z"
   },
   {
    "duration": 7,
    "start_time": "2022-06-14T07:51:38.529Z"
   },
   {
    "duration": 47,
    "start_time": "2022-06-14T07:51:38.538Z"
   },
   {
    "duration": 13,
    "start_time": "2022-06-14T07:51:38.588Z"
   },
   {
    "duration": 18,
    "start_time": "2022-06-14T07:51:38.602Z"
   },
   {
    "duration": 15,
    "start_time": "2022-06-14T07:51:38.622Z"
   },
   {
    "duration": 26,
    "start_time": "2022-06-14T07:51:38.638Z"
   },
   {
    "duration": 27,
    "start_time": "2022-06-14T07:51:38.666Z"
   },
   {
    "duration": 10,
    "start_time": "2022-06-14T07:51:38.695Z"
   },
   {
    "duration": 7,
    "start_time": "2022-06-14T07:51:38.707Z"
   },
   {
    "duration": 56,
    "start_time": "2022-06-14T07:51:38.715Z"
   },
   {
    "duration": 262,
    "start_time": "2022-06-14T07:51:38.775Z"
   },
   {
    "duration": 450,
    "start_time": "2022-06-14T07:51:39.040Z"
   },
   {
    "duration": 21,
    "start_time": "2022-06-14T07:51:39.493Z"
   },
   {
    "duration": 237,
    "start_time": "2022-06-14T07:51:39.517Z"
   },
   {
    "duration": 10,
    "start_time": "2022-06-14T07:51:39.756Z"
   },
   {
    "duration": 30,
    "start_time": "2022-06-14T07:51:39.771Z"
   },
   {
    "duration": 347,
    "start_time": "2022-06-14T07:51:39.803Z"
   },
   {
    "duration": 17,
    "start_time": "2022-06-14T07:51:40.152Z"
   },
   {
    "duration": 447,
    "start_time": "2022-06-14T07:51:40.180Z"
   },
   {
    "duration": 461,
    "start_time": "2022-06-14T07:51:40.629Z"
   },
   {
    "duration": 22,
    "start_time": "2022-06-14T07:51:41.092Z"
   },
   {
    "duration": 521,
    "start_time": "2022-06-14T07:51:41.116Z"
   },
   {
    "duration": 698,
    "start_time": "2022-06-14T07:51:41.641Z"
   },
   {
    "duration": 530,
    "start_time": "2022-06-14T07:51:55.404Z"
   },
   {
    "duration": 5,
    "start_time": "2022-06-14T07:55:00.005Z"
   },
   {
    "duration": 486,
    "start_time": "2022-06-14T07:55:08.527Z"
   },
   {
    "duration": 568,
    "start_time": "2022-06-14T07:55:14.309Z"
   },
   {
    "duration": 464,
    "start_time": "2022-06-14T07:57:10.546Z"
   },
   {
    "duration": 559,
    "start_time": "2022-06-14T07:57:47.493Z"
   },
   {
    "duration": 26,
    "start_time": "2022-06-14T08:00:59.160Z"
   },
   {
    "duration": 523,
    "start_time": "2022-06-14T08:02:03.722Z"
   },
   {
    "duration": 563,
    "start_time": "2022-06-14T08:52:10.429Z"
   },
   {
    "duration": 503,
    "start_time": "2022-06-14T08:57:02.983Z"
   },
   {
    "duration": 618,
    "start_time": "2022-06-14T08:57:16.155Z"
   },
   {
    "duration": 372,
    "start_time": "2022-06-14T09:00:57.504Z"
   },
   {
    "duration": 643,
    "start_time": "2022-06-14T09:06:22.782Z"
   },
   {
    "duration": 571,
    "start_time": "2022-06-14T09:08:21.616Z"
   },
   {
    "duration": 404,
    "start_time": "2022-06-14T09:09:28.314Z"
   },
   {
    "duration": 491,
    "start_time": "2022-06-14T09:12:28.033Z"
   },
   {
    "duration": 585,
    "start_time": "2022-06-14T09:12:40.042Z"
   },
   {
    "duration": 509,
    "start_time": "2022-06-14T09:12:48.921Z"
   },
   {
    "duration": 453,
    "start_time": "2022-06-14T09:13:02.993Z"
   },
   {
    "duration": 603,
    "start_time": "2022-06-14T09:13:22.731Z"
   },
   {
    "duration": 453,
    "start_time": "2022-06-14T09:13:27.954Z"
   },
   {
    "duration": 504,
    "start_time": "2022-06-14T09:14:15.277Z"
   },
   {
    "duration": 1176,
    "start_time": "2022-06-14T09:17:12.366Z"
   },
   {
    "duration": 72,
    "start_time": "2022-06-14T09:17:13.544Z"
   },
   {
    "duration": 22,
    "start_time": "2022-06-14T09:17:13.617Z"
   },
   {
    "duration": 40,
    "start_time": "2022-06-14T09:17:13.641Z"
   },
   {
    "duration": 16,
    "start_time": "2022-06-14T09:17:13.684Z"
   },
   {
    "duration": 22,
    "start_time": "2022-06-14T09:17:13.702Z"
   },
   {
    "duration": 5,
    "start_time": "2022-06-14T09:17:13.726Z"
   },
   {
    "duration": 169,
    "start_time": "2022-06-14T09:17:13.733Z"
   },
   {
    "duration": 15,
    "start_time": "2022-06-14T09:17:13.904Z"
   },
   {
    "duration": 5,
    "start_time": "2022-06-14T09:17:13.921Z"
   },
   {
    "duration": 46,
    "start_time": "2022-06-14T09:17:13.928Z"
   },
   {
    "duration": 12,
    "start_time": "2022-06-14T09:17:13.975Z"
   },
   {
    "duration": 18,
    "start_time": "2022-06-14T09:17:13.990Z"
   },
   {
    "duration": 24,
    "start_time": "2022-06-14T09:17:14.010Z"
   },
   {
    "duration": 31,
    "start_time": "2022-06-14T09:17:14.036Z"
   },
   {
    "duration": 27,
    "start_time": "2022-06-14T09:17:14.073Z"
   },
   {
    "duration": 12,
    "start_time": "2022-06-14T09:17:14.102Z"
   },
   {
    "duration": 7,
    "start_time": "2022-06-14T09:17:14.115Z"
   },
   {
    "duration": 51,
    "start_time": "2022-06-14T09:17:14.125Z"
   },
   {
    "duration": 217,
    "start_time": "2022-06-14T09:17:14.178Z"
   },
   {
    "duration": 351,
    "start_time": "2022-06-14T09:17:14.397Z"
   },
   {
    "duration": 21,
    "start_time": "2022-06-14T09:17:14.760Z"
   },
   {
    "duration": 202,
    "start_time": "2022-06-14T09:17:14.783Z"
   },
   {
    "duration": 5,
    "start_time": "2022-06-14T09:17:14.987Z"
   },
   {
    "duration": 9,
    "start_time": "2022-06-14T09:17:14.994Z"
   },
   {
    "duration": 317,
    "start_time": "2022-06-14T09:17:15.005Z"
   },
   {
    "duration": 7,
    "start_time": "2022-06-14T09:17:15.324Z"
   },
   {
    "duration": 361,
    "start_time": "2022-06-14T09:17:15.332Z"
   },
   {
    "duration": 384,
    "start_time": "2022-06-14T09:17:15.695Z"
   },
   {
    "duration": 19,
    "start_time": "2022-06-14T09:17:16.082Z"
   },
   {
    "duration": 568,
    "start_time": "2022-06-14T09:17:16.104Z"
   },
   {
    "duration": 19,
    "start_time": "2022-06-14T09:17:53.237Z"
   },
   {
    "duration": 162,
    "start_time": "2022-06-14T09:25:18.072Z"
   },
   {
    "duration": 8,
    "start_time": "2022-06-14T09:25:59.339Z"
   },
   {
    "duration": 33,
    "start_time": "2022-06-14T09:26:21.850Z"
   },
   {
    "duration": 39,
    "start_time": "2022-06-14T09:28:49.448Z"
   },
   {
    "duration": 12,
    "start_time": "2022-06-14T09:29:49.807Z"
   },
   {
    "duration": 42,
    "start_time": "2022-06-14T09:30:40.203Z"
   },
   {
    "duration": 10,
    "start_time": "2022-06-14T09:30:49.346Z"
   },
   {
    "duration": 13,
    "start_time": "2022-06-14T09:30:59.681Z"
   },
   {
    "duration": 13,
    "start_time": "2022-06-14T09:32:24.408Z"
   },
   {
    "duration": 2703,
    "start_time": "2022-06-14T09:32:51.214Z"
   },
   {
    "duration": 2845,
    "start_time": "2022-06-14T09:33:19.978Z"
   },
   {
    "duration": 2884,
    "start_time": "2022-06-14T09:36:05.507Z"
   },
   {
    "duration": 2565,
    "start_time": "2022-06-14T09:36:31.229Z"
   },
   {
    "duration": 2434,
    "start_time": "2022-06-14T09:37:15.585Z"
   },
   {
    "duration": 2502,
    "start_time": "2022-06-14T09:37:26.603Z"
   },
   {
    "duration": 2161,
    "start_time": "2022-06-14T09:37:51.576Z"
   },
   {
    "duration": 2438,
    "start_time": "2022-06-14T09:38:06.775Z"
   },
   {
    "duration": 2391,
    "start_time": "2022-06-14T09:38:24.966Z"
   },
   {
    "duration": 2402,
    "start_time": "2022-06-14T09:39:48.171Z"
   },
   {
    "duration": 22,
    "start_time": "2022-06-14T10:06:32.796Z"
   },
   {
    "duration": 292,
    "start_time": "2022-06-14T10:07:14.446Z"
   },
   {
    "duration": 372,
    "start_time": "2022-06-14T10:08:53.892Z"
   },
   {
    "duration": 208,
    "start_time": "2022-06-14T10:11:57.192Z"
   },
   {
    "duration": 288,
    "start_time": "2022-06-14T10:12:06.607Z"
   },
   {
    "duration": 202,
    "start_time": "2022-06-14T10:12:11.444Z"
   },
   {
    "duration": 216,
    "start_time": "2022-06-14T10:12:22.453Z"
   },
   {
    "duration": 245,
    "start_time": "2022-06-14T10:13:56.843Z"
   },
   {
    "duration": 236,
    "start_time": "2022-06-14T10:14:02.518Z"
   },
   {
    "duration": 213,
    "start_time": "2022-06-14T10:14:20.102Z"
   },
   {
    "duration": 203,
    "start_time": "2022-06-14T10:14:25.399Z"
   },
   {
    "duration": 863,
    "start_time": "2022-06-14T10:16:32.424Z"
   },
   {
    "duration": 385,
    "start_time": "2022-06-14T10:16:46.808Z"
   },
   {
    "duration": 392,
    "start_time": "2022-06-14T10:18:23.832Z"
   },
   {
    "duration": 72,
    "start_time": "2022-06-14T10:21:30.218Z"
   },
   {
    "duration": 774,
    "start_time": "2022-06-14T10:21:37.234Z"
   },
   {
    "duration": 496,
    "start_time": "2022-06-14T10:22:03.805Z"
   },
   {
    "duration": 392,
    "start_time": "2022-06-14T10:22:19.132Z"
   },
   {
    "duration": 431,
    "start_time": "2022-06-14T10:22:50.620Z"
   },
   {
    "duration": 413,
    "start_time": "2022-06-14T10:23:04.292Z"
   },
   {
    "duration": 173,
    "start_time": "2022-06-14T10:23:46.125Z"
   },
   {
    "duration": 395,
    "start_time": "2022-06-14T10:23:52.377Z"
   },
   {
    "duration": 375,
    "start_time": "2022-06-14T10:24:03.531Z"
   },
   {
    "duration": 403,
    "start_time": "2022-06-14T10:24:11.947Z"
   },
   {
    "duration": 349,
    "start_time": "2022-06-14T10:25:24.347Z"
   },
   {
    "duration": 53,
    "start_time": "2022-06-14T10:26:06.636Z"
   },
   {
    "duration": 356,
    "start_time": "2022-06-14T10:26:13.886Z"
   },
   {
    "duration": 389,
    "start_time": "2022-06-14T10:26:28.516Z"
   },
   {
    "duration": 407,
    "start_time": "2022-06-14T10:26:36.242Z"
   },
   {
    "duration": 454,
    "start_time": "2022-06-14T10:33:37.120Z"
   },
   {
    "duration": 1355,
    "start_time": "2022-06-14T10:37:30.097Z"
   },
   {
    "duration": 70,
    "start_time": "2022-06-14T10:37:31.454Z"
   },
   {
    "duration": 23,
    "start_time": "2022-06-14T10:37:31.527Z"
   },
   {
    "duration": 52,
    "start_time": "2022-06-14T10:37:31.553Z"
   },
   {
    "duration": 15,
    "start_time": "2022-06-14T10:37:31.607Z"
   },
   {
    "duration": 23,
    "start_time": "2022-06-14T10:37:31.625Z"
   },
   {
    "duration": 12,
    "start_time": "2022-06-14T10:37:31.651Z"
   },
   {
    "duration": 188,
    "start_time": "2022-06-14T10:37:31.665Z"
   },
   {
    "duration": 21,
    "start_time": "2022-06-14T10:37:31.854Z"
   },
   {
    "duration": 32,
    "start_time": "2022-06-14T10:37:31.878Z"
   },
   {
    "duration": 32,
    "start_time": "2022-06-14T10:37:31.912Z"
   },
   {
    "duration": 11,
    "start_time": "2022-06-14T10:37:31.945Z"
   },
   {
    "duration": 52,
    "start_time": "2022-06-14T10:37:31.958Z"
   },
   {
    "duration": 15,
    "start_time": "2022-06-14T10:37:32.012Z"
   },
   {
    "duration": 21,
    "start_time": "2022-06-14T10:37:32.029Z"
   },
   {
    "duration": 32,
    "start_time": "2022-06-14T10:37:32.052Z"
   },
   {
    "duration": 20,
    "start_time": "2022-06-14T10:37:32.088Z"
   },
   {
    "duration": 22,
    "start_time": "2022-06-14T10:37:32.110Z"
   },
   {
    "duration": 83,
    "start_time": "2022-06-14T10:37:32.134Z"
   },
   {
    "duration": 578,
    "start_time": "2022-06-14T10:37:32.220Z"
   },
   {
    "duration": 383,
    "start_time": "2022-06-14T10:37:32.800Z"
   },
   {
    "duration": 22,
    "start_time": "2022-06-14T10:37:33.184Z"
   },
   {
    "duration": 224,
    "start_time": "2022-06-14T10:37:33.208Z"
   },
   {
    "duration": 6,
    "start_time": "2022-06-14T10:37:33.434Z"
   },
   {
    "duration": 22,
    "start_time": "2022-06-14T10:37:33.442Z"
   },
   {
    "duration": 355,
    "start_time": "2022-06-14T10:37:33.467Z"
   },
   {
    "duration": 6,
    "start_time": "2022-06-14T10:37:33.824Z"
   },
   {
    "duration": 447,
    "start_time": "2022-06-14T10:37:33.834Z"
   },
   {
    "duration": 428,
    "start_time": "2022-06-14T10:37:34.283Z"
   },
   {
    "duration": 19,
    "start_time": "2022-06-14T10:37:34.713Z"
   },
   {
    "duration": 653,
    "start_time": "2022-06-14T10:37:34.734Z"
   },
   {
    "duration": 30,
    "start_time": "2022-06-14T10:37:35.396Z"
   },
   {
    "duration": 2665,
    "start_time": "2022-06-14T10:37:35.428Z"
   },
   {
    "duration": 385,
    "start_time": "2022-06-14T10:37:38.095Z"
   },
   {
    "duration": 392,
    "start_time": "2022-06-14T10:38:34.919Z"
   },
   {
    "duration": 390,
    "start_time": "2022-06-14T10:38:48.800Z"
   },
   {
    "duration": 127,
    "start_time": "2022-06-14T11:03:24.345Z"
   },
   {
    "duration": 8,
    "start_time": "2022-06-14T11:04:09.875Z"
   },
   {
    "duration": 23,
    "start_time": "2022-06-14T11:06:23.784Z"
   },
   {
    "duration": 41,
    "start_time": "2022-06-14T11:06:29.946Z"
   },
   {
    "duration": 19,
    "start_time": "2022-06-14T11:07:03.901Z"
   },
   {
    "duration": 24,
    "start_time": "2022-06-14T11:07:26.045Z"
   },
   {
    "duration": 599,
    "start_time": "2022-06-14T11:07:38.299Z"
   },
   {
    "duration": 200,
    "start_time": "2022-06-14T11:07:45.556Z"
   },
   {
    "duration": 388,
    "start_time": "2022-06-14T11:08:31.620Z"
   },
   {
    "duration": 369,
    "start_time": "2022-06-14T11:09:03.388Z"
   },
   {
    "duration": 22,
    "start_time": "2022-06-14T11:09:22.672Z"
   },
   {
    "duration": 322,
    "start_time": "2022-06-14T11:11:12.718Z"
   },
   {
    "duration": 518,
    "start_time": "2022-06-14T11:11:33.100Z"
   },
   {
    "duration": 380,
    "start_time": "2022-06-14T11:11:44.185Z"
   },
   {
    "duration": 165,
    "start_time": "2022-06-14T11:13:16.949Z"
   },
   {
    "duration": 156,
    "start_time": "2022-06-14T11:13:28.477Z"
   },
   {
    "duration": 375,
    "start_time": "2022-06-14T11:16:09.378Z"
   },
   {
    "duration": 359,
    "start_time": "2022-06-14T11:16:49.571Z"
   },
   {
    "duration": 362,
    "start_time": "2022-06-14T11:18:04.093Z"
   },
   {
    "duration": 403,
    "start_time": "2022-06-14T11:18:36.081Z"
   },
   {
    "duration": 318,
    "start_time": "2022-06-14T11:18:43.282Z"
   },
   {
    "duration": 324,
    "start_time": "2022-06-14T11:19:07.185Z"
   },
   {
    "duration": 341,
    "start_time": "2022-06-14T11:19:18.289Z"
   },
   {
    "duration": 317,
    "start_time": "2022-06-14T11:19:32.097Z"
   },
   {
    "duration": 290,
    "start_time": "2022-06-14T11:19:52.456Z"
   },
   {
    "duration": 293,
    "start_time": "2022-06-14T11:20:04.684Z"
   },
   {
    "duration": 342,
    "start_time": "2022-06-14T11:20:11.840Z"
   },
   {
    "duration": 286,
    "start_time": "2022-06-14T11:20:19.834Z"
   },
   {
    "duration": 35,
    "start_time": "2022-06-14T11:20:58.669Z"
   },
   {
    "duration": 392,
    "start_time": "2022-06-14T11:21:12.582Z"
   },
   {
    "duration": 608,
    "start_time": "2022-06-14T11:21:27.015Z"
   },
   {
    "duration": 425,
    "start_time": "2022-06-14T11:21:35.782Z"
   },
   {
    "duration": 422,
    "start_time": "2022-06-14T11:21:43.728Z"
   },
   {
    "duration": 398,
    "start_time": "2022-06-14T11:21:51.984Z"
   },
   {
    "duration": 370,
    "start_time": "2022-06-14T11:22:07.704Z"
   },
   {
    "duration": 384,
    "start_time": "2022-06-14T11:22:15.305Z"
   },
   {
    "duration": 281,
    "start_time": "2022-06-14T11:22:30.927Z"
   },
   {
    "duration": 280,
    "start_time": "2022-06-14T11:22:51.001Z"
   },
   {
    "duration": 273,
    "start_time": "2022-06-14T11:22:57.774Z"
   },
   {
    "duration": 296,
    "start_time": "2022-06-14T11:23:06.706Z"
   },
   {
    "duration": 14,
    "start_time": "2022-06-14T11:48:01.027Z"
   },
   {
    "duration": 21,
    "start_time": "2022-06-14T11:49:37.850Z"
   },
   {
    "duration": 310,
    "start_time": "2022-06-14T11:49:52.866Z"
   },
   {
    "duration": 297,
    "start_time": "2022-06-14T11:50:03.929Z"
   },
   {
    "duration": 305,
    "start_time": "2022-06-14T11:50:13.971Z"
   },
   {
    "duration": 166,
    "start_time": "2022-06-14T11:53:21.340Z"
   },
   {
    "duration": 304,
    "start_time": "2022-06-14T11:54:22.170Z"
   },
   {
    "duration": 293,
    "start_time": "2022-06-14T11:54:35.775Z"
   },
   {
    "duration": 325,
    "start_time": "2022-06-14T11:55:42.406Z"
   },
   {
    "duration": 185,
    "start_time": "2022-06-14T11:57:23.820Z"
   },
   {
    "duration": 425,
    "start_time": "2022-06-14T11:57:50.806Z"
   },
   {
    "duration": 30,
    "start_time": "2022-06-14T11:58:05.843Z"
   },
   {
    "duration": 206,
    "start_time": "2022-06-14T11:58:11.679Z"
   },
   {
    "duration": 308,
    "start_time": "2022-06-14T11:58:43.042Z"
   },
   {
    "duration": 320,
    "start_time": "2022-06-14T11:58:51.017Z"
   },
   {
    "duration": 303,
    "start_time": "2022-06-14T11:59:07.177Z"
   },
   {
    "duration": 300,
    "start_time": "2022-06-14T11:59:59.879Z"
   },
   {
    "duration": 39,
    "start_time": "2022-06-14T12:01:30.780Z"
   },
   {
    "duration": 12,
    "start_time": "2022-06-14T12:01:44.881Z"
   },
   {
    "duration": 4,
    "start_time": "2022-06-14T12:03:08.105Z"
   },
   {
    "duration": 1217,
    "start_time": "2022-06-14T12:03:14.029Z"
   },
   {
    "duration": 78,
    "start_time": "2022-06-14T12:03:15.248Z"
   },
   {
    "duration": 20,
    "start_time": "2022-06-14T12:03:15.328Z"
   },
   {
    "duration": 36,
    "start_time": "2022-06-14T12:03:15.351Z"
   },
   {
    "duration": 15,
    "start_time": "2022-06-14T12:03:15.389Z"
   },
   {
    "duration": 19,
    "start_time": "2022-06-14T12:03:15.406Z"
   },
   {
    "duration": 7,
    "start_time": "2022-06-14T12:03:15.427Z"
   },
   {
    "duration": 167,
    "start_time": "2022-06-14T12:03:15.436Z"
   },
   {
    "duration": 14,
    "start_time": "2022-06-14T12:03:15.605Z"
   },
   {
    "duration": 19,
    "start_time": "2022-06-14T12:03:15.621Z"
   },
   {
    "duration": 32,
    "start_time": "2022-06-14T12:03:15.642Z"
   },
   {
    "duration": 15,
    "start_time": "2022-06-14T12:03:15.676Z"
   },
   {
    "duration": 18,
    "start_time": "2022-06-14T12:03:15.693Z"
   },
   {
    "duration": 15,
    "start_time": "2022-06-14T12:03:15.713Z"
   },
   {
    "duration": 14,
    "start_time": "2022-06-14T12:03:15.729Z"
   },
   {
    "duration": 32,
    "start_time": "2022-06-14T12:03:15.760Z"
   },
   {
    "duration": 12,
    "start_time": "2022-06-14T12:03:15.794Z"
   },
   {
    "duration": 6,
    "start_time": "2022-06-14T12:03:15.809Z"
   },
   {
    "duration": 27,
    "start_time": "2022-06-14T12:03:15.816Z"
   },
   {
    "duration": 436,
    "start_time": "2022-06-14T12:03:15.845Z"
   },
   {
    "duration": 356,
    "start_time": "2022-06-14T12:03:16.283Z"
   },
   {
    "duration": 30,
    "start_time": "2022-06-14T12:03:16.642Z"
   },
   {
    "duration": 183,
    "start_time": "2022-06-14T12:03:16.675Z"
   },
   {
    "duration": 8,
    "start_time": "2022-06-14T12:03:16.867Z"
   },
   {
    "duration": 13,
    "start_time": "2022-06-14T12:03:16.877Z"
   },
   {
    "duration": 302,
    "start_time": "2022-06-14T12:03:16.892Z"
   },
   {
    "duration": 6,
    "start_time": "2022-06-14T12:03:17.197Z"
   },
   {
    "duration": 373,
    "start_time": "2022-06-14T12:03:17.206Z"
   },
   {
    "duration": 360,
    "start_time": "2022-06-14T12:03:17.582Z"
   },
   {
    "duration": 27,
    "start_time": "2022-06-14T12:03:17.944Z"
   },
   {
    "duration": 568,
    "start_time": "2022-06-14T12:03:17.973Z"
   },
   {
    "duration": 38,
    "start_time": "2022-06-14T12:03:18.543Z"
   },
   {
    "duration": 2270,
    "start_time": "2022-06-14T12:03:18.582Z"
   },
   {
    "duration": 331,
    "start_time": "2022-06-14T12:03:20.856Z"
   },
   {
    "duration": 430,
    "start_time": "2022-06-14T12:03:21.190Z"
   },
   {
    "duration": 285,
    "start_time": "2022-06-14T12:03:27.883Z"
   },
   {
    "duration": 173,
    "start_time": "2022-06-14T12:03:48.246Z"
   },
   {
    "duration": 292,
    "start_time": "2022-06-14T12:03:55.230Z"
   },
   {
    "duration": 46,
    "start_time": "2022-06-14T12:06:41.292Z"
   },
   {
    "duration": 27,
    "start_time": "2022-06-14T12:06:59.477Z"
   },
   {
    "duration": 290,
    "start_time": "2022-06-14T12:07:14.358Z"
   },
   {
    "duration": 273,
    "start_time": "2022-06-14T12:07:24.134Z"
   },
   {
    "duration": 1139,
    "start_time": "2022-06-14T12:33:30.485Z"
   },
   {
    "duration": 66,
    "start_time": "2022-06-14T12:33:31.627Z"
   },
   {
    "duration": 20,
    "start_time": "2022-06-14T12:33:31.695Z"
   },
   {
    "duration": 45,
    "start_time": "2022-06-14T12:33:31.717Z"
   },
   {
    "duration": 15,
    "start_time": "2022-06-14T12:33:31.763Z"
   },
   {
    "duration": 22,
    "start_time": "2022-06-14T12:33:31.780Z"
   },
   {
    "duration": 42,
    "start_time": "2022-06-14T12:33:31.804Z"
   },
   {
    "duration": 170,
    "start_time": "2022-06-14T12:33:31.848Z"
   },
   {
    "duration": 20,
    "start_time": "2022-06-14T12:33:32.021Z"
   },
   {
    "duration": 20,
    "start_time": "2022-06-14T12:33:32.044Z"
   },
   {
    "duration": 28,
    "start_time": "2022-06-14T12:33:32.066Z"
   },
   {
    "duration": 36,
    "start_time": "2022-06-14T12:33:32.097Z"
   },
   {
    "duration": 25,
    "start_time": "2022-06-14T12:33:32.135Z"
   },
   {
    "duration": 30,
    "start_time": "2022-06-14T12:33:32.162Z"
   },
   {
    "duration": 19,
    "start_time": "2022-06-14T12:33:32.194Z"
   },
   {
    "duration": 69,
    "start_time": "2022-06-14T12:33:32.215Z"
   },
   {
    "duration": 19,
    "start_time": "2022-06-14T12:33:32.287Z"
   },
   {
    "duration": 13,
    "start_time": "2022-06-14T12:33:32.308Z"
   },
   {
    "duration": 28,
    "start_time": "2022-06-14T12:33:32.323Z"
   },
   {
    "duration": 418,
    "start_time": "2022-06-14T12:33:32.352Z"
   },
   {
    "duration": 380,
    "start_time": "2022-06-14T12:33:32.773Z"
   },
   {
    "duration": 14,
    "start_time": "2022-06-14T12:33:33.158Z"
   },
   {
    "duration": 183,
    "start_time": "2022-06-14T12:33:33.173Z"
   },
   {
    "duration": 4,
    "start_time": "2022-06-14T12:33:33.361Z"
   },
   {
    "duration": 10,
    "start_time": "2022-06-14T12:33:33.367Z"
   },
   {
    "duration": 315,
    "start_time": "2022-06-14T12:33:33.379Z"
   },
   {
    "duration": 7,
    "start_time": "2022-06-14T12:33:33.697Z"
   },
   {
    "duration": 385,
    "start_time": "2022-06-14T12:33:33.707Z"
   },
   {
    "duration": 369,
    "start_time": "2022-06-14T12:33:34.094Z"
   },
   {
    "duration": 18,
    "start_time": "2022-06-14T12:33:34.464Z"
   },
   {
    "duration": 558,
    "start_time": "2022-06-14T12:33:34.484Z"
   },
   {
    "duration": 23,
    "start_time": "2022-06-14T12:33:35.043Z"
   },
   {
    "duration": 2179,
    "start_time": "2022-06-14T12:33:35.067Z"
   },
   {
    "duration": 326,
    "start_time": "2022-06-14T12:33:37.248Z"
   },
   {
    "duration": 276,
    "start_time": "2022-06-14T12:33:37.576Z"
   },
   {
    "duration": 12,
    "start_time": "2022-06-14T12:42:07.898Z"
   },
   {
    "duration": 23,
    "start_time": "2022-06-14T12:42:26.364Z"
   },
   {
    "duration": 32,
    "start_time": "2022-06-14T12:43:20.898Z"
   },
   {
    "duration": 23,
    "start_time": "2022-06-14T12:43:49.323Z"
   },
   {
    "duration": 15,
    "start_time": "2022-06-14T12:44:29.267Z"
   },
   {
    "duration": 15,
    "start_time": "2022-06-14T12:44:38.580Z"
   },
   {
    "duration": 24,
    "start_time": "2022-06-14T12:45:12.267Z"
   },
   {
    "duration": 20,
    "start_time": "2022-06-14T12:45:15.149Z"
   },
   {
    "duration": 7,
    "start_time": "2022-06-14T12:46:27.387Z"
   },
   {
    "duration": 9,
    "start_time": "2022-06-14T12:51:28.846Z"
   },
   {
    "duration": 122,
    "start_time": "2022-06-14T12:53:27.824Z"
   },
   {
    "duration": 21,
    "start_time": "2022-06-14T12:53:29.775Z"
   },
   {
    "duration": 18,
    "start_time": "2022-06-14T12:53:31.696Z"
   },
   {
    "duration": 19,
    "start_time": "2022-06-14T12:54:01.607Z"
   },
   {
    "duration": 15,
    "start_time": "2022-06-14T12:54:02.310Z"
   },
   {
    "duration": 19,
    "start_time": "2022-06-14T13:02:49.884Z"
   },
   {
    "duration": 30,
    "start_time": "2022-06-14T13:03:59.187Z"
   },
   {
    "duration": 23,
    "start_time": "2022-06-14T13:04:04.761Z"
   },
   {
    "duration": 30,
    "start_time": "2022-06-14T13:20:13.307Z"
   },
   {
    "duration": 20,
    "start_time": "2022-06-14T13:22:43.191Z"
   },
   {
    "duration": 15,
    "start_time": "2022-06-14T13:23:41.225Z"
   },
   {
    "duration": 146,
    "start_time": "2022-06-14T13:23:49.737Z"
   },
   {
    "duration": 146,
    "start_time": "2022-06-14T13:24:34.666Z"
   },
   {
    "duration": 159,
    "start_time": "2022-06-14T13:25:08.724Z"
   },
   {
    "duration": 154,
    "start_time": "2022-06-14T13:25:26.852Z"
   },
   {
    "duration": 17,
    "start_time": "2022-06-14T13:25:57.684Z"
   },
   {
    "duration": 148,
    "start_time": "2022-06-14T13:26:54.021Z"
   },
   {
    "duration": 150,
    "start_time": "2022-06-14T13:27:05.419Z"
   },
   {
    "duration": 144,
    "start_time": "2022-06-14T13:27:37.308Z"
   },
   {
    "duration": 1142,
    "start_time": "2022-06-14T13:27:44.663Z"
   },
   {
    "duration": 66,
    "start_time": "2022-06-14T13:27:45.807Z"
   },
   {
    "duration": 24,
    "start_time": "2022-06-14T13:27:45.875Z"
   },
   {
    "duration": 29,
    "start_time": "2022-06-14T13:27:45.901Z"
   },
   {
    "duration": 28,
    "start_time": "2022-06-14T13:27:45.932Z"
   },
   {
    "duration": 21,
    "start_time": "2022-06-14T13:27:45.962Z"
   },
   {
    "duration": 8,
    "start_time": "2022-06-14T13:27:45.985Z"
   },
   {
    "duration": 151,
    "start_time": "2022-06-14T13:27:45.995Z"
   },
   {
    "duration": 21,
    "start_time": "2022-06-14T13:27:46.148Z"
   },
   {
    "duration": 7,
    "start_time": "2022-06-14T13:27:46.172Z"
   },
   {
    "duration": 27,
    "start_time": "2022-06-14T13:27:46.180Z"
   },
   {
    "duration": 12,
    "start_time": "2022-06-14T13:27:46.209Z"
   },
   {
    "duration": 48,
    "start_time": "2022-06-14T13:27:46.223Z"
   },
   {
    "duration": 20,
    "start_time": "2022-06-14T13:27:46.273Z"
   },
   {
    "duration": 12,
    "start_time": "2022-06-14T13:27:46.295Z"
   },
   {
    "duration": 22,
    "start_time": "2022-06-14T13:27:46.309Z"
   },
   {
    "duration": 37,
    "start_time": "2022-06-14T13:27:46.333Z"
   },
   {
    "duration": 6,
    "start_time": "2022-06-14T13:27:46.372Z"
   },
   {
    "duration": 33,
    "start_time": "2022-06-14T13:27:46.379Z"
   },
   {
    "duration": 374,
    "start_time": "2022-06-14T13:27:46.414Z"
   },
   {
    "duration": 338,
    "start_time": "2022-06-14T13:27:46.790Z"
   },
   {
    "duration": 15,
    "start_time": "2022-06-14T13:27:47.130Z"
   },
   {
    "duration": 189,
    "start_time": "2022-06-14T13:27:47.159Z"
   },
   {
    "duration": 4,
    "start_time": "2022-06-14T13:27:47.358Z"
   },
   {
    "duration": 9,
    "start_time": "2022-06-14T13:27:47.364Z"
   },
   {
    "duration": 327,
    "start_time": "2022-06-14T13:27:47.375Z"
   },
   {
    "duration": 8,
    "start_time": "2022-06-14T13:27:47.704Z"
   },
   {
    "duration": 352,
    "start_time": "2022-06-14T13:27:47.716Z"
   },
   {
    "duration": 361,
    "start_time": "2022-06-14T13:27:48.070Z"
   },
   {
    "duration": 28,
    "start_time": "2022-06-14T13:27:48.432Z"
   },
   {
    "duration": 535,
    "start_time": "2022-06-14T13:27:48.462Z"
   },
   {
    "duration": 21,
    "start_time": "2022-06-14T13:27:48.999Z"
   },
   {
    "duration": 2107,
    "start_time": "2022-06-14T13:27:49.022Z"
   },
   {
    "duration": 324,
    "start_time": "2022-06-14T13:27:51.131Z"
   },
   {
    "duration": 274,
    "start_time": "2022-06-14T13:27:51.456Z"
   },
   {
    "duration": 28,
    "start_time": "2022-06-14T13:27:51.733Z"
   },
   {
    "duration": 19,
    "start_time": "2022-06-14T13:27:51.763Z"
   },
   {
    "duration": 31,
    "start_time": "2022-06-14T13:27:51.784Z"
   },
   {
    "duration": 43,
    "start_time": "2022-06-14T13:27:51.817Z"
   },
   {
    "duration": 21,
    "start_time": "2022-06-14T13:27:51.862Z"
   },
   {
    "duration": 33,
    "start_time": "2022-06-14T13:27:51.885Z"
   },
   {
    "duration": 34,
    "start_time": "2022-06-14T13:27:51.920Z"
   },
   {
    "duration": 190,
    "start_time": "2022-06-14T13:27:51.956Z"
   },
   {
    "duration": 250,
    "start_time": "2022-06-14T13:29:39.099Z"
   },
   {
    "duration": 198,
    "start_time": "2022-06-14T13:30:06.016Z"
   },
   {
    "duration": 133,
    "start_time": "2022-06-14T13:30:15.736Z"
   },
   {
    "duration": 30,
    "start_time": "2022-06-14T13:30:46.656Z"
   },
   {
    "duration": 24,
    "start_time": "2022-06-14T13:30:55.176Z"
   },
   {
    "duration": 19,
    "start_time": "2022-06-14T13:31:28.489Z"
   },
   {
    "duration": 63,
    "start_time": "2022-06-14T13:31:58.166Z"
   },
   {
    "duration": 34,
    "start_time": "2022-06-14T13:33:25.505Z"
   },
   {
    "duration": 87,
    "start_time": "2022-06-14T13:33:39.687Z"
   },
   {
    "duration": 90,
    "start_time": "2022-06-14T13:34:04.299Z"
   },
   {
    "duration": 26,
    "start_time": "2022-06-14T13:34:26.701Z"
   },
   {
    "duration": 21,
    "start_time": "2022-06-14T13:34:45.211Z"
   },
   {
    "duration": 243,
    "start_time": "2022-06-14T13:35:19.154Z"
   },
   {
    "duration": 211,
    "start_time": "2022-06-14T13:35:38.921Z"
   },
   {
    "duration": 6,
    "start_time": "2022-06-14T13:36:26.683Z"
   },
   {
    "duration": 203,
    "start_time": "2022-06-14T13:36:42.615Z"
   },
   {
    "duration": 364,
    "start_time": "2022-06-14T13:37:17.340Z"
   },
   {
    "duration": 182,
    "start_time": "2022-06-14T13:37:25.971Z"
   },
   {
    "duration": 232,
    "start_time": "2022-06-14T13:39:11.228Z"
   },
   {
    "duration": 197,
    "start_time": "2022-06-14T13:39:17.620Z"
   },
   {
    "duration": 202,
    "start_time": "2022-06-14T13:39:26.907Z"
   },
   {
    "duration": 33,
    "start_time": "2022-06-14T13:39:38.540Z"
   },
   {
    "duration": 38,
    "start_time": "2022-06-14T13:39:45.243Z"
   },
   {
    "duration": 210,
    "start_time": "2022-06-14T13:39:53.982Z"
   },
   {
    "duration": 196,
    "start_time": "2022-06-14T13:40:28.101Z"
   },
   {
    "duration": 207,
    "start_time": "2022-06-14T13:40:35.388Z"
   },
   {
    "duration": 212,
    "start_time": "2022-06-14T13:41:26.910Z"
   },
   {
    "duration": 215,
    "start_time": "2022-06-14T13:41:48.091Z"
   },
   {
    "duration": 192,
    "start_time": "2022-06-14T13:41:59.092Z"
   },
   {
    "duration": 58,
    "start_time": "2022-06-14T13:42:21.955Z"
   },
   {
    "duration": 167,
    "start_time": "2022-06-14T13:42:26.869Z"
   },
   {
    "duration": 208,
    "start_time": "2022-06-14T13:42:36.287Z"
   },
   {
    "duration": 215,
    "start_time": "2022-06-14T13:42:45.935Z"
   },
   {
    "duration": 214,
    "start_time": "2022-06-14T13:43:04.421Z"
   },
   {
    "duration": 162,
    "start_time": "2022-06-14T13:43:12.556Z"
   },
   {
    "duration": 145,
    "start_time": "2022-06-14T13:43:16.895Z"
   },
   {
    "duration": 212,
    "start_time": "2022-06-14T13:43:24.335Z"
   },
   {
    "duration": 399,
    "start_time": "2022-06-14T13:44:27.700Z"
   },
   {
    "duration": 220,
    "start_time": "2022-06-14T13:45:11.228Z"
   },
   {
    "duration": 215,
    "start_time": "2022-06-14T13:46:17.022Z"
   },
   {
    "duration": 215,
    "start_time": "2022-06-14T13:46:49.043Z"
   },
   {
    "duration": 211,
    "start_time": "2022-06-14T13:47:28.704Z"
   },
   {
    "duration": 221,
    "start_time": "2022-06-14T13:47:38.779Z"
   },
   {
    "duration": 244,
    "start_time": "2022-06-14T13:47:46.152Z"
   },
   {
    "duration": 141,
    "start_time": "2022-06-14T13:48:14.177Z"
   },
   {
    "duration": 201,
    "start_time": "2022-06-14T13:48:19.407Z"
   },
   {
    "duration": 241,
    "start_time": "2022-06-14T13:49:01.559Z"
   },
   {
    "duration": 200,
    "start_time": "2022-06-14T13:49:08.175Z"
   },
   {
    "duration": 268,
    "start_time": "2022-06-14T13:49:31.909Z"
   },
   {
    "duration": 210,
    "start_time": "2022-06-14T13:49:58.167Z"
   },
   {
    "duration": 228,
    "start_time": "2022-06-14T13:50:06.839Z"
   },
   {
    "duration": 228,
    "start_time": "2022-06-14T13:50:58.655Z"
   },
   {
    "duration": 191,
    "start_time": "2022-06-14T13:51:47.353Z"
   },
   {
    "duration": 284,
    "start_time": "2022-06-14T13:52:07.792Z"
   },
   {
    "duration": 183,
    "start_time": "2022-06-14T13:59:11.013Z"
   },
   {
    "duration": 22,
    "start_time": "2022-06-14T13:59:27.988Z"
   },
   {
    "duration": 18,
    "start_time": "2022-06-14T13:59:38.107Z"
   },
   {
    "duration": 24,
    "start_time": "2022-06-14T13:59:51.222Z"
   },
   {
    "duration": 154,
    "start_time": "2022-06-14T14:08:17.054Z"
   },
   {
    "duration": 276,
    "start_time": "2022-06-14T14:08:33.681Z"
   },
   {
    "duration": 18,
    "start_time": "2022-06-14T14:17:08.017Z"
   },
   {
    "duration": 1200,
    "start_time": "2022-06-14T14:17:18.773Z"
   },
   {
    "duration": 67,
    "start_time": "2022-06-14T14:17:19.977Z"
   },
   {
    "duration": 28,
    "start_time": "2022-06-14T14:17:20.046Z"
   },
   {
    "duration": 35,
    "start_time": "2022-06-14T14:17:20.078Z"
   },
   {
    "duration": 19,
    "start_time": "2022-06-14T14:17:20.115Z"
   },
   {
    "duration": 43,
    "start_time": "2022-06-14T14:17:20.136Z"
   },
   {
    "duration": 6,
    "start_time": "2022-06-14T14:17:20.183Z"
   },
   {
    "duration": 155,
    "start_time": "2022-06-14T14:17:20.190Z"
   },
   {
    "duration": 28,
    "start_time": "2022-06-14T14:17:20.347Z"
   },
   {
    "duration": 6,
    "start_time": "2022-06-14T14:17:20.379Z"
   },
   {
    "duration": 20,
    "start_time": "2022-06-14T14:17:20.387Z"
   },
   {
    "duration": 10,
    "start_time": "2022-06-14T14:17:20.408Z"
   },
   {
    "duration": 47,
    "start_time": "2022-06-14T14:17:20.419Z"
   },
   {
    "duration": 21,
    "start_time": "2022-06-14T14:17:20.468Z"
   },
   {
    "duration": 13,
    "start_time": "2022-06-14T14:17:20.491Z"
   },
   {
    "duration": 28,
    "start_time": "2022-06-14T14:17:20.505Z"
   },
   {
    "duration": 25,
    "start_time": "2022-06-14T14:17:20.535Z"
   },
   {
    "duration": 19,
    "start_time": "2022-06-14T14:17:20.563Z"
   },
   {
    "duration": 19,
    "start_time": "2022-06-14T14:17:20.584Z"
   },
   {
    "duration": 397,
    "start_time": "2022-06-14T14:17:20.605Z"
   },
   {
    "duration": 334,
    "start_time": "2022-06-14T14:17:21.004Z"
   },
   {
    "duration": 19,
    "start_time": "2022-06-14T14:17:21.340Z"
   },
   {
    "duration": 194,
    "start_time": "2022-06-14T14:17:21.361Z"
   },
   {
    "duration": 8,
    "start_time": "2022-06-14T14:17:21.559Z"
   },
   {
    "duration": 42,
    "start_time": "2022-06-14T14:17:21.569Z"
   },
   {
    "duration": 317,
    "start_time": "2022-06-14T14:17:21.613Z"
   },
   {
    "duration": 8,
    "start_time": "2022-06-14T14:17:21.932Z"
   },
   {
    "duration": 454,
    "start_time": "2022-06-14T14:17:21.944Z"
   },
   {
    "duration": 402,
    "start_time": "2022-06-14T14:17:22.400Z"
   },
   {
    "duration": 20,
    "start_time": "2022-06-14T14:17:22.803Z"
   },
   {
    "duration": 615,
    "start_time": "2022-06-14T14:17:22.825Z"
   },
   {
    "duration": 23,
    "start_time": "2022-06-14T14:17:23.442Z"
   },
   {
    "duration": 2305,
    "start_time": "2022-06-14T14:17:23.469Z"
   },
   {
    "duration": 340,
    "start_time": "2022-06-14T14:17:25.777Z"
   },
   {
    "duration": 330,
    "start_time": "2022-06-14T14:17:26.119Z"
   },
   {
    "duration": 28,
    "start_time": "2022-06-14T14:17:26.451Z"
   },
   {
    "duration": 28,
    "start_time": "2022-06-14T14:17:26.482Z"
   },
   {
    "duration": 33,
    "start_time": "2022-06-14T14:17:26.511Z"
   },
   {
    "duration": 24,
    "start_time": "2022-06-14T14:17:26.546Z"
   },
   {
    "duration": 50,
    "start_time": "2022-06-14T14:17:26.573Z"
   },
   {
    "duration": 15,
    "start_time": "2022-06-14T14:17:26.625Z"
   },
   {
    "duration": 211,
    "start_time": "2022-06-14T14:17:26.642Z"
   },
   {
    "duration": 1299,
    "start_time": "2022-06-14T14:24:03.159Z"
   },
   {
    "duration": 74,
    "start_time": "2022-06-14T14:24:04.467Z"
   },
   {
    "duration": 32,
    "start_time": "2022-06-14T14:24:04.542Z"
   },
   {
    "duration": 48,
    "start_time": "2022-06-14T14:24:04.577Z"
   },
   {
    "duration": 15,
    "start_time": "2022-06-14T14:24:04.627Z"
   },
   {
    "duration": 60,
    "start_time": "2022-06-14T14:24:04.644Z"
   },
   {
    "duration": 5,
    "start_time": "2022-06-14T14:24:04.706Z"
   },
   {
    "duration": 174,
    "start_time": "2022-06-14T14:24:04.713Z"
   },
   {
    "duration": 14,
    "start_time": "2022-06-14T14:24:04.891Z"
   },
   {
    "duration": 5,
    "start_time": "2022-06-14T14:24:04.908Z"
   },
   {
    "duration": 20,
    "start_time": "2022-06-14T14:24:04.915Z"
   },
   {
    "duration": 9,
    "start_time": "2022-06-14T14:24:04.936Z"
   },
   {
    "duration": 39,
    "start_time": "2022-06-14T14:24:04.947Z"
   },
   {
    "duration": 21,
    "start_time": "2022-06-14T14:24:04.988Z"
   },
   {
    "duration": 20,
    "start_time": "2022-06-14T14:24:05.011Z"
   },
   {
    "duration": 57,
    "start_time": "2022-06-14T14:24:05.033Z"
   },
   {
    "duration": 9,
    "start_time": "2022-06-14T14:24:05.094Z"
   },
   {
    "duration": 31,
    "start_time": "2022-06-14T14:24:05.104Z"
   },
   {
    "duration": 27,
    "start_time": "2022-06-14T14:24:05.137Z"
   },
   {
    "duration": 497,
    "start_time": "2022-06-14T14:24:05.166Z"
   },
   {
    "duration": 375,
    "start_time": "2022-06-14T14:24:05.665Z"
   },
   {
    "duration": 25,
    "start_time": "2022-06-14T14:24:06.042Z"
   },
   {
    "duration": 259,
    "start_time": "2022-06-14T14:24:06.070Z"
   },
   {
    "duration": 5,
    "start_time": "2022-06-14T14:24:06.331Z"
   },
   {
    "duration": 76,
    "start_time": "2022-06-14T14:24:06.339Z"
   },
   {
    "duration": 365,
    "start_time": "2022-06-14T14:24:06.418Z"
   },
   {
    "duration": 8,
    "start_time": "2022-06-14T14:24:06.785Z"
   },
   {
    "duration": 433,
    "start_time": "2022-06-14T14:24:06.797Z"
   },
   {
    "duration": 426,
    "start_time": "2022-06-14T14:24:07.231Z"
   },
   {
    "duration": 32,
    "start_time": "2022-06-14T14:24:07.666Z"
   },
   {
    "duration": 627,
    "start_time": "2022-06-14T14:24:07.699Z"
   },
   {
    "duration": 18,
    "start_time": "2022-06-14T14:24:08.328Z"
   },
   {
    "duration": 2583,
    "start_time": "2022-06-14T14:24:08.347Z"
   },
   {
    "duration": 377,
    "start_time": "2022-06-14T14:24:10.931Z"
   },
   {
    "duration": 325,
    "start_time": "2022-06-14T14:24:11.310Z"
   },
   {
    "duration": 23,
    "start_time": "2022-06-14T14:24:11.637Z"
   },
   {
    "duration": 44,
    "start_time": "2022-06-14T14:24:11.662Z"
   },
   {
    "duration": 23,
    "start_time": "2022-06-14T14:24:11.708Z"
   },
   {
    "duration": 16,
    "start_time": "2022-06-14T14:24:11.733Z"
   },
   {
    "duration": 41,
    "start_time": "2022-06-14T14:24:11.751Z"
   },
   {
    "duration": 37,
    "start_time": "2022-06-14T14:24:11.795Z"
   },
   {
    "duration": 279,
    "start_time": "2022-06-14T14:24:11.833Z"
   },
   {
    "duration": 205,
    "start_time": "2022-06-14T14:56:11.109Z"
   },
   {
    "duration": 199,
    "start_time": "2022-06-14T14:56:37.084Z"
   },
   {
    "duration": 34,
    "start_time": "2022-06-14T14:57:28.451Z"
   },
   {
    "duration": 284,
    "start_time": "2022-06-14T14:57:34.397Z"
   },
   {
    "duration": 194,
    "start_time": "2022-06-14T14:57:41.372Z"
   },
   {
    "duration": 327,
    "start_time": "2022-06-14T14:57:47.744Z"
   },
   {
    "duration": 193,
    "start_time": "2022-06-14T14:57:57.832Z"
   },
   {
    "duration": 26,
    "start_time": "2022-06-14T14:58:20.555Z"
   },
   {
    "duration": 212,
    "start_time": "2022-06-14T14:58:28.165Z"
   },
   {
    "duration": 242,
    "start_time": "2022-06-14T14:58:54.850Z"
   },
   {
    "duration": 214,
    "start_time": "2022-06-14T14:59:40.675Z"
   },
   {
    "duration": 209,
    "start_time": "2022-06-14T15:00:00.377Z"
   },
   {
    "duration": 229,
    "start_time": "2022-06-14T15:00:06.843Z"
   },
   {
    "duration": 213,
    "start_time": "2022-06-14T15:00:13.191Z"
   },
   {
    "duration": 214,
    "start_time": "2022-06-14T15:00:19.695Z"
   },
   {
    "duration": 268,
    "start_time": "2022-06-14T15:04:51.463Z"
   },
   {
    "duration": 263,
    "start_time": "2022-06-14T15:04:57.600Z"
   },
   {
    "duration": 280,
    "start_time": "2022-06-14T15:05:17.387Z"
   },
   {
    "duration": 1128,
    "start_time": "2022-06-14T15:09:28.296Z"
   },
   {
    "duration": 68,
    "start_time": "2022-06-14T15:09:29.426Z"
   },
   {
    "duration": 24,
    "start_time": "2022-06-14T15:09:29.496Z"
   },
   {
    "duration": 43,
    "start_time": "2022-06-14T15:09:29.522Z"
   },
   {
    "duration": 14,
    "start_time": "2022-06-14T15:09:29.567Z"
   },
   {
    "duration": 15,
    "start_time": "2022-06-14T15:09:29.584Z"
   },
   {
    "duration": 5,
    "start_time": "2022-06-14T15:09:29.601Z"
   },
   {
    "duration": 150,
    "start_time": "2022-06-14T15:09:29.608Z"
   },
   {
    "duration": 14,
    "start_time": "2022-06-14T15:09:29.760Z"
   },
   {
    "duration": 5,
    "start_time": "2022-06-14T15:09:29.777Z"
   },
   {
    "duration": 19,
    "start_time": "2022-06-14T15:09:29.784Z"
   },
   {
    "duration": 9,
    "start_time": "2022-06-14T15:09:29.805Z"
   },
   {
    "duration": 47,
    "start_time": "2022-06-14T15:09:29.816Z"
   },
   {
    "duration": 14,
    "start_time": "2022-06-14T15:09:29.865Z"
   },
   {
    "duration": 10,
    "start_time": "2022-06-14T15:09:29.881Z"
   },
   {
    "duration": 24,
    "start_time": "2022-06-14T15:09:29.892Z"
   },
   {
    "duration": 9,
    "start_time": "2022-06-14T15:09:29.917Z"
   },
   {
    "duration": 33,
    "start_time": "2022-06-14T15:09:29.928Z"
   },
   {
    "duration": 23,
    "start_time": "2022-06-14T15:09:29.963Z"
   },
   {
    "duration": 399,
    "start_time": "2022-06-14T15:09:29.988Z"
   },
   {
    "duration": 332,
    "start_time": "2022-06-14T15:09:30.389Z"
   },
   {
    "duration": 14,
    "start_time": "2022-06-14T15:09:30.723Z"
   },
   {
    "duration": 239,
    "start_time": "2022-06-14T15:09:30.739Z"
   },
   {
    "duration": 6,
    "start_time": "2022-06-14T15:09:30.980Z"
   },
   {
    "duration": 18,
    "start_time": "2022-06-14T15:09:30.988Z"
   },
   {
    "duration": 314,
    "start_time": "2022-06-14T15:09:31.008Z"
   },
   {
    "duration": 7,
    "start_time": "2022-06-14T15:09:31.324Z"
   },
   {
    "duration": 346,
    "start_time": "2022-06-14T15:09:31.335Z"
   },
   {
    "duration": 470,
    "start_time": "2022-06-14T15:09:31.684Z"
   },
   {
    "duration": 21,
    "start_time": "2022-06-14T15:09:32.156Z"
   },
   {
    "duration": 544,
    "start_time": "2022-06-14T15:09:32.179Z"
   },
   {
    "duration": 19,
    "start_time": "2022-06-14T15:09:32.725Z"
   },
   {
    "duration": 2226,
    "start_time": "2022-06-14T15:09:32.746Z"
   },
   {
    "duration": 331,
    "start_time": "2022-06-14T15:09:34.974Z"
   },
   {
    "duration": 286,
    "start_time": "2022-06-14T15:09:35.307Z"
   },
   {
    "duration": 17,
    "start_time": "2022-06-14T15:09:35.594Z"
   },
   {
    "duration": 15,
    "start_time": "2022-06-14T15:09:35.613Z"
   },
   {
    "duration": 39,
    "start_time": "2022-06-14T15:09:35.630Z"
   },
   {
    "duration": 15,
    "start_time": "2022-06-14T15:09:35.671Z"
   },
   {
    "duration": 19,
    "start_time": "2022-06-14T15:09:35.688Z"
   },
   {
    "duration": 14,
    "start_time": "2022-06-14T15:09:35.709Z"
   },
   {
    "duration": 236,
    "start_time": "2022-06-14T15:09:35.724Z"
   },
   {
    "duration": 1107,
    "start_time": "2022-06-14T15:10:25.710Z"
   },
   {
    "duration": 72,
    "start_time": "2022-06-14T15:10:26.819Z"
   },
   {
    "duration": 23,
    "start_time": "2022-06-14T15:10:26.893Z"
   },
   {
    "duration": 44,
    "start_time": "2022-06-14T15:10:26.918Z"
   },
   {
    "duration": 15,
    "start_time": "2022-06-14T15:10:26.965Z"
   },
   {
    "duration": 19,
    "start_time": "2022-06-14T15:10:26.981Z"
   },
   {
    "duration": 5,
    "start_time": "2022-06-14T15:10:27.002Z"
   },
   {
    "duration": 138,
    "start_time": "2022-06-14T15:10:27.010Z"
   },
   {
    "duration": 20,
    "start_time": "2022-06-14T15:10:27.150Z"
   },
   {
    "duration": 6,
    "start_time": "2022-06-14T15:10:27.172Z"
   },
   {
    "duration": 29,
    "start_time": "2022-06-14T15:10:27.180Z"
   },
   {
    "duration": 10,
    "start_time": "2022-06-14T15:10:27.212Z"
   },
   {
    "duration": 36,
    "start_time": "2022-06-14T15:10:27.224Z"
   },
   {
    "duration": 14,
    "start_time": "2022-06-14T15:10:27.263Z"
   },
   {
    "duration": 11,
    "start_time": "2022-06-14T15:10:27.279Z"
   },
   {
    "duration": 24,
    "start_time": "2022-06-14T15:10:27.291Z"
   },
   {
    "duration": 14,
    "start_time": "2022-06-14T15:10:27.316Z"
   },
   {
    "duration": 31,
    "start_time": "2022-06-14T15:10:27.332Z"
   },
   {
    "duration": 27,
    "start_time": "2022-06-14T15:10:27.365Z"
   },
   {
    "duration": 379,
    "start_time": "2022-06-14T15:10:27.394Z"
   },
   {
    "duration": 324,
    "start_time": "2022-06-14T15:10:27.775Z"
   },
   {
    "duration": 15,
    "start_time": "2022-06-14T15:10:28.101Z"
   },
   {
    "duration": 184,
    "start_time": "2022-06-14T15:10:28.118Z"
   },
   {
    "duration": 5,
    "start_time": "2022-06-14T15:10:28.304Z"
   },
   {
    "duration": 14,
    "start_time": "2022-06-14T15:10:28.310Z"
   },
   {
    "duration": 300,
    "start_time": "2022-06-14T15:10:28.326Z"
   },
   {
    "duration": 7,
    "start_time": "2022-06-14T15:10:28.629Z"
   },
   {
    "duration": 398,
    "start_time": "2022-06-14T15:10:28.638Z"
   },
   {
    "duration": 374,
    "start_time": "2022-06-14T15:10:29.038Z"
   },
   {
    "duration": 18,
    "start_time": "2022-06-14T15:10:29.413Z"
   },
   {
    "duration": 595,
    "start_time": "2022-06-14T15:10:29.433Z"
   },
   {
    "duration": 16,
    "start_time": "2022-06-14T15:10:30.030Z"
   },
   {
    "duration": 2374,
    "start_time": "2022-06-14T15:10:30.048Z"
   },
   {
    "duration": 312,
    "start_time": "2022-06-14T15:10:32.424Z"
   },
   {
    "duration": 278,
    "start_time": "2022-06-14T15:10:32.738Z"
   },
   {
    "duration": 18,
    "start_time": "2022-06-14T15:10:33.018Z"
   },
   {
    "duration": 30,
    "start_time": "2022-06-14T15:10:33.038Z"
   },
   {
    "duration": 20,
    "start_time": "2022-06-14T15:10:33.070Z"
   },
   {
    "duration": 18,
    "start_time": "2022-06-14T15:10:33.092Z"
   },
   {
    "duration": 36,
    "start_time": "2022-06-14T15:10:33.112Z"
   },
   {
    "duration": 16,
    "start_time": "2022-06-14T15:10:33.158Z"
   },
   {
    "duration": 227,
    "start_time": "2022-06-14T15:10:33.176Z"
   },
   {
    "duration": 333,
    "start_time": "2022-06-14T15:11:37.777Z"
   },
   {
    "duration": 417,
    "start_time": "2022-06-14T15:11:54.615Z"
   },
   {
    "duration": 1189,
    "start_time": "2022-06-14T15:12:20.120Z"
   },
   {
    "duration": 67,
    "start_time": "2022-06-14T15:12:21.310Z"
   },
   {
    "duration": 25,
    "start_time": "2022-06-14T15:12:21.378Z"
   },
   {
    "duration": 31,
    "start_time": "2022-06-14T15:12:21.405Z"
   },
   {
    "duration": 29,
    "start_time": "2022-06-14T15:12:21.437Z"
   },
   {
    "duration": 15,
    "start_time": "2022-06-14T15:12:21.468Z"
   },
   {
    "duration": 5,
    "start_time": "2022-06-14T15:12:21.485Z"
   },
   {
    "duration": 149,
    "start_time": "2022-06-14T15:12:21.491Z"
   },
   {
    "duration": 20,
    "start_time": "2022-06-14T15:12:21.642Z"
   },
   {
    "duration": 8,
    "start_time": "2022-06-14T15:12:21.664Z"
   },
   {
    "duration": 20,
    "start_time": "2022-06-14T15:12:21.674Z"
   },
   {
    "duration": 10,
    "start_time": "2022-06-14T15:12:21.696Z"
   },
   {
    "duration": 19,
    "start_time": "2022-06-14T15:12:21.708Z"
   },
   {
    "duration": 41,
    "start_time": "2022-06-14T15:12:21.729Z"
   },
   {
    "duration": 14,
    "start_time": "2022-06-14T15:12:21.771Z"
   },
   {
    "duration": 44,
    "start_time": "2022-06-14T15:12:21.787Z"
   },
   {
    "duration": 28,
    "start_time": "2022-06-14T15:12:21.834Z"
   },
   {
    "duration": 7,
    "start_time": "2022-06-14T15:12:21.865Z"
   },
   {
    "duration": 36,
    "start_time": "2022-06-14T15:12:21.876Z"
   },
   {
    "duration": 451,
    "start_time": "2022-06-14T15:12:21.914Z"
   },
   {
    "duration": 318,
    "start_time": "2022-06-14T15:12:22.367Z"
   },
   {
    "duration": 13,
    "start_time": "2022-06-14T15:12:22.687Z"
   },
   {
    "duration": 190,
    "start_time": "2022-06-14T15:12:22.702Z"
   },
   {
    "duration": 4,
    "start_time": "2022-06-14T15:12:22.894Z"
   },
   {
    "duration": 9,
    "start_time": "2022-06-14T15:12:22.900Z"
   },
   {
    "duration": 296,
    "start_time": "2022-06-14T15:12:22.910Z"
   },
   {
    "duration": 6,
    "start_time": "2022-06-14T15:12:23.208Z"
   },
   {
    "duration": 352,
    "start_time": "2022-06-14T15:12:23.217Z"
   },
   {
    "duration": 362,
    "start_time": "2022-06-14T15:12:23.571Z"
   },
   {
    "duration": 27,
    "start_time": "2022-06-14T15:12:23.935Z"
   },
   {
    "duration": 540,
    "start_time": "2022-06-14T15:12:23.964Z"
   },
   {
    "duration": 17,
    "start_time": "2022-06-14T15:12:24.506Z"
   },
   {
    "duration": 2232,
    "start_time": "2022-06-14T15:12:24.525Z"
   },
   {
    "duration": 354,
    "start_time": "2022-06-14T15:12:26.759Z"
   },
   {
    "duration": 296,
    "start_time": "2022-06-14T15:12:27.115Z"
   },
   {
    "duration": 21,
    "start_time": "2022-06-14T15:12:27.413Z"
   },
   {
    "duration": 36,
    "start_time": "2022-06-14T15:12:27.436Z"
   },
   {
    "duration": 37,
    "start_time": "2022-06-14T15:12:27.474Z"
   },
   {
    "duration": 16,
    "start_time": "2022-06-14T15:12:27.512Z"
   },
   {
    "duration": 19,
    "start_time": "2022-06-14T15:12:27.530Z"
   },
   {
    "duration": 21,
    "start_time": "2022-06-14T15:12:27.550Z"
   },
   {
    "duration": 221,
    "start_time": "2022-06-14T15:12:27.573Z"
   },
   {
    "duration": 5,
    "start_time": "2022-06-14T15:31:02.290Z"
   },
   {
    "duration": 1158,
    "start_time": "2022-06-14T15:31:26.086Z"
   },
   {
    "duration": 68,
    "start_time": "2022-06-14T15:31:27.246Z"
   },
   {
    "duration": 24,
    "start_time": "2022-06-14T15:31:27.316Z"
   },
   {
    "duration": 31,
    "start_time": "2022-06-14T15:31:27.342Z"
   },
   {
    "duration": 16,
    "start_time": "2022-06-14T15:31:27.374Z"
   },
   {
    "duration": 18,
    "start_time": "2022-06-14T15:31:27.392Z"
   },
   {
    "duration": 6,
    "start_time": "2022-06-14T15:31:27.411Z"
   },
   {
    "duration": 143,
    "start_time": "2022-06-14T15:31:27.419Z"
   },
   {
    "duration": 15,
    "start_time": "2022-06-14T15:31:27.564Z"
   },
   {
    "duration": 6,
    "start_time": "2022-06-14T15:31:27.582Z"
   },
   {
    "duration": 19,
    "start_time": "2022-06-14T15:31:27.590Z"
   },
   {
    "duration": 11,
    "start_time": "2022-06-14T15:31:27.611Z"
   },
   {
    "duration": 17,
    "start_time": "2022-06-14T15:31:27.659Z"
   },
   {
    "duration": 15,
    "start_time": "2022-06-14T15:31:27.678Z"
   },
   {
    "duration": 12,
    "start_time": "2022-06-14T15:31:27.695Z"
   },
   {
    "duration": 22,
    "start_time": "2022-06-14T15:31:27.708Z"
   },
   {
    "duration": 11,
    "start_time": "2022-06-14T15:31:27.759Z"
   },
   {
    "duration": 11,
    "start_time": "2022-06-14T15:31:27.772Z"
   },
   {
    "duration": 42,
    "start_time": "2022-06-14T15:31:27.784Z"
   },
   {
    "duration": 388,
    "start_time": "2022-06-14T15:31:27.828Z"
   },
   {
    "duration": 325,
    "start_time": "2022-06-14T15:31:28.218Z"
   },
   {
    "duration": 18,
    "start_time": "2022-06-14T15:31:28.545Z"
   },
   {
    "duration": 180,
    "start_time": "2022-06-14T15:31:28.564Z"
   },
   {
    "duration": 4,
    "start_time": "2022-06-14T15:31:28.746Z"
   },
   {
    "duration": 12,
    "start_time": "2022-06-14T15:31:28.759Z"
   },
   {
    "duration": 281,
    "start_time": "2022-06-14T15:31:28.773Z"
   },
   {
    "duration": 5,
    "start_time": "2022-06-14T15:31:29.056Z"
   },
   {
    "duration": 353,
    "start_time": "2022-06-14T15:31:29.065Z"
   },
   {
    "duration": 344,
    "start_time": "2022-06-14T15:31:29.420Z"
   },
   {
    "duration": 18,
    "start_time": "2022-06-14T15:31:29.766Z"
   },
   {
    "duration": 526,
    "start_time": "2022-06-14T15:31:29.786Z"
   },
   {
    "duration": 17,
    "start_time": "2022-06-14T15:31:30.313Z"
   },
   {
    "duration": 2235,
    "start_time": "2022-06-14T15:31:30.331Z"
   },
   {
    "duration": 320,
    "start_time": "2022-06-14T15:31:32.568Z"
   },
   {
    "duration": 283,
    "start_time": "2022-06-14T15:31:32.890Z"
   },
   {
    "duration": 17,
    "start_time": "2022-06-14T15:31:33.175Z"
   },
   {
    "duration": 15,
    "start_time": "2022-06-14T15:31:33.193Z"
   },
   {
    "duration": 16,
    "start_time": "2022-06-14T15:31:33.210Z"
   },
   {
    "duration": 47,
    "start_time": "2022-06-14T15:31:33.228Z"
   },
   {
    "duration": 21,
    "start_time": "2022-06-14T15:31:33.277Z"
   },
   {
    "duration": 14,
    "start_time": "2022-06-14T15:31:33.300Z"
   },
   {
    "duration": 221,
    "start_time": "2022-06-14T15:31:33.316Z"
   },
   {
    "duration": 5,
    "start_time": "2022-06-14T15:31:33.539Z"
   },
   {
    "duration": 5,
    "start_time": "2022-06-14T15:32:00.947Z"
   },
   {
    "duration": 1175,
    "start_time": "2022-06-14T15:32:21.398Z"
   },
   {
    "duration": 67,
    "start_time": "2022-06-14T15:32:22.574Z"
   },
   {
    "duration": 24,
    "start_time": "2022-06-14T15:32:22.643Z"
   },
   {
    "duration": 31,
    "start_time": "2022-06-14T15:32:22.669Z"
   },
   {
    "duration": 15,
    "start_time": "2022-06-14T15:32:22.702Z"
   },
   {
    "duration": 15,
    "start_time": "2022-06-14T15:32:22.719Z"
   },
   {
    "duration": 27,
    "start_time": "2022-06-14T15:32:22.736Z"
   },
   {
    "duration": 129,
    "start_time": "2022-06-14T15:32:22.765Z"
   },
   {
    "duration": 21,
    "start_time": "2022-06-14T15:32:22.896Z"
   },
   {
    "duration": 6,
    "start_time": "2022-06-14T15:32:22.920Z"
   },
   {
    "duration": 35,
    "start_time": "2022-06-14T15:32:22.928Z"
   },
   {
    "duration": 9,
    "start_time": "2022-06-14T15:32:22.965Z"
   },
   {
    "duration": 17,
    "start_time": "2022-06-14T15:32:22.976Z"
   },
   {
    "duration": 15,
    "start_time": "2022-06-14T15:32:22.994Z"
   },
   {
    "duration": 19,
    "start_time": "2022-06-14T15:32:23.010Z"
   },
   {
    "duration": 42,
    "start_time": "2022-06-14T15:32:23.031Z"
   },
   {
    "duration": 19,
    "start_time": "2022-06-14T15:32:23.075Z"
   },
   {
    "duration": 6,
    "start_time": "2022-06-14T15:32:23.096Z"
   },
   {
    "duration": 27,
    "start_time": "2022-06-14T15:32:23.103Z"
   },
   {
    "duration": 379,
    "start_time": "2022-06-14T15:32:23.132Z"
   },
   {
    "duration": 343,
    "start_time": "2022-06-14T15:32:23.512Z"
   },
   {
    "duration": 13,
    "start_time": "2022-06-14T15:32:23.859Z"
   },
   {
    "duration": 188,
    "start_time": "2022-06-14T15:32:23.873Z"
   },
   {
    "duration": 4,
    "start_time": "2022-06-14T15:32:24.063Z"
   },
   {
    "duration": 11,
    "start_time": "2022-06-14T15:32:24.068Z"
   },
   {
    "duration": 298,
    "start_time": "2022-06-14T15:32:24.080Z"
   },
   {
    "duration": 6,
    "start_time": "2022-06-14T15:32:24.380Z"
   },
   {
    "duration": 325,
    "start_time": "2022-06-14T15:32:24.389Z"
   },
   {
    "duration": 364,
    "start_time": "2022-06-14T15:32:24.717Z"
   },
   {
    "duration": 20,
    "start_time": "2022-06-14T15:32:25.082Z"
   },
   {
    "duration": 579,
    "start_time": "2022-06-14T15:32:25.104Z"
   },
   {
    "duration": 18,
    "start_time": "2022-06-14T15:32:25.685Z"
   },
   {
    "duration": 2156,
    "start_time": "2022-06-14T15:32:25.705Z"
   },
   {
    "duration": 326,
    "start_time": "2022-06-14T15:32:27.863Z"
   },
   {
    "duration": 290,
    "start_time": "2022-06-14T15:32:28.190Z"
   },
   {
    "duration": 18,
    "start_time": "2022-06-14T15:32:28.482Z"
   },
   {
    "duration": 14,
    "start_time": "2022-06-14T15:32:28.502Z"
   },
   {
    "duration": 40,
    "start_time": "2022-06-14T15:32:28.518Z"
   },
   {
    "duration": 16,
    "start_time": "2022-06-14T15:32:28.561Z"
   },
   {
    "duration": 22,
    "start_time": "2022-06-14T15:32:28.578Z"
   },
   {
    "duration": 15,
    "start_time": "2022-06-14T15:32:28.602Z"
   },
   {
    "duration": 226,
    "start_time": "2022-06-14T15:32:28.619Z"
   },
   {
    "duration": 12,
    "start_time": "2022-06-14T15:32:28.847Z"
   },
   {
    "duration": 14,
    "start_time": "2022-06-14T15:32:38.884Z"
   },
   {
    "duration": 1153,
    "start_time": "2022-06-14T15:33:11.196Z"
   },
   {
    "duration": 66,
    "start_time": "2022-06-14T15:33:12.351Z"
   },
   {
    "duration": 24,
    "start_time": "2022-06-14T15:33:12.419Z"
   },
   {
    "duration": 29,
    "start_time": "2022-06-14T15:33:12.444Z"
   },
   {
    "duration": 14,
    "start_time": "2022-06-14T15:33:12.475Z"
   },
   {
    "duration": 17,
    "start_time": "2022-06-14T15:33:12.491Z"
   },
   {
    "duration": 6,
    "start_time": "2022-06-14T15:33:12.510Z"
   },
   {
    "duration": 145,
    "start_time": "2022-06-14T15:33:12.517Z"
   },
   {
    "duration": 13,
    "start_time": "2022-06-14T15:33:12.664Z"
   },
   {
    "duration": 5,
    "start_time": "2022-06-14T15:33:12.679Z"
   },
   {
    "duration": 17,
    "start_time": "2022-06-14T15:33:12.686Z"
   },
   {
    "duration": 9,
    "start_time": "2022-06-14T15:33:12.705Z"
   },
   {
    "duration": 45,
    "start_time": "2022-06-14T15:33:12.716Z"
   },
   {
    "duration": 14,
    "start_time": "2022-06-14T15:33:12.763Z"
   },
   {
    "duration": 12,
    "start_time": "2022-06-14T15:33:12.778Z"
   },
   {
    "duration": 22,
    "start_time": "2022-06-14T15:33:12.792Z"
   },
   {
    "duration": 10,
    "start_time": "2022-06-14T15:33:12.816Z"
   },
   {
    "duration": 35,
    "start_time": "2022-06-14T15:33:12.828Z"
   },
   {
    "duration": 17,
    "start_time": "2022-06-14T15:33:12.865Z"
   },
   {
    "duration": 382,
    "start_time": "2022-06-14T15:33:12.884Z"
   },
   {
    "duration": 352,
    "start_time": "2022-06-14T15:33:13.267Z"
   },
   {
    "duration": 13,
    "start_time": "2022-06-14T15:33:13.621Z"
   },
   {
    "duration": 198,
    "start_time": "2022-06-14T15:33:13.636Z"
   },
   {
    "duration": 5,
    "start_time": "2022-06-14T15:33:13.836Z"
   },
   {
    "duration": 8,
    "start_time": "2022-06-14T15:33:13.859Z"
   },
   {
    "duration": 309,
    "start_time": "2022-06-14T15:33:13.869Z"
   },
   {
    "duration": 6,
    "start_time": "2022-06-14T15:33:14.180Z"
   },
   {
    "duration": 368,
    "start_time": "2022-06-14T15:33:14.191Z"
   },
   {
    "duration": 362,
    "start_time": "2022-06-14T15:33:14.561Z"
   },
   {
    "duration": 19,
    "start_time": "2022-06-14T15:33:14.925Z"
   },
   {
    "duration": 546,
    "start_time": "2022-06-14T15:33:14.958Z"
   },
   {
    "duration": 17,
    "start_time": "2022-06-14T15:33:15.506Z"
   },
   {
    "duration": 2150,
    "start_time": "2022-06-14T15:33:15.525Z"
   },
   {
    "duration": 322,
    "start_time": "2022-06-14T15:33:17.676Z"
   },
   {
    "duration": 273,
    "start_time": "2022-06-14T15:33:18.000Z"
   },
   {
    "duration": 17,
    "start_time": "2022-06-14T15:33:18.275Z"
   },
   {
    "duration": 14,
    "start_time": "2022-06-14T15:33:18.294Z"
   },
   {
    "duration": 23,
    "start_time": "2022-06-14T15:33:18.310Z"
   },
   {
    "duration": 37,
    "start_time": "2022-06-14T15:33:18.334Z"
   },
   {
    "duration": 18,
    "start_time": "2022-06-14T15:33:18.372Z"
   },
   {
    "duration": 14,
    "start_time": "2022-06-14T15:33:18.391Z"
   },
   {
    "duration": 225,
    "start_time": "2022-06-14T15:33:18.407Z"
   },
   {
    "duration": 13,
    "start_time": "2022-06-14T15:33:18.634Z"
   },
   {
    "duration": 1132,
    "start_time": "2022-06-14T15:36:40.283Z"
   },
   {
    "duration": 67,
    "start_time": "2022-06-14T15:36:41.417Z"
   },
   {
    "duration": 24,
    "start_time": "2022-06-14T15:36:41.486Z"
   },
   {
    "duration": 29,
    "start_time": "2022-06-14T15:36:41.512Z"
   },
   {
    "duration": 27,
    "start_time": "2022-06-14T15:36:41.543Z"
   },
   {
    "duration": 16,
    "start_time": "2022-06-14T15:36:41.571Z"
   },
   {
    "duration": 6,
    "start_time": "2022-06-14T15:36:41.588Z"
   },
   {
    "duration": 137,
    "start_time": "2022-06-14T15:36:41.596Z"
   },
   {
    "duration": 13,
    "start_time": "2022-06-14T15:36:41.735Z"
   },
   {
    "duration": 12,
    "start_time": "2022-06-14T15:36:41.751Z"
   },
   {
    "duration": 21,
    "start_time": "2022-06-14T15:36:41.765Z"
   },
   {
    "duration": 15,
    "start_time": "2022-06-14T15:36:41.788Z"
   },
   {
    "duration": 52,
    "start_time": "2022-06-14T15:36:41.805Z"
   },
   {
    "duration": 20,
    "start_time": "2022-06-14T15:36:41.860Z"
   },
   {
    "duration": 16,
    "start_time": "2022-06-14T15:36:41.882Z"
   },
   {
    "duration": 30,
    "start_time": "2022-06-14T15:36:41.901Z"
   },
   {
    "duration": 35,
    "start_time": "2022-06-14T15:36:41.933Z"
   },
   {
    "duration": 11,
    "start_time": "2022-06-14T15:36:41.970Z"
   },
   {
    "duration": 27,
    "start_time": "2022-06-14T15:36:41.983Z"
   },
   {
    "duration": 403,
    "start_time": "2022-06-14T15:36:42.012Z"
   },
   {
    "duration": 320,
    "start_time": "2022-06-14T15:36:42.417Z"
   },
   {
    "duration": 23,
    "start_time": "2022-06-14T15:36:42.739Z"
   },
   {
    "duration": 176,
    "start_time": "2022-06-14T15:36:42.764Z"
   },
   {
    "duration": 5,
    "start_time": "2022-06-14T15:36:42.941Z"
   },
   {
    "duration": 7,
    "start_time": "2022-06-14T15:36:42.958Z"
   },
   {
    "duration": 260,
    "start_time": "2022-06-14T15:36:42.966Z"
   },
   {
    "duration": 6,
    "start_time": "2022-06-14T15:36:43.228Z"
   },
   {
    "duration": 322,
    "start_time": "2022-06-14T15:36:43.238Z"
   },
   {
    "duration": 361,
    "start_time": "2022-06-14T15:36:43.562Z"
   },
   {
    "duration": 18,
    "start_time": "2022-06-14T15:36:43.925Z"
   },
   {
    "duration": 549,
    "start_time": "2022-06-14T15:36:43.958Z"
   },
   {
    "duration": 17,
    "start_time": "2022-06-14T15:36:44.509Z"
   },
   {
    "duration": 2447,
    "start_time": "2022-06-14T15:36:44.527Z"
   },
   {
    "duration": 332,
    "start_time": "2022-06-14T15:36:46.977Z"
   },
   {
    "duration": 293,
    "start_time": "2022-06-14T15:36:47.311Z"
   },
   {
    "duration": 20,
    "start_time": "2022-06-14T15:36:47.606Z"
   },
   {
    "duration": 31,
    "start_time": "2022-06-14T15:36:47.627Z"
   },
   {
    "duration": 16,
    "start_time": "2022-06-14T15:36:47.660Z"
   },
   {
    "duration": 15,
    "start_time": "2022-06-14T15:36:47.678Z"
   },
   {
    "duration": 18,
    "start_time": "2022-06-14T15:36:47.695Z"
   },
   {
    "duration": 45,
    "start_time": "2022-06-14T15:36:47.715Z"
   },
   {
    "duration": 223,
    "start_time": "2022-06-14T15:36:47.762Z"
   },
   {
    "duration": 14,
    "start_time": "2022-06-14T15:36:47.987Z"
   },
   {
    "duration": 14,
    "start_time": "2022-06-14T15:39:34.669Z"
   },
   {
    "duration": 14,
    "start_time": "2022-06-14T15:44:01.679Z"
   },
   {
    "duration": 1127,
    "start_time": "2022-06-14T15:44:16.296Z"
   },
   {
    "duration": 67,
    "start_time": "2022-06-14T15:44:17.425Z"
   },
   {
    "duration": 24,
    "start_time": "2022-06-14T15:44:17.494Z"
   },
   {
    "duration": 44,
    "start_time": "2022-06-14T15:44:17.520Z"
   },
   {
    "duration": 14,
    "start_time": "2022-06-14T15:44:17.566Z"
   },
   {
    "duration": 15,
    "start_time": "2022-06-14T15:44:17.582Z"
   },
   {
    "duration": 6,
    "start_time": "2022-06-14T15:44:17.598Z"
   },
   {
    "duration": 144,
    "start_time": "2022-06-14T15:44:17.605Z"
   },
   {
    "duration": 17,
    "start_time": "2022-06-14T15:44:17.751Z"
   },
   {
    "duration": 5,
    "start_time": "2022-06-14T15:44:17.771Z"
   },
   {
    "duration": 21,
    "start_time": "2022-06-14T15:44:17.777Z"
   },
   {
    "duration": 9,
    "start_time": "2022-06-14T15:44:17.799Z"
   },
   {
    "duration": 22,
    "start_time": "2022-06-14T15:44:17.810Z"
   },
   {
    "duration": 15,
    "start_time": "2022-06-14T15:44:17.859Z"
   },
   {
    "duration": 15,
    "start_time": "2022-06-14T15:44:17.875Z"
   },
   {
    "duration": 22,
    "start_time": "2022-06-14T15:44:17.892Z"
   },
   {
    "duration": 9,
    "start_time": "2022-06-14T15:44:17.916Z"
   },
   {
    "duration": 6,
    "start_time": "2022-06-14T15:44:17.927Z"
   },
   {
    "duration": 18,
    "start_time": "2022-06-14T15:44:17.959Z"
   },
   {
    "duration": 390,
    "start_time": "2022-06-14T15:44:17.978Z"
   },
   {
    "duration": 345,
    "start_time": "2022-06-14T15:44:18.369Z"
   },
   {
    "duration": 14,
    "start_time": "2022-06-14T15:44:18.715Z"
   },
   {
    "duration": 195,
    "start_time": "2022-06-14T15:44:18.731Z"
   },
   {
    "duration": 5,
    "start_time": "2022-06-14T15:44:18.928Z"
   },
   {
    "duration": 12,
    "start_time": "2022-06-14T15:44:18.934Z"
   },
   {
    "duration": 298,
    "start_time": "2022-06-14T15:44:18.948Z"
   },
   {
    "duration": 6,
    "start_time": "2022-06-14T15:44:19.248Z"
   },
   {
    "duration": 334,
    "start_time": "2022-06-14T15:44:19.257Z"
   },
   {
    "duration": 347,
    "start_time": "2022-06-14T15:44:19.593Z"
   },
   {
    "duration": 27,
    "start_time": "2022-06-14T15:44:19.942Z"
   },
   {
    "duration": 539,
    "start_time": "2022-06-14T15:44:19.971Z"
   },
   {
    "duration": 18,
    "start_time": "2022-06-14T15:44:20.512Z"
   },
   {
    "duration": 2186,
    "start_time": "2022-06-14T15:44:20.532Z"
   },
   {
    "duration": 331,
    "start_time": "2022-06-14T15:44:22.720Z"
   },
   {
    "duration": 282,
    "start_time": "2022-06-14T15:44:23.053Z"
   },
   {
    "duration": 28,
    "start_time": "2022-06-14T15:44:23.337Z"
   },
   {
    "duration": 15,
    "start_time": "2022-06-14T15:44:23.367Z"
   },
   {
    "duration": 16,
    "start_time": "2022-06-14T15:44:23.384Z"
   },
   {
    "duration": 15,
    "start_time": "2022-06-14T15:44:23.401Z"
   },
   {
    "duration": 45,
    "start_time": "2022-06-14T15:44:23.418Z"
   },
   {
    "duration": 15,
    "start_time": "2022-06-14T15:44:23.464Z"
   },
   {
    "duration": 234,
    "start_time": "2022-06-14T15:44:23.481Z"
   },
   {
    "duration": 15,
    "start_time": "2022-06-14T15:44:23.717Z"
   },
   {
    "duration": 29,
    "start_time": "2022-06-14T15:44:23.734Z"
   },
   {
    "duration": 6,
    "start_time": "2022-06-14T15:46:10.808Z"
   },
   {
    "duration": 110,
    "start_time": "2022-06-14T15:53:34.933Z"
   },
   {
    "duration": 14,
    "start_time": "2022-06-14T15:54:37.958Z"
   },
   {
    "duration": 16,
    "start_time": "2022-06-14T15:55:09.779Z"
   },
   {
    "duration": 13,
    "start_time": "2022-06-14T15:55:28.718Z"
   },
   {
    "duration": 14,
    "start_time": "2022-06-14T15:56:33.442Z"
   },
   {
    "duration": 6,
    "start_time": "2022-06-14T15:56:36.692Z"
   },
   {
    "duration": 19,
    "start_time": "2022-06-14T16:10:58.719Z"
   },
   {
    "duration": 25,
    "start_time": "2022-06-14T16:39:24.969Z"
   },
   {
    "duration": 18,
    "start_time": "2022-06-14T16:40:58.424Z"
   },
   {
    "duration": 14,
    "start_time": "2022-06-14T16:41:47.698Z"
   },
   {
    "duration": 15,
    "start_time": "2022-06-14T16:42:00.032Z"
   },
   {
    "duration": 26,
    "start_time": "2022-06-14T16:43:03.113Z"
   },
   {
    "duration": 292,
    "start_time": "2022-06-14T16:43:45.037Z"
   },
   {
    "duration": 25,
    "start_time": "2022-06-14T16:44:18.222Z"
   },
   {
    "duration": 250,
    "start_time": "2022-06-14T16:47:35.759Z"
   },
   {
    "duration": 199,
    "start_time": "2022-06-14T16:48:05.622Z"
   },
   {
    "duration": 13,
    "start_time": "2022-06-14T16:48:28.290Z"
   },
   {
    "duration": 230,
    "start_time": "2022-06-14T16:48:33.892Z"
   },
   {
    "duration": 32,
    "start_time": "2022-06-14T16:49:01.806Z"
   },
   {
    "duration": 264,
    "start_time": "2022-06-14T16:49:06.239Z"
   },
   {
    "duration": 1510,
    "start_time": "2022-06-14T16:49:17.699Z"
   },
   {
    "duration": 141,
    "start_time": "2022-06-14T16:49:38.143Z"
   },
   {
    "duration": 275,
    "start_time": "2022-06-14T16:49:46.104Z"
   },
   {
    "duration": 1097,
    "start_time": "2022-06-14T16:49:53.038Z"
   },
   {
    "duration": 40,
    "start_time": "2022-06-14T16:50:04.544Z"
   },
   {
    "duration": 590,
    "start_time": "2022-06-14T16:50:32.211Z"
   },
   {
    "duration": 613,
    "start_time": "2022-06-14T16:51:04.328Z"
   },
   {
    "duration": 648,
    "start_time": "2022-06-14T16:51:26.354Z"
   },
   {
    "duration": 219,
    "start_time": "2022-06-14T16:51:35.313Z"
   },
   {
    "duration": 245,
    "start_time": "2022-06-14T16:51:54.633Z"
   },
   {
    "duration": 1253,
    "start_time": "2022-06-14T16:52:11.675Z"
   },
   {
    "duration": 72,
    "start_time": "2022-06-14T16:52:12.930Z"
   },
   {
    "duration": 25,
    "start_time": "2022-06-14T16:52:13.004Z"
   },
   {
    "duration": 62,
    "start_time": "2022-06-14T16:52:13.031Z"
   },
   {
    "duration": 22,
    "start_time": "2022-06-14T16:52:13.095Z"
   },
   {
    "duration": 21,
    "start_time": "2022-06-14T16:52:13.119Z"
   },
   {
    "duration": 20,
    "start_time": "2022-06-14T16:52:13.143Z"
   },
   {
    "duration": 160,
    "start_time": "2022-06-14T16:52:13.165Z"
   },
   {
    "duration": 15,
    "start_time": "2022-06-14T16:52:13.328Z"
   },
   {
    "duration": 10,
    "start_time": "2022-06-14T16:52:13.358Z"
   },
   {
    "duration": 23,
    "start_time": "2022-06-14T16:52:13.375Z"
   },
   {
    "duration": 10,
    "start_time": "2022-06-14T16:52:13.399Z"
   },
   {
    "duration": 16,
    "start_time": "2022-06-14T16:52:13.410Z"
   },
   {
    "duration": 34,
    "start_time": "2022-06-14T16:52:13.427Z"
   },
   {
    "duration": 23,
    "start_time": "2022-06-14T16:52:13.463Z"
   },
   {
    "duration": 23,
    "start_time": "2022-06-14T16:52:13.489Z"
   },
   {
    "duration": 12,
    "start_time": "2022-06-14T16:52:13.514Z"
   },
   {
    "duration": 5,
    "start_time": "2022-06-14T16:52:13.528Z"
   },
   {
    "duration": 48,
    "start_time": "2022-06-14T16:52:13.535Z"
   },
   {
    "duration": 437,
    "start_time": "2022-06-14T16:52:13.585Z"
   },
   {
    "duration": 366,
    "start_time": "2022-06-14T16:52:14.024Z"
   },
   {
    "duration": 15,
    "start_time": "2022-06-14T16:52:14.391Z"
   },
   {
    "duration": 209,
    "start_time": "2022-06-14T16:52:14.408Z"
   },
   {
    "duration": 5,
    "start_time": "2022-06-14T16:52:14.619Z"
   },
   {
    "duration": 17,
    "start_time": "2022-06-14T16:52:14.626Z"
   },
   {
    "duration": 329,
    "start_time": "2022-06-14T16:52:14.645Z"
   },
   {
    "duration": 8,
    "start_time": "2022-06-14T16:52:14.977Z"
   },
   {
    "duration": 377,
    "start_time": "2022-06-14T16:52:14.989Z"
   },
   {
    "duration": 408,
    "start_time": "2022-06-14T16:52:15.368Z"
   },
   {
    "duration": 26,
    "start_time": "2022-06-14T16:52:15.779Z"
   },
   {
    "duration": 617,
    "start_time": "2022-06-14T16:52:15.807Z"
   },
   {
    "duration": 17,
    "start_time": "2022-06-14T16:52:16.426Z"
   },
   {
    "duration": 2416,
    "start_time": "2022-06-14T16:52:16.445Z"
   },
   {
    "duration": 355,
    "start_time": "2022-06-14T16:52:18.863Z"
   },
   {
    "duration": 250,
    "start_time": "2022-06-14T16:52:19.220Z"
   },
   {
    "duration": 287,
    "start_time": "2022-06-14T16:52:19.481Z"
   },
   {
    "duration": 19,
    "start_time": "2022-06-14T16:52:19.770Z"
   },
   {
    "duration": 20,
    "start_time": "2022-06-14T16:52:19.790Z"
   },
   {
    "duration": 17,
    "start_time": "2022-06-14T16:52:19.811Z"
   },
   {
    "duration": 14,
    "start_time": "2022-06-14T16:52:19.829Z"
   },
   {
    "duration": 21,
    "start_time": "2022-06-14T16:52:19.859Z"
   },
   {
    "duration": 27,
    "start_time": "2022-06-14T16:52:19.884Z"
   },
   {
    "duration": 233,
    "start_time": "2022-06-14T16:52:19.912Z"
   },
   {
    "duration": 24,
    "start_time": "2022-06-14T16:52:20.147Z"
   },
   {
    "duration": 51,
    "start_time": "2022-06-14T16:52:20.173Z"
   },
   {
    "duration": 266,
    "start_time": "2022-06-14T16:52:43.775Z"
   },
   {
    "duration": 1649,
    "start_time": "2022-06-14T16:53:29.873Z"
   },
   {
    "duration": 34,
    "start_time": "2022-06-14T16:54:30.441Z"
   },
   {
    "duration": 37,
    "start_time": "2022-06-14T16:54:54.189Z"
   },
   {
    "duration": 36,
    "start_time": "2022-06-14T16:55:43.010Z"
   },
   {
    "duration": 46,
    "start_time": "2022-06-14T16:56:21.232Z"
   },
   {
    "duration": 1737,
    "start_time": "2022-06-14T16:57:53.313Z"
   },
   {
    "duration": 141,
    "start_time": "2022-06-14T16:58:20.881Z"
   },
   {
    "duration": 43,
    "start_time": "2022-06-14T17:02:39.640Z"
   },
   {
    "duration": 25,
    "start_time": "2022-06-14T17:02:45.315Z"
   },
   {
    "duration": 29,
    "start_time": "2022-06-14T17:02:51.015Z"
   },
   {
    "duration": 32,
    "start_time": "2022-06-14T17:03:04.019Z"
   },
   {
    "duration": 1193,
    "start_time": "2022-06-14T17:03:08.971Z"
   },
   {
    "duration": 70,
    "start_time": "2022-06-14T17:03:10.167Z"
   },
   {
    "duration": 32,
    "start_time": "2022-06-14T17:03:10.239Z"
   },
   {
    "duration": 31,
    "start_time": "2022-06-14T17:03:10.274Z"
   },
   {
    "duration": 16,
    "start_time": "2022-06-14T17:03:10.307Z"
   },
   {
    "duration": 37,
    "start_time": "2022-06-14T17:03:10.325Z"
   },
   {
    "duration": 8,
    "start_time": "2022-06-14T17:03:10.369Z"
   },
   {
    "duration": 146,
    "start_time": "2022-06-14T17:03:10.379Z"
   },
   {
    "duration": 18,
    "start_time": "2022-06-14T17:03:10.526Z"
   },
   {
    "duration": 27,
    "start_time": "2022-06-14T17:03:10.547Z"
   },
   {
    "duration": 22,
    "start_time": "2022-06-14T17:03:10.576Z"
   },
   {
    "duration": 10,
    "start_time": "2022-06-14T17:03:10.600Z"
   },
   {
    "duration": 16,
    "start_time": "2022-06-14T17:03:10.612Z"
   },
   {
    "duration": 15,
    "start_time": "2022-06-14T17:03:10.630Z"
   },
   {
    "duration": 13,
    "start_time": "2022-06-14T17:03:10.659Z"
   },
   {
    "duration": 24,
    "start_time": "2022-06-14T17:03:10.674Z"
   },
   {
    "duration": 10,
    "start_time": "2022-06-14T17:03:10.700Z"
   },
   {
    "duration": 6,
    "start_time": "2022-06-14T17:03:10.712Z"
   },
   {
    "duration": 58,
    "start_time": "2022-06-14T17:03:10.719Z"
   },
   {
    "duration": 465,
    "start_time": "2022-06-14T17:03:10.779Z"
   },
   {
    "duration": 376,
    "start_time": "2022-06-14T17:03:11.245Z"
   },
   {
    "duration": 16,
    "start_time": "2022-06-14T17:03:11.624Z"
   },
   {
    "duration": 250,
    "start_time": "2022-06-14T17:03:11.642Z"
   },
   {
    "duration": 6,
    "start_time": "2022-06-14T17:03:11.894Z"
   },
   {
    "duration": 34,
    "start_time": "2022-06-14T17:03:11.902Z"
   },
   {
    "duration": 391,
    "start_time": "2022-06-14T17:03:11.939Z"
   },
   {
    "duration": 9,
    "start_time": "2022-06-14T17:03:12.332Z"
   },
   {
    "duration": 427,
    "start_time": "2022-06-14T17:03:12.345Z"
   },
   {
    "duration": 380,
    "start_time": "2022-06-14T17:03:12.775Z"
   },
   {
    "duration": 22,
    "start_time": "2022-06-14T17:03:13.158Z"
   },
   {
    "duration": 582,
    "start_time": "2022-06-14T17:03:13.182Z"
   },
   {
    "duration": 30,
    "start_time": "2022-06-14T17:03:13.767Z"
   },
   {
    "duration": 2412,
    "start_time": "2022-06-14T17:03:13.800Z"
   },
   {
    "duration": 338,
    "start_time": "2022-06-14T17:03:16.214Z"
   },
   {
    "duration": 136,
    "start_time": "2022-06-14T17:03:16.553Z"
   },
   {
    "duration": 0,
    "start_time": "2022-06-14T17:03:16.691Z"
   },
   {
    "duration": 0,
    "start_time": "2022-06-14T17:03:16.692Z"
   },
   {
    "duration": 0,
    "start_time": "2022-06-14T17:03:16.693Z"
   },
   {
    "duration": 0,
    "start_time": "2022-06-14T17:03:16.694Z"
   },
   {
    "duration": 0,
    "start_time": "2022-06-14T17:03:16.695Z"
   },
   {
    "duration": 0,
    "start_time": "2022-06-14T17:03:16.695Z"
   },
   {
    "duration": 0,
    "start_time": "2022-06-14T17:03:16.696Z"
   },
   {
    "duration": 0,
    "start_time": "2022-06-14T17:03:16.697Z"
   },
   {
    "duration": 0,
    "start_time": "2022-06-14T17:03:16.698Z"
   },
   {
    "duration": 0,
    "start_time": "2022-06-14T17:03:16.699Z"
   },
   {
    "duration": 1449,
    "start_time": "2022-06-14T17:03:40.381Z"
   },
   {
    "duration": 205,
    "start_time": "2022-06-14T17:04:09.975Z"
   },
   {
    "duration": 257,
    "start_time": "2022-06-14T17:04:31.718Z"
   },
   {
    "duration": 418,
    "start_time": "2022-06-14T17:06:10.777Z"
   },
   {
    "duration": 535,
    "start_time": "2022-06-14T17:06:20.941Z"
   },
   {
    "duration": 156,
    "start_time": "2022-06-14T17:06:35.050Z"
   },
   {
    "duration": 38,
    "start_time": "2022-06-14T17:13:17.111Z"
   },
   {
    "duration": 552,
    "start_time": "2022-06-14T17:14:42.271Z"
   },
   {
    "duration": 22,
    "start_time": "2022-06-14T17:15:25.855Z"
   },
   {
    "duration": 13,
    "start_time": "2022-06-14T17:17:05.075Z"
   },
   {
    "duration": 6,
    "start_time": "2022-06-14T17:17:12.310Z"
   },
   {
    "duration": 11,
    "start_time": "2022-06-14T17:17:30.230Z"
   },
   {
    "duration": 4,
    "start_time": "2022-06-14T17:17:34.974Z"
   },
   {
    "duration": 6,
    "start_time": "2022-06-14T17:17:44.226Z"
   },
   {
    "duration": 30,
    "start_time": "2022-06-14T17:21:43.454Z"
   },
   {
    "duration": 59,
    "start_time": "2022-06-14T17:22:09.530Z"
   },
   {
    "duration": 15,
    "start_time": "2022-06-14T17:22:18.438Z"
   },
   {
    "duration": 21,
    "start_time": "2022-06-14T17:22:31.743Z"
   },
   {
    "duration": 13,
    "start_time": "2022-06-14T17:23:00.937Z"
   },
   {
    "duration": 12,
    "start_time": "2022-06-14T17:23:13.302Z"
   },
   {
    "duration": 11,
    "start_time": "2022-06-14T17:23:33.614Z"
   },
   {
    "duration": 10,
    "start_time": "2022-06-14T17:23:50.014Z"
   },
   {
    "duration": 1146,
    "start_time": "2022-06-14T17:24:16.672Z"
   },
   {
    "duration": 70,
    "start_time": "2022-06-14T17:24:17.820Z"
   },
   {
    "duration": 24,
    "start_time": "2022-06-14T17:24:17.891Z"
   },
   {
    "duration": 53,
    "start_time": "2022-06-14T17:24:17.917Z"
   },
   {
    "duration": 15,
    "start_time": "2022-06-14T17:24:17.973Z"
   },
   {
    "duration": 18,
    "start_time": "2022-06-14T17:24:17.990Z"
   },
   {
    "duration": 6,
    "start_time": "2022-06-14T17:24:18.010Z"
   },
   {
    "duration": 135,
    "start_time": "2022-06-14T17:24:18.018Z"
   },
   {
    "duration": 22,
    "start_time": "2022-06-14T17:24:18.155Z"
   },
   {
    "duration": 5,
    "start_time": "2022-06-14T17:24:18.179Z"
   },
   {
    "duration": 19,
    "start_time": "2022-06-14T17:24:18.186Z"
   },
   {
    "duration": 9,
    "start_time": "2022-06-14T17:24:18.207Z"
   },
   {
    "duration": 16,
    "start_time": "2022-06-14T17:24:18.217Z"
   },
   {
    "duration": 17,
    "start_time": "2022-06-14T17:24:18.258Z"
   },
   {
    "duration": 8,
    "start_time": "2022-06-14T17:24:18.277Z"
   },
   {
    "duration": 22,
    "start_time": "2022-06-14T17:24:18.287Z"
   },
   {
    "duration": 8,
    "start_time": "2022-06-14T17:24:18.311Z"
   },
   {
    "duration": 47,
    "start_time": "2022-06-14T17:24:18.321Z"
   },
   {
    "duration": 20,
    "start_time": "2022-06-14T17:24:18.371Z"
   },
   {
    "duration": 397,
    "start_time": "2022-06-14T17:24:18.393Z"
   },
   {
    "duration": 330,
    "start_time": "2022-06-14T17:24:18.793Z"
   },
   {
    "duration": 15,
    "start_time": "2022-06-14T17:24:19.125Z"
   },
   {
    "duration": 195,
    "start_time": "2022-06-14T17:24:19.142Z"
   },
   {
    "duration": 5,
    "start_time": "2022-06-14T17:24:19.338Z"
   },
   {
    "duration": 26,
    "start_time": "2022-06-14T17:24:19.344Z"
   },
   {
    "duration": 298,
    "start_time": "2022-06-14T17:24:19.372Z"
   },
   {
    "duration": 7,
    "start_time": "2022-06-14T17:24:19.672Z"
   },
   {
    "duration": 344,
    "start_time": "2022-06-14T17:24:19.680Z"
   },
   {
    "duration": 358,
    "start_time": "2022-06-14T17:24:20.026Z"
   },
   {
    "duration": 17,
    "start_time": "2022-06-14T17:24:20.386Z"
   },
   {
    "duration": 608,
    "start_time": "2022-06-14T17:24:20.405Z"
   },
   {
    "duration": 17,
    "start_time": "2022-06-14T17:24:21.014Z"
   },
   {
    "duration": 2291,
    "start_time": "2022-06-14T17:24:21.032Z"
   },
   {
    "duration": 352,
    "start_time": "2022-06-14T17:24:23.325Z"
   },
   {
    "duration": 126,
    "start_time": "2022-06-14T17:24:23.679Z"
   },
   {
    "duration": 0,
    "start_time": "2022-06-14T17:24:23.808Z"
   },
   {
    "duration": 0,
    "start_time": "2022-06-14T17:24:23.810Z"
   },
   {
    "duration": 0,
    "start_time": "2022-06-14T17:24:23.811Z"
   },
   {
    "duration": 0,
    "start_time": "2022-06-14T17:24:23.813Z"
   },
   {
    "duration": 0,
    "start_time": "2022-06-14T17:24:23.815Z"
   },
   {
    "duration": 0,
    "start_time": "2022-06-14T17:24:23.816Z"
   },
   {
    "duration": 0,
    "start_time": "2022-06-14T17:24:23.817Z"
   },
   {
    "duration": 0,
    "start_time": "2022-06-14T17:24:23.819Z"
   },
   {
    "duration": 0,
    "start_time": "2022-06-14T17:24:23.821Z"
   },
   {
    "duration": 0,
    "start_time": "2022-06-14T17:24:23.823Z"
   },
   {
    "duration": 0,
    "start_time": "2022-06-14T17:24:23.824Z"
   },
   {
    "duration": 24,
    "start_time": "2022-06-14T17:24:54.574Z"
   },
   {
    "duration": 621,
    "start_time": "2022-06-14T17:26:29.348Z"
   },
   {
    "duration": 24,
    "start_time": "2022-06-14T17:26:57.746Z"
   },
   {
    "duration": 589,
    "start_time": "2022-06-14T17:27:01.330Z"
   },
   {
    "duration": 668,
    "start_time": "2022-06-14T17:27:49.851Z"
   },
   {
    "duration": 622,
    "start_time": "2022-06-14T17:29:21.176Z"
   },
   {
    "duration": 669,
    "start_time": "2022-06-14T17:29:51.335Z"
   },
   {
    "duration": 30,
    "start_time": "2022-06-14T17:31:52.904Z"
   },
   {
    "duration": 10,
    "start_time": "2022-06-14T17:32:03.264Z"
   },
   {
    "duration": 9,
    "start_time": "2022-06-14T17:32:07.701Z"
   },
   {
    "duration": 3,
    "start_time": "2022-06-14T17:35:22.348Z"
   },
   {
    "duration": 1192,
    "start_time": "2022-06-14T17:35:26.928Z"
   },
   {
    "duration": 65,
    "start_time": "2022-06-14T17:35:28.123Z"
   },
   {
    "duration": 24,
    "start_time": "2022-06-14T17:35:28.189Z"
   },
   {
    "duration": 43,
    "start_time": "2022-06-14T17:35:28.214Z"
   },
   {
    "duration": 14,
    "start_time": "2022-06-14T17:35:28.259Z"
   },
   {
    "duration": 25,
    "start_time": "2022-06-14T17:35:28.275Z"
   },
   {
    "duration": 5,
    "start_time": "2022-06-14T17:35:28.302Z"
   },
   {
    "duration": 136,
    "start_time": "2022-06-14T17:35:28.309Z"
   },
   {
    "duration": 18,
    "start_time": "2022-06-14T17:35:28.447Z"
   },
   {
    "duration": 5,
    "start_time": "2022-06-14T17:35:28.467Z"
   },
   {
    "duration": 18,
    "start_time": "2022-06-14T17:35:28.474Z"
   },
   {
    "duration": 9,
    "start_time": "2022-06-14T17:35:28.493Z"
   },
   {
    "duration": 15,
    "start_time": "2022-06-14T17:35:28.504Z"
   },
   {
    "duration": 44,
    "start_time": "2022-06-14T17:35:28.522Z"
   },
   {
    "duration": 25,
    "start_time": "2022-06-14T17:35:28.568Z"
   },
   {
    "duration": 40,
    "start_time": "2022-06-14T17:35:28.595Z"
   },
   {
    "duration": 30,
    "start_time": "2022-06-14T17:35:28.637Z"
   },
   {
    "duration": 14,
    "start_time": "2022-06-14T17:35:28.669Z"
   },
   {
    "duration": 41,
    "start_time": "2022-06-14T17:35:28.684Z"
   },
   {
    "duration": 394,
    "start_time": "2022-06-14T17:35:28.727Z"
   },
   {
    "duration": 342,
    "start_time": "2022-06-14T17:35:29.123Z"
   },
   {
    "duration": 15,
    "start_time": "2022-06-14T17:35:29.467Z"
   },
   {
    "duration": 201,
    "start_time": "2022-06-14T17:35:29.484Z"
   },
   {
    "duration": 5,
    "start_time": "2022-06-14T17:35:29.687Z"
   },
   {
    "duration": 9,
    "start_time": "2022-06-14T17:35:29.694Z"
   },
   {
    "duration": 293,
    "start_time": "2022-06-14T17:35:29.705Z"
   },
   {
    "duration": 6,
    "start_time": "2022-06-14T17:35:30.000Z"
   },
   {
    "duration": 346,
    "start_time": "2022-06-14T17:35:30.008Z"
   },
   {
    "duration": 357,
    "start_time": "2022-06-14T17:35:30.356Z"
   },
   {
    "duration": 17,
    "start_time": "2022-06-14T17:35:30.714Z"
   },
   {
    "duration": 578,
    "start_time": "2022-06-14T17:35:30.733Z"
   },
   {
    "duration": 17,
    "start_time": "2022-06-14T17:35:31.313Z"
   },
   {
    "duration": 4157,
    "start_time": "2022-06-14T17:35:31.332Z"
   },
   {
    "duration": 682,
    "start_time": "2022-06-14T17:35:35.490Z"
   },
   {
    "duration": 85,
    "start_time": "2022-06-14T17:35:36.174Z"
   },
   {
    "duration": 636,
    "start_time": "2022-06-14T17:35:36.260Z"
   },
   {
    "duration": 0,
    "start_time": "2022-06-14T17:35:36.898Z"
   },
   {
    "duration": 0,
    "start_time": "2022-06-14T17:35:36.900Z"
   },
   {
    "duration": 0,
    "start_time": "2022-06-14T17:35:36.901Z"
   },
   {
    "duration": 0,
    "start_time": "2022-06-14T17:35:36.959Z"
   },
   {
    "duration": 0,
    "start_time": "2022-06-14T17:35:36.960Z"
   },
   {
    "duration": 0,
    "start_time": "2022-06-14T17:35:36.962Z"
   },
   {
    "duration": 0,
    "start_time": "2022-06-14T17:35:36.963Z"
   },
   {
    "duration": 0,
    "start_time": "2022-06-14T17:35:36.964Z"
   },
   {
    "duration": 0,
    "start_time": "2022-06-14T17:35:36.966Z"
   },
   {
    "duration": 0,
    "start_time": "2022-06-14T17:35:36.967Z"
   },
   {
    "duration": 612,
    "start_time": "2022-06-14T17:36:36.610Z"
   },
   {
    "duration": 661,
    "start_time": "2022-06-14T17:36:51.533Z"
   },
   {
    "duration": 658,
    "start_time": "2022-06-14T17:37:03.070Z"
   },
   {
    "duration": 660,
    "start_time": "2022-06-14T17:37:44.965Z"
   },
   {
    "duration": 26,
    "start_time": "2022-06-14T17:38:55.832Z"
   },
   {
    "duration": 549,
    "start_time": "2022-06-14T17:39:42.415Z"
   },
   {
    "duration": 560,
    "start_time": "2022-06-14T17:39:58.542Z"
   },
   {
    "duration": 559,
    "start_time": "2022-06-14T17:41:47.550Z"
   },
   {
    "duration": 595,
    "start_time": "2022-06-14T17:42:08.028Z"
   },
   {
    "duration": 199,
    "start_time": "2022-06-14T17:43:58.528Z"
   },
   {
    "duration": 346,
    "start_time": "2022-06-14T17:44:09.752Z"
   },
   {
    "duration": 204,
    "start_time": "2022-06-14T17:44:42.259Z"
   },
   {
    "duration": 196,
    "start_time": "2022-06-14T17:44:54.347Z"
   },
   {
    "duration": 573,
    "start_time": "2022-06-14T17:45:05.643Z"
   },
   {
    "duration": 541,
    "start_time": "2022-06-14T17:45:27.554Z"
   },
   {
    "duration": 196,
    "start_time": "2022-06-14T17:47:15.900Z"
   },
   {
    "duration": 25,
    "start_time": "2022-06-14T17:47:25.243Z"
   },
   {
    "duration": 173,
    "start_time": "2022-06-14T17:48:04.152Z"
   },
   {
    "duration": 193,
    "start_time": "2022-06-14T17:50:13.126Z"
   },
   {
    "duration": 617,
    "start_time": "2022-06-14T17:50:25.832Z"
   },
   {
    "duration": 554,
    "start_time": "2022-06-14T17:53:01.307Z"
   },
   {
    "duration": 712,
    "start_time": "2022-06-14T17:53:38.063Z"
   },
   {
    "duration": 26,
    "start_time": "2022-06-14T17:54:06.156Z"
   },
   {
    "duration": 30,
    "start_time": "2022-06-14T17:54:30.959Z"
   },
   {
    "duration": 745,
    "start_time": "2022-06-14T17:55:03.548Z"
   },
   {
    "duration": 535,
    "start_time": "2022-06-14T17:55:28.972Z"
   },
   {
    "duration": 554,
    "start_time": "2022-06-14T17:55:35.413Z"
   },
   {
    "duration": 590,
    "start_time": "2022-06-14T17:55:44.204Z"
   },
   {
    "duration": 420,
    "start_time": "2022-06-14T17:55:58.107Z"
   },
   {
    "duration": 1157,
    "start_time": "2022-06-14T17:56:16.545Z"
   },
   {
    "duration": 64,
    "start_time": "2022-06-14T17:56:17.704Z"
   },
   {
    "duration": 23,
    "start_time": "2022-06-14T17:56:17.770Z"
   },
   {
    "duration": 35,
    "start_time": "2022-06-14T17:56:17.795Z"
   },
   {
    "duration": 27,
    "start_time": "2022-06-14T17:56:17.833Z"
   },
   {
    "duration": 14,
    "start_time": "2022-06-14T17:56:17.862Z"
   },
   {
    "duration": 6,
    "start_time": "2022-06-14T17:56:17.877Z"
   },
   {
    "duration": 155,
    "start_time": "2022-06-14T17:56:17.885Z"
   },
   {
    "duration": 19,
    "start_time": "2022-06-14T17:56:18.042Z"
   },
   {
    "duration": 6,
    "start_time": "2022-06-14T17:56:18.063Z"
   },
   {
    "duration": 28,
    "start_time": "2022-06-14T17:56:18.070Z"
   },
   {
    "duration": 10,
    "start_time": "2022-06-14T17:56:18.099Z"
   },
   {
    "duration": 17,
    "start_time": "2022-06-14T17:56:18.110Z"
   },
   {
    "duration": 38,
    "start_time": "2022-06-14T17:56:18.130Z"
   },
   {
    "duration": 10,
    "start_time": "2022-06-14T17:56:18.171Z"
   },
   {
    "duration": 24,
    "start_time": "2022-06-14T17:56:18.182Z"
   },
   {
    "duration": 10,
    "start_time": "2022-06-14T17:56:18.208Z"
   },
   {
    "duration": 11,
    "start_time": "2022-06-14T17:56:18.220Z"
   },
   {
    "duration": 39,
    "start_time": "2022-06-14T17:56:18.233Z"
   },
   {
    "duration": 376,
    "start_time": "2022-06-14T17:56:18.274Z"
   },
   {
    "duration": 324,
    "start_time": "2022-06-14T17:56:18.652Z"
   },
   {
    "duration": 13,
    "start_time": "2022-06-14T17:56:18.978Z"
   },
   {
    "duration": 177,
    "start_time": "2022-06-14T17:56:18.992Z"
   },
   {
    "duration": 5,
    "start_time": "2022-06-14T17:56:19.171Z"
   },
   {
    "duration": 14,
    "start_time": "2022-06-14T17:56:19.177Z"
   },
   {
    "duration": 298,
    "start_time": "2022-06-14T17:56:19.192Z"
   },
   {
    "duration": 6,
    "start_time": "2022-06-14T17:56:19.492Z"
   },
   {
    "duration": 341,
    "start_time": "2022-06-14T17:56:19.500Z"
   },
   {
    "duration": 388,
    "start_time": "2022-06-14T17:56:19.842Z"
   },
   {
    "duration": 30,
    "start_time": "2022-06-14T17:56:20.232Z"
   },
   {
    "duration": 525,
    "start_time": "2022-06-14T17:56:20.264Z"
   },
   {
    "duration": 17,
    "start_time": "2022-06-14T17:56:20.791Z"
   },
   {
    "duration": 2213,
    "start_time": "2022-06-14T17:56:20.810Z"
   },
   {
    "duration": 364,
    "start_time": "2022-06-14T17:56:23.025Z"
   },
   {
    "duration": 41,
    "start_time": "2022-06-14T17:56:23.391Z"
   },
   {
    "duration": 174,
    "start_time": "2022-06-14T17:56:23.434Z"
   },
   {
    "duration": 315,
    "start_time": "2022-06-14T17:56:23.610Z"
   },
   {
    "duration": 18,
    "start_time": "2022-06-14T17:56:23.926Z"
   },
   {
    "duration": 26,
    "start_time": "2022-06-14T17:56:23.946Z"
   },
   {
    "duration": 17,
    "start_time": "2022-06-14T17:56:23.973Z"
   },
   {
    "duration": 15,
    "start_time": "2022-06-14T17:56:23.994Z"
   },
   {
    "duration": 51,
    "start_time": "2022-06-14T17:56:24.011Z"
   },
   {
    "duration": 15,
    "start_time": "2022-06-14T17:56:24.064Z"
   },
   {
    "duration": 227,
    "start_time": "2022-06-14T17:56:24.080Z"
   },
   {
    "duration": 14,
    "start_time": "2022-06-14T17:56:24.309Z"
   },
   {
    "duration": 18,
    "start_time": "2022-06-14T17:56:24.325Z"
   },
   {
    "duration": 295,
    "start_time": "2022-06-14T17:56:48.737Z"
   },
   {
    "duration": 174,
    "start_time": "2022-06-14T17:57:10.760Z"
   },
   {
    "duration": 596,
    "start_time": "2022-06-14T17:57:30.334Z"
   },
   {
    "duration": 1207,
    "start_time": "2022-06-14T17:58:10.642Z"
   },
   {
    "duration": 74,
    "start_time": "2022-06-14T17:58:11.852Z"
   },
   {
    "duration": 33,
    "start_time": "2022-06-14T17:58:11.929Z"
   },
   {
    "duration": 48,
    "start_time": "2022-06-14T17:58:11.966Z"
   },
   {
    "duration": 21,
    "start_time": "2022-06-14T17:58:12.016Z"
   },
   {
    "duration": 50,
    "start_time": "2022-06-14T17:58:12.039Z"
   },
   {
    "duration": 16,
    "start_time": "2022-06-14T17:58:12.091Z"
   },
   {
    "duration": 124,
    "start_time": "2022-06-14T17:58:12.108Z"
   },
   {
    "duration": 14,
    "start_time": "2022-06-14T17:58:12.233Z"
   },
   {
    "duration": 13,
    "start_time": "2022-06-14T17:58:12.249Z"
   },
   {
    "duration": 27,
    "start_time": "2022-06-14T17:58:12.263Z"
   },
   {
    "duration": 10,
    "start_time": "2022-06-14T17:58:12.292Z"
   },
   {
    "duration": 15,
    "start_time": "2022-06-14T17:58:12.303Z"
   },
   {
    "duration": 13,
    "start_time": "2022-06-14T17:58:12.320Z"
   },
   {
    "duration": 8,
    "start_time": "2022-06-14T17:58:12.359Z"
   },
   {
    "duration": 33,
    "start_time": "2022-06-14T17:58:12.369Z"
   },
   {
    "duration": 9,
    "start_time": "2022-06-14T17:58:12.403Z"
   },
   {
    "duration": 13,
    "start_time": "2022-06-14T17:58:12.413Z"
   },
   {
    "duration": 26,
    "start_time": "2022-06-14T17:58:12.427Z"
   },
   {
    "duration": 377,
    "start_time": "2022-06-14T17:58:12.459Z"
   },
   {
    "duration": 343,
    "start_time": "2022-06-14T17:58:12.839Z"
   },
   {
    "duration": 15,
    "start_time": "2022-06-14T17:58:13.185Z"
   },
   {
    "duration": 196,
    "start_time": "2022-06-14T17:58:13.202Z"
   },
   {
    "duration": 5,
    "start_time": "2022-06-14T17:58:13.400Z"
   },
   {
    "duration": 10,
    "start_time": "2022-06-14T17:58:13.407Z"
   },
   {
    "duration": 303,
    "start_time": "2022-06-14T17:58:13.419Z"
   },
   {
    "duration": 7,
    "start_time": "2022-06-14T17:58:13.725Z"
   },
   {
    "duration": 363,
    "start_time": "2022-06-14T17:58:13.735Z"
   },
   {
    "duration": 371,
    "start_time": "2022-06-14T17:58:14.100Z"
   },
   {
    "duration": 20,
    "start_time": "2022-06-14T17:58:14.473Z"
   },
   {
    "duration": 602,
    "start_time": "2022-06-14T17:58:14.495Z"
   },
   {
    "duration": 18,
    "start_time": "2022-06-14T17:58:15.099Z"
   },
   {
    "duration": 2158,
    "start_time": "2022-06-14T17:58:15.118Z"
   },
   {
    "duration": 359,
    "start_time": "2022-06-14T17:58:17.278Z"
   },
   {
    "duration": 39,
    "start_time": "2022-06-14T17:58:17.639Z"
   },
   {
    "duration": 289,
    "start_time": "2022-06-14T17:58:17.679Z"
   },
   {
    "duration": 0,
    "start_time": "2022-06-14T17:58:17.970Z"
   },
   {
    "duration": 0,
    "start_time": "2022-06-14T17:58:17.971Z"
   },
   {
    "duration": 0,
    "start_time": "2022-06-14T17:58:17.972Z"
   },
   {
    "duration": 0,
    "start_time": "2022-06-14T17:58:17.973Z"
   },
   {
    "duration": 1,
    "start_time": "2022-06-14T17:58:17.974Z"
   },
   {
    "duration": 0,
    "start_time": "2022-06-14T17:58:17.976Z"
   },
   {
    "duration": 0,
    "start_time": "2022-06-14T17:58:17.977Z"
   },
   {
    "duration": 0,
    "start_time": "2022-06-14T17:58:17.978Z"
   },
   {
    "duration": 1,
    "start_time": "2022-06-14T17:58:17.979Z"
   },
   {
    "duration": 0,
    "start_time": "2022-06-14T17:58:17.981Z"
   },
   {
    "duration": 14,
    "start_time": "2022-06-14T18:15:42.480Z"
   },
   {
    "duration": 30,
    "start_time": "2022-06-14T18:18:38.012Z"
   },
   {
    "duration": 20,
    "start_time": "2022-06-14T18:19:26.186Z"
   },
   {
    "duration": 309,
    "start_time": "2022-06-14T18:19:41.588Z"
   },
   {
    "duration": 282,
    "start_time": "2022-06-14T18:20:01.186Z"
   },
   {
    "duration": 138,
    "start_time": "2022-06-14T18:20:30.842Z"
   },
   {
    "duration": 386,
    "start_time": "2022-06-14T18:21:53.010Z"
   },
   {
    "duration": 458,
    "start_time": "2022-06-14T18:23:04.733Z"
   },
   {
    "duration": 739,
    "start_time": "2022-06-14T18:23:11.610Z"
   },
   {
    "duration": 524,
    "start_time": "2022-06-14T18:23:30.946Z"
   },
   {
    "duration": 496,
    "start_time": "2022-06-14T18:23:38.083Z"
   },
   {
    "duration": 491,
    "start_time": "2022-06-14T18:23:42.584Z"
   },
   {
    "duration": 546,
    "start_time": "2022-06-14T18:23:51.954Z"
   },
   {
    "duration": 508,
    "start_time": "2022-06-14T18:23:59.631Z"
   },
   {
    "duration": 337,
    "start_time": "2022-06-14T18:24:27.154Z"
   },
   {
    "duration": 372,
    "start_time": "2022-06-14T18:29:21.005Z"
   },
   {
    "duration": 347,
    "start_time": "2022-06-14T18:29:30.747Z"
   },
   {
    "duration": 355,
    "start_time": "2022-06-14T18:30:32.907Z"
   },
   {
    "duration": 342,
    "start_time": "2022-06-14T18:31:58.604Z"
   },
   {
    "duration": 6,
    "start_time": "2022-06-14T18:32:36.480Z"
   },
   {
    "duration": 332,
    "start_time": "2022-06-14T18:33:23.857Z"
   },
   {
    "duration": 1135,
    "start_time": "2022-06-14T18:33:46.478Z"
   },
   {
    "duration": 67,
    "start_time": "2022-06-14T18:33:47.615Z"
   },
   {
    "duration": 26,
    "start_time": "2022-06-14T18:33:47.683Z"
   },
   {
    "duration": 31,
    "start_time": "2022-06-14T18:33:47.711Z"
   },
   {
    "duration": 28,
    "start_time": "2022-06-14T18:33:47.744Z"
   },
   {
    "duration": 18,
    "start_time": "2022-06-14T18:33:47.773Z"
   },
   {
    "duration": 5,
    "start_time": "2022-06-14T18:33:47.792Z"
   },
   {
    "duration": 136,
    "start_time": "2022-06-14T18:33:47.799Z"
   },
   {
    "duration": 23,
    "start_time": "2022-06-14T18:33:47.936Z"
   },
   {
    "duration": 5,
    "start_time": "2022-06-14T18:33:47.962Z"
   },
   {
    "duration": 22,
    "start_time": "2022-06-14T18:33:47.969Z"
   },
   {
    "duration": 10,
    "start_time": "2022-06-14T18:33:47.992Z"
   },
   {
    "duration": 16,
    "start_time": "2022-06-14T18:33:48.004Z"
   },
   {
    "duration": 40,
    "start_time": "2022-06-14T18:33:48.022Z"
   },
   {
    "duration": 9,
    "start_time": "2022-06-14T18:33:48.064Z"
   },
   {
    "duration": 31,
    "start_time": "2022-06-14T18:33:48.074Z"
   },
   {
    "duration": 10,
    "start_time": "2022-06-14T18:33:48.107Z"
   },
   {
    "duration": 5,
    "start_time": "2022-06-14T18:33:48.119Z"
   },
   {
    "duration": 41,
    "start_time": "2022-06-14T18:33:48.125Z"
   },
   {
    "duration": 378,
    "start_time": "2022-06-14T18:33:48.168Z"
   },
   {
    "duration": 336,
    "start_time": "2022-06-14T18:33:48.548Z"
   },
   {
    "duration": 14,
    "start_time": "2022-06-14T18:33:48.886Z"
   },
   {
    "duration": 183,
    "start_time": "2022-06-14T18:33:48.901Z"
   },
   {
    "duration": 5,
    "start_time": "2022-06-14T18:33:49.085Z"
   },
   {
    "duration": 9,
    "start_time": "2022-06-14T18:33:49.092Z"
   },
   {
    "duration": 304,
    "start_time": "2022-06-14T18:33:49.102Z"
   },
   {
    "duration": 6,
    "start_time": "2022-06-14T18:33:49.408Z"
   },
   {
    "duration": 320,
    "start_time": "2022-06-14T18:33:49.417Z"
   },
   {
    "duration": 353,
    "start_time": "2022-06-14T18:33:49.739Z"
   },
   {
    "duration": 19,
    "start_time": "2022-06-14T18:33:50.094Z"
   },
   {
    "duration": 595,
    "start_time": "2022-06-14T18:33:50.116Z"
   },
   {
    "duration": 16,
    "start_time": "2022-06-14T18:33:50.713Z"
   },
   {
    "duration": 2192,
    "start_time": "2022-06-14T18:33:50.731Z"
   },
   {
    "duration": 324,
    "start_time": "2022-06-14T18:33:52.925Z"
   },
   {
    "duration": 12,
    "start_time": "2022-06-14T18:33:53.251Z"
   },
   {
    "duration": 298,
    "start_time": "2022-06-14T18:33:53.265Z"
   },
   {
    "duration": 367,
    "start_time": "2022-06-14T18:33:53.565Z"
   },
   {
    "duration": 319,
    "start_time": "2022-06-14T18:33:53.934Z"
   },
   {
    "duration": 18,
    "start_time": "2022-06-14T18:33:54.259Z"
   },
   {
    "duration": 14,
    "start_time": "2022-06-14T18:33:54.279Z"
   },
   {
    "duration": 19,
    "start_time": "2022-06-14T18:33:54.295Z"
   },
   {
    "duration": 15,
    "start_time": "2022-06-14T18:33:54.316Z"
   },
   {
    "duration": 19,
    "start_time": "2022-06-14T18:33:54.358Z"
   },
   {
    "duration": 14,
    "start_time": "2022-06-14T18:33:54.379Z"
   },
   {
    "duration": 242,
    "start_time": "2022-06-14T18:33:54.395Z"
   },
   {
    "duration": 20,
    "start_time": "2022-06-14T18:33:54.639Z"
   },
   {
    "duration": 13,
    "start_time": "2022-06-14T18:33:54.661Z"
   },
   {
    "duration": 421,
    "start_time": "2022-06-14T18:35:04.796Z"
   },
   {
    "duration": 331,
    "start_time": "2022-06-14T18:35:15.428Z"
   },
   {
    "duration": 1109,
    "start_time": "2022-06-14T18:35:38.999Z"
   },
   {
    "duration": 68,
    "start_time": "2022-06-14T18:35:40.110Z"
   },
   {
    "duration": 27,
    "start_time": "2022-06-14T18:35:40.180Z"
   },
   {
    "duration": 32,
    "start_time": "2022-06-14T18:35:40.209Z"
   },
   {
    "duration": 15,
    "start_time": "2022-06-14T18:35:40.260Z"
   },
   {
    "duration": 16,
    "start_time": "2022-06-14T18:35:40.277Z"
   },
   {
    "duration": 5,
    "start_time": "2022-06-14T18:35:40.295Z"
   },
   {
    "duration": 147,
    "start_time": "2022-06-14T18:35:40.302Z"
   },
   {
    "duration": 20,
    "start_time": "2022-06-14T18:35:40.451Z"
   },
   {
    "duration": 6,
    "start_time": "2022-06-14T18:35:40.473Z"
   },
   {
    "duration": 19,
    "start_time": "2022-06-14T18:35:40.481Z"
   },
   {
    "duration": 10,
    "start_time": "2022-06-14T18:35:40.502Z"
   },
   {
    "duration": 49,
    "start_time": "2022-06-14T18:35:40.514Z"
   },
   {
    "duration": 15,
    "start_time": "2022-06-14T18:35:40.567Z"
   },
   {
    "duration": 9,
    "start_time": "2022-06-14T18:35:40.584Z"
   },
   {
    "duration": 22,
    "start_time": "2022-06-14T18:35:40.595Z"
   },
   {
    "duration": 43,
    "start_time": "2022-06-14T18:35:40.619Z"
   },
   {
    "duration": 6,
    "start_time": "2022-06-14T18:35:40.664Z"
   },
   {
    "duration": 22,
    "start_time": "2022-06-14T18:35:40.672Z"
   },
   {
    "duration": 420,
    "start_time": "2022-06-14T18:35:40.697Z"
   },
   {
    "duration": 322,
    "start_time": "2022-06-14T18:35:41.119Z"
   },
   {
    "duration": 25,
    "start_time": "2022-06-14T18:35:41.443Z"
   },
   {
    "duration": 181,
    "start_time": "2022-06-14T18:35:41.470Z"
   },
   {
    "duration": 7,
    "start_time": "2022-06-14T18:35:41.653Z"
   },
   {
    "duration": 14,
    "start_time": "2022-06-14T18:35:41.662Z"
   },
   {
    "duration": 349,
    "start_time": "2022-06-14T18:35:41.677Z"
   },
   {
    "duration": 6,
    "start_time": "2022-06-14T18:35:42.028Z"
   },
   {
    "duration": 376,
    "start_time": "2022-06-14T18:35:42.036Z"
   },
   {
    "duration": 371,
    "start_time": "2022-06-14T18:35:42.414Z"
   },
   {
    "duration": 19,
    "start_time": "2022-06-14T18:35:42.787Z"
   },
   {
    "duration": 591,
    "start_time": "2022-06-14T18:35:42.808Z"
   },
   {
    "duration": 22,
    "start_time": "2022-06-14T18:35:43.401Z"
   },
   {
    "duration": 2768,
    "start_time": "2022-06-14T18:35:43.425Z"
   },
   {
    "duration": 704,
    "start_time": "2022-06-14T18:35:46.196Z"
   },
   {
    "duration": 59,
    "start_time": "2022-06-14T18:35:46.902Z"
   },
   {
    "duration": 372,
    "start_time": "2022-06-14T18:35:46.962Z"
   },
   {
    "duration": 549,
    "start_time": "2022-06-14T18:35:47.336Z"
   },
   {
    "duration": 587,
    "start_time": "2022-06-14T18:35:47.887Z"
   },
   {
    "duration": 18,
    "start_time": "2022-06-14T18:35:48.475Z"
   },
   {
    "duration": 65,
    "start_time": "2022-06-14T18:35:48.495Z"
   },
   {
    "duration": 19,
    "start_time": "2022-06-14T18:35:48.564Z"
   },
   {
    "duration": 78,
    "start_time": "2022-06-14T18:35:48.586Z"
   },
   {
    "duration": 25,
    "start_time": "2022-06-14T18:35:48.666Z"
   },
   {
    "duration": 67,
    "start_time": "2022-06-14T18:35:48.693Z"
   },
   {
    "duration": 521,
    "start_time": "2022-06-14T18:35:48.762Z"
   },
   {
    "duration": 17,
    "start_time": "2022-06-14T18:35:49.285Z"
   },
   {
    "duration": 71,
    "start_time": "2022-06-14T18:35:49.304Z"
   },
   {
    "duration": 416,
    "start_time": "2022-06-14T18:36:22.635Z"
   },
   {
    "duration": 1150,
    "start_time": "2022-06-14T18:36:47.151Z"
   },
   {
    "duration": 71,
    "start_time": "2022-06-14T18:36:48.303Z"
   },
   {
    "duration": 24,
    "start_time": "2022-06-14T18:36:48.376Z"
   },
   {
    "duration": 31,
    "start_time": "2022-06-14T18:36:48.403Z"
   },
   {
    "duration": 29,
    "start_time": "2022-06-14T18:36:48.435Z"
   },
   {
    "duration": 16,
    "start_time": "2022-06-14T18:36:48.465Z"
   },
   {
    "duration": 5,
    "start_time": "2022-06-14T18:36:48.483Z"
   },
   {
    "duration": 129,
    "start_time": "2022-06-14T18:36:48.490Z"
   },
   {
    "duration": 13,
    "start_time": "2022-06-14T18:36:48.621Z"
   },
   {
    "duration": 5,
    "start_time": "2022-06-14T18:36:48.637Z"
   },
   {
    "duration": 35,
    "start_time": "2022-06-14T18:36:48.643Z"
   },
   {
    "duration": 9,
    "start_time": "2022-06-14T18:36:48.679Z"
   },
   {
    "duration": 15,
    "start_time": "2022-06-14T18:36:48.690Z"
   },
   {
    "duration": 13,
    "start_time": "2022-06-14T18:36:48.707Z"
   },
   {
    "duration": 10,
    "start_time": "2022-06-14T18:36:48.722Z"
   },
   {
    "duration": 22,
    "start_time": "2022-06-14T18:36:48.758Z"
   },
   {
    "duration": 10,
    "start_time": "2022-06-14T18:36:48.782Z"
   },
   {
    "duration": 6,
    "start_time": "2022-06-14T18:36:48.794Z"
   },
   {
    "duration": 18,
    "start_time": "2022-06-14T18:36:48.801Z"
   },
   {
    "duration": 409,
    "start_time": "2022-06-14T18:36:48.821Z"
   },
   {
    "duration": 328,
    "start_time": "2022-06-14T18:36:49.232Z"
   },
   {
    "duration": 15,
    "start_time": "2022-06-14T18:36:49.562Z"
   },
   {
    "duration": 182,
    "start_time": "2022-06-14T18:36:49.579Z"
   },
   {
    "duration": 4,
    "start_time": "2022-06-14T18:36:49.763Z"
   },
   {
    "duration": 16,
    "start_time": "2022-06-14T18:36:49.769Z"
   },
   {
    "duration": 271,
    "start_time": "2022-06-14T18:36:49.787Z"
   },
   {
    "duration": 6,
    "start_time": "2022-06-14T18:36:50.060Z"
   },
   {
    "duration": 359,
    "start_time": "2022-06-14T18:36:50.069Z"
   },
   {
    "duration": 355,
    "start_time": "2022-06-14T18:36:50.430Z"
   },
   {
    "duration": 17,
    "start_time": "2022-06-14T18:36:50.787Z"
   },
   {
    "duration": 597,
    "start_time": "2022-06-14T18:36:50.806Z"
   },
   {
    "duration": 19,
    "start_time": "2022-06-14T18:36:51.405Z"
   },
   {
    "duration": 2212,
    "start_time": "2022-06-14T18:36:51.426Z"
   },
   {
    "duration": 336,
    "start_time": "2022-06-14T18:36:53.640Z"
   },
   {
    "duration": 6,
    "start_time": "2022-06-14T18:36:53.978Z"
   },
   {
    "duration": 299,
    "start_time": "2022-06-14T18:36:53.986Z"
   },
   {
    "duration": 367,
    "start_time": "2022-06-14T18:36:54.287Z"
   },
   {
    "duration": 307,
    "start_time": "2022-06-14T18:36:54.656Z"
   },
   {
    "duration": 19,
    "start_time": "2022-06-14T18:36:54.965Z"
   },
   {
    "duration": 15,
    "start_time": "2022-06-14T18:36:54.986Z"
   },
   {
    "duration": 19,
    "start_time": "2022-06-14T18:36:55.002Z"
   },
   {
    "duration": 45,
    "start_time": "2022-06-14T18:36:55.023Z"
   },
   {
    "duration": 17,
    "start_time": "2022-06-14T18:36:55.070Z"
   },
   {
    "duration": 16,
    "start_time": "2022-06-14T18:36:55.089Z"
   },
   {
    "duration": 237,
    "start_time": "2022-06-14T18:36:55.107Z"
   },
   {
    "duration": 20,
    "start_time": "2022-06-14T18:36:55.346Z"
   },
   {
    "duration": 15,
    "start_time": "2022-06-14T18:36:55.367Z"
   },
   {
    "duration": 404,
    "start_time": "2022-06-14T18:38:17.421Z"
   },
   {
    "duration": 1158,
    "start_time": "2022-06-14T18:38:36.340Z"
   },
   {
    "duration": 65,
    "start_time": "2022-06-14T18:38:37.500Z"
   },
   {
    "duration": 26,
    "start_time": "2022-06-14T18:38:37.567Z"
   },
   {
    "duration": 30,
    "start_time": "2022-06-14T18:38:37.595Z"
   },
   {
    "duration": 38,
    "start_time": "2022-06-14T18:38:37.627Z"
   },
   {
    "duration": 18,
    "start_time": "2022-06-14T18:38:37.667Z"
   },
   {
    "duration": 13,
    "start_time": "2022-06-14T18:38:37.687Z"
   },
   {
    "duration": 143,
    "start_time": "2022-06-14T18:38:37.702Z"
   },
   {
    "duration": 20,
    "start_time": "2022-06-14T18:38:37.847Z"
   },
   {
    "duration": 6,
    "start_time": "2022-06-14T18:38:37.870Z"
   },
   {
    "duration": 24,
    "start_time": "2022-06-14T18:38:37.878Z"
   },
   {
    "duration": 9,
    "start_time": "2022-06-14T18:38:37.904Z"
   },
   {
    "duration": 15,
    "start_time": "2022-06-14T18:38:37.915Z"
   },
   {
    "duration": 41,
    "start_time": "2022-06-14T18:38:37.932Z"
   },
   {
    "duration": 10,
    "start_time": "2022-06-14T18:38:37.975Z"
   },
   {
    "duration": 24,
    "start_time": "2022-06-14T18:38:37.987Z"
   },
   {
    "duration": 10,
    "start_time": "2022-06-14T18:38:38.012Z"
   },
   {
    "duration": 38,
    "start_time": "2022-06-14T18:38:38.024Z"
   },
   {
    "duration": 19,
    "start_time": "2022-06-14T18:38:38.064Z"
   },
   {
    "duration": 382,
    "start_time": "2022-06-14T18:38:38.085Z"
   },
   {
    "duration": 328,
    "start_time": "2022-06-14T18:38:38.469Z"
   },
   {
    "duration": 14,
    "start_time": "2022-06-14T18:38:38.799Z"
   },
   {
    "duration": 208,
    "start_time": "2022-06-14T18:38:38.815Z"
   },
   {
    "duration": 4,
    "start_time": "2022-06-14T18:38:39.025Z"
   },
   {
    "duration": 11,
    "start_time": "2022-06-14T18:38:39.030Z"
   },
   {
    "duration": 307,
    "start_time": "2022-06-14T18:38:39.043Z"
   },
   {
    "duration": 6,
    "start_time": "2022-06-14T18:38:39.352Z"
   },
   {
    "duration": 351,
    "start_time": "2022-06-14T18:38:39.362Z"
   },
   {
    "duration": 365,
    "start_time": "2022-06-14T18:38:39.715Z"
   },
   {
    "duration": 22,
    "start_time": "2022-06-14T18:38:40.082Z"
   },
   {
    "duration": 570,
    "start_time": "2022-06-14T18:38:40.106Z"
   },
   {
    "duration": 18,
    "start_time": "2022-06-14T18:38:40.677Z"
   },
   {
    "duration": 2290,
    "start_time": "2022-06-14T18:38:40.696Z"
   },
   {
    "duration": 315,
    "start_time": "2022-06-14T18:38:42.988Z"
   },
   {
    "duration": 9,
    "start_time": "2022-06-14T18:38:43.305Z"
   },
   {
    "duration": 294,
    "start_time": "2022-06-14T18:38:43.315Z"
   },
   {
    "duration": 339,
    "start_time": "2022-06-14T18:38:43.610Z"
   },
   {
    "duration": 282,
    "start_time": "2022-06-14T18:38:43.958Z"
   },
   {
    "duration": 28,
    "start_time": "2022-06-14T18:38:44.242Z"
   },
   {
    "duration": 21,
    "start_time": "2022-06-14T18:38:44.272Z"
   },
   {
    "duration": 19,
    "start_time": "2022-06-14T18:38:44.295Z"
   },
   {
    "duration": 15,
    "start_time": "2022-06-14T18:38:44.316Z"
   },
   {
    "duration": 18,
    "start_time": "2022-06-14T18:38:44.358Z"
   },
   {
    "duration": 16,
    "start_time": "2022-06-14T18:38:44.378Z"
   },
   {
    "duration": 236,
    "start_time": "2022-06-14T18:38:44.395Z"
   },
   {
    "duration": 27,
    "start_time": "2022-06-14T18:38:44.633Z"
   },
   {
    "duration": 15,
    "start_time": "2022-06-14T18:38:44.661Z"
   },
   {
    "duration": 445,
    "start_time": "2022-06-14T18:39:15.902Z"
   },
   {
    "duration": 327,
    "start_time": "2022-06-14T18:39:22.110Z"
   },
   {
    "duration": 331,
    "start_time": "2022-06-14T18:39:32.833Z"
   },
   {
    "duration": 1153,
    "start_time": "2022-06-14T18:39:56.098Z"
   },
   {
    "duration": 66,
    "start_time": "2022-06-14T18:39:57.253Z"
   },
   {
    "duration": 24,
    "start_time": "2022-06-14T18:39:57.322Z"
   },
   {
    "duration": 32,
    "start_time": "2022-06-14T18:39:57.349Z"
   },
   {
    "duration": 16,
    "start_time": "2022-06-14T18:39:57.382Z"
   },
   {
    "duration": 16,
    "start_time": "2022-06-14T18:39:57.400Z"
   },
   {
    "duration": 5,
    "start_time": "2022-06-14T18:39:57.417Z"
   },
   {
    "duration": 161,
    "start_time": "2022-06-14T18:39:57.424Z"
   },
   {
    "duration": 17,
    "start_time": "2022-06-14T18:39:57.587Z"
   },
   {
    "duration": 6,
    "start_time": "2022-06-14T18:39:57.607Z"
   },
   {
    "duration": 23,
    "start_time": "2022-06-14T18:39:57.615Z"
   },
   {
    "duration": 15,
    "start_time": "2022-06-14T18:39:57.657Z"
   },
   {
    "duration": 26,
    "start_time": "2022-06-14T18:39:57.674Z"
   },
   {
    "duration": 23,
    "start_time": "2022-06-14T18:39:57.702Z"
   },
   {
    "duration": 34,
    "start_time": "2022-06-14T18:39:57.728Z"
   },
   {
    "duration": 25,
    "start_time": "2022-06-14T18:39:57.765Z"
   },
   {
    "duration": 9,
    "start_time": "2022-06-14T18:39:57.791Z"
   },
   {
    "duration": 6,
    "start_time": "2022-06-14T18:39:57.802Z"
   },
   {
    "duration": 20,
    "start_time": "2022-06-14T18:39:57.810Z"
   },
   {
    "duration": 379,
    "start_time": "2022-06-14T18:39:57.858Z"
   },
   {
    "duration": 329,
    "start_time": "2022-06-14T18:39:58.238Z"
   },
   {
    "duration": 15,
    "start_time": "2022-06-14T18:39:58.569Z"
   },
   {
    "duration": 198,
    "start_time": "2022-06-14T18:39:58.586Z"
   },
   {
    "duration": 5,
    "start_time": "2022-06-14T18:39:58.786Z"
   },
   {
    "duration": 13,
    "start_time": "2022-06-14T18:39:58.793Z"
   },
   {
    "duration": 302,
    "start_time": "2022-06-14T18:39:58.808Z"
   },
   {
    "duration": 7,
    "start_time": "2022-06-14T18:39:59.112Z"
   },
   {
    "duration": 352,
    "start_time": "2022-06-14T18:39:59.122Z"
   },
   {
    "duration": 360,
    "start_time": "2022-06-14T18:39:59.476Z"
   },
   {
    "duration": 28,
    "start_time": "2022-06-14T18:39:59.838Z"
   },
   {
    "duration": 537,
    "start_time": "2022-06-14T18:39:59.868Z"
   },
   {
    "duration": 17,
    "start_time": "2022-06-14T18:40:00.407Z"
   },
   {
    "duration": 2245,
    "start_time": "2022-06-14T18:40:00.426Z"
   },
   {
    "duration": 336,
    "start_time": "2022-06-14T18:40:02.673Z"
   },
   {
    "duration": 6,
    "start_time": "2022-06-14T18:40:03.011Z"
   },
   {
    "duration": 303,
    "start_time": "2022-06-14T18:40:03.019Z"
   },
   {
    "duration": 349,
    "start_time": "2022-06-14T18:40:03.324Z"
   },
   {
    "duration": 298,
    "start_time": "2022-06-14T18:40:03.675Z"
   },
   {
    "duration": 21,
    "start_time": "2022-06-14T18:40:03.975Z"
   },
   {
    "duration": 18,
    "start_time": "2022-06-14T18:40:03.998Z"
   },
   {
    "duration": 44,
    "start_time": "2022-06-14T18:40:04.018Z"
   },
   {
    "duration": 15,
    "start_time": "2022-06-14T18:40:04.064Z"
   },
   {
    "duration": 33,
    "start_time": "2022-06-14T18:40:04.081Z"
   },
   {
    "duration": 17,
    "start_time": "2022-06-14T18:40:04.116Z"
   },
   {
    "duration": 226,
    "start_time": "2022-06-14T18:40:04.134Z"
   },
   {
    "duration": 14,
    "start_time": "2022-06-14T18:40:04.362Z"
   },
   {
    "duration": 40,
    "start_time": "2022-06-14T18:40:04.377Z"
   },
   {
    "duration": 1190,
    "start_time": "2022-06-14T18:40:51.178Z"
   },
   {
    "duration": 67,
    "start_time": "2022-06-14T18:40:52.370Z"
   },
   {
    "duration": 25,
    "start_time": "2022-06-14T18:40:52.439Z"
   },
   {
    "duration": 40,
    "start_time": "2022-06-14T18:40:52.466Z"
   },
   {
    "duration": 20,
    "start_time": "2022-06-14T18:40:52.509Z"
   },
   {
    "duration": 35,
    "start_time": "2022-06-14T18:40:52.531Z"
   },
   {
    "duration": 6,
    "start_time": "2022-06-14T18:40:52.567Z"
   },
   {
    "duration": 136,
    "start_time": "2022-06-14T18:40:52.575Z"
   },
   {
    "duration": 14,
    "start_time": "2022-06-14T18:40:52.713Z"
   },
   {
    "duration": 6,
    "start_time": "2022-06-14T18:40:52.728Z"
   },
   {
    "duration": 39,
    "start_time": "2022-06-14T18:40:52.735Z"
   },
   {
    "duration": 9,
    "start_time": "2022-06-14T18:40:52.776Z"
   },
   {
    "duration": 15,
    "start_time": "2022-06-14T18:40:52.787Z"
   },
   {
    "duration": 26,
    "start_time": "2022-06-14T18:40:52.806Z"
   },
   {
    "duration": 30,
    "start_time": "2022-06-14T18:40:52.835Z"
   },
   {
    "duration": 30,
    "start_time": "2022-06-14T18:40:52.868Z"
   },
   {
    "duration": 9,
    "start_time": "2022-06-14T18:40:52.900Z"
   },
   {
    "duration": 5,
    "start_time": "2022-06-14T18:40:52.911Z"
   },
   {
    "duration": 48,
    "start_time": "2022-06-14T18:40:52.918Z"
   },
   {
    "duration": 386,
    "start_time": "2022-06-14T18:40:52.968Z"
   },
   {
    "duration": 332,
    "start_time": "2022-06-14T18:40:53.357Z"
   },
   {
    "duration": 15,
    "start_time": "2022-06-14T18:40:53.691Z"
   },
   {
    "duration": 200,
    "start_time": "2022-06-14T18:40:53.708Z"
   },
   {
    "duration": 6,
    "start_time": "2022-06-14T18:40:53.910Z"
   },
   {
    "duration": 11,
    "start_time": "2022-06-14T18:40:53.917Z"
   },
   {
    "duration": 333,
    "start_time": "2022-06-14T18:40:53.929Z"
   },
   {
    "duration": 8,
    "start_time": "2022-06-14T18:40:54.264Z"
   },
   {
    "duration": 357,
    "start_time": "2022-06-14T18:40:54.274Z"
   },
   {
    "duration": 364,
    "start_time": "2022-06-14T18:40:54.633Z"
   },
   {
    "duration": 24,
    "start_time": "2022-06-14T18:40:54.999Z"
   },
   {
    "duration": 559,
    "start_time": "2022-06-14T18:40:55.025Z"
   },
   {
    "duration": 16,
    "start_time": "2022-06-14T18:40:55.586Z"
   },
   {
    "duration": 2131,
    "start_time": "2022-06-14T18:40:55.605Z"
   },
   {
    "duration": 333,
    "start_time": "2022-06-14T18:40:57.738Z"
   },
   {
    "duration": 6,
    "start_time": "2022-06-14T18:40:58.073Z"
   },
   {
    "duration": 289,
    "start_time": "2022-06-14T18:40:58.081Z"
   },
   {
    "duration": 321,
    "start_time": "2022-06-14T18:40:58.371Z"
   },
   {
    "duration": 299,
    "start_time": "2022-06-14T18:40:58.694Z"
   },
   {
    "duration": 17,
    "start_time": "2022-06-14T18:40:58.995Z"
   },
   {
    "duration": 17,
    "start_time": "2022-06-14T18:40:59.014Z"
   },
   {
    "duration": 18,
    "start_time": "2022-06-14T18:40:59.058Z"
   },
   {
    "duration": 16,
    "start_time": "2022-06-14T18:40:59.078Z"
   },
   {
    "duration": 20,
    "start_time": "2022-06-14T18:40:59.095Z"
   },
   {
    "duration": 43,
    "start_time": "2022-06-14T18:40:59.117Z"
   },
   {
    "duration": 223,
    "start_time": "2022-06-14T18:40:59.162Z"
   },
   {
    "duration": 14,
    "start_time": "2022-06-14T18:40:59.387Z"
   },
   {
    "duration": 18,
    "start_time": "2022-06-14T18:40:59.403Z"
   },
   {
    "duration": 18,
    "start_time": "2022-06-14T18:52:47.715Z"
   },
   {
    "duration": 1183,
    "start_time": "2022-06-14T18:57:01.960Z"
   },
   {
    "duration": 67,
    "start_time": "2022-06-14T18:57:03.145Z"
   },
   {
    "duration": 20,
    "start_time": "2022-06-14T18:57:03.214Z"
   },
   {
    "duration": 32,
    "start_time": "2022-06-14T18:57:03.236Z"
   },
   {
    "duration": 15,
    "start_time": "2022-06-14T18:57:03.269Z"
   },
   {
    "duration": 20,
    "start_time": "2022-06-14T18:57:03.286Z"
   },
   {
    "duration": 6,
    "start_time": "2022-06-14T18:57:03.308Z"
   },
   {
    "duration": 164,
    "start_time": "2022-06-14T18:57:03.316Z"
   },
   {
    "duration": 15,
    "start_time": "2022-06-14T18:57:03.482Z"
   },
   {
    "duration": 5,
    "start_time": "2022-06-14T18:57:03.499Z"
   },
   {
    "duration": 22,
    "start_time": "2022-06-14T18:57:03.506Z"
   },
   {
    "duration": 31,
    "start_time": "2022-06-14T18:57:03.530Z"
   },
   {
    "duration": 20,
    "start_time": "2022-06-14T18:57:03.563Z"
   },
   {
    "duration": 15,
    "start_time": "2022-06-14T18:57:03.585Z"
   },
   {
    "duration": 15,
    "start_time": "2022-06-14T18:57:03.602Z"
   },
   {
    "duration": 42,
    "start_time": "2022-06-14T18:57:03.618Z"
   },
   {
    "duration": 11,
    "start_time": "2022-06-14T18:57:03.662Z"
   },
   {
    "duration": 7,
    "start_time": "2022-06-14T18:57:03.675Z"
   },
   {
    "duration": 24,
    "start_time": "2022-06-14T18:57:03.683Z"
   },
   {
    "duration": 439,
    "start_time": "2022-06-14T18:57:03.709Z"
   },
   {
    "duration": 373,
    "start_time": "2022-06-14T18:57:04.151Z"
   },
   {
    "duration": 13,
    "start_time": "2022-06-14T18:57:04.526Z"
   },
   {
    "duration": 185,
    "start_time": "2022-06-14T18:57:04.541Z"
   },
   {
    "duration": 4,
    "start_time": "2022-06-14T18:57:04.728Z"
   },
   {
    "duration": 31,
    "start_time": "2022-06-14T18:57:04.734Z"
   },
   {
    "duration": 295,
    "start_time": "2022-06-14T18:57:04.767Z"
   },
   {
    "duration": 7,
    "start_time": "2022-06-14T18:57:05.064Z"
   },
   {
    "duration": 370,
    "start_time": "2022-06-14T18:57:05.074Z"
   },
   {
    "duration": 358,
    "start_time": "2022-06-14T18:57:05.446Z"
   },
   {
    "duration": 19,
    "start_time": "2022-06-14T18:57:05.806Z"
   },
   {
    "duration": 594,
    "start_time": "2022-06-14T18:57:05.827Z"
   },
   {
    "duration": 21,
    "start_time": "2022-06-14T18:57:06.423Z"
   },
   {
    "duration": 2147,
    "start_time": "2022-06-14T18:57:06.459Z"
   },
   {
    "duration": 344,
    "start_time": "2022-06-14T18:57:08.609Z"
   },
   {
    "duration": 7,
    "start_time": "2022-06-14T18:57:08.958Z"
   },
   {
    "duration": 291,
    "start_time": "2022-06-14T18:57:08.967Z"
   },
   {
    "duration": 320,
    "start_time": "2022-06-14T18:57:09.261Z"
   },
   {
    "duration": 292,
    "start_time": "2022-06-14T18:57:09.583Z"
   },
   {
    "duration": 17,
    "start_time": "2022-06-14T18:57:09.877Z"
   },
   {
    "duration": 15,
    "start_time": "2022-06-14T18:57:09.896Z"
   },
   {
    "duration": 19,
    "start_time": "2022-06-14T18:57:09.913Z"
   },
   {
    "duration": 36,
    "start_time": "2022-06-14T18:57:09.934Z"
   },
   {
    "duration": 19,
    "start_time": "2022-06-14T18:57:09.972Z"
   },
   {
    "duration": 15,
    "start_time": "2022-06-14T18:57:09.993Z"
   },
   {
    "duration": 244,
    "start_time": "2022-06-14T18:57:10.010Z"
   },
   {
    "duration": 14,
    "start_time": "2022-06-14T18:57:10.256Z"
   },
   {
    "duration": 18,
    "start_time": "2022-06-14T18:57:10.272Z"
   },
   {
    "duration": 1110,
    "start_time": "2022-06-14T18:57:37.194Z"
   },
   {
    "duration": 67,
    "start_time": "2022-06-14T18:57:38.306Z"
   },
   {
    "duration": 20,
    "start_time": "2022-06-14T18:57:38.375Z"
   },
   {
    "duration": 29,
    "start_time": "2022-06-14T18:57:38.397Z"
   },
   {
    "duration": 31,
    "start_time": "2022-06-14T18:57:38.428Z"
   },
   {
    "duration": 14,
    "start_time": "2022-06-14T18:57:38.461Z"
   },
   {
    "duration": 6,
    "start_time": "2022-06-14T18:57:38.477Z"
   },
   {
    "duration": 147,
    "start_time": "2022-06-14T18:57:38.484Z"
   },
   {
    "duration": 13,
    "start_time": "2022-06-14T18:57:38.633Z"
   },
   {
    "duration": 5,
    "start_time": "2022-06-14T18:57:38.658Z"
   },
   {
    "duration": 18,
    "start_time": "2022-06-14T18:57:38.665Z"
   },
   {
    "duration": 18,
    "start_time": "2022-06-14T18:57:38.685Z"
   },
   {
    "duration": 16,
    "start_time": "2022-06-14T18:57:38.705Z"
   },
   {
    "duration": 38,
    "start_time": "2022-06-14T18:57:38.722Z"
   },
   {
    "duration": 9,
    "start_time": "2022-06-14T18:57:38.761Z"
   },
   {
    "duration": 24,
    "start_time": "2022-06-14T18:57:38.772Z"
   },
   {
    "duration": 10,
    "start_time": "2022-06-14T18:57:38.798Z"
   },
   {
    "duration": 7,
    "start_time": "2022-06-14T18:57:38.810Z"
   },
   {
    "duration": 50,
    "start_time": "2022-06-14T18:57:38.818Z"
   },
   {
    "duration": 388,
    "start_time": "2022-06-14T18:57:38.869Z"
   },
   {
    "duration": 334,
    "start_time": "2022-06-14T18:57:39.259Z"
   },
   {
    "duration": 14,
    "start_time": "2022-06-14T18:57:39.595Z"
   },
   {
    "duration": 181,
    "start_time": "2022-06-14T18:57:39.610Z"
   },
   {
    "duration": 5,
    "start_time": "2022-06-14T18:57:39.793Z"
   },
   {
    "duration": 13,
    "start_time": "2022-06-14T18:57:39.800Z"
   },
   {
    "duration": 307,
    "start_time": "2022-06-14T18:57:39.815Z"
   },
   {
    "duration": 6,
    "start_time": "2022-06-14T18:57:40.124Z"
   },
   {
    "duration": 344,
    "start_time": "2022-06-14T18:57:40.133Z"
   },
   {
    "duration": 369,
    "start_time": "2022-06-14T18:57:40.479Z"
   },
   {
    "duration": 22,
    "start_time": "2022-06-14T18:57:40.850Z"
   },
   {
    "duration": 546,
    "start_time": "2022-06-14T18:57:40.874Z"
   },
   {
    "duration": 17,
    "start_time": "2022-06-14T18:57:41.422Z"
   },
   {
    "duration": 2228,
    "start_time": "2022-06-14T18:57:41.441Z"
   },
   {
    "duration": 343,
    "start_time": "2022-06-14T18:57:43.672Z"
   },
   {
    "duration": 9,
    "start_time": "2022-06-14T18:57:44.017Z"
   },
   {
    "duration": 287,
    "start_time": "2022-06-14T18:57:44.028Z"
   },
   {
    "duration": 312,
    "start_time": "2022-06-14T18:57:44.317Z"
   },
   {
    "duration": 286,
    "start_time": "2022-06-14T18:57:44.631Z"
   },
   {
    "duration": 18,
    "start_time": "2022-06-14T18:57:44.918Z"
   },
   {
    "duration": 32,
    "start_time": "2022-06-14T18:57:44.937Z"
   },
   {
    "duration": 19,
    "start_time": "2022-06-14T18:57:44.971Z"
   },
   {
    "duration": 15,
    "start_time": "2022-06-14T18:57:44.992Z"
   },
   {
    "duration": 27,
    "start_time": "2022-06-14T18:57:45.009Z"
   },
   {
    "duration": 35,
    "start_time": "2022-06-14T18:57:45.037Z"
   },
   {
    "duration": 236,
    "start_time": "2022-06-14T18:57:45.074Z"
   },
   {
    "duration": 16,
    "start_time": "2022-06-14T18:57:45.312Z"
   },
   {
    "duration": 35,
    "start_time": "2022-06-14T18:57:45.330Z"
   },
   {
    "duration": 612,
    "start_time": "2022-06-14T19:00:01.789Z"
   },
   {
    "duration": 419,
    "start_time": "2022-06-14T19:00:12.802Z"
   },
   {
    "duration": 1299,
    "start_time": "2022-06-14T19:00:23.463Z"
   },
   {
    "duration": 81,
    "start_time": "2022-06-14T19:00:24.764Z"
   },
   {
    "duration": 31,
    "start_time": "2022-06-14T19:00:24.847Z"
   },
   {
    "duration": 37,
    "start_time": "2022-06-14T19:00:24.881Z"
   },
   {
    "duration": 16,
    "start_time": "2022-06-14T19:00:24.919Z"
   },
   {
    "duration": 43,
    "start_time": "2022-06-14T19:00:24.937Z"
   },
   {
    "duration": 6,
    "start_time": "2022-06-14T19:00:24.981Z"
   },
   {
    "duration": 150,
    "start_time": "2022-06-14T19:00:24.988Z"
   },
   {
    "duration": 30,
    "start_time": "2022-06-14T19:00:25.140Z"
   },
   {
    "duration": 7,
    "start_time": "2022-06-14T19:00:25.174Z"
   },
   {
    "duration": 29,
    "start_time": "2022-06-14T19:00:25.183Z"
   },
   {
    "duration": 13,
    "start_time": "2022-06-14T19:00:25.214Z"
   },
   {
    "duration": 44,
    "start_time": "2022-06-14T19:00:25.229Z"
   },
   {
    "duration": 17,
    "start_time": "2022-06-14T19:00:25.275Z"
   },
   {
    "duration": 14,
    "start_time": "2022-06-14T19:00:25.295Z"
   },
   {
    "duration": 49,
    "start_time": "2022-06-14T19:00:25.311Z"
   },
   {
    "duration": 14,
    "start_time": "2022-06-14T19:00:25.362Z"
   },
   {
    "duration": 9,
    "start_time": "2022-06-14T19:00:25.378Z"
   },
   {
    "duration": 35,
    "start_time": "2022-06-14T19:00:25.390Z"
   },
   {
    "duration": 430,
    "start_time": "2022-06-14T19:00:25.428Z"
   },
   {
    "duration": 332,
    "start_time": "2022-06-14T19:00:25.860Z"
   },
   {
    "duration": 17,
    "start_time": "2022-06-14T19:00:26.194Z"
   },
   {
    "duration": 220,
    "start_time": "2022-06-14T19:00:26.214Z"
   },
   {
    "duration": 5,
    "start_time": "2022-06-14T19:00:26.436Z"
   },
   {
    "duration": 23,
    "start_time": "2022-06-14T19:00:26.443Z"
   },
   {
    "duration": 314,
    "start_time": "2022-06-14T19:00:26.468Z"
   },
   {
    "duration": 7,
    "start_time": "2022-06-14T19:00:26.784Z"
   },
   {
    "duration": 384,
    "start_time": "2022-06-14T19:00:26.795Z"
   },
   {
    "duration": 380,
    "start_time": "2022-06-14T19:00:27.181Z"
   },
   {
    "duration": 23,
    "start_time": "2022-06-14T19:00:27.564Z"
   },
   {
    "duration": 641,
    "start_time": "2022-06-14T19:00:27.589Z"
   },
   {
    "duration": 28,
    "start_time": "2022-06-14T19:00:28.231Z"
   },
   {
    "duration": 2253,
    "start_time": "2022-06-14T19:00:28.262Z"
   },
   {
    "duration": 364,
    "start_time": "2022-06-14T19:00:30.517Z"
   },
   {
    "duration": 8,
    "start_time": "2022-06-14T19:00:30.883Z"
   },
   {
    "duration": 320,
    "start_time": "2022-06-14T19:00:30.892Z"
   },
   {
    "duration": 417,
    "start_time": "2022-06-14T19:00:31.214Z"
   },
   {
    "duration": 378,
    "start_time": "2022-06-14T19:00:31.633Z"
   },
   {
    "duration": 27,
    "start_time": "2022-06-14T19:00:32.013Z"
   },
   {
    "duration": 36,
    "start_time": "2022-06-14T19:00:32.042Z"
   },
   {
    "duration": 37,
    "start_time": "2022-06-14T19:00:32.080Z"
   },
   {
    "duration": 30,
    "start_time": "2022-06-14T19:00:32.119Z"
   },
   {
    "duration": 31,
    "start_time": "2022-06-14T19:00:32.152Z"
   },
   {
    "duration": 25,
    "start_time": "2022-06-14T19:00:32.186Z"
   },
   {
    "duration": 253,
    "start_time": "2022-06-14T19:00:32.213Z"
   },
   {
    "duration": 14,
    "start_time": "2022-06-14T19:00:32.468Z"
   },
   {
    "duration": 18,
    "start_time": "2022-06-14T19:00:32.484Z"
   },
   {
    "duration": 637,
    "start_time": "2022-06-14T19:01:34.822Z"
   },
   {
    "duration": 1203,
    "start_time": "2022-06-14T19:01:43.043Z"
   },
   {
    "duration": 72,
    "start_time": "2022-06-14T19:01:44.249Z"
   },
   {
    "duration": 21,
    "start_time": "2022-06-14T19:01:44.323Z"
   },
   {
    "duration": 34,
    "start_time": "2022-06-14T19:01:44.346Z"
   },
   {
    "duration": 16,
    "start_time": "2022-06-14T19:01:44.382Z"
   },
   {
    "duration": 39,
    "start_time": "2022-06-14T19:01:44.400Z"
   },
   {
    "duration": 14,
    "start_time": "2022-06-14T19:01:44.441Z"
   },
   {
    "duration": 135,
    "start_time": "2022-06-14T19:01:44.457Z"
   },
   {
    "duration": 16,
    "start_time": "2022-06-14T19:01:44.594Z"
   },
   {
    "duration": 5,
    "start_time": "2022-06-14T19:01:44.613Z"
   },
   {
    "duration": 39,
    "start_time": "2022-06-14T19:01:44.620Z"
   },
   {
    "duration": 10,
    "start_time": "2022-06-14T19:01:44.661Z"
   },
   {
    "duration": 18,
    "start_time": "2022-06-14T19:01:44.673Z"
   },
   {
    "duration": 14,
    "start_time": "2022-06-14T19:01:44.693Z"
   },
   {
    "duration": 11,
    "start_time": "2022-06-14T19:01:44.709Z"
   },
   {
    "duration": 57,
    "start_time": "2022-06-14T19:01:44.722Z"
   },
   {
    "duration": 11,
    "start_time": "2022-06-14T19:01:44.781Z"
   },
   {
    "duration": 5,
    "start_time": "2022-06-14T19:01:44.794Z"
   },
   {
    "duration": 22,
    "start_time": "2022-06-14T19:01:44.801Z"
   },
   {
    "duration": 442,
    "start_time": "2022-06-14T19:01:44.825Z"
   },
   {
    "duration": 344,
    "start_time": "2022-06-14T19:01:45.269Z"
   },
   {
    "duration": 15,
    "start_time": "2022-06-14T19:01:45.616Z"
   },
   {
    "duration": 195,
    "start_time": "2022-06-14T19:01:45.633Z"
   },
   {
    "duration": 5,
    "start_time": "2022-06-14T19:01:45.830Z"
   },
   {
    "duration": 41,
    "start_time": "2022-06-14T19:01:45.837Z"
   },
   {
    "duration": 290,
    "start_time": "2022-06-14T19:01:45.880Z"
   },
   {
    "duration": 8,
    "start_time": "2022-06-14T19:01:46.173Z"
   },
   {
    "duration": 382,
    "start_time": "2022-06-14T19:01:46.186Z"
   },
   {
    "duration": 395,
    "start_time": "2022-06-14T19:01:46.571Z"
   },
   {
    "duration": 20,
    "start_time": "2022-06-14T19:01:46.969Z"
   },
   {
    "duration": 616,
    "start_time": "2022-06-14T19:01:46.991Z"
   },
   {
    "duration": 24,
    "start_time": "2022-06-14T19:01:47.609Z"
   },
   {
    "duration": 2182,
    "start_time": "2022-06-14T19:01:47.635Z"
   },
   {
    "duration": 344,
    "start_time": "2022-06-14T19:01:49.819Z"
   },
   {
    "duration": 7,
    "start_time": "2022-06-14T19:01:50.165Z"
   },
   {
    "duration": 488,
    "start_time": "2022-06-14T19:01:50.174Z"
   },
   {
    "duration": 807,
    "start_time": "2022-06-14T19:01:50.663Z"
   },
   {
    "duration": 704,
    "start_time": "2022-06-14T19:01:51.472Z"
   },
   {
    "duration": 20,
    "start_time": "2022-06-14T19:01:52.177Z"
   },
   {
    "duration": 66,
    "start_time": "2022-06-14T19:01:52.199Z"
   },
   {
    "duration": 25,
    "start_time": "2022-06-14T19:01:52.268Z"
   },
   {
    "duration": 75,
    "start_time": "2022-06-14T19:01:52.296Z"
   },
   {
    "duration": 19,
    "start_time": "2022-06-14T19:01:52.373Z"
   },
   {
    "duration": 16,
    "start_time": "2022-06-14T19:01:52.394Z"
   },
   {
    "duration": 262,
    "start_time": "2022-06-14T19:01:52.413Z"
   },
   {
    "duration": 15,
    "start_time": "2022-06-14T19:01:52.677Z"
   },
   {
    "duration": 16,
    "start_time": "2022-06-14T19:01:52.694Z"
   },
   {
    "duration": 615,
    "start_time": "2022-06-14T19:02:35.182Z"
   },
   {
    "duration": 1239,
    "start_time": "2022-06-14T19:02:42.178Z"
   },
   {
    "duration": 68,
    "start_time": "2022-06-14T19:02:43.422Z"
   },
   {
    "duration": 29,
    "start_time": "2022-06-14T19:02:43.493Z"
   },
   {
    "duration": 52,
    "start_time": "2022-06-14T19:02:43.526Z"
   },
   {
    "duration": 16,
    "start_time": "2022-06-14T19:02:43.580Z"
   },
   {
    "duration": 18,
    "start_time": "2022-06-14T19:02:43.598Z"
   },
   {
    "duration": 6,
    "start_time": "2022-06-14T19:02:43.618Z"
   },
   {
    "duration": 179,
    "start_time": "2022-06-14T19:02:43.626Z"
   },
   {
    "duration": 15,
    "start_time": "2022-06-14T19:02:43.806Z"
   },
   {
    "duration": 6,
    "start_time": "2022-06-14T19:02:43.824Z"
   },
   {
    "duration": 41,
    "start_time": "2022-06-14T19:02:43.831Z"
   },
   {
    "duration": 11,
    "start_time": "2022-06-14T19:02:43.874Z"
   },
   {
    "duration": 18,
    "start_time": "2022-06-14T19:02:43.887Z"
   },
   {
    "duration": 15,
    "start_time": "2022-06-14T19:02:43.907Z"
   },
   {
    "duration": 41,
    "start_time": "2022-06-14T19:02:43.924Z"
   },
   {
    "duration": 29,
    "start_time": "2022-06-14T19:02:43.968Z"
   },
   {
    "duration": 18,
    "start_time": "2022-06-14T19:02:44.000Z"
   },
   {
    "duration": 39,
    "start_time": "2022-06-14T19:02:44.019Z"
   },
   {
    "duration": 18,
    "start_time": "2022-06-14T19:02:44.061Z"
   },
   {
    "duration": 400,
    "start_time": "2022-06-14T19:02:44.081Z"
   },
   {
    "duration": 367,
    "start_time": "2022-06-14T19:02:44.483Z"
   },
   {
    "duration": 23,
    "start_time": "2022-06-14T19:02:44.852Z"
   },
   {
    "duration": 196,
    "start_time": "2022-06-14T19:02:44.877Z"
   },
   {
    "duration": 5,
    "start_time": "2022-06-14T19:02:45.075Z"
   },
   {
    "duration": 12,
    "start_time": "2022-06-14T19:02:45.082Z"
   },
   {
    "duration": 297,
    "start_time": "2022-06-14T19:02:45.097Z"
   },
   {
    "duration": 7,
    "start_time": "2022-06-14T19:02:45.396Z"
   },
   {
    "duration": 360,
    "start_time": "2022-06-14T19:02:45.408Z"
   },
   {
    "duration": 371,
    "start_time": "2022-06-14T19:02:45.770Z"
   },
   {
    "duration": 29,
    "start_time": "2022-06-14T19:02:46.143Z"
   },
   {
    "duration": 629,
    "start_time": "2022-06-14T19:02:46.174Z"
   },
   {
    "duration": 20,
    "start_time": "2022-06-14T19:02:46.806Z"
   },
   {
    "duration": 2411,
    "start_time": "2022-06-14T19:02:46.828Z"
   },
   {
    "duration": 399,
    "start_time": "2022-06-14T19:02:49.242Z"
   },
   {
    "duration": 10,
    "start_time": "2022-06-14T19:02:49.643Z"
   },
   {
    "duration": 440,
    "start_time": "2022-06-14T19:02:49.659Z"
   },
   {
    "duration": 378,
    "start_time": "2022-06-14T19:02:50.102Z"
   },
   {
    "duration": 351,
    "start_time": "2022-06-14T19:02:50.482Z"
   },
   {
    "duration": 41,
    "start_time": "2022-06-14T19:02:50.835Z"
   },
   {
    "duration": 56,
    "start_time": "2022-06-14T19:02:50.878Z"
   },
   {
    "duration": 21,
    "start_time": "2022-06-14T19:02:50.936Z"
   },
   {
    "duration": 22,
    "start_time": "2022-06-14T19:02:50.958Z"
   },
   {
    "duration": 20,
    "start_time": "2022-06-14T19:02:50.982Z"
   },
   {
    "duration": 16,
    "start_time": "2022-06-14T19:02:51.005Z"
   },
   {
    "duration": 310,
    "start_time": "2022-06-14T19:02:51.023Z"
   },
   {
    "duration": 23,
    "start_time": "2022-06-14T19:02:51.336Z"
   },
   {
    "duration": 22,
    "start_time": "2022-06-14T19:02:51.362Z"
   },
   {
    "duration": 616,
    "start_time": "2022-06-14T19:04:40.975Z"
   },
   {
    "duration": 1205,
    "start_time": "2022-06-14T19:05:17.430Z"
   },
   {
    "duration": 80,
    "start_time": "2022-06-14T19:05:18.638Z"
   },
   {
    "duration": 30,
    "start_time": "2022-06-14T19:05:18.722Z"
   },
   {
    "duration": 42,
    "start_time": "2022-06-14T19:05:18.759Z"
   },
   {
    "duration": 19,
    "start_time": "2022-06-14T19:05:18.803Z"
   },
   {
    "duration": 40,
    "start_time": "2022-06-14T19:05:18.824Z"
   },
   {
    "duration": 7,
    "start_time": "2022-06-14T19:05:18.867Z"
   },
   {
    "duration": 141,
    "start_time": "2022-06-14T19:05:18.880Z"
   },
   {
    "duration": 15,
    "start_time": "2022-06-14T19:05:19.023Z"
   },
   {
    "duration": 21,
    "start_time": "2022-06-14T19:05:19.041Z"
   },
   {
    "duration": 23,
    "start_time": "2022-06-14T19:05:19.065Z"
   },
   {
    "duration": 11,
    "start_time": "2022-06-14T19:05:19.090Z"
   },
   {
    "duration": 20,
    "start_time": "2022-06-14T19:05:19.103Z"
   },
   {
    "duration": 42,
    "start_time": "2022-06-14T19:05:19.125Z"
   },
   {
    "duration": 55,
    "start_time": "2022-06-14T19:05:19.168Z"
   },
   {
    "duration": 39,
    "start_time": "2022-06-14T19:05:19.224Z"
   },
   {
    "duration": 11,
    "start_time": "2022-06-14T19:05:19.265Z"
   },
   {
    "duration": 9,
    "start_time": "2022-06-14T19:05:19.277Z"
   },
   {
    "duration": 26,
    "start_time": "2022-06-14T19:05:19.288Z"
   },
   {
    "duration": 415,
    "start_time": "2022-06-14T19:05:19.316Z"
   },
   {
    "duration": 369,
    "start_time": "2022-06-14T19:05:19.734Z"
   },
   {
    "duration": 16,
    "start_time": "2022-06-14T19:05:20.105Z"
   },
   {
    "duration": 202,
    "start_time": "2022-06-14T19:05:20.123Z"
   },
   {
    "duration": 5,
    "start_time": "2022-06-14T19:05:20.328Z"
   },
   {
    "duration": 25,
    "start_time": "2022-06-14T19:05:20.335Z"
   },
   {
    "duration": 316,
    "start_time": "2022-06-14T19:05:20.362Z"
   },
   {
    "duration": 7,
    "start_time": "2022-06-14T19:05:20.680Z"
   },
   {
    "duration": 362,
    "start_time": "2022-06-14T19:05:20.691Z"
   },
   {
    "duration": 370,
    "start_time": "2022-06-14T19:05:21.055Z"
   },
   {
    "duration": 31,
    "start_time": "2022-06-14T19:05:21.427Z"
   },
   {
    "duration": 599,
    "start_time": "2022-06-14T19:05:21.461Z"
   },
   {
    "duration": 24,
    "start_time": "2022-06-14T19:05:22.063Z"
   },
   {
    "duration": 2336,
    "start_time": "2022-06-14T19:05:22.090Z"
   },
   {
    "duration": 339,
    "start_time": "2022-06-14T19:05:24.429Z"
   },
   {
    "duration": 9,
    "start_time": "2022-06-14T19:05:24.771Z"
   },
   {
    "duration": 337,
    "start_time": "2022-06-14T19:05:24.782Z"
   },
   {
    "duration": 337,
    "start_time": "2022-06-14T19:05:25.121Z"
   },
   {
    "duration": 299,
    "start_time": "2022-06-14T19:05:25.460Z"
   },
   {
    "duration": 19,
    "start_time": "2022-06-14T19:05:25.761Z"
   },
   {
    "duration": 15,
    "start_time": "2022-06-14T19:05:25.782Z"
   },
   {
    "duration": 20,
    "start_time": "2022-06-14T19:05:25.799Z"
   },
   {
    "duration": 49,
    "start_time": "2022-06-14T19:05:25.821Z"
   },
   {
    "duration": 19,
    "start_time": "2022-06-14T19:05:25.872Z"
   },
   {
    "duration": 16,
    "start_time": "2022-06-14T19:05:25.893Z"
   },
   {
    "duration": 264,
    "start_time": "2022-06-14T19:05:25.911Z"
   },
   {
    "duration": 17,
    "start_time": "2022-06-14T19:05:26.177Z"
   },
   {
    "duration": 19,
    "start_time": "2022-06-14T19:05:26.196Z"
   },
   {
    "duration": 1352,
    "start_time": "2022-06-15T08:10:01.789Z"
   },
   {
    "duration": 103,
    "start_time": "2022-06-15T08:10:03.143Z"
   },
   {
    "duration": 22,
    "start_time": "2022-06-15T08:10:03.248Z"
   },
   {
    "duration": 29,
    "start_time": "2022-06-15T08:10:03.273Z"
   },
   {
    "duration": 20,
    "start_time": "2022-06-15T08:10:03.304Z"
   },
   {
    "duration": 16,
    "start_time": "2022-06-15T08:10:03.325Z"
   },
   {
    "duration": 9,
    "start_time": "2022-06-15T08:10:03.343Z"
   },
   {
    "duration": 134,
    "start_time": "2022-06-15T08:10:03.354Z"
   },
   {
    "duration": 12,
    "start_time": "2022-06-15T08:10:03.490Z"
   },
   {
    "duration": 29,
    "start_time": "2022-06-15T08:10:03.505Z"
   },
   {
    "duration": 29,
    "start_time": "2022-06-15T08:10:03.536Z"
   },
   {
    "duration": 18,
    "start_time": "2022-06-15T08:10:03.566Z"
   },
   {
    "duration": 22,
    "start_time": "2022-06-15T08:10:03.585Z"
   },
   {
    "duration": 23,
    "start_time": "2022-06-15T08:10:03.609Z"
   },
   {
    "duration": 20,
    "start_time": "2022-06-15T08:10:03.634Z"
   },
   {
    "duration": 24,
    "start_time": "2022-06-15T08:10:03.655Z"
   },
   {
    "duration": 17,
    "start_time": "2022-06-15T08:10:03.681Z"
   },
   {
    "duration": 7,
    "start_time": "2022-06-15T08:10:03.700Z"
   },
   {
    "duration": 21,
    "start_time": "2022-06-15T08:10:03.709Z"
   },
   {
    "duration": 344,
    "start_time": "2022-06-15T08:10:03.732Z"
   },
   {
    "duration": 298,
    "start_time": "2022-06-15T08:10:04.078Z"
   },
   {
    "duration": 13,
    "start_time": "2022-06-15T08:10:04.377Z"
   },
   {
    "duration": 152,
    "start_time": "2022-06-15T08:10:04.391Z"
   },
   {
    "duration": 4,
    "start_time": "2022-06-15T08:10:04.544Z"
   },
   {
    "duration": 9,
    "start_time": "2022-06-15T08:10:04.550Z"
   },
   {
    "duration": 248,
    "start_time": "2022-06-15T08:10:04.560Z"
   },
   {
    "duration": 6,
    "start_time": "2022-06-15T08:10:04.810Z"
   },
   {
    "duration": 308,
    "start_time": "2022-06-15T08:10:04.819Z"
   },
   {
    "duration": 314,
    "start_time": "2022-06-15T08:10:05.129Z"
   },
   {
    "duration": 17,
    "start_time": "2022-06-15T08:10:05.444Z"
   },
   {
    "duration": 590,
    "start_time": "2022-06-15T08:10:05.462Z"
   },
   {
    "duration": 16,
    "start_time": "2022-06-15T08:10:06.053Z"
   },
   {
    "duration": 1930,
    "start_time": "2022-06-15T08:10:06.070Z"
   },
   {
    "duration": 308,
    "start_time": "2022-06-15T08:10:08.001Z"
   },
   {
    "duration": 13,
    "start_time": "2022-06-15T08:10:08.311Z"
   },
   {
    "duration": 309,
    "start_time": "2022-06-15T08:10:08.326Z"
   },
   {
    "duration": 316,
    "start_time": "2022-06-15T08:10:08.637Z"
   },
   {
    "duration": 287,
    "start_time": "2022-06-15T08:10:08.955Z"
   },
   {
    "duration": 17,
    "start_time": "2022-06-15T08:10:09.244Z"
   },
   {
    "duration": 16,
    "start_time": "2022-06-15T08:10:09.263Z"
   },
   {
    "duration": 47,
    "start_time": "2022-06-15T08:10:09.281Z"
   },
   {
    "duration": 20,
    "start_time": "2022-06-15T08:10:09.330Z"
   },
   {
    "duration": 19,
    "start_time": "2022-06-15T08:10:09.352Z"
   },
   {
    "duration": 15,
    "start_time": "2022-06-15T08:10:09.372Z"
   },
   {
    "duration": 226,
    "start_time": "2022-06-15T08:10:09.389Z"
   },
   {
    "duration": 18,
    "start_time": "2022-06-15T08:10:09.617Z"
   },
   {
    "duration": 26,
    "start_time": "2022-06-15T08:10:09.637Z"
   },
   {
    "duration": 557,
    "start_time": "2022-06-15T08:22:17.898Z"
   },
   {
    "duration": 645,
    "start_time": "2022-06-15T08:22:42.474Z"
   },
   {
    "duration": 471,
    "start_time": "2022-06-15T08:22:59.699Z"
   },
   {
    "duration": 461,
    "start_time": "2022-06-15T08:23:09.952Z"
   },
   {
    "duration": 466,
    "start_time": "2022-06-15T08:23:15.792Z"
   },
   {
    "duration": 1154,
    "start_time": "2022-06-15T08:23:30.292Z"
   },
   {
    "duration": 61,
    "start_time": "2022-06-15T08:23:31.448Z"
   },
   {
    "duration": 20,
    "start_time": "2022-06-15T08:23:31.511Z"
   },
   {
    "duration": 44,
    "start_time": "2022-06-15T08:23:31.533Z"
   },
   {
    "duration": 13,
    "start_time": "2022-06-15T08:23:31.580Z"
   },
   {
    "duration": 21,
    "start_time": "2022-06-15T08:23:31.595Z"
   },
   {
    "duration": 22,
    "start_time": "2022-06-15T08:23:31.619Z"
   },
   {
    "duration": 121,
    "start_time": "2022-06-15T08:23:31.643Z"
   },
   {
    "duration": 13,
    "start_time": "2022-06-15T08:23:31.766Z"
   },
   {
    "duration": 32,
    "start_time": "2022-06-15T08:23:31.781Z"
   },
   {
    "duration": 23,
    "start_time": "2022-06-15T08:23:31.815Z"
   },
   {
    "duration": 9,
    "start_time": "2022-06-15T08:23:31.840Z"
   },
   {
    "duration": 25,
    "start_time": "2022-06-15T08:23:31.851Z"
   },
   {
    "duration": 13,
    "start_time": "2022-06-15T08:23:31.880Z"
   },
   {
    "duration": 19,
    "start_time": "2022-06-15T08:23:31.895Z"
   },
   {
    "duration": 32,
    "start_time": "2022-06-15T08:23:31.915Z"
   },
   {
    "duration": 10,
    "start_time": "2022-06-15T08:23:31.949Z"
   },
   {
    "duration": 24,
    "start_time": "2022-06-15T08:23:31.961Z"
   },
   {
    "duration": 42,
    "start_time": "2022-06-15T08:23:31.987Z"
   },
   {
    "duration": 350,
    "start_time": "2022-06-15T08:23:32.031Z"
   },
   {
    "duration": 386,
    "start_time": "2022-06-15T08:23:32.384Z"
   },
   {
    "duration": 19,
    "start_time": "2022-06-15T08:23:32.772Z"
   },
   {
    "duration": 183,
    "start_time": "2022-06-15T08:23:32.794Z"
   },
   {
    "duration": 5,
    "start_time": "2022-06-15T08:23:32.979Z"
   },
   {
    "duration": 18,
    "start_time": "2022-06-15T08:23:32.986Z"
   },
   {
    "duration": 332,
    "start_time": "2022-06-15T08:23:33.007Z"
   },
   {
    "duration": 6,
    "start_time": "2022-06-15T08:23:33.341Z"
   },
   {
    "duration": 308,
    "start_time": "2022-06-15T08:23:33.349Z"
   },
   {
    "duration": 336,
    "start_time": "2022-06-15T08:23:33.659Z"
   },
   {
    "duration": 30,
    "start_time": "2022-06-15T08:23:33.997Z"
   },
   {
    "duration": 566,
    "start_time": "2022-06-15T08:23:34.029Z"
   },
   {
    "duration": 29,
    "start_time": "2022-06-15T08:23:34.596Z"
   },
   {
    "duration": 1941,
    "start_time": "2022-06-15T08:23:34.626Z"
   },
   {
    "duration": 296,
    "start_time": "2022-06-15T08:23:36.568Z"
   },
   {
    "duration": 7,
    "start_time": "2022-06-15T08:23:36.867Z"
   },
   {
    "duration": 264,
    "start_time": "2022-06-15T08:23:36.876Z"
   },
   {
    "duration": 311,
    "start_time": "2022-06-15T08:23:37.142Z"
   },
   {
    "duration": 271,
    "start_time": "2022-06-15T08:23:37.455Z"
   },
   {
    "duration": 17,
    "start_time": "2022-06-15T08:23:37.728Z"
   },
   {
    "duration": 30,
    "start_time": "2022-06-15T08:23:37.746Z"
   },
   {
    "duration": 19,
    "start_time": "2022-06-15T08:23:37.779Z"
   },
   {
    "duration": 18,
    "start_time": "2022-06-15T08:23:37.800Z"
   },
   {
    "duration": 33,
    "start_time": "2022-06-15T08:23:37.823Z"
   },
   {
    "duration": 45,
    "start_time": "2022-06-15T08:23:37.858Z"
   },
   {
    "duration": 233,
    "start_time": "2022-06-15T08:23:37.904Z"
   },
   {
    "duration": 19,
    "start_time": "2022-06-15T08:23:38.139Z"
   },
   {
    "duration": 64,
    "start_time": "2022-06-15T08:23:38.160Z"
   },
   {
    "duration": 490,
    "start_time": "2022-06-15T08:24:51.060Z"
   },
   {
    "duration": 1112,
    "start_time": "2022-06-15T08:25:08.541Z"
   },
   {
    "duration": 63,
    "start_time": "2022-06-15T08:25:09.654Z"
   },
   {
    "duration": 20,
    "start_time": "2022-06-15T08:25:09.719Z"
   },
   {
    "duration": 29,
    "start_time": "2022-06-15T08:25:09.741Z"
   },
   {
    "duration": 14,
    "start_time": "2022-06-15T08:25:09.771Z"
   },
   {
    "duration": 15,
    "start_time": "2022-06-15T08:25:09.787Z"
   },
   {
    "duration": 5,
    "start_time": "2022-06-15T08:25:09.822Z"
   },
   {
    "duration": 120,
    "start_time": "2022-06-15T08:25:09.828Z"
   },
   {
    "duration": 16,
    "start_time": "2022-06-15T08:25:09.950Z"
   },
   {
    "duration": 5,
    "start_time": "2022-06-15T08:25:09.968Z"
   },
   {
    "duration": 19,
    "start_time": "2022-06-15T08:25:09.975Z"
   },
   {
    "duration": 36,
    "start_time": "2022-06-15T08:25:09.996Z"
   },
   {
    "duration": 15,
    "start_time": "2022-06-15T08:25:10.034Z"
   },
   {
    "duration": 13,
    "start_time": "2022-06-15T08:25:10.051Z"
   },
   {
    "duration": 12,
    "start_time": "2022-06-15T08:25:10.066Z"
   },
   {
    "duration": 44,
    "start_time": "2022-06-15T08:25:10.080Z"
   },
   {
    "duration": 9,
    "start_time": "2022-06-15T08:25:10.126Z"
   },
   {
    "duration": 5,
    "start_time": "2022-06-15T08:25:10.137Z"
   },
   {
    "duration": 19,
    "start_time": "2022-06-15T08:25:10.144Z"
   },
   {
    "duration": 346,
    "start_time": "2022-06-15T08:25:10.164Z"
   },
   {
    "duration": 286,
    "start_time": "2022-06-15T08:25:10.511Z"
   },
   {
    "duration": 12,
    "start_time": "2022-06-15T08:25:10.799Z"
   },
   {
    "duration": 152,
    "start_time": "2022-06-15T08:25:10.823Z"
   },
   {
    "duration": 4,
    "start_time": "2022-06-15T08:25:10.977Z"
   },
   {
    "duration": 12,
    "start_time": "2022-06-15T08:25:10.983Z"
   },
   {
    "duration": 252,
    "start_time": "2022-06-15T08:25:10.996Z"
   },
   {
    "duration": 6,
    "start_time": "2022-06-15T08:25:11.250Z"
   },
   {
    "duration": 304,
    "start_time": "2022-06-15T08:25:11.259Z"
   },
   {
    "duration": 322,
    "start_time": "2022-06-15T08:25:11.565Z"
   },
   {
    "duration": 16,
    "start_time": "2022-06-15T08:25:11.889Z"
   },
   {
    "duration": 521,
    "start_time": "2022-06-15T08:25:11.907Z"
   },
   {
    "duration": 17,
    "start_time": "2022-06-15T08:25:12.429Z"
   },
   {
    "duration": 2817,
    "start_time": "2022-06-15T08:25:12.447Z"
   },
   {
    "duration": 316,
    "start_time": "2022-06-15T08:25:15.266Z"
   },
   {
    "duration": 9,
    "start_time": "2022-06-15T08:25:15.623Z"
   },
   {
    "duration": 592,
    "start_time": "2022-06-15T08:25:15.634Z"
   },
   {
    "duration": 595,
    "start_time": "2022-06-15T08:25:16.228Z"
   },
   {
    "duration": 463,
    "start_time": "2022-06-15T08:25:16.825Z"
   },
   {
    "duration": 38,
    "start_time": "2022-06-15T08:25:17.289Z"
   },
   {
    "duration": 16,
    "start_time": "2022-06-15T08:25:17.328Z"
   },
   {
    "duration": 19,
    "start_time": "2022-06-15T08:25:17.345Z"
   },
   {
    "duration": 14,
    "start_time": "2022-06-15T08:25:17.365Z"
   },
   {
    "duration": 43,
    "start_time": "2022-06-15T08:25:17.381Z"
   },
   {
    "duration": 16,
    "start_time": "2022-06-15T08:25:17.426Z"
   },
   {
    "duration": 214,
    "start_time": "2022-06-15T08:25:17.443Z"
   },
   {
    "duration": 13,
    "start_time": "2022-06-15T08:25:17.659Z"
   },
   {
    "duration": 12,
    "start_time": "2022-06-15T08:25:17.673Z"
   },
   {
    "duration": 554,
    "start_time": "2022-06-15T08:25:44.304Z"
   },
   {
    "duration": 568,
    "start_time": "2022-06-15T08:26:24.134Z"
   },
   {
    "duration": 1122,
    "start_time": "2022-06-15T08:27:21.654Z"
   },
   {
    "duration": 62,
    "start_time": "2022-06-15T08:27:22.778Z"
   },
   {
    "duration": 18,
    "start_time": "2022-06-15T08:27:22.842Z"
   },
   {
    "duration": 27,
    "start_time": "2022-06-15T08:27:22.862Z"
   },
   {
    "duration": 13,
    "start_time": "2022-06-15T08:27:22.891Z"
   },
   {
    "duration": 13,
    "start_time": "2022-06-15T08:27:22.924Z"
   },
   {
    "duration": 10,
    "start_time": "2022-06-15T08:27:22.939Z"
   },
   {
    "duration": 135,
    "start_time": "2022-06-15T08:27:22.951Z"
   },
   {
    "duration": 12,
    "start_time": "2022-06-15T08:27:23.088Z"
   },
   {
    "duration": 9,
    "start_time": "2022-06-15T08:27:23.101Z"
   },
   {
    "duration": 15,
    "start_time": "2022-06-15T08:27:23.123Z"
   },
   {
    "duration": 9,
    "start_time": "2022-06-15T08:27:23.140Z"
   },
   {
    "duration": 15,
    "start_time": "2022-06-15T08:27:23.150Z"
   },
   {
    "duration": 13,
    "start_time": "2022-06-15T08:27:23.167Z"
   },
   {
    "duration": 12,
    "start_time": "2022-06-15T08:27:23.182Z"
   },
   {
    "duration": 21,
    "start_time": "2022-06-15T08:27:23.224Z"
   },
   {
    "duration": 14,
    "start_time": "2022-06-15T08:27:23.247Z"
   },
   {
    "duration": 7,
    "start_time": "2022-06-15T08:27:23.262Z"
   },
   {
    "duration": 16,
    "start_time": "2022-06-15T08:27:23.271Z"
   },
   {
    "duration": 366,
    "start_time": "2022-06-15T08:27:23.289Z"
   },
   {
    "duration": 304,
    "start_time": "2022-06-15T08:27:23.656Z"
   },
   {
    "duration": 13,
    "start_time": "2022-06-15T08:27:23.962Z"
   },
   {
    "duration": 163,
    "start_time": "2022-06-15T08:27:23.976Z"
   },
   {
    "duration": 4,
    "start_time": "2022-06-15T08:27:24.141Z"
   },
   {
    "duration": 14,
    "start_time": "2022-06-15T08:27:24.146Z"
   },
   {
    "duration": 254,
    "start_time": "2022-06-15T08:27:24.161Z"
   },
   {
    "duration": 6,
    "start_time": "2022-06-15T08:27:24.417Z"
   },
   {
    "duration": 306,
    "start_time": "2022-06-15T08:27:24.424Z"
   },
   {
    "duration": 320,
    "start_time": "2022-06-15T08:27:24.731Z"
   },
   {
    "duration": 18,
    "start_time": "2022-06-15T08:27:25.053Z"
   },
   {
    "duration": 545,
    "start_time": "2022-06-15T08:27:25.073Z"
   },
   {
    "duration": 16,
    "start_time": "2022-06-15T08:27:25.622Z"
   },
   {
    "duration": 1963,
    "start_time": "2022-06-15T08:27:25.639Z"
   },
   {
    "duration": 292,
    "start_time": "2022-06-15T08:27:27.604Z"
   },
   {
    "duration": 7,
    "start_time": "2022-06-15T08:27:27.898Z"
   },
   {
    "duration": 267,
    "start_time": "2022-06-15T08:27:27.906Z"
   },
   {
    "duration": 284,
    "start_time": "2022-06-15T08:27:28.174Z"
   },
   {
    "duration": 249,
    "start_time": "2022-06-15T08:27:28.459Z"
   },
   {
    "duration": 27,
    "start_time": "2022-06-15T08:27:28.710Z"
   },
   {
    "duration": 13,
    "start_time": "2022-06-15T08:27:28.739Z"
   },
   {
    "duration": 14,
    "start_time": "2022-06-15T08:27:28.756Z"
   },
   {
    "duration": 13,
    "start_time": "2022-06-15T08:27:28.771Z"
   },
   {
    "duration": 39,
    "start_time": "2022-06-15T08:27:28.786Z"
   },
   {
    "duration": 13,
    "start_time": "2022-06-15T08:27:28.827Z"
   },
   {
    "duration": 221,
    "start_time": "2022-06-15T08:27:28.842Z"
   },
   {
    "duration": 13,
    "start_time": "2022-06-15T08:27:29.064Z"
   },
   {
    "duration": 12,
    "start_time": "2022-06-15T08:27:29.079Z"
   },
   {
    "duration": 491,
    "start_time": "2022-06-15T08:29:23.343Z"
   },
   {
    "duration": 591,
    "start_time": "2022-06-15T08:32:25.074Z"
   },
   {
    "duration": 421,
    "start_time": "2022-06-15T08:32:37.196Z"
   },
   {
    "duration": 435,
    "start_time": "2022-06-15T08:32:46.106Z"
   },
   {
    "duration": 414,
    "start_time": "2022-06-15T08:33:27.434Z"
   },
   {
    "duration": 1130,
    "start_time": "2022-06-15T08:33:54.344Z"
   },
   {
    "duration": 62,
    "start_time": "2022-06-15T08:33:55.476Z"
   },
   {
    "duration": 18,
    "start_time": "2022-06-15T08:33:55.539Z"
   },
   {
    "duration": 39,
    "start_time": "2022-06-15T08:33:55.559Z"
   },
   {
    "duration": 23,
    "start_time": "2022-06-15T08:33:55.600Z"
   },
   {
    "duration": 13,
    "start_time": "2022-06-15T08:33:55.625Z"
   },
   {
    "duration": 6,
    "start_time": "2022-06-15T08:33:55.639Z"
   },
   {
    "duration": 139,
    "start_time": "2022-06-15T08:33:55.647Z"
   },
   {
    "duration": 14,
    "start_time": "2022-06-15T08:33:55.788Z"
   },
   {
    "duration": 18,
    "start_time": "2022-06-15T08:33:55.805Z"
   },
   {
    "duration": 15,
    "start_time": "2022-06-15T08:33:55.825Z"
   },
   {
    "duration": 9,
    "start_time": "2022-06-15T08:33:55.841Z"
   },
   {
    "duration": 20,
    "start_time": "2022-06-15T08:33:55.851Z"
   },
   {
    "duration": 13,
    "start_time": "2022-06-15T08:33:55.872Z"
   },
   {
    "duration": 9,
    "start_time": "2022-06-15T08:33:55.887Z"
   },
   {
    "duration": 34,
    "start_time": "2022-06-15T08:33:55.922Z"
   },
   {
    "duration": 10,
    "start_time": "2022-06-15T08:33:55.958Z"
   },
   {
    "duration": 13,
    "start_time": "2022-06-15T08:33:55.970Z"
   },
   {
    "duration": 21,
    "start_time": "2022-06-15T08:33:55.984Z"
   },
   {
    "duration": 374,
    "start_time": "2022-06-15T08:33:56.006Z"
   },
   {
    "duration": 305,
    "start_time": "2022-06-15T08:33:56.382Z"
   },
   {
    "duration": 14,
    "start_time": "2022-06-15T08:33:56.689Z"
   },
   {
    "duration": 179,
    "start_time": "2022-06-15T08:33:56.705Z"
   },
   {
    "duration": 5,
    "start_time": "2022-06-15T08:33:56.885Z"
   },
   {
    "duration": 11,
    "start_time": "2022-06-15T08:33:56.892Z"
   },
   {
    "duration": 278,
    "start_time": "2022-06-15T08:33:56.905Z"
   },
   {
    "duration": 6,
    "start_time": "2022-06-15T08:33:57.185Z"
   },
   {
    "duration": 302,
    "start_time": "2022-06-15T08:33:57.194Z"
   },
   {
    "duration": 309,
    "start_time": "2022-06-15T08:33:57.497Z"
   },
   {
    "duration": 27,
    "start_time": "2022-06-15T08:33:57.808Z"
   },
   {
    "duration": 528,
    "start_time": "2022-06-15T08:33:57.837Z"
   },
   {
    "duration": 0,
    "start_time": "2022-06-15T08:33:58.366Z"
   },
   {
    "duration": 0,
    "start_time": "2022-06-15T08:33:58.368Z"
   },
   {
    "duration": 0,
    "start_time": "2022-06-15T08:33:58.369Z"
   },
   {
    "duration": 0,
    "start_time": "2022-06-15T08:33:58.370Z"
   },
   {
    "duration": 0,
    "start_time": "2022-06-15T08:33:58.371Z"
   },
   {
    "duration": 0,
    "start_time": "2022-06-15T08:33:58.373Z"
   },
   {
    "duration": 0,
    "start_time": "2022-06-15T08:33:58.373Z"
   },
   {
    "duration": 0,
    "start_time": "2022-06-15T08:33:58.375Z"
   },
   {
    "duration": 0,
    "start_time": "2022-06-15T08:33:58.376Z"
   },
   {
    "duration": 0,
    "start_time": "2022-06-15T08:33:58.377Z"
   },
   {
    "duration": 0,
    "start_time": "2022-06-15T08:33:58.378Z"
   },
   {
    "duration": 0,
    "start_time": "2022-06-15T08:33:58.379Z"
   },
   {
    "duration": 0,
    "start_time": "2022-06-15T08:33:58.380Z"
   },
   {
    "duration": 0,
    "start_time": "2022-06-15T08:33:58.381Z"
   },
   {
    "duration": 0,
    "start_time": "2022-06-15T08:33:58.382Z"
   },
   {
    "duration": 0,
    "start_time": "2022-06-15T08:33:58.384Z"
   },
   {
    "duration": 474,
    "start_time": "2022-06-15T08:35:54.425Z"
   },
   {
    "duration": 1167,
    "start_time": "2022-06-15T08:36:22.415Z"
   },
   {
    "duration": 63,
    "start_time": "2022-06-15T08:36:23.584Z"
   },
   {
    "duration": 18,
    "start_time": "2022-06-15T08:36:23.648Z"
   },
   {
    "duration": 30,
    "start_time": "2022-06-15T08:36:23.667Z"
   },
   {
    "duration": 25,
    "start_time": "2022-06-15T08:36:23.699Z"
   },
   {
    "duration": 19,
    "start_time": "2022-06-15T08:36:23.725Z"
   },
   {
    "duration": 4,
    "start_time": "2022-06-15T08:36:23.746Z"
   },
   {
    "duration": 126,
    "start_time": "2022-06-15T08:36:23.752Z"
   },
   {
    "duration": 13,
    "start_time": "2022-06-15T08:36:23.879Z"
   },
   {
    "duration": 5,
    "start_time": "2022-06-15T08:36:23.894Z"
   },
   {
    "duration": 53,
    "start_time": "2022-06-15T08:36:23.901Z"
   },
   {
    "duration": 11,
    "start_time": "2022-06-15T08:36:23.956Z"
   },
   {
    "duration": 21,
    "start_time": "2022-06-15T08:36:23.970Z"
   },
   {
    "duration": 32,
    "start_time": "2022-06-15T08:36:23.992Z"
   },
   {
    "duration": 12,
    "start_time": "2022-06-15T08:36:24.026Z"
   },
   {
    "duration": 24,
    "start_time": "2022-06-15T08:36:24.040Z"
   },
   {
    "duration": 9,
    "start_time": "2022-06-15T08:36:24.065Z"
   },
   {
    "duration": 7,
    "start_time": "2022-06-15T08:36:24.075Z"
   },
   {
    "duration": 44,
    "start_time": "2022-06-15T08:36:24.084Z"
   },
   {
    "duration": 344,
    "start_time": "2022-06-15T08:36:24.130Z"
   },
   {
    "duration": 286,
    "start_time": "2022-06-15T08:36:24.475Z"
   },
   {
    "duration": 13,
    "start_time": "2022-06-15T08:36:24.762Z"
   },
   {
    "duration": 163,
    "start_time": "2022-06-15T08:36:24.776Z"
   },
   {
    "duration": 4,
    "start_time": "2022-06-15T08:36:24.941Z"
   },
   {
    "duration": 8,
    "start_time": "2022-06-15T08:36:24.947Z"
   },
   {
    "duration": 262,
    "start_time": "2022-06-15T08:36:24.957Z"
   },
   {
    "duration": 6,
    "start_time": "2022-06-15T08:36:25.221Z"
   },
   {
    "duration": 328,
    "start_time": "2022-06-15T08:36:25.230Z"
   },
   {
    "duration": 342,
    "start_time": "2022-06-15T08:36:25.560Z"
   },
   {
    "duration": 30,
    "start_time": "2022-06-15T08:36:25.904Z"
   },
   {
    "duration": 501,
    "start_time": "2022-06-15T08:36:25.936Z"
   },
   {
    "duration": 18,
    "start_time": "2022-06-15T08:36:26.439Z"
   },
   {
    "duration": 1953,
    "start_time": "2022-06-15T08:36:26.459Z"
   },
   {
    "duration": 302,
    "start_time": "2022-06-15T08:36:28.414Z"
   },
   {
    "duration": 10,
    "start_time": "2022-06-15T08:36:28.718Z"
   },
   {
    "duration": 276,
    "start_time": "2022-06-15T08:36:28.729Z"
   },
   {
    "duration": 302,
    "start_time": "2022-06-15T08:36:29.007Z"
   },
   {
    "duration": 256,
    "start_time": "2022-06-15T08:36:29.312Z"
   },
   {
    "duration": 18,
    "start_time": "2022-06-15T08:36:29.569Z"
   },
   {
    "duration": 35,
    "start_time": "2022-06-15T08:36:29.589Z"
   },
   {
    "duration": 17,
    "start_time": "2022-06-15T08:36:29.625Z"
   },
   {
    "duration": 14,
    "start_time": "2022-06-15T08:36:29.643Z"
   },
   {
    "duration": 16,
    "start_time": "2022-06-15T08:36:29.658Z"
   },
   {
    "duration": 13,
    "start_time": "2022-06-15T08:36:29.675Z"
   },
   {
    "duration": 233,
    "start_time": "2022-06-15T08:36:29.690Z"
   },
   {
    "duration": 13,
    "start_time": "2022-06-15T08:36:29.924Z"
   },
   {
    "duration": 15,
    "start_time": "2022-06-15T08:36:29.940Z"
   },
   {
    "duration": 18,
    "start_time": "2022-06-15T08:40:09.582Z"
   },
   {
    "duration": 23,
    "start_time": "2022-06-15T08:40:33.565Z"
   },
   {
    "duration": 1203,
    "start_time": "2022-06-15T08:41:04.966Z"
   },
   {
    "duration": 65,
    "start_time": "2022-06-15T08:41:06.171Z"
   },
   {
    "duration": 20,
    "start_time": "2022-06-15T08:41:06.238Z"
   },
   {
    "duration": 29,
    "start_time": "2022-06-15T08:41:06.261Z"
   },
   {
    "duration": 32,
    "start_time": "2022-06-15T08:41:06.292Z"
   },
   {
    "duration": 15,
    "start_time": "2022-06-15T08:41:06.326Z"
   },
   {
    "duration": 5,
    "start_time": "2022-06-15T08:41:06.343Z"
   },
   {
    "duration": 134,
    "start_time": "2022-06-15T08:41:06.350Z"
   },
   {
    "duration": 15,
    "start_time": "2022-06-15T08:41:06.486Z"
   },
   {
    "duration": 20,
    "start_time": "2022-06-15T08:41:06.504Z"
   },
   {
    "duration": 17,
    "start_time": "2022-06-15T08:41:06.525Z"
   },
   {
    "duration": 9,
    "start_time": "2022-06-15T08:41:06.544Z"
   },
   {
    "duration": 23,
    "start_time": "2022-06-15T08:41:06.555Z"
   },
   {
    "duration": 45,
    "start_time": "2022-06-15T08:41:06.580Z"
   },
   {
    "duration": 11,
    "start_time": "2022-06-15T08:41:06.627Z"
   },
   {
    "duration": 23,
    "start_time": "2022-06-15T08:41:06.640Z"
   },
   {
    "duration": 10,
    "start_time": "2022-06-15T08:41:06.665Z"
   },
   {
    "duration": 11,
    "start_time": "2022-06-15T08:41:06.677Z"
   },
   {
    "duration": 47,
    "start_time": "2022-06-15T08:41:06.690Z"
   },
   {
    "duration": 354,
    "start_time": "2022-06-15T08:41:06.739Z"
   },
   {
    "duration": 312,
    "start_time": "2022-06-15T08:41:07.095Z"
   },
   {
    "duration": 19,
    "start_time": "2022-06-15T08:41:07.409Z"
   },
   {
    "duration": 165,
    "start_time": "2022-06-15T08:41:07.430Z"
   },
   {
    "duration": 4,
    "start_time": "2022-06-15T08:41:07.597Z"
   },
   {
    "duration": 20,
    "start_time": "2022-06-15T08:41:07.603Z"
   },
   {
    "duration": 274,
    "start_time": "2022-06-15T08:41:07.625Z"
   },
   {
    "duration": 9,
    "start_time": "2022-06-15T08:41:07.901Z"
   },
   {
    "duration": 332,
    "start_time": "2022-06-15T08:41:07.913Z"
   },
   {
    "duration": 330,
    "start_time": "2022-06-15T08:41:08.246Z"
   },
   {
    "duration": 17,
    "start_time": "2022-06-15T08:41:08.578Z"
   },
   {
    "duration": 561,
    "start_time": "2022-06-15T08:41:08.596Z"
   },
   {
    "duration": 16,
    "start_time": "2022-06-15T08:41:09.159Z"
   },
   {
    "duration": 2005,
    "start_time": "2022-06-15T08:41:09.176Z"
   },
   {
    "duration": 308,
    "start_time": "2022-06-15T08:41:11.183Z"
   },
   {
    "duration": 6,
    "start_time": "2022-06-15T08:41:11.493Z"
   },
   {
    "duration": 278,
    "start_time": "2022-06-15T08:41:11.500Z"
   },
   {
    "duration": 305,
    "start_time": "2022-06-15T08:41:11.780Z"
   },
   {
    "duration": 258,
    "start_time": "2022-06-15T08:41:12.087Z"
   },
   {
    "duration": 23,
    "start_time": "2022-06-15T08:41:12.347Z"
   },
   {
    "duration": 23,
    "start_time": "2022-06-15T08:41:12.372Z"
   },
   {
    "duration": 41,
    "start_time": "2022-06-15T08:41:12.396Z"
   },
   {
    "duration": 14,
    "start_time": "2022-06-15T08:41:12.439Z"
   },
   {
    "duration": 17,
    "start_time": "2022-06-15T08:41:12.455Z"
   },
   {
    "duration": 18,
    "start_time": "2022-06-15T08:41:12.474Z"
   },
   {
    "duration": 304,
    "start_time": "2022-06-15T08:41:12.495Z"
   },
   {
    "duration": 22,
    "start_time": "2022-06-15T08:41:12.801Z"
   },
   {
    "duration": 16,
    "start_time": "2022-06-15T08:41:12.826Z"
   },
   {
    "duration": 6,
    "start_time": "2022-06-15T08:50:16.754Z"
   },
   {
    "duration": 370,
    "start_time": "2022-06-15T08:50:27.995Z"
   },
   {
    "duration": 279,
    "start_time": "2022-06-15T08:50:37.744Z"
   },
   {
    "duration": 221,
    "start_time": "2022-06-15T08:53:26.153Z"
   },
   {
    "duration": 16,
    "start_time": "2022-06-15T08:55:18.987Z"
   },
   {
    "duration": 13,
    "start_time": "2022-06-15T08:56:25.884Z"
   },
   {
    "duration": 13,
    "start_time": "2022-06-15T08:58:00.085Z"
   },
   {
    "duration": 13,
    "start_time": "2022-06-15T09:00:13.957Z"
   },
   {
    "duration": 1166,
    "start_time": "2022-06-15T09:03:05.988Z"
   },
   {
    "duration": 61,
    "start_time": "2022-06-15T09:03:07.156Z"
   },
   {
    "duration": 18,
    "start_time": "2022-06-15T09:03:07.221Z"
   },
   {
    "duration": 29,
    "start_time": "2022-06-15T09:03:07.241Z"
   },
   {
    "duration": 14,
    "start_time": "2022-06-15T09:03:07.272Z"
   },
   {
    "duration": 36,
    "start_time": "2022-06-15T09:03:07.287Z"
   },
   {
    "duration": 5,
    "start_time": "2022-06-15T09:03:07.325Z"
   },
   {
    "duration": 128,
    "start_time": "2022-06-15T09:03:07.332Z"
   },
   {
    "duration": 12,
    "start_time": "2022-06-15T09:03:07.462Z"
   },
   {
    "duration": 7,
    "start_time": "2022-06-15T09:03:07.475Z"
   },
   {
    "duration": 18,
    "start_time": "2022-06-15T09:03:07.483Z"
   },
   {
    "duration": 10,
    "start_time": "2022-06-15T09:03:07.522Z"
   },
   {
    "duration": 17,
    "start_time": "2022-06-15T09:03:07.535Z"
   },
   {
    "duration": 14,
    "start_time": "2022-06-15T09:03:07.554Z"
   },
   {
    "duration": 12,
    "start_time": "2022-06-15T09:03:07.570Z"
   },
   {
    "duration": 57,
    "start_time": "2022-06-15T09:03:07.583Z"
   },
   {
    "duration": 9,
    "start_time": "2022-06-15T09:03:07.642Z"
   },
   {
    "duration": 11,
    "start_time": "2022-06-15T09:03:07.652Z"
   },
   {
    "duration": 19,
    "start_time": "2022-06-15T09:03:07.664Z"
   },
   {
    "duration": 385,
    "start_time": "2022-06-15T09:03:07.684Z"
   },
   {
    "duration": 306,
    "start_time": "2022-06-15T09:03:08.071Z"
   },
   {
    "duration": 15,
    "start_time": "2022-06-15T09:03:08.378Z"
   },
   {
    "duration": 182,
    "start_time": "2022-06-15T09:03:08.394Z"
   },
   {
    "duration": 4,
    "start_time": "2022-06-15T09:03:08.577Z"
   },
   {
    "duration": 10,
    "start_time": "2022-06-15T09:03:08.583Z"
   },
   {
    "duration": 276,
    "start_time": "2022-06-15T09:03:08.595Z"
   },
   {
    "duration": 6,
    "start_time": "2022-06-15T09:03:08.873Z"
   },
   {
    "duration": 339,
    "start_time": "2022-06-15T09:03:08.880Z"
   },
   {
    "duration": 340,
    "start_time": "2022-06-15T09:03:09.220Z"
   },
   {
    "duration": 18,
    "start_time": "2022-06-15T09:03:09.562Z"
   },
   {
    "duration": 617,
    "start_time": "2022-06-15T09:03:09.582Z"
   },
   {
    "duration": 26,
    "start_time": "2022-06-15T09:03:10.201Z"
   },
   {
    "duration": 1985,
    "start_time": "2022-06-15T09:03:10.229Z"
   },
   {
    "duration": 298,
    "start_time": "2022-06-15T09:03:12.216Z"
   },
   {
    "duration": 14,
    "start_time": "2022-06-15T09:03:12.516Z"
   },
   {
    "duration": 332,
    "start_time": "2022-06-15T09:03:12.533Z"
   },
   {
    "duration": 273,
    "start_time": "2022-06-15T09:03:12.867Z"
   },
   {
    "duration": 273,
    "start_time": "2022-06-15T09:03:13.142Z"
   },
   {
    "duration": 18,
    "start_time": "2022-06-15T09:03:13.417Z"
   },
   {
    "duration": 13,
    "start_time": "2022-06-15T09:03:13.438Z"
   },
   {
    "duration": 16,
    "start_time": "2022-06-15T09:03:13.452Z"
   },
   {
    "duration": 12,
    "start_time": "2022-06-15T09:03:13.470Z"
   },
   {
    "duration": 40,
    "start_time": "2022-06-15T09:03:13.484Z"
   },
   {
    "duration": 17,
    "start_time": "2022-06-15T09:03:13.526Z"
   },
   {
    "duration": 212,
    "start_time": "2022-06-15T09:03:13.545Z"
   },
   {
    "duration": 13,
    "start_time": "2022-06-15T09:03:13.759Z"
   },
   {
    "duration": 34,
    "start_time": "2022-06-15T09:03:13.774Z"
   },
   {
    "duration": 431,
    "start_time": "2022-06-15T09:07:49.873Z"
   },
   {
    "duration": 1136,
    "start_time": "2022-06-15T09:08:09.914Z"
   },
   {
    "duration": 61,
    "start_time": "2022-06-15T09:08:11.051Z"
   },
   {
    "duration": 18,
    "start_time": "2022-06-15T09:08:11.114Z"
   },
   {
    "duration": 31,
    "start_time": "2022-06-15T09:08:11.134Z"
   },
   {
    "duration": 14,
    "start_time": "2022-06-15T09:08:11.166Z"
   },
   {
    "duration": 16,
    "start_time": "2022-06-15T09:08:11.182Z"
   },
   {
    "duration": 23,
    "start_time": "2022-06-15T09:08:11.200Z"
   },
   {
    "duration": 122,
    "start_time": "2022-06-15T09:08:11.224Z"
   },
   {
    "duration": 13,
    "start_time": "2022-06-15T09:08:11.347Z"
   },
   {
    "duration": 7,
    "start_time": "2022-06-15T09:08:11.363Z"
   },
   {
    "duration": 18,
    "start_time": "2022-06-15T09:08:11.371Z"
   },
   {
    "duration": 35,
    "start_time": "2022-06-15T09:08:11.390Z"
   },
   {
    "duration": 15,
    "start_time": "2022-06-15T09:08:11.428Z"
   },
   {
    "duration": 14,
    "start_time": "2022-06-15T09:08:11.445Z"
   },
   {
    "duration": 8,
    "start_time": "2022-06-15T09:08:11.462Z"
   },
   {
    "duration": 52,
    "start_time": "2022-06-15T09:08:11.472Z"
   },
   {
    "duration": 11,
    "start_time": "2022-06-15T09:08:11.526Z"
   },
   {
    "duration": 6,
    "start_time": "2022-06-15T09:08:11.539Z"
   },
   {
    "duration": 18,
    "start_time": "2022-06-15T09:08:11.547Z"
   },
   {
    "duration": 369,
    "start_time": "2022-06-15T09:08:11.567Z"
   },
   {
    "duration": 308,
    "start_time": "2022-06-15T09:08:11.937Z"
   },
   {
    "duration": 13,
    "start_time": "2022-06-15T09:08:12.247Z"
   },
   {
    "duration": 166,
    "start_time": "2022-06-15T09:08:12.262Z"
   },
   {
    "duration": 5,
    "start_time": "2022-06-15T09:08:12.429Z"
   },
   {
    "duration": 9,
    "start_time": "2022-06-15T09:08:12.436Z"
   },
   {
    "duration": 313,
    "start_time": "2022-06-15T09:08:12.446Z"
   },
   {
    "duration": 8,
    "start_time": "2022-06-15T09:08:12.761Z"
   },
   {
    "duration": 310,
    "start_time": "2022-06-15T09:08:12.773Z"
   },
   {
    "duration": 331,
    "start_time": "2022-06-15T09:08:13.085Z"
   },
   {
    "duration": 18,
    "start_time": "2022-06-15T09:08:13.418Z"
   },
   {
    "duration": 505,
    "start_time": "2022-06-15T09:08:13.438Z"
   },
   {
    "duration": 17,
    "start_time": "2022-06-15T09:08:13.945Z"
   },
   {
    "duration": 1942,
    "start_time": "2022-06-15T09:08:13.964Z"
   },
   {
    "duration": 304,
    "start_time": "2022-06-15T09:08:15.908Z"
   },
   {
    "duration": 10,
    "start_time": "2022-06-15T09:08:16.214Z"
   },
   {
    "duration": 243,
    "start_time": "2022-06-15T09:08:16.225Z"
   },
   {
    "duration": 287,
    "start_time": "2022-06-15T09:08:16.469Z"
   },
   {
    "duration": 265,
    "start_time": "2022-06-15T09:08:16.758Z"
   },
   {
    "duration": 19,
    "start_time": "2022-06-15T09:08:17.025Z"
   },
   {
    "duration": 15,
    "start_time": "2022-06-15T09:08:17.045Z"
   },
   {
    "duration": 15,
    "start_time": "2022-06-15T09:08:17.062Z"
   },
   {
    "duration": 47,
    "start_time": "2022-06-15T09:08:17.079Z"
   },
   {
    "duration": 15,
    "start_time": "2022-06-15T09:08:17.129Z"
   },
   {
    "duration": 13,
    "start_time": "2022-06-15T09:08:17.146Z"
   },
   {
    "duration": 215,
    "start_time": "2022-06-15T09:08:17.160Z"
   },
   {
    "duration": 12,
    "start_time": "2022-06-15T09:08:17.377Z"
   },
   {
    "duration": 16,
    "start_time": "2022-06-15T09:08:17.391Z"
   },
   {
    "duration": 342,
    "start_time": "2022-06-15T09:17:19.934Z"
   },
   {
    "duration": 1160,
    "start_time": "2022-06-15T09:47:21.656Z"
   },
   {
    "duration": 89,
    "start_time": "2022-06-15T09:47:22.819Z"
   },
   {
    "duration": 20,
    "start_time": "2022-06-15T09:47:22.909Z"
   },
   {
    "duration": 28,
    "start_time": "2022-06-15T09:47:22.931Z"
   },
   {
    "duration": 15,
    "start_time": "2022-06-15T09:47:22.961Z"
   },
   {
    "duration": 15,
    "start_time": "2022-06-15T09:47:22.978Z"
   },
   {
    "duration": 31,
    "start_time": "2022-06-15T09:47:22.995Z"
   },
   {
    "duration": 121,
    "start_time": "2022-06-15T09:47:23.028Z"
   },
   {
    "duration": 13,
    "start_time": "2022-06-15T09:47:23.151Z"
   },
   {
    "duration": 6,
    "start_time": "2022-06-15T09:47:23.165Z"
   },
   {
    "duration": 31,
    "start_time": "2022-06-15T09:47:23.173Z"
   },
   {
    "duration": 23,
    "start_time": "2022-06-15T09:47:23.205Z"
   },
   {
    "duration": 20,
    "start_time": "2022-06-15T09:47:23.230Z"
   },
   {
    "duration": 17,
    "start_time": "2022-06-15T09:47:23.254Z"
   },
   {
    "duration": 18,
    "start_time": "2022-06-15T09:47:23.272Z"
   },
   {
    "duration": 42,
    "start_time": "2022-06-15T09:47:23.292Z"
   },
   {
    "duration": 12,
    "start_time": "2022-06-15T09:47:23.336Z"
   },
   {
    "duration": 6,
    "start_time": "2022-06-15T09:47:23.349Z"
   },
   {
    "duration": 32,
    "start_time": "2022-06-15T09:47:23.356Z"
   },
   {
    "duration": 366,
    "start_time": "2022-06-15T09:47:23.390Z"
   },
   {
    "duration": 316,
    "start_time": "2022-06-15T09:47:23.758Z"
   },
   {
    "duration": 14,
    "start_time": "2022-06-15T09:47:24.076Z"
   },
   {
    "duration": 180,
    "start_time": "2022-06-15T09:47:24.092Z"
   },
   {
    "duration": 5,
    "start_time": "2022-06-15T09:47:24.274Z"
   },
   {
    "duration": 11,
    "start_time": "2022-06-15T09:47:24.281Z"
   },
   {
    "duration": 297,
    "start_time": "2022-06-15T09:47:24.294Z"
   },
   {
    "duration": 6,
    "start_time": "2022-06-15T09:47:24.593Z"
   },
   {
    "duration": 301,
    "start_time": "2022-06-15T09:47:24.600Z"
   },
   {
    "duration": 329,
    "start_time": "2022-06-15T09:47:24.902Z"
   },
   {
    "duration": 18,
    "start_time": "2022-06-15T09:47:25.232Z"
   },
   {
    "duration": 504,
    "start_time": "2022-06-15T09:47:25.252Z"
   },
   {
    "duration": 15,
    "start_time": "2022-06-15T09:47:25.758Z"
   },
   {
    "duration": 2005,
    "start_time": "2022-06-15T09:47:25.775Z"
   },
   {
    "duration": 344,
    "start_time": "2022-06-15T09:47:27.782Z"
   },
   {
    "duration": 5,
    "start_time": "2022-06-15T09:47:28.128Z"
   },
   {
    "duration": 307,
    "start_time": "2022-06-15T09:47:28.135Z"
   },
   {
    "duration": 311,
    "start_time": "2022-06-15T09:47:28.444Z"
   },
   {
    "duration": 277,
    "start_time": "2022-06-15T09:47:28.757Z"
   },
   {
    "duration": 16,
    "start_time": "2022-06-15T09:47:29.036Z"
   },
   {
    "duration": 13,
    "start_time": "2022-06-15T09:47:29.054Z"
   },
   {
    "duration": 41,
    "start_time": "2022-06-15T09:47:29.071Z"
   },
   {
    "duration": 37,
    "start_time": "2022-06-15T09:47:29.114Z"
   },
   {
    "duration": 19,
    "start_time": "2022-06-15T09:47:29.153Z"
   },
   {
    "duration": 15,
    "start_time": "2022-06-15T09:47:29.173Z"
   },
   {
    "duration": 209,
    "start_time": "2022-06-15T09:47:29.189Z"
   },
   {
    "duration": 13,
    "start_time": "2022-06-15T09:47:29.399Z"
   },
   {
    "duration": 19,
    "start_time": "2022-06-15T09:47:29.414Z"
   },
   {
    "duration": 1130,
    "start_time": "2022-06-15T10:08:51.360Z"
   },
   {
    "duration": 80,
    "start_time": "2022-06-15T10:08:52.495Z"
   },
   {
    "duration": 26,
    "start_time": "2022-06-15T10:08:52.578Z"
   },
   {
    "duration": 53,
    "start_time": "2022-06-15T10:08:52.606Z"
   },
   {
    "duration": 20,
    "start_time": "2022-06-15T10:08:52.661Z"
   },
   {
    "duration": 22,
    "start_time": "2022-06-15T10:08:52.683Z"
   },
   {
    "duration": 7,
    "start_time": "2022-06-15T10:08:52.725Z"
   },
   {
    "duration": 134,
    "start_time": "2022-06-15T10:08:52.734Z"
   },
   {
    "duration": 13,
    "start_time": "2022-06-15T10:08:52.870Z"
   },
   {
    "duration": 6,
    "start_time": "2022-06-15T10:08:52.885Z"
   },
   {
    "duration": 42,
    "start_time": "2022-06-15T10:08:52.892Z"
   },
   {
    "duration": 9,
    "start_time": "2022-06-15T10:08:52.935Z"
   },
   {
    "duration": 15,
    "start_time": "2022-06-15T10:08:52.946Z"
   },
   {
    "duration": 13,
    "start_time": "2022-06-15T10:08:52.963Z"
   },
   {
    "duration": 9,
    "start_time": "2022-06-15T10:08:52.978Z"
   },
   {
    "duration": 53,
    "start_time": "2022-06-15T10:08:52.989Z"
   },
   {
    "duration": 13,
    "start_time": "2022-06-15T10:08:53.044Z"
   },
   {
    "duration": 6,
    "start_time": "2022-06-15T10:08:53.059Z"
   },
   {
    "duration": 23,
    "start_time": "2022-06-15T10:08:53.066Z"
   },
   {
    "duration": 374,
    "start_time": "2022-06-15T10:08:53.091Z"
   },
   {
    "duration": 291,
    "start_time": "2022-06-15T10:08:53.467Z"
   },
   {
    "duration": 15,
    "start_time": "2022-06-15T10:08:53.760Z"
   },
   {
    "duration": 185,
    "start_time": "2022-06-15T10:08:53.777Z"
   },
   {
    "duration": 11,
    "start_time": "2022-06-15T10:08:53.964Z"
   },
   {
    "duration": 21,
    "start_time": "2022-06-15T10:08:53.977Z"
   },
   {
    "duration": 247,
    "start_time": "2022-06-15T10:08:54.000Z"
   },
   {
    "duration": 6,
    "start_time": "2022-06-15T10:08:54.249Z"
   },
   {
    "duration": 301,
    "start_time": "2022-06-15T10:08:54.258Z"
   },
   {
    "duration": 325,
    "start_time": "2022-06-15T10:08:54.560Z"
   },
   {
    "duration": 16,
    "start_time": "2022-06-15T10:08:54.887Z"
   },
   {
    "duration": 534,
    "start_time": "2022-06-15T10:08:54.904Z"
   },
   {
    "duration": 15,
    "start_time": "2022-06-15T10:08:55.440Z"
   },
   {
    "duration": 2899,
    "start_time": "2022-06-15T10:08:55.457Z"
   },
   {
    "duration": 307,
    "start_time": "2022-06-15T10:08:58.358Z"
   },
   {
    "duration": 6,
    "start_time": "2022-06-15T10:08:58.667Z"
   },
   {
    "duration": 301,
    "start_time": "2022-06-15T10:08:58.675Z"
   },
   {
    "duration": 316,
    "start_time": "2022-06-15T10:08:58.977Z"
   },
   {
    "duration": 270,
    "start_time": "2022-06-15T10:08:59.295Z"
   },
   {
    "duration": 18,
    "start_time": "2022-06-15T10:08:59.567Z"
   },
   {
    "duration": 15,
    "start_time": "2022-06-15T10:08:59.586Z"
   },
   {
    "duration": 36,
    "start_time": "2022-06-15T10:08:59.603Z"
   },
   {
    "duration": 15,
    "start_time": "2022-06-15T10:08:59.641Z"
   },
   {
    "duration": 19,
    "start_time": "2022-06-15T10:08:59.658Z"
   },
   {
    "duration": 13,
    "start_time": "2022-06-15T10:08:59.679Z"
   },
   {
    "duration": 206,
    "start_time": "2022-06-15T10:08:59.724Z"
   },
   {
    "duration": 12,
    "start_time": "2022-06-15T10:08:59.932Z"
   },
   {
    "duration": 21,
    "start_time": "2022-06-15T10:08:59.946Z"
   },
   {
    "duration": 24,
    "start_time": "2022-06-15T10:12:57.810Z"
   },
   {
    "duration": 1150,
    "start_time": "2022-06-15T10:24:17.543Z"
   },
   {
    "duration": 80,
    "start_time": "2022-06-15T10:24:18.695Z"
   },
   {
    "duration": 31,
    "start_time": "2022-06-15T10:24:18.778Z"
   },
   {
    "duration": 52,
    "start_time": "2022-06-15T10:24:18.812Z"
   },
   {
    "duration": 17,
    "start_time": "2022-06-15T10:24:18.868Z"
   },
   {
    "duration": 41,
    "start_time": "2022-06-15T10:24:18.888Z"
   },
   {
    "duration": 7,
    "start_time": "2022-06-15T10:24:18.932Z"
   },
   {
    "duration": 155,
    "start_time": "2022-06-15T10:24:18.941Z"
   },
   {
    "duration": 13,
    "start_time": "2022-06-15T10:24:19.098Z"
   },
   {
    "duration": 13,
    "start_time": "2022-06-15T10:24:19.113Z"
   },
   {
    "duration": 26,
    "start_time": "2022-06-15T10:24:19.128Z"
   },
   {
    "duration": 12,
    "start_time": "2022-06-15T10:24:19.156Z"
   },
   {
    "duration": 16,
    "start_time": "2022-06-15T10:24:19.170Z"
   },
   {
    "duration": 47,
    "start_time": "2022-06-15T10:24:19.190Z"
   },
   {
    "duration": 13,
    "start_time": "2022-06-15T10:24:19.239Z"
   },
   {
    "duration": 26,
    "start_time": "2022-06-15T10:24:19.255Z"
   },
   {
    "duration": 12,
    "start_time": "2022-06-15T10:24:19.284Z"
   },
   {
    "duration": 7,
    "start_time": "2022-06-15T10:24:19.324Z"
   },
   {
    "duration": 19,
    "start_time": "2022-06-15T10:24:19.332Z"
   },
   {
    "duration": 370,
    "start_time": "2022-06-15T10:24:19.353Z"
   },
   {
    "duration": 319,
    "start_time": "2022-06-15T10:24:19.725Z"
   },
   {
    "duration": 13,
    "start_time": "2022-06-15T10:24:20.046Z"
   },
   {
    "duration": 173,
    "start_time": "2022-06-15T10:24:20.060Z"
   },
   {
    "duration": 5,
    "start_time": "2022-06-15T10:24:20.234Z"
   },
   {
    "duration": 12,
    "start_time": "2022-06-15T10:24:20.240Z"
   },
   {
    "duration": 297,
    "start_time": "2022-06-15T10:24:20.254Z"
   },
   {
    "duration": 6,
    "start_time": "2022-06-15T10:24:20.553Z"
   },
   {
    "duration": 323,
    "start_time": "2022-06-15T10:24:20.561Z"
   },
   {
    "duration": 332,
    "start_time": "2022-06-15T10:24:20.886Z"
   },
   {
    "duration": 19,
    "start_time": "2022-06-15T10:24:21.222Z"
   },
   {
    "duration": 516,
    "start_time": "2022-06-15T10:24:21.243Z"
   },
   {
    "duration": 18,
    "start_time": "2022-06-15T10:24:21.761Z"
   },
   {
    "duration": 2157,
    "start_time": "2022-06-15T10:24:21.780Z"
   },
   {
    "duration": 384,
    "start_time": "2022-06-15T10:24:23.939Z"
   },
   {
    "duration": 7,
    "start_time": "2022-06-15T10:24:24.325Z"
   },
   {
    "duration": 272,
    "start_time": "2022-06-15T10:24:24.334Z"
   },
   {
    "duration": 287,
    "start_time": "2022-06-15T10:24:24.608Z"
   },
   {
    "duration": 297,
    "start_time": "2022-06-15T10:24:24.897Z"
   },
   {
    "duration": 28,
    "start_time": "2022-06-15T10:24:25.195Z"
   },
   {
    "duration": 16,
    "start_time": "2022-06-15T10:24:25.225Z"
   },
   {
    "duration": 25,
    "start_time": "2022-06-15T10:24:25.246Z"
   },
   {
    "duration": 17,
    "start_time": "2022-06-15T10:24:25.273Z"
   },
   {
    "duration": 44,
    "start_time": "2022-06-15T10:24:25.292Z"
   },
   {
    "duration": 14,
    "start_time": "2022-06-15T10:24:25.338Z"
   },
   {
    "duration": 216,
    "start_time": "2022-06-15T10:24:25.354Z"
   },
   {
    "duration": 11,
    "start_time": "2022-06-15T10:24:25.572Z"
   },
   {
    "duration": 13,
    "start_time": "2022-06-15T10:24:25.585Z"
   },
   {
    "duration": 1021,
    "start_time": "2022-06-15T12:30:09.350Z"
   },
   {
    "duration": 192,
    "start_time": "2022-06-15T12:30:10.372Z"
   },
   {
    "duration": 18,
    "start_time": "2022-06-15T12:30:10.565Z"
   },
   {
    "duration": 29,
    "start_time": "2022-06-15T12:30:10.585Z"
   },
   {
    "duration": 19,
    "start_time": "2022-06-15T12:30:10.616Z"
   },
   {
    "duration": 21,
    "start_time": "2022-06-15T12:30:10.637Z"
   },
   {
    "duration": 6,
    "start_time": "2022-06-15T12:30:10.659Z"
   },
   {
    "duration": 137,
    "start_time": "2022-06-15T12:30:10.667Z"
   },
   {
    "duration": 12,
    "start_time": "2022-06-15T12:30:10.805Z"
   },
   {
    "duration": 18,
    "start_time": "2022-06-15T12:30:10.820Z"
   },
   {
    "duration": 19,
    "start_time": "2022-06-15T12:30:10.839Z"
   },
   {
    "duration": 7,
    "start_time": "2022-06-15T12:30:10.860Z"
   },
   {
    "duration": 26,
    "start_time": "2022-06-15T12:30:10.869Z"
   },
   {
    "duration": 12,
    "start_time": "2022-06-15T12:30:10.897Z"
   },
   {
    "duration": 26,
    "start_time": "2022-06-15T12:30:10.911Z"
   },
   {
    "duration": 27,
    "start_time": "2022-06-15T12:30:10.939Z"
   },
   {
    "duration": 9,
    "start_time": "2022-06-15T12:30:10.968Z"
   },
   {
    "duration": 8,
    "start_time": "2022-06-15T12:30:10.992Z"
   },
   {
    "duration": 17,
    "start_time": "2022-06-15T12:30:11.001Z"
   },
   {
    "duration": 316,
    "start_time": "2022-06-15T12:30:11.019Z"
   },
   {
    "duration": 279,
    "start_time": "2022-06-15T12:30:11.336Z"
   },
   {
    "duration": 12,
    "start_time": "2022-06-15T12:30:11.617Z"
   },
   {
    "duration": 156,
    "start_time": "2022-06-15T12:30:11.631Z"
   },
   {
    "duration": 5,
    "start_time": "2022-06-15T12:30:11.791Z"
   },
   {
    "duration": 8,
    "start_time": "2022-06-15T12:30:11.798Z"
   },
   {
    "duration": 229,
    "start_time": "2022-06-15T12:30:11.807Z"
   },
   {
    "duration": 5,
    "start_time": "2022-06-15T12:30:12.037Z"
   },
   {
    "duration": 311,
    "start_time": "2022-06-15T12:30:12.046Z"
   },
   {
    "duration": 300,
    "start_time": "2022-06-15T12:30:12.359Z"
   },
   {
    "duration": 17,
    "start_time": "2022-06-15T12:30:12.661Z"
   },
   {
    "duration": 493,
    "start_time": "2022-06-15T12:30:12.680Z"
   },
   {
    "duration": 21,
    "start_time": "2022-06-15T12:30:13.175Z"
   },
   {
    "duration": 1797,
    "start_time": "2022-06-15T12:30:13.198Z"
   },
   {
    "duration": 319,
    "start_time": "2022-06-15T12:30:14.997Z"
   },
   {
    "duration": 9,
    "start_time": "2022-06-15T12:30:15.318Z"
   },
   {
    "duration": 279,
    "start_time": "2022-06-15T12:30:15.328Z"
   },
   {
    "duration": 264,
    "start_time": "2022-06-15T12:30:15.609Z"
   },
   {
    "duration": 258,
    "start_time": "2022-06-15T12:30:15.875Z"
   },
   {
    "duration": 19,
    "start_time": "2022-06-15T12:30:16.134Z"
   },
   {
    "duration": 17,
    "start_time": "2022-06-15T12:30:16.154Z"
   },
   {
    "duration": 30,
    "start_time": "2022-06-15T12:30:16.192Z"
   },
   {
    "duration": 28,
    "start_time": "2022-06-15T12:30:16.223Z"
   },
   {
    "duration": 16,
    "start_time": "2022-06-15T12:30:16.253Z"
   },
   {
    "duration": 20,
    "start_time": "2022-06-15T12:30:16.271Z"
   },
   {
    "duration": 191,
    "start_time": "2022-06-15T12:30:16.293Z"
   },
   {
    "duration": 14,
    "start_time": "2022-06-15T12:30:16.486Z"
   },
   {
    "duration": 14,
    "start_time": "2022-06-15T12:30:16.501Z"
   },
   {
    "duration": 222,
    "start_time": "2022-06-15T12:49:19.682Z"
   },
   {
    "duration": 253,
    "start_time": "2022-06-15T12:49:31.748Z"
   },
   {
    "duration": 10,
    "start_time": "2022-06-15T12:56:35.789Z"
   },
   {
    "duration": 14,
    "start_time": "2022-06-15T12:56:51.056Z"
   },
   {
    "duration": 45,
    "start_time": "2022-06-15T14:15:32.287Z"
   },
   {
    "duration": 7,
    "start_time": "2022-06-15T14:15:36.603Z"
   },
   {
    "duration": 9,
    "start_time": "2022-06-15T14:15:41.172Z"
   },
   {
    "duration": 1230,
    "start_time": "2022-06-15T14:15:57.138Z"
   },
   {
    "duration": 102,
    "start_time": "2022-06-15T14:15:58.370Z"
   },
   {
    "duration": 19,
    "start_time": "2022-06-15T14:15:58.474Z"
   },
   {
    "duration": 27,
    "start_time": "2022-06-15T14:15:58.495Z"
   },
   {
    "duration": 14,
    "start_time": "2022-06-15T14:15:58.524Z"
   },
   {
    "duration": 15,
    "start_time": "2022-06-15T14:15:58.539Z"
   },
   {
    "duration": 4,
    "start_time": "2022-06-15T14:15:58.556Z"
   },
   {
    "duration": 125,
    "start_time": "2022-06-15T14:15:58.562Z"
   },
   {
    "duration": 12,
    "start_time": "2022-06-15T14:15:58.689Z"
   },
   {
    "duration": 5,
    "start_time": "2022-06-15T14:15:58.703Z"
   },
   {
    "duration": 32,
    "start_time": "2022-06-15T14:15:58.710Z"
   },
   {
    "duration": 9,
    "start_time": "2022-06-15T14:15:58.743Z"
   },
   {
    "duration": 14,
    "start_time": "2022-06-15T14:15:58.753Z"
   },
   {
    "duration": 12,
    "start_time": "2022-06-15T14:15:58.768Z"
   },
   {
    "duration": 10,
    "start_time": "2022-06-15T14:15:58.781Z"
   },
   {
    "duration": 48,
    "start_time": "2022-06-15T14:15:58.792Z"
   },
   {
    "duration": 9,
    "start_time": "2022-06-15T14:15:58.842Z"
   },
   {
    "duration": 5,
    "start_time": "2022-06-15T14:15:58.852Z"
   },
   {
    "duration": 18,
    "start_time": "2022-06-15T14:15:58.858Z"
   },
   {
    "duration": 328,
    "start_time": "2022-06-15T14:15:58.877Z"
   },
   {
    "duration": 280,
    "start_time": "2022-06-15T14:15:59.207Z"
   },
   {
    "duration": 12,
    "start_time": "2022-06-15T14:15:59.489Z"
   },
   {
    "duration": 157,
    "start_time": "2022-06-15T14:15:59.503Z"
   },
   {
    "duration": 4,
    "start_time": "2022-06-15T14:15:59.662Z"
   },
   {
    "duration": 10,
    "start_time": "2022-06-15T14:15:59.667Z"
   },
   {
    "duration": 240,
    "start_time": "2022-06-15T14:15:59.678Z"
   },
   {
    "duration": 6,
    "start_time": "2022-06-15T14:15:59.920Z"
   },
   {
    "duration": 287,
    "start_time": "2022-06-15T14:15:59.929Z"
   },
   {
    "duration": 301,
    "start_time": "2022-06-15T14:16:00.218Z"
   },
   {
    "duration": 19,
    "start_time": "2022-06-15T14:16:00.521Z"
   },
   {
    "duration": 545,
    "start_time": "2022-06-15T14:16:00.542Z"
   },
   {
    "duration": 15,
    "start_time": "2022-06-15T14:16:01.089Z"
   },
   {
    "duration": 1935,
    "start_time": "2022-06-15T14:16:01.105Z"
   },
   {
    "duration": 299,
    "start_time": "2022-06-15T14:16:03.042Z"
   },
   {
    "duration": 6,
    "start_time": "2022-06-15T14:16:03.343Z"
   },
   {
    "duration": 268,
    "start_time": "2022-06-15T14:16:03.351Z"
   },
   {
    "duration": 301,
    "start_time": "2022-06-15T14:16:03.620Z"
   },
   {
    "duration": 254,
    "start_time": "2022-06-15T14:16:03.922Z"
   },
   {
    "duration": 17,
    "start_time": "2022-06-15T14:16:04.177Z"
   },
   {
    "duration": 13,
    "start_time": "2022-06-15T14:16:04.195Z"
   },
   {
    "duration": 33,
    "start_time": "2022-06-15T14:16:04.210Z"
   },
   {
    "duration": 12,
    "start_time": "2022-06-15T14:16:04.245Z"
   },
   {
    "duration": 23,
    "start_time": "2022-06-15T14:16:04.259Z"
   },
   {
    "duration": 14,
    "start_time": "2022-06-15T14:16:04.283Z"
   },
   {
    "duration": 213,
    "start_time": "2022-06-15T14:16:04.299Z"
   },
   {
    "duration": 19,
    "start_time": "2022-06-15T14:16:04.513Z"
   },
   {
    "duration": 15,
    "start_time": "2022-06-15T14:16:04.534Z"
   },
   {
    "duration": 230,
    "start_time": "2022-06-15T14:16:55.367Z"
   },
   {
    "duration": 1066,
    "start_time": "2022-06-15T14:17:05.926Z"
   },
   {
    "duration": 60,
    "start_time": "2022-06-15T14:17:06.994Z"
   },
   {
    "duration": 18,
    "start_time": "2022-06-15T14:17:07.055Z"
   },
   {
    "duration": 27,
    "start_time": "2022-06-15T14:17:07.074Z"
   },
   {
    "duration": 13,
    "start_time": "2022-06-15T14:17:07.103Z"
   },
   {
    "duration": 12,
    "start_time": "2022-06-15T14:17:07.127Z"
   },
   {
    "duration": 8,
    "start_time": "2022-06-15T14:17:07.140Z"
   },
   {
    "duration": 133,
    "start_time": "2022-06-15T14:17:07.150Z"
   },
   {
    "duration": 14,
    "start_time": "2022-06-15T14:17:07.284Z"
   },
   {
    "duration": 5,
    "start_time": "2022-06-15T14:17:07.300Z"
   },
   {
    "duration": 32,
    "start_time": "2022-06-15T14:17:07.307Z"
   },
   {
    "duration": 11,
    "start_time": "2022-06-15T14:17:07.340Z"
   },
   {
    "duration": 21,
    "start_time": "2022-06-15T14:17:07.353Z"
   },
   {
    "duration": 13,
    "start_time": "2022-06-15T14:17:07.376Z"
   },
   {
    "duration": 10,
    "start_time": "2022-06-15T14:17:07.391Z"
   },
   {
    "duration": 41,
    "start_time": "2022-06-15T14:17:07.402Z"
   },
   {
    "duration": 8,
    "start_time": "2022-06-15T14:17:07.445Z"
   },
   {
    "duration": 8,
    "start_time": "2022-06-15T14:17:07.454Z"
   },
   {
    "duration": 18,
    "start_time": "2022-06-15T14:17:07.464Z"
   },
   {
    "duration": 344,
    "start_time": "2022-06-15T14:17:07.484Z"
   },
   {
    "duration": 288,
    "start_time": "2022-06-15T14:17:07.830Z"
   },
   {
    "duration": 18,
    "start_time": "2022-06-15T14:17:08.119Z"
   },
   {
    "duration": 165,
    "start_time": "2022-06-15T14:17:08.139Z"
   },
   {
    "duration": 4,
    "start_time": "2022-06-15T14:17:08.306Z"
   },
   {
    "duration": 20,
    "start_time": "2022-06-15T14:17:08.311Z"
   },
   {
    "duration": 253,
    "start_time": "2022-06-15T14:17:08.333Z"
   },
   {
    "duration": 6,
    "start_time": "2022-06-15T14:17:08.588Z"
   },
   {
    "duration": 298,
    "start_time": "2022-06-15T14:17:08.597Z"
   },
   {
    "duration": 299,
    "start_time": "2022-06-15T14:17:08.897Z"
   },
   {
    "duration": 17,
    "start_time": "2022-06-15T14:17:09.198Z"
   },
   {
    "duration": 491,
    "start_time": "2022-06-15T14:17:09.227Z"
   },
   {
    "duration": 20,
    "start_time": "2022-06-15T14:17:09.720Z"
   },
   {
    "duration": 1888,
    "start_time": "2022-06-15T14:17:09.741Z"
   },
   {
    "duration": 314,
    "start_time": "2022-06-15T14:17:11.631Z"
   },
   {
    "duration": 5,
    "start_time": "2022-06-15T14:17:11.947Z"
   },
   {
    "duration": 245,
    "start_time": "2022-06-15T14:17:11.954Z"
   },
   {
    "duration": 269,
    "start_time": "2022-06-15T14:17:12.200Z"
   },
   {
    "duration": 248,
    "start_time": "2022-06-15T14:17:12.471Z"
   },
   {
    "duration": 20,
    "start_time": "2022-06-15T14:17:12.720Z"
   },
   {
    "duration": 12,
    "start_time": "2022-06-15T14:17:12.742Z"
   },
   {
    "duration": 18,
    "start_time": "2022-06-15T14:17:12.755Z"
   },
   {
    "duration": 12,
    "start_time": "2022-06-15T14:17:12.774Z"
   },
   {
    "duration": 44,
    "start_time": "2022-06-15T14:17:12.788Z"
   },
   {
    "duration": 12,
    "start_time": "2022-06-15T14:17:12.833Z"
   },
   {
    "duration": 198,
    "start_time": "2022-06-15T14:17:12.846Z"
   },
   {
    "duration": 12,
    "start_time": "2022-06-15T14:17:13.046Z"
   },
   {
    "duration": 17,
    "start_time": "2022-06-15T14:17:13.059Z"
   },
   {
    "duration": 41,
    "start_time": "2022-06-15T14:36:06.618Z"
   },
   {
    "duration": 21,
    "start_time": "2022-06-15T14:36:41.101Z"
   },
   {
    "duration": 168,
    "start_time": "2022-06-15T14:36:56.487Z"
   },
   {
    "duration": 34,
    "start_time": "2022-06-15T14:37:40.282Z"
   },
   {
    "duration": 1060,
    "start_time": "2022-06-15T14:50:46.055Z"
   },
   {
    "duration": 62,
    "start_time": "2022-06-15T14:50:47.117Z"
   },
   {
    "duration": 17,
    "start_time": "2022-06-15T14:50:47.180Z"
   },
   {
    "duration": 25,
    "start_time": "2022-06-15T14:50:47.199Z"
   },
   {
    "duration": 13,
    "start_time": "2022-06-15T14:50:47.226Z"
   },
   {
    "duration": 24,
    "start_time": "2022-06-15T14:50:47.240Z"
   },
   {
    "duration": 19,
    "start_time": "2022-06-15T14:50:47.266Z"
   },
   {
    "duration": 108,
    "start_time": "2022-06-15T14:50:47.287Z"
   },
   {
    "duration": 14,
    "start_time": "2022-06-15T14:50:47.397Z"
   },
   {
    "duration": 5,
    "start_time": "2022-06-15T14:50:47.426Z"
   },
   {
    "duration": 18,
    "start_time": "2022-06-15T14:50:47.432Z"
   },
   {
    "duration": 8,
    "start_time": "2022-06-15T14:50:47.451Z"
   },
   {
    "duration": 15,
    "start_time": "2022-06-15T14:50:47.460Z"
   },
   {
    "duration": 13,
    "start_time": "2022-06-15T14:50:47.476Z"
   },
   {
    "duration": 9,
    "start_time": "2022-06-15T14:50:47.490Z"
   },
   {
    "duration": 44,
    "start_time": "2022-06-15T14:50:47.501Z"
   },
   {
    "duration": 9,
    "start_time": "2022-06-15T14:50:47.546Z"
   },
   {
    "duration": 6,
    "start_time": "2022-06-15T14:50:47.557Z"
   },
   {
    "duration": 17,
    "start_time": "2022-06-15T14:50:47.564Z"
   },
   {
    "duration": 339,
    "start_time": "2022-06-15T14:50:47.583Z"
   },
   {
    "duration": 286,
    "start_time": "2022-06-15T14:50:47.926Z"
   },
   {
    "duration": 18,
    "start_time": "2022-06-15T14:50:48.214Z"
   },
   {
    "duration": 165,
    "start_time": "2022-06-15T14:50:48.234Z"
   },
   {
    "duration": 5,
    "start_time": "2022-06-15T14:50:48.400Z"
   },
   {
    "duration": 21,
    "start_time": "2022-06-15T14:50:48.406Z"
   },
   {
    "duration": 249,
    "start_time": "2022-06-15T14:50:48.429Z"
   },
   {
    "duration": 6,
    "start_time": "2022-06-15T14:50:48.680Z"
   },
   {
    "duration": 291,
    "start_time": "2022-06-15T14:50:48.689Z"
   },
   {
    "duration": 304,
    "start_time": "2022-06-15T14:50:48.982Z"
   },
   {
    "duration": 16,
    "start_time": "2022-06-15T14:50:49.288Z"
   },
   {
    "duration": 524,
    "start_time": "2022-06-15T14:50:49.305Z"
   },
   {
    "duration": 17,
    "start_time": "2022-06-15T14:50:49.831Z"
   },
   {
    "duration": 2480,
    "start_time": "2022-06-15T14:50:49.849Z"
   },
   {
    "duration": 551,
    "start_time": "2022-06-15T14:50:52.330Z"
   },
   {
    "duration": 5,
    "start_time": "2022-06-15T14:50:52.928Z"
   },
   {
    "duration": 247,
    "start_time": "2022-06-15T14:50:52.934Z"
   },
   {
    "duration": 266,
    "start_time": "2022-06-15T14:50:53.182Z"
   },
   {
    "duration": 296,
    "start_time": "2022-06-15T14:50:53.450Z"
   },
   {
    "duration": 15,
    "start_time": "2022-06-15T14:50:53.748Z"
   },
   {
    "duration": 71,
    "start_time": "2022-06-15T14:50:53.765Z"
   },
   {
    "duration": 21,
    "start_time": "2022-06-15T14:50:53.838Z"
   },
   {
    "duration": 69,
    "start_time": "2022-06-15T14:50:53.861Z"
   },
   {
    "duration": 21,
    "start_time": "2022-06-15T14:50:53.932Z"
   },
   {
    "duration": 16,
    "start_time": "2022-06-15T14:50:53.954Z"
   },
   {
    "duration": 383,
    "start_time": "2022-06-15T14:50:53.972Z"
   },
   {
    "duration": 12,
    "start_time": "2022-06-15T14:50:54.356Z"
   },
   {
    "duration": 12,
    "start_time": "2022-06-15T14:50:54.427Z"
   },
   {
    "duration": 54,
    "start_time": "2022-06-15T17:19:32.774Z"
   },
   {
    "duration": 1208,
    "start_time": "2022-06-15T17:19:37.644Z"
   },
   {
    "duration": 185,
    "start_time": "2022-06-15T17:19:38.854Z"
   },
   {
    "duration": 18,
    "start_time": "2022-06-15T17:19:39.040Z"
   },
   {
    "duration": 25,
    "start_time": "2022-06-15T17:19:39.059Z"
   },
   {
    "duration": 17,
    "start_time": "2022-06-15T17:19:39.086Z"
   },
   {
    "duration": 21,
    "start_time": "2022-06-15T17:19:39.105Z"
   },
   {
    "duration": 4,
    "start_time": "2022-06-15T17:19:39.128Z"
   },
   {
    "duration": 123,
    "start_time": "2022-06-15T17:19:39.133Z"
   },
   {
    "duration": 13,
    "start_time": "2022-06-15T17:19:39.268Z"
   },
   {
    "duration": 5,
    "start_time": "2022-06-15T17:19:39.283Z"
   },
   {
    "duration": 22,
    "start_time": "2022-06-15T17:19:39.289Z"
   },
   {
    "duration": 9,
    "start_time": "2022-06-15T17:19:39.313Z"
   },
   {
    "duration": 16,
    "start_time": "2022-06-15T17:19:39.323Z"
   },
   {
    "duration": 13,
    "start_time": "2022-06-15T17:19:39.340Z"
   },
   {
    "duration": 14,
    "start_time": "2022-06-15T17:19:39.354Z"
   },
   {
    "duration": 51,
    "start_time": "2022-06-15T17:19:39.370Z"
   },
   {
    "duration": 102,
    "start_time": "2022-06-15T17:19:39.423Z"
   },
   {
    "duration": 0,
    "start_time": "2022-06-15T17:19:39.528Z"
   },
   {
    "duration": 0,
    "start_time": "2022-06-15T17:19:39.529Z"
   },
   {
    "duration": 0,
    "start_time": "2022-06-15T17:19:39.530Z"
   },
   {
    "duration": 0,
    "start_time": "2022-06-15T17:19:39.532Z"
   },
   {
    "duration": 0,
    "start_time": "2022-06-15T17:19:39.532Z"
   },
   {
    "duration": 0,
    "start_time": "2022-06-15T17:19:39.533Z"
   },
   {
    "duration": 0,
    "start_time": "2022-06-15T17:19:39.534Z"
   },
   {
    "duration": 0,
    "start_time": "2022-06-15T17:19:39.535Z"
   },
   {
    "duration": 0,
    "start_time": "2022-06-15T17:19:39.536Z"
   },
   {
    "duration": 0,
    "start_time": "2022-06-15T17:19:39.537Z"
   },
   {
    "duration": 0,
    "start_time": "2022-06-15T17:19:39.538Z"
   },
   {
    "duration": 0,
    "start_time": "2022-06-15T17:19:39.539Z"
   },
   {
    "duration": 0,
    "start_time": "2022-06-15T17:19:39.541Z"
   },
   {
    "duration": 0,
    "start_time": "2022-06-15T17:19:39.542Z"
   },
   {
    "duration": 0,
    "start_time": "2022-06-15T17:19:39.543Z"
   },
   {
    "duration": 0,
    "start_time": "2022-06-15T17:19:39.544Z"
   },
   {
    "duration": 0,
    "start_time": "2022-06-15T17:19:39.546Z"
   },
   {
    "duration": 0,
    "start_time": "2022-06-15T17:19:39.547Z"
   },
   {
    "duration": 1,
    "start_time": "2022-06-15T17:19:39.548Z"
   },
   {
    "duration": 0,
    "start_time": "2022-06-15T17:19:39.549Z"
   },
   {
    "duration": 0,
    "start_time": "2022-06-15T17:19:39.551Z"
   },
   {
    "duration": 0,
    "start_time": "2022-06-15T17:19:39.552Z"
   },
   {
    "duration": 0,
    "start_time": "2022-06-15T17:19:39.594Z"
   },
   {
    "duration": 0,
    "start_time": "2022-06-15T17:19:39.595Z"
   },
   {
    "duration": 0,
    "start_time": "2022-06-15T17:19:39.597Z"
   },
   {
    "duration": 0,
    "start_time": "2022-06-15T17:19:39.597Z"
   },
   {
    "duration": 0,
    "start_time": "2022-06-15T17:19:39.598Z"
   },
   {
    "duration": 0,
    "start_time": "2022-06-15T17:19:39.598Z"
   },
   {
    "duration": 0,
    "start_time": "2022-06-15T17:19:39.599Z"
   },
   {
    "duration": 0,
    "start_time": "2022-06-15T17:19:39.600Z"
   },
   {
    "duration": 0,
    "start_time": "2022-06-15T17:19:39.600Z"
   },
   {
    "duration": 13,
    "start_time": "2022-06-15T17:20:07.684Z"
   },
   {
    "duration": 1108,
    "start_time": "2022-06-15T17:20:16.610Z"
   },
   {
    "duration": 75,
    "start_time": "2022-06-15T17:20:17.720Z"
   },
   {
    "duration": 22,
    "start_time": "2022-06-15T17:20:17.796Z"
   },
   {
    "duration": 27,
    "start_time": "2022-06-15T17:20:17.820Z"
   },
   {
    "duration": 13,
    "start_time": "2022-06-15T17:20:17.849Z"
   },
   {
    "duration": 33,
    "start_time": "2022-06-15T17:20:17.864Z"
   },
   {
    "duration": 5,
    "start_time": "2022-06-15T17:20:17.899Z"
   },
   {
    "duration": 148,
    "start_time": "2022-06-15T17:20:17.905Z"
   },
   {
    "duration": 13,
    "start_time": "2022-06-15T17:20:18.054Z"
   },
   {
    "duration": 7,
    "start_time": "2022-06-15T17:20:18.068Z"
   },
   {
    "duration": 27,
    "start_time": "2022-06-15T17:20:18.076Z"
   },
   {
    "duration": 9,
    "start_time": "2022-06-15T17:20:18.105Z"
   },
   {
    "duration": 19,
    "start_time": "2022-06-15T17:20:18.115Z"
   },
   {
    "duration": 12,
    "start_time": "2022-06-15T17:20:18.138Z"
   },
   {
    "duration": 10,
    "start_time": "2022-06-15T17:20:18.151Z"
   },
   {
    "duration": 52,
    "start_time": "2022-06-15T17:20:18.162Z"
   },
   {
    "duration": 99,
    "start_time": "2022-06-15T17:20:18.216Z"
   },
   {
    "duration": 0,
    "start_time": "2022-06-15T17:20:18.317Z"
   },
   {
    "duration": 0,
    "start_time": "2022-06-15T17:20:18.318Z"
   },
   {
    "duration": 0,
    "start_time": "2022-06-15T17:20:18.319Z"
   },
   {
    "duration": 0,
    "start_time": "2022-06-15T17:20:18.321Z"
   },
   {
    "duration": 0,
    "start_time": "2022-06-15T17:20:18.322Z"
   },
   {
    "duration": 0,
    "start_time": "2022-06-15T17:20:18.323Z"
   },
   {
    "duration": 0,
    "start_time": "2022-06-15T17:20:18.325Z"
   },
   {
    "duration": 0,
    "start_time": "2022-06-15T17:20:18.326Z"
   },
   {
    "duration": 0,
    "start_time": "2022-06-15T17:20:18.328Z"
   },
   {
    "duration": 0,
    "start_time": "2022-06-15T17:20:18.329Z"
   },
   {
    "duration": 0,
    "start_time": "2022-06-15T17:20:18.330Z"
   },
   {
    "duration": 0,
    "start_time": "2022-06-15T17:20:18.332Z"
   },
   {
    "duration": 0,
    "start_time": "2022-06-15T17:20:18.333Z"
   },
   {
    "duration": 0,
    "start_time": "2022-06-15T17:20:18.334Z"
   },
   {
    "duration": 0,
    "start_time": "2022-06-15T17:20:18.335Z"
   },
   {
    "duration": 0,
    "start_time": "2022-06-15T17:20:18.336Z"
   },
   {
    "duration": 0,
    "start_time": "2022-06-15T17:20:18.338Z"
   },
   {
    "duration": 0,
    "start_time": "2022-06-15T17:20:18.339Z"
   },
   {
    "duration": 0,
    "start_time": "2022-06-15T17:20:18.340Z"
   },
   {
    "duration": 0,
    "start_time": "2022-06-15T17:20:18.341Z"
   },
   {
    "duration": 0,
    "start_time": "2022-06-15T17:20:18.342Z"
   },
   {
    "duration": 0,
    "start_time": "2022-06-15T17:20:18.343Z"
   },
   {
    "duration": 0,
    "start_time": "2022-06-15T17:20:18.344Z"
   },
   {
    "duration": 0,
    "start_time": "2022-06-15T17:20:18.345Z"
   },
   {
    "duration": 0,
    "start_time": "2022-06-15T17:20:18.395Z"
   },
   {
    "duration": 0,
    "start_time": "2022-06-15T17:20:18.396Z"
   },
   {
    "duration": 0,
    "start_time": "2022-06-15T17:20:18.397Z"
   },
   {
    "duration": 0,
    "start_time": "2022-06-15T17:20:18.398Z"
   },
   {
    "duration": 0,
    "start_time": "2022-06-15T17:20:18.399Z"
   },
   {
    "duration": 0,
    "start_time": "2022-06-15T17:20:18.400Z"
   },
   {
    "duration": 0,
    "start_time": "2022-06-15T17:20:18.401Z"
   },
   {
    "duration": 19,
    "start_time": "2022-06-15T17:20:31.921Z"
   },
   {
    "duration": 11,
    "start_time": "2022-06-15T17:20:51.961Z"
   },
   {
    "duration": 3,
    "start_time": "2022-06-15T17:21:18.524Z"
   },
   {
    "duration": 930,
    "start_time": "2022-06-15T17:21:24.937Z"
   },
   {
    "duration": 58,
    "start_time": "2022-06-15T17:21:25.869Z"
   },
   {
    "duration": 18,
    "start_time": "2022-06-15T17:21:25.928Z"
   },
   {
    "duration": 26,
    "start_time": "2022-06-15T17:21:25.947Z"
   },
   {
    "duration": 27,
    "start_time": "2022-06-15T17:21:25.974Z"
   },
   {
    "duration": 13,
    "start_time": "2022-06-15T17:21:26.002Z"
   },
   {
    "duration": 5,
    "start_time": "2022-06-15T17:21:26.016Z"
   },
   {
    "duration": 119,
    "start_time": "2022-06-15T17:21:26.022Z"
   },
   {
    "duration": 13,
    "start_time": "2022-06-15T17:21:26.142Z"
   },
   {
    "duration": 5,
    "start_time": "2022-06-15T17:21:26.158Z"
   },
   {
    "duration": 34,
    "start_time": "2022-06-15T17:21:26.164Z"
   },
   {
    "duration": 9,
    "start_time": "2022-06-15T17:21:26.200Z"
   },
   {
    "duration": 12,
    "start_time": "2022-06-15T17:21:26.210Z"
   },
   {
    "duration": 12,
    "start_time": "2022-06-15T17:21:26.224Z"
   },
   {
    "duration": 10,
    "start_time": "2022-06-15T17:21:26.237Z"
   },
   {
    "duration": 21,
    "start_time": "2022-06-15T17:21:26.248Z"
   },
   {
    "duration": 5,
    "start_time": "2022-06-15T17:21:26.293Z"
   },
   {
    "duration": 88,
    "start_time": "2022-06-15T17:21:26.299Z"
   },
   {
    "duration": 0,
    "start_time": "2022-06-15T17:21:26.394Z"
   },
   {
    "duration": 0,
    "start_time": "2022-06-15T17:21:26.395Z"
   },
   {
    "duration": 0,
    "start_time": "2022-06-15T17:21:26.396Z"
   },
   {
    "duration": 0,
    "start_time": "2022-06-15T17:21:26.397Z"
   },
   {
    "duration": 0,
    "start_time": "2022-06-15T17:21:26.398Z"
   },
   {
    "duration": 0,
    "start_time": "2022-06-15T17:21:26.399Z"
   },
   {
    "duration": 0,
    "start_time": "2022-06-15T17:21:26.400Z"
   },
   {
    "duration": 0,
    "start_time": "2022-06-15T17:21:26.401Z"
   },
   {
    "duration": 0,
    "start_time": "2022-06-15T17:21:26.402Z"
   },
   {
    "duration": 0,
    "start_time": "2022-06-15T17:21:26.403Z"
   },
   {
    "duration": 0,
    "start_time": "2022-06-15T17:21:26.404Z"
   },
   {
    "duration": 0,
    "start_time": "2022-06-15T17:21:26.405Z"
   },
   {
    "duration": 0,
    "start_time": "2022-06-15T17:21:26.406Z"
   },
   {
    "duration": 0,
    "start_time": "2022-06-15T17:21:26.407Z"
   },
   {
    "duration": 0,
    "start_time": "2022-06-15T17:21:26.408Z"
   },
   {
    "duration": 0,
    "start_time": "2022-06-15T17:21:26.409Z"
   },
   {
    "duration": 0,
    "start_time": "2022-06-15T17:21:26.410Z"
   },
   {
    "duration": 0,
    "start_time": "2022-06-15T17:21:26.411Z"
   },
   {
    "duration": 0,
    "start_time": "2022-06-15T17:21:26.412Z"
   },
   {
    "duration": 0,
    "start_time": "2022-06-15T17:21:26.413Z"
   },
   {
    "duration": 0,
    "start_time": "2022-06-15T17:21:26.413Z"
   },
   {
    "duration": 0,
    "start_time": "2022-06-15T17:21:26.414Z"
   },
   {
    "duration": 0,
    "start_time": "2022-06-15T17:21:26.415Z"
   },
   {
    "duration": 0,
    "start_time": "2022-06-15T17:21:26.416Z"
   },
   {
    "duration": 0,
    "start_time": "2022-06-15T17:21:26.417Z"
   },
   {
    "duration": 0,
    "start_time": "2022-06-15T17:21:26.418Z"
   },
   {
    "duration": 0,
    "start_time": "2022-06-15T17:21:26.419Z"
   },
   {
    "duration": 0,
    "start_time": "2022-06-15T17:21:26.420Z"
   },
   {
    "duration": 0,
    "start_time": "2022-06-15T17:21:26.421Z"
   },
   {
    "duration": 0,
    "start_time": "2022-06-15T17:21:26.422Z"
   },
   {
    "duration": 8,
    "start_time": "2022-06-15T17:22:19.183Z"
   },
   {
    "duration": 990,
    "start_time": "2022-06-15T17:22:26.636Z"
   },
   {
    "duration": 56,
    "start_time": "2022-06-15T17:22:27.628Z"
   },
   {
    "duration": 17,
    "start_time": "2022-06-15T17:22:27.686Z"
   },
   {
    "duration": 27,
    "start_time": "2022-06-15T17:22:27.704Z"
   },
   {
    "duration": 12,
    "start_time": "2022-06-15T17:22:27.733Z"
   },
   {
    "duration": 13,
    "start_time": "2022-06-15T17:22:27.746Z"
   },
   {
    "duration": 5,
    "start_time": "2022-06-15T17:22:27.761Z"
   },
   {
    "duration": 128,
    "start_time": "2022-06-15T17:22:27.768Z"
   },
   {
    "duration": 13,
    "start_time": "2022-06-15T17:22:27.898Z"
   },
   {
    "duration": 5,
    "start_time": "2022-06-15T17:22:27.913Z"
   },
   {
    "duration": 18,
    "start_time": "2022-06-15T17:22:27.919Z"
   },
   {
    "duration": 10,
    "start_time": "2022-06-15T17:22:27.939Z"
   },
   {
    "duration": 15,
    "start_time": "2022-06-15T17:22:27.951Z"
   },
   {
    "duration": 31,
    "start_time": "2022-06-15T17:22:27.967Z"
   },
   {
    "duration": 10,
    "start_time": "2022-06-15T17:22:27.999Z"
   },
   {
    "duration": 20,
    "start_time": "2022-06-15T17:22:28.010Z"
   },
   {
    "duration": 6,
    "start_time": "2022-06-15T17:22:28.032Z"
   },
   {
    "duration": 24,
    "start_time": "2022-06-15T17:22:28.040Z"
   },
   {
    "duration": 6,
    "start_time": "2022-06-15T17:22:28.066Z"
   },
   {
    "duration": 31,
    "start_time": "2022-06-15T17:22:28.073Z"
   },
   {
    "duration": 352,
    "start_time": "2022-06-15T17:22:28.106Z"
   },
   {
    "duration": 306,
    "start_time": "2022-06-15T17:22:28.459Z"
   },
   {
    "duration": 13,
    "start_time": "2022-06-15T17:22:28.766Z"
   },
   {
    "duration": 143,
    "start_time": "2022-06-15T17:22:28.780Z"
   },
   {
    "duration": 4,
    "start_time": "2022-06-15T17:22:28.924Z"
   },
   {
    "duration": 9,
    "start_time": "2022-06-15T17:22:28.929Z"
   },
   {
    "duration": 273,
    "start_time": "2022-06-15T17:22:28.939Z"
   },
   {
    "duration": 5,
    "start_time": "2022-06-15T17:22:29.216Z"
   },
   {
    "duration": 608,
    "start_time": "2022-06-15T17:22:29.223Z"
   },
   {
    "duration": 603,
    "start_time": "2022-06-15T17:22:29.833Z"
   },
   {
    "duration": 69,
    "start_time": "2022-06-15T17:22:30.437Z"
   },
   {
    "duration": 593,
    "start_time": "2022-06-15T17:22:30.508Z"
   },
   {
    "duration": 14,
    "start_time": "2022-06-15T17:22:31.103Z"
   },
   {
    "duration": 1776,
    "start_time": "2022-06-15T17:22:31.118Z"
   },
   {
    "duration": 261,
    "start_time": "2022-06-15T17:22:32.896Z"
   },
   {
    "duration": 5,
    "start_time": "2022-06-15T17:22:33.159Z"
   },
   {
    "duration": 230,
    "start_time": "2022-06-15T17:22:33.165Z"
   },
   {
    "duration": 263,
    "start_time": "2022-06-15T17:22:33.396Z"
   },
   {
    "duration": 256,
    "start_time": "2022-06-15T17:22:33.660Z"
   },
   {
    "duration": 16,
    "start_time": "2022-06-15T17:22:33.917Z"
   },
   {
    "duration": 13,
    "start_time": "2022-06-15T17:22:33.935Z"
   },
   {
    "duration": 14,
    "start_time": "2022-06-15T17:22:33.950Z"
   },
   {
    "duration": 37,
    "start_time": "2022-06-15T17:22:33.966Z"
   },
   {
    "duration": 14,
    "start_time": "2022-06-15T17:22:34.005Z"
   },
   {
    "duration": 13,
    "start_time": "2022-06-15T17:22:34.021Z"
   },
   {
    "duration": 195,
    "start_time": "2022-06-15T17:22:34.035Z"
   },
   {
    "duration": 10,
    "start_time": "2022-06-15T17:22:34.232Z"
   },
   {
    "duration": 18,
    "start_time": "2022-06-15T17:22:34.244Z"
   },
   {
    "duration": 137,
    "start_time": "2022-06-15T17:25:29.958Z"
   },
   {
    "duration": 1076,
    "start_time": "2022-06-15T17:26:00.333Z"
   },
   {
    "duration": 56,
    "start_time": "2022-06-15T17:26:01.411Z"
   },
   {
    "duration": 17,
    "start_time": "2022-06-15T17:26:01.469Z"
   },
   {
    "duration": 31,
    "start_time": "2022-06-15T17:26:01.489Z"
   },
   {
    "duration": 12,
    "start_time": "2022-06-15T17:26:01.521Z"
   },
   {
    "duration": 24,
    "start_time": "2022-06-15T17:26:01.534Z"
   },
   {
    "duration": 13,
    "start_time": "2022-06-15T17:26:01.559Z"
   },
   {
    "duration": 136,
    "start_time": "2022-06-15T17:26:01.574Z"
   },
   {
    "duration": 18,
    "start_time": "2022-06-15T17:26:01.712Z"
   },
   {
    "duration": 9,
    "start_time": "2022-06-15T17:26:01.734Z"
   },
   {
    "duration": 21,
    "start_time": "2022-06-15T17:26:01.744Z"
   },
   {
    "duration": 8,
    "start_time": "2022-06-15T17:26:01.766Z"
   },
   {
    "duration": 31,
    "start_time": "2022-06-15T17:26:01.776Z"
   },
   {
    "duration": 24,
    "start_time": "2022-06-15T17:26:01.808Z"
   },
   {
    "duration": 14,
    "start_time": "2022-06-15T17:26:01.833Z"
   },
   {
    "duration": 26,
    "start_time": "2022-06-15T17:26:01.848Z"
   },
   {
    "duration": 28,
    "start_time": "2022-06-15T17:26:01.876Z"
   },
   {
    "duration": 134,
    "start_time": "2022-06-15T17:26:01.907Z"
   },
   {
    "duration": 0,
    "start_time": "2022-06-15T17:26:02.044Z"
   },
   {
    "duration": 0,
    "start_time": "2022-06-15T17:26:02.046Z"
   },
   {
    "duration": 0,
    "start_time": "2022-06-15T17:26:02.047Z"
   },
   {
    "duration": 0,
    "start_time": "2022-06-15T17:26:02.048Z"
   },
   {
    "duration": 0,
    "start_time": "2022-06-15T17:26:02.050Z"
   },
   {
    "duration": 0,
    "start_time": "2022-06-15T17:26:02.052Z"
   },
   {
    "duration": 0,
    "start_time": "2022-06-15T17:26:02.054Z"
   },
   {
    "duration": 0,
    "start_time": "2022-06-15T17:26:02.055Z"
   },
   {
    "duration": 0,
    "start_time": "2022-06-15T17:26:02.056Z"
   },
   {
    "duration": 0,
    "start_time": "2022-06-15T17:26:02.057Z"
   },
   {
    "duration": 0,
    "start_time": "2022-06-15T17:26:02.059Z"
   },
   {
    "duration": 0,
    "start_time": "2022-06-15T17:26:02.060Z"
   },
   {
    "duration": 0,
    "start_time": "2022-06-15T17:26:02.062Z"
   },
   {
    "duration": 0,
    "start_time": "2022-06-15T17:26:02.063Z"
   },
   {
    "duration": 1,
    "start_time": "2022-06-15T17:26:02.094Z"
   },
   {
    "duration": 0,
    "start_time": "2022-06-15T17:26:02.096Z"
   },
   {
    "duration": 0,
    "start_time": "2022-06-15T17:26:02.098Z"
   },
   {
    "duration": 0,
    "start_time": "2022-06-15T17:26:02.099Z"
   },
   {
    "duration": 0,
    "start_time": "2022-06-15T17:26:02.100Z"
   },
   {
    "duration": 0,
    "start_time": "2022-06-15T17:26:02.102Z"
   },
   {
    "duration": 0,
    "start_time": "2022-06-15T17:26:02.103Z"
   },
   {
    "duration": 0,
    "start_time": "2022-06-15T17:26:02.104Z"
   },
   {
    "duration": 0,
    "start_time": "2022-06-15T17:26:02.106Z"
   },
   {
    "duration": 0,
    "start_time": "2022-06-15T17:26:02.107Z"
   },
   {
    "duration": 0,
    "start_time": "2022-06-15T17:26:02.108Z"
   },
   {
    "duration": 0,
    "start_time": "2022-06-15T17:26:02.109Z"
   },
   {
    "duration": 0,
    "start_time": "2022-06-15T17:26:02.112Z"
   },
   {
    "duration": 0,
    "start_time": "2022-06-15T17:26:02.113Z"
   },
   {
    "duration": 0,
    "start_time": "2022-06-15T17:26:02.114Z"
   },
   {
    "duration": 0,
    "start_time": "2022-06-15T17:26:02.116Z"
   },
   {
    "duration": 0,
    "start_time": "2022-06-15T17:26:02.117Z"
   },
   {
    "duration": 9,
    "start_time": "2022-06-15T17:28:39.037Z"
   },
   {
    "duration": 132,
    "start_time": "2022-06-15T17:32:22.295Z"
   },
   {
    "duration": 1071,
    "start_time": "2022-06-15T17:32:28.185Z"
   },
   {
    "duration": 57,
    "start_time": "2022-06-15T17:32:29.258Z"
   },
   {
    "duration": 18,
    "start_time": "2022-06-15T17:32:29.316Z"
   },
   {
    "duration": 27,
    "start_time": "2022-06-15T17:32:29.335Z"
   },
   {
    "duration": 31,
    "start_time": "2022-06-15T17:32:29.364Z"
   },
   {
    "duration": 12,
    "start_time": "2022-06-15T17:32:29.397Z"
   },
   {
    "duration": 7,
    "start_time": "2022-06-15T17:32:29.411Z"
   },
   {
    "duration": 158,
    "start_time": "2022-06-15T17:32:29.420Z"
   },
   {
    "duration": 19,
    "start_time": "2022-06-15T17:32:29.580Z"
   },
   {
    "duration": 5,
    "start_time": "2022-06-15T17:32:29.601Z"
   },
   {
    "duration": 27,
    "start_time": "2022-06-15T17:32:29.608Z"
   },
   {
    "duration": 11,
    "start_time": "2022-06-15T17:32:29.637Z"
   },
   {
    "duration": 16,
    "start_time": "2022-06-15T17:32:29.649Z"
   },
   {
    "duration": 31,
    "start_time": "2022-06-15T17:32:29.668Z"
   },
   {
    "duration": 14,
    "start_time": "2022-06-15T17:32:29.701Z"
   },
   {
    "duration": 20,
    "start_time": "2022-06-15T17:32:29.717Z"
   },
   {
    "duration": 6,
    "start_time": "2022-06-15T17:32:29.739Z"
   },
   {
    "duration": 114,
    "start_time": "2022-06-15T17:32:29.746Z"
   },
   {
    "duration": 0,
    "start_time": "2022-06-15T17:32:29.862Z"
   },
   {
    "duration": 0,
    "start_time": "2022-06-15T17:32:29.864Z"
   },
   {
    "duration": 0,
    "start_time": "2022-06-15T17:32:29.865Z"
   },
   {
    "duration": 0,
    "start_time": "2022-06-15T17:32:29.867Z"
   },
   {
    "duration": 0,
    "start_time": "2022-06-15T17:32:29.868Z"
   },
   {
    "duration": 0,
    "start_time": "2022-06-15T17:32:29.869Z"
   },
   {
    "duration": 0,
    "start_time": "2022-06-15T17:32:29.870Z"
   },
   {
    "duration": 0,
    "start_time": "2022-06-15T17:32:29.872Z"
   },
   {
    "duration": 0,
    "start_time": "2022-06-15T17:32:29.873Z"
   },
   {
    "duration": 0,
    "start_time": "2022-06-15T17:32:29.895Z"
   },
   {
    "duration": 0,
    "start_time": "2022-06-15T17:32:29.896Z"
   },
   {
    "duration": 0,
    "start_time": "2022-06-15T17:32:29.897Z"
   },
   {
    "duration": 0,
    "start_time": "2022-06-15T17:32:29.900Z"
   },
   {
    "duration": 0,
    "start_time": "2022-06-15T17:32:29.901Z"
   },
   {
    "duration": 0,
    "start_time": "2022-06-15T17:32:29.902Z"
   },
   {
    "duration": 0,
    "start_time": "2022-06-15T17:32:29.904Z"
   },
   {
    "duration": 0,
    "start_time": "2022-06-15T17:32:29.905Z"
   },
   {
    "duration": 0,
    "start_time": "2022-06-15T17:32:29.906Z"
   },
   {
    "duration": 0,
    "start_time": "2022-06-15T17:32:29.907Z"
   },
   {
    "duration": 0,
    "start_time": "2022-06-15T17:32:29.908Z"
   },
   {
    "duration": 0,
    "start_time": "2022-06-15T17:32:29.910Z"
   },
   {
    "duration": 0,
    "start_time": "2022-06-15T17:32:29.911Z"
   },
   {
    "duration": 0,
    "start_time": "2022-06-15T17:32:29.912Z"
   },
   {
    "duration": 0,
    "start_time": "2022-06-15T17:32:29.913Z"
   },
   {
    "duration": 0,
    "start_time": "2022-06-15T17:32:29.914Z"
   },
   {
    "duration": 0,
    "start_time": "2022-06-15T17:32:29.914Z"
   },
   {
    "duration": 0,
    "start_time": "2022-06-15T17:32:29.916Z"
   },
   {
    "duration": 0,
    "start_time": "2022-06-15T17:32:29.917Z"
   },
   {
    "duration": 0,
    "start_time": "2022-06-15T17:32:29.918Z"
   },
   {
    "duration": 0,
    "start_time": "2022-06-15T17:32:29.919Z"
   },
   {
    "duration": 0,
    "start_time": "2022-06-15T17:32:29.920Z"
   },
   {
    "duration": 1061,
    "start_time": "2022-06-15T17:32:48.207Z"
   },
   {
    "duration": 65,
    "start_time": "2022-06-15T17:32:49.270Z"
   },
   {
    "duration": 22,
    "start_time": "2022-06-15T17:32:49.337Z"
   },
   {
    "duration": 47,
    "start_time": "2022-06-15T17:32:49.362Z"
   },
   {
    "duration": 14,
    "start_time": "2022-06-15T17:32:49.414Z"
   },
   {
    "duration": 14,
    "start_time": "2022-06-15T17:32:49.430Z"
   },
   {
    "duration": 5,
    "start_time": "2022-06-15T17:32:49.446Z"
   },
   {
    "duration": 151,
    "start_time": "2022-06-15T17:32:49.452Z"
   },
   {
    "duration": 13,
    "start_time": "2022-06-15T17:32:49.605Z"
   },
   {
    "duration": 4,
    "start_time": "2022-06-15T17:32:49.621Z"
   },
   {
    "duration": 16,
    "start_time": "2022-06-15T17:32:49.627Z"
   },
   {
    "duration": 8,
    "start_time": "2022-06-15T17:32:49.644Z"
   },
   {
    "duration": 13,
    "start_time": "2022-06-15T17:32:49.653Z"
   },
   {
    "duration": 40,
    "start_time": "2022-06-15T17:32:49.667Z"
   },
   {
    "duration": 18,
    "start_time": "2022-06-15T17:32:49.708Z"
   },
   {
    "duration": 20,
    "start_time": "2022-06-15T17:32:49.728Z"
   },
   {
    "duration": 8,
    "start_time": "2022-06-15T17:32:49.749Z"
   },
   {
    "duration": 118,
    "start_time": "2022-06-15T17:32:49.758Z"
   },
   {
    "duration": 0,
    "start_time": "2022-06-15T17:32:49.878Z"
   },
   {
    "duration": 0,
    "start_time": "2022-06-15T17:32:49.879Z"
   },
   {
    "duration": 0,
    "start_time": "2022-06-15T17:32:49.880Z"
   },
   {
    "duration": 0,
    "start_time": "2022-06-15T17:32:49.882Z"
   },
   {
    "duration": 0,
    "start_time": "2022-06-15T17:32:49.895Z"
   },
   {
    "duration": 0,
    "start_time": "2022-06-15T17:32:49.897Z"
   },
   {
    "duration": 0,
    "start_time": "2022-06-15T17:32:49.904Z"
   },
   {
    "duration": 1,
    "start_time": "2022-06-15T17:32:49.905Z"
   },
   {
    "duration": 0,
    "start_time": "2022-06-15T17:32:49.907Z"
   },
   {
    "duration": 0,
    "start_time": "2022-06-15T17:32:49.908Z"
   },
   {
    "duration": 0,
    "start_time": "2022-06-15T17:32:49.909Z"
   },
   {
    "duration": 0,
    "start_time": "2022-06-15T17:32:49.911Z"
   },
   {
    "duration": 0,
    "start_time": "2022-06-15T17:32:49.912Z"
   },
   {
    "duration": 0,
    "start_time": "2022-06-15T17:32:49.914Z"
   },
   {
    "duration": 0,
    "start_time": "2022-06-15T17:32:49.915Z"
   },
   {
    "duration": 0,
    "start_time": "2022-06-15T17:32:49.917Z"
   },
   {
    "duration": 0,
    "start_time": "2022-06-15T17:32:49.918Z"
   },
   {
    "duration": 0,
    "start_time": "2022-06-15T17:32:49.918Z"
   },
   {
    "duration": 0,
    "start_time": "2022-06-15T17:32:49.920Z"
   },
   {
    "duration": 0,
    "start_time": "2022-06-15T17:32:49.920Z"
   },
   {
    "duration": 0,
    "start_time": "2022-06-15T17:32:49.921Z"
   },
   {
    "duration": 0,
    "start_time": "2022-06-15T17:32:49.922Z"
   },
   {
    "duration": 0,
    "start_time": "2022-06-15T17:32:49.923Z"
   },
   {
    "duration": 0,
    "start_time": "2022-06-15T17:32:49.924Z"
   },
   {
    "duration": 0,
    "start_time": "2022-06-15T17:32:49.925Z"
   },
   {
    "duration": 0,
    "start_time": "2022-06-15T17:32:49.926Z"
   },
   {
    "duration": 0,
    "start_time": "2022-06-15T17:32:49.927Z"
   },
   {
    "duration": 0,
    "start_time": "2022-06-15T17:32:49.928Z"
   },
   {
    "duration": 0,
    "start_time": "2022-06-15T17:32:49.929Z"
   },
   {
    "duration": 0,
    "start_time": "2022-06-15T17:32:49.930Z"
   },
   {
    "duration": 0,
    "start_time": "2022-06-15T17:32:49.931Z"
   },
   {
    "duration": 1174,
    "start_time": "2022-06-15T17:36:00.672Z"
   },
   {
    "duration": 84,
    "start_time": "2022-06-15T17:36:01.848Z"
   },
   {
    "duration": 32,
    "start_time": "2022-06-15T17:36:01.935Z"
   },
   {
    "duration": 67,
    "start_time": "2022-06-15T17:36:01.971Z"
   },
   {
    "duration": 20,
    "start_time": "2022-06-15T17:36:02.040Z"
   },
   {
    "duration": 84,
    "start_time": "2022-06-15T17:36:02.064Z"
   },
   {
    "duration": 9,
    "start_time": "2022-06-15T17:36:02.152Z"
   },
   {
    "duration": 52,
    "start_time": "2022-06-15T17:36:02.164Z"
   },
   {
    "duration": 39,
    "start_time": "2022-06-15T17:36:02.218Z"
   },
   {
    "duration": 5,
    "start_time": "2022-06-15T17:36:02.261Z"
   },
   {
    "duration": 32,
    "start_time": "2022-06-15T17:36:02.269Z"
   },
   {
    "duration": 15,
    "start_time": "2022-06-15T17:36:02.303Z"
   },
   {
    "duration": 30,
    "start_time": "2022-06-15T17:36:02.320Z"
   },
   {
    "duration": 32,
    "start_time": "2022-06-15T17:36:02.354Z"
   },
   {
    "duration": 45,
    "start_time": "2022-06-15T17:36:02.388Z"
   },
   {
    "duration": 51,
    "start_time": "2022-06-15T17:36:02.435Z"
   },
   {
    "duration": 27,
    "start_time": "2022-06-15T17:36:02.488Z"
   },
   {
    "duration": 21,
    "start_time": "2022-06-15T17:36:02.521Z"
   },
   {
    "duration": 20,
    "start_time": "2022-06-15T17:36:02.545Z"
   },
   {
    "duration": 15,
    "start_time": "2022-06-15T17:36:02.567Z"
   },
   {
    "duration": 41,
    "start_time": "2022-06-15T17:36:02.584Z"
   },
   {
    "duration": 392,
    "start_time": "2022-06-15T17:36:02.628Z"
   },
   {
    "duration": 398,
    "start_time": "2022-06-15T17:36:03.022Z"
   },
   {
    "duration": 20,
    "start_time": "2022-06-15T17:36:03.422Z"
   },
   {
    "duration": 241,
    "start_time": "2022-06-15T17:36:03.444Z"
   },
   {
    "duration": 21,
    "start_time": "2022-06-15T17:36:03.687Z"
   },
   {
    "duration": 29,
    "start_time": "2022-06-15T17:36:03.716Z"
   },
   {
    "duration": 403,
    "start_time": "2022-06-15T17:36:03.750Z"
   },
   {
    "duration": 8,
    "start_time": "2022-06-15T17:36:04.155Z"
   },
   {
    "duration": 434,
    "start_time": "2022-06-15T17:36:04.165Z"
   },
   {
    "duration": 512,
    "start_time": "2022-06-15T17:36:04.601Z"
   },
   {
    "duration": 22,
    "start_time": "2022-06-15T17:36:05.115Z"
   },
   {
    "duration": 654,
    "start_time": "2022-06-15T17:36:05.140Z"
   },
   {
    "duration": 24,
    "start_time": "2022-06-15T17:36:05.797Z"
   },
   {
    "duration": 1411,
    "start_time": "2022-06-15T17:36:05.824Z"
   },
   {
    "duration": 347,
    "start_time": "2022-06-15T17:36:07.238Z"
   },
   {
    "duration": 0,
    "start_time": "2022-06-15T17:36:07.587Z"
   },
   {
    "duration": 0,
    "start_time": "2022-06-15T17:36:07.589Z"
   },
   {
    "duration": 0,
    "start_time": "2022-06-15T17:36:07.590Z"
   },
   {
    "duration": 0,
    "start_time": "2022-06-15T17:36:07.594Z"
   },
   {
    "duration": 0,
    "start_time": "2022-06-15T17:36:07.594Z"
   },
   {
    "duration": 0,
    "start_time": "2022-06-15T17:36:07.598Z"
   },
   {
    "duration": 0,
    "start_time": "2022-06-15T17:36:07.599Z"
   },
   {
    "duration": 0,
    "start_time": "2022-06-15T17:36:07.600Z"
   },
   {
    "duration": 0,
    "start_time": "2022-06-15T17:36:07.601Z"
   },
   {
    "duration": 0,
    "start_time": "2022-06-15T17:36:07.602Z"
   },
   {
    "duration": 0,
    "start_time": "2022-06-15T17:36:07.603Z"
   },
   {
    "duration": 0,
    "start_time": "2022-06-15T17:36:07.604Z"
   },
   {
    "duration": 0,
    "start_time": "2022-06-15T17:36:07.604Z"
   },
   {
    "duration": 259,
    "start_time": "2022-06-15T17:40:26.921Z"
   },
   {
    "duration": 1086,
    "start_time": "2022-06-15T17:40:37.078Z"
   },
   {
    "duration": 74,
    "start_time": "2022-06-15T17:40:38.166Z"
   },
   {
    "duration": 21,
    "start_time": "2022-06-15T17:40:38.241Z"
   },
   {
    "duration": 44,
    "start_time": "2022-06-15T17:40:38.264Z"
   },
   {
    "duration": 15,
    "start_time": "2022-06-15T17:40:38.310Z"
   },
   {
    "duration": 24,
    "start_time": "2022-06-15T17:40:38.326Z"
   },
   {
    "duration": 10,
    "start_time": "2022-06-15T17:40:38.352Z"
   },
   {
    "duration": 36,
    "start_time": "2022-06-15T17:40:38.363Z"
   },
   {
    "duration": 16,
    "start_time": "2022-06-15T17:40:38.401Z"
   },
   {
    "duration": 20,
    "start_time": "2022-06-15T17:40:38.420Z"
   },
   {
    "duration": 24,
    "start_time": "2022-06-15T17:40:38.442Z"
   },
   {
    "duration": 27,
    "start_time": "2022-06-15T17:40:38.468Z"
   },
   {
    "duration": 13,
    "start_time": "2022-06-15T17:40:38.497Z"
   },
   {
    "duration": 14,
    "start_time": "2022-06-15T17:40:38.512Z"
   },
   {
    "duration": 21,
    "start_time": "2022-06-15T17:40:38.528Z"
   },
   {
    "duration": 6,
    "start_time": "2022-06-15T17:40:38.551Z"
   },
   {
    "duration": 271,
    "start_time": "2022-06-15T17:40:38.559Z"
   },
   {
    "duration": 12,
    "start_time": "2022-06-15T17:40:38.832Z"
   },
   {
    "duration": 6,
    "start_time": "2022-06-15T17:40:38.845Z"
   },
   {
    "duration": 7,
    "start_time": "2022-06-15T17:40:38.853Z"
   },
   {
    "duration": 36,
    "start_time": "2022-06-15T17:40:38.863Z"
   },
   {
    "duration": 339,
    "start_time": "2022-06-15T17:40:38.901Z"
   },
   {
    "duration": 309,
    "start_time": "2022-06-15T17:40:39.242Z"
   },
   {
    "duration": 12,
    "start_time": "2022-06-15T17:40:39.553Z"
   },
   {
    "duration": 157,
    "start_time": "2022-06-15T17:40:39.567Z"
   },
   {
    "duration": 5,
    "start_time": "2022-06-15T17:40:39.725Z"
   },
   {
    "duration": 13,
    "start_time": "2022-06-15T17:40:39.731Z"
   },
   {
    "duration": 282,
    "start_time": "2022-06-15T17:40:39.747Z"
   },
   {
    "duration": 12,
    "start_time": "2022-06-15T17:40:40.031Z"
   },
   {
    "duration": 330,
    "start_time": "2022-06-15T17:40:40.045Z"
   },
   {
    "duration": 308,
    "start_time": "2022-06-15T17:40:40.377Z"
   },
   {
    "duration": 20,
    "start_time": "2022-06-15T17:40:40.686Z"
   },
   {
    "duration": 487,
    "start_time": "2022-06-15T17:40:40.708Z"
   },
   {
    "duration": 16,
    "start_time": "2022-06-15T17:40:41.197Z"
   },
   {
    "duration": 1921,
    "start_time": "2022-06-15T17:40:41.215Z"
   },
   {
    "duration": 304,
    "start_time": "2022-06-15T17:40:43.138Z"
   },
   {
    "duration": 6,
    "start_time": "2022-06-15T17:40:43.444Z"
   },
   {
    "duration": 259,
    "start_time": "2022-06-15T17:40:43.452Z"
   },
   {
    "duration": 318,
    "start_time": "2022-06-15T17:40:43.713Z"
   },
   {
    "duration": 287,
    "start_time": "2022-06-15T17:40:44.033Z"
   },
   {
    "duration": 24,
    "start_time": "2022-06-15T17:40:44.322Z"
   },
   {
    "duration": 21,
    "start_time": "2022-06-15T17:40:44.348Z"
   },
   {
    "duration": 47,
    "start_time": "2022-06-15T17:40:44.372Z"
   },
   {
    "duration": 17,
    "start_time": "2022-06-15T17:40:44.422Z"
   },
   {
    "duration": 18,
    "start_time": "2022-06-15T17:40:44.441Z"
   },
   {
    "duration": 39,
    "start_time": "2022-06-15T17:40:44.461Z"
   },
   {
    "duration": 220,
    "start_time": "2022-06-15T17:40:44.502Z"
   },
   {
    "duration": 12,
    "start_time": "2022-06-15T17:40:44.724Z"
   },
   {
    "duration": 21,
    "start_time": "2022-06-15T17:40:44.738Z"
   },
   {
    "duration": 1141,
    "start_time": "2022-06-15T17:45:17.371Z"
   },
   {
    "duration": 62,
    "start_time": "2022-06-15T17:45:18.514Z"
   },
   {
    "duration": 29,
    "start_time": "2022-06-15T17:45:18.578Z"
   },
   {
    "duration": 29,
    "start_time": "2022-06-15T17:45:18.609Z"
   },
   {
    "duration": 14,
    "start_time": "2022-06-15T17:45:18.640Z"
   },
   {
    "duration": 41,
    "start_time": "2022-06-15T17:45:18.657Z"
   },
   {
    "duration": 9,
    "start_time": "2022-06-15T17:45:18.700Z"
   },
   {
    "duration": 23,
    "start_time": "2022-06-15T17:45:18.711Z"
   },
   {
    "duration": 15,
    "start_time": "2022-06-15T17:45:18.736Z"
   },
   {
    "duration": 9,
    "start_time": "2022-06-15T17:45:18.755Z"
   },
   {
    "duration": 48,
    "start_time": "2022-06-15T17:45:18.766Z"
   },
   {
    "duration": 7,
    "start_time": "2022-06-15T17:45:18.816Z"
   },
   {
    "duration": 12,
    "start_time": "2022-06-15T17:45:18.824Z"
   },
   {
    "duration": 8,
    "start_time": "2022-06-15T17:45:18.838Z"
   },
   {
    "duration": 12,
    "start_time": "2022-06-15T17:45:18.848Z"
   },
   {
    "duration": 38,
    "start_time": "2022-06-15T17:45:18.862Z"
   },
   {
    "duration": 302,
    "start_time": "2022-06-15T17:45:18.901Z"
   },
   {
    "duration": 16,
    "start_time": "2022-06-15T17:45:19.205Z"
   },
   {
    "duration": 6,
    "start_time": "2022-06-15T17:45:19.223Z"
   },
   {
    "duration": 20,
    "start_time": "2022-06-15T17:45:19.232Z"
   },
   {
    "duration": 42,
    "start_time": "2022-06-15T17:45:19.254Z"
   },
   {
    "duration": 352,
    "start_time": "2022-06-15T17:45:19.298Z"
   },
   {
    "duration": 285,
    "start_time": "2022-06-15T17:45:19.652Z"
   },
   {
    "duration": 14,
    "start_time": "2022-06-15T17:45:19.939Z"
   },
   {
    "duration": 179,
    "start_time": "2022-06-15T17:45:19.955Z"
   },
   {
    "duration": 3,
    "start_time": "2022-06-15T17:45:20.136Z"
   },
   {
    "duration": 9,
    "start_time": "2022-06-15T17:45:20.141Z"
   },
   {
    "duration": 264,
    "start_time": "2022-06-15T17:45:20.153Z"
   },
   {
    "duration": 6,
    "start_time": "2022-06-15T17:45:20.418Z"
   },
   {
    "duration": 310,
    "start_time": "2022-06-15T17:45:20.426Z"
   },
   {
    "duration": 323,
    "start_time": "2022-06-15T17:45:20.737Z"
   },
   {
    "duration": 18,
    "start_time": "2022-06-15T17:45:21.062Z"
   },
   {
    "duration": 501,
    "start_time": "2022-06-15T17:45:21.082Z"
   },
   {
    "duration": 19,
    "start_time": "2022-06-15T17:45:21.584Z"
   },
   {
    "duration": 2899,
    "start_time": "2022-06-15T17:45:21.605Z"
   },
   {
    "duration": 556,
    "start_time": "2022-06-15T17:45:24.507Z"
   },
   {
    "duration": 33,
    "start_time": "2022-06-15T17:45:25.065Z"
   },
   {
    "duration": 292,
    "start_time": "2022-06-15T17:45:25.100Z"
   },
   {
    "duration": 296,
    "start_time": "2022-06-15T17:45:25.395Z"
   },
   {
    "duration": 264,
    "start_time": "2022-06-15T17:45:25.693Z"
   },
   {
    "duration": 15,
    "start_time": "2022-06-15T17:45:25.959Z"
   },
   {
    "duration": 35,
    "start_time": "2022-06-15T17:45:25.976Z"
   },
   {
    "duration": 27,
    "start_time": "2022-06-15T17:45:26.013Z"
   },
   {
    "duration": 18,
    "start_time": "2022-06-15T17:45:26.042Z"
   },
   {
    "duration": 46,
    "start_time": "2022-06-15T17:45:26.062Z"
   },
   {
    "duration": 17,
    "start_time": "2022-06-15T17:45:26.109Z"
   },
   {
    "duration": 241,
    "start_time": "2022-06-15T17:45:26.127Z"
   },
   {
    "duration": 25,
    "start_time": "2022-06-15T17:45:26.370Z"
   },
   {
    "duration": 18,
    "start_time": "2022-06-15T17:45:26.397Z"
   },
   {
    "duration": 8,
    "start_time": "2022-06-15T17:47:05.704Z"
   },
   {
    "duration": 5,
    "start_time": "2022-06-15T17:50:26.579Z"
   },
   {
    "duration": 8,
    "start_time": "2022-06-15T17:50:41.247Z"
   },
   {
    "duration": 360,
    "start_time": "2022-06-15T17:52:32.379Z"
   },
   {
    "duration": 998,
    "start_time": "2022-06-15T17:52:39.866Z"
   },
   {
    "duration": 57,
    "start_time": "2022-06-15T17:52:40.866Z"
   },
   {
    "duration": 17,
    "start_time": "2022-06-15T17:52:40.925Z"
   },
   {
    "duration": 34,
    "start_time": "2022-06-15T17:52:40.944Z"
   },
   {
    "duration": 15,
    "start_time": "2022-06-15T17:52:40.980Z"
   },
   {
    "duration": 18,
    "start_time": "2022-06-15T17:52:40.997Z"
   },
   {
    "duration": 7,
    "start_time": "2022-06-15T17:52:41.016Z"
   },
   {
    "duration": 16,
    "start_time": "2022-06-15T17:52:41.024Z"
   },
   {
    "duration": 11,
    "start_time": "2022-06-15T17:52:41.041Z"
   },
   {
    "duration": 16,
    "start_time": "2022-06-15T17:52:41.054Z"
   },
   {
    "duration": 27,
    "start_time": "2022-06-15T17:52:41.072Z"
   },
   {
    "duration": 8,
    "start_time": "2022-06-15T17:52:41.101Z"
   },
   {
    "duration": 226,
    "start_time": "2022-06-15T17:52:41.111Z"
   },
   {
    "duration": 8,
    "start_time": "2022-06-15T17:52:41.339Z"
   },
   {
    "duration": 13,
    "start_time": "2022-06-15T17:52:41.348Z"
   },
   {
    "duration": 5,
    "start_time": "2022-06-15T17:52:41.362Z"
   },
   {
    "duration": 199,
    "start_time": "2022-06-15T17:52:41.368Z"
   },
   {
    "duration": 10,
    "start_time": "2022-06-15T17:52:41.569Z"
   },
   {
    "duration": 15,
    "start_time": "2022-06-15T17:52:41.580Z"
   },
   {
    "duration": 7,
    "start_time": "2022-06-15T17:52:41.596Z"
   },
   {
    "duration": 8,
    "start_time": "2022-06-15T17:52:41.604Z"
   },
   {
    "duration": 17,
    "start_time": "2022-06-15T17:52:41.614Z"
   },
   {
    "duration": 321,
    "start_time": "2022-06-15T17:52:41.633Z"
   },
   {
    "duration": 285,
    "start_time": "2022-06-15T17:52:41.956Z"
   },
   {
    "duration": 12,
    "start_time": "2022-06-15T17:52:42.243Z"
   },
   {
    "duration": 144,
    "start_time": "2022-06-15T17:52:42.257Z"
   },
   {
    "duration": 4,
    "start_time": "2022-06-15T17:52:42.402Z"
   },
   {
    "duration": 13,
    "start_time": "2022-06-15T17:52:42.409Z"
   },
   {
    "duration": 272,
    "start_time": "2022-06-15T17:52:42.424Z"
   },
   {
    "duration": 6,
    "start_time": "2022-06-15T17:52:42.698Z"
   },
   {
    "duration": 307,
    "start_time": "2022-06-15T17:52:42.705Z"
   },
   {
    "duration": 310,
    "start_time": "2022-06-15T17:52:43.014Z"
   },
   {
    "duration": 15,
    "start_time": "2022-06-15T17:52:43.326Z"
   },
   {
    "duration": 523,
    "start_time": "2022-06-15T17:52:43.342Z"
   },
   {
    "duration": 24,
    "start_time": "2022-06-15T17:52:43.866Z"
   },
   {
    "duration": 2223,
    "start_time": "2022-06-15T17:52:43.893Z"
   },
   {
    "duration": 331,
    "start_time": "2022-06-15T17:52:46.118Z"
   },
   {
    "duration": 0,
    "start_time": "2022-06-15T17:52:46.452Z"
   },
   {
    "duration": 0,
    "start_time": "2022-06-15T17:52:46.453Z"
   },
   {
    "duration": 0,
    "start_time": "2022-06-15T17:52:46.454Z"
   },
   {
    "duration": 0,
    "start_time": "2022-06-15T17:52:46.456Z"
   },
   {
    "duration": 0,
    "start_time": "2022-06-15T17:52:46.457Z"
   },
   {
    "duration": 0,
    "start_time": "2022-06-15T17:52:46.458Z"
   },
   {
    "duration": 0,
    "start_time": "2022-06-15T17:52:46.459Z"
   },
   {
    "duration": 0,
    "start_time": "2022-06-15T17:52:46.460Z"
   },
   {
    "duration": 0,
    "start_time": "2022-06-15T17:52:46.462Z"
   },
   {
    "duration": 0,
    "start_time": "2022-06-15T17:52:46.463Z"
   },
   {
    "duration": 1,
    "start_time": "2022-06-15T17:52:46.464Z"
   },
   {
    "duration": 0,
    "start_time": "2022-06-15T17:52:46.466Z"
   },
   {
    "duration": 0,
    "start_time": "2022-06-15T17:52:46.467Z"
   },
   {
    "duration": 1040,
    "start_time": "2022-06-15T17:53:57.050Z"
   },
   {
    "duration": 59,
    "start_time": "2022-06-15T17:53:58.092Z"
   },
   {
    "duration": 19,
    "start_time": "2022-06-15T17:53:58.153Z"
   },
   {
    "duration": 27,
    "start_time": "2022-06-15T17:53:58.175Z"
   },
   {
    "duration": 15,
    "start_time": "2022-06-15T17:53:58.203Z"
   },
   {
    "duration": 17,
    "start_time": "2022-06-15T17:53:58.219Z"
   },
   {
    "duration": 8,
    "start_time": "2022-06-15T17:53:58.237Z"
   },
   {
    "duration": 20,
    "start_time": "2022-06-15T17:53:58.247Z"
   },
   {
    "duration": 28,
    "start_time": "2022-06-15T17:53:58.268Z"
   },
   {
    "duration": 9,
    "start_time": "2022-06-15T17:53:58.298Z"
   },
   {
    "duration": 18,
    "start_time": "2022-06-15T17:53:58.309Z"
   },
   {
    "duration": 6,
    "start_time": "2022-06-15T17:53:58.329Z"
   },
   {
    "duration": 5,
    "start_time": "2022-06-15T17:53:58.336Z"
   },
   {
    "duration": 238,
    "start_time": "2022-06-15T17:53:58.342Z"
   },
   {
    "duration": 15,
    "start_time": "2022-06-15T17:53:58.581Z"
   },
   {
    "duration": 17,
    "start_time": "2022-06-15T17:53:58.598Z"
   },
   {
    "duration": 188,
    "start_time": "2022-06-15T17:53:58.616Z"
   },
   {
    "duration": 14,
    "start_time": "2022-06-15T17:53:58.805Z"
   },
   {
    "duration": 6,
    "start_time": "2022-06-15T17:53:58.820Z"
   },
   {
    "duration": 9,
    "start_time": "2022-06-15T17:53:58.827Z"
   },
   {
    "duration": 6,
    "start_time": "2022-06-15T17:53:58.837Z"
   },
   {
    "duration": 14,
    "start_time": "2022-06-15T17:53:58.845Z"
   },
   {
    "duration": 337,
    "start_time": "2022-06-15T17:53:58.861Z"
   },
   {
    "duration": 273,
    "start_time": "2022-06-15T17:53:59.199Z"
   },
   {
    "duration": 12,
    "start_time": "2022-06-15T17:53:59.473Z"
   },
   {
    "duration": 144,
    "start_time": "2022-06-15T17:53:59.486Z"
   },
   {
    "duration": 4,
    "start_time": "2022-06-15T17:53:59.632Z"
   },
   {
    "duration": 6,
    "start_time": "2022-06-15T17:53:59.639Z"
   },
   {
    "duration": 238,
    "start_time": "2022-06-15T17:53:59.647Z"
   },
   {
    "duration": 6,
    "start_time": "2022-06-15T17:53:59.886Z"
   },
   {
    "duration": 298,
    "start_time": "2022-06-15T17:53:59.895Z"
   },
   {
    "duration": 308,
    "start_time": "2022-06-15T17:54:00.195Z"
   },
   {
    "duration": 16,
    "start_time": "2022-06-15T17:54:00.504Z"
   },
   {
    "duration": 490,
    "start_time": "2022-06-15T17:54:00.521Z"
   },
   {
    "duration": 14,
    "start_time": "2022-06-15T17:54:01.013Z"
   },
   {
    "duration": 2281,
    "start_time": "2022-06-15T17:54:01.028Z"
   },
   {
    "duration": 332,
    "start_time": "2022-06-15T17:54:03.311Z"
   },
   {
    "duration": 0,
    "start_time": "2022-06-15T17:54:03.645Z"
   },
   {
    "duration": 0,
    "start_time": "2022-06-15T17:54:03.646Z"
   },
   {
    "duration": 0,
    "start_time": "2022-06-15T17:54:03.647Z"
   },
   {
    "duration": 0,
    "start_time": "2022-06-15T17:54:03.648Z"
   },
   {
    "duration": 0,
    "start_time": "2022-06-15T17:54:03.649Z"
   },
   {
    "duration": 0,
    "start_time": "2022-06-15T17:54:03.650Z"
   },
   {
    "duration": 0,
    "start_time": "2022-06-15T17:54:03.651Z"
   },
   {
    "duration": 0,
    "start_time": "2022-06-15T17:54:03.652Z"
   },
   {
    "duration": 0,
    "start_time": "2022-06-15T17:54:03.652Z"
   },
   {
    "duration": 0,
    "start_time": "2022-06-15T17:54:03.654Z"
   },
   {
    "duration": 0,
    "start_time": "2022-06-15T17:54:03.654Z"
   },
   {
    "duration": 0,
    "start_time": "2022-06-15T17:54:03.655Z"
   },
   {
    "duration": 0,
    "start_time": "2022-06-15T17:54:03.656Z"
   },
   {
    "duration": 17,
    "start_time": "2022-06-15T17:54:48.542Z"
   },
   {
    "duration": 3,
    "start_time": "2022-06-15T17:55:14.310Z"
   },
   {
    "duration": 1046,
    "start_time": "2022-06-15T17:57:07.030Z"
   },
   {
    "duration": 58,
    "start_time": "2022-06-15T17:57:08.078Z"
   },
   {
    "duration": 17,
    "start_time": "2022-06-15T17:57:08.138Z"
   },
   {
    "duration": 26,
    "start_time": "2022-06-15T17:57:08.157Z"
   },
   {
    "duration": 13,
    "start_time": "2022-06-15T17:57:08.194Z"
   },
   {
    "duration": 18,
    "start_time": "2022-06-15T17:57:08.208Z"
   },
   {
    "duration": 8,
    "start_time": "2022-06-15T17:57:08.228Z"
   },
   {
    "duration": 16,
    "start_time": "2022-06-15T17:57:08.238Z"
   },
   {
    "duration": 16,
    "start_time": "2022-06-15T17:57:08.255Z"
   },
   {
    "duration": 25,
    "start_time": "2022-06-15T17:57:08.273Z"
   },
   {
    "duration": 19,
    "start_time": "2022-06-15T17:57:08.300Z"
   },
   {
    "duration": 6,
    "start_time": "2022-06-15T17:57:08.321Z"
   },
   {
    "duration": 5,
    "start_time": "2022-06-15T17:57:08.328Z"
   },
   {
    "duration": 248,
    "start_time": "2022-06-15T17:57:08.334Z"
   },
   {
    "duration": 11,
    "start_time": "2022-06-15T17:57:08.584Z"
   },
   {
    "duration": 12,
    "start_time": "2022-06-15T17:57:08.596Z"
   },
   {
    "duration": 3,
    "start_time": "2022-06-15T17:57:08.609Z"
   },
   {
    "duration": 15,
    "start_time": "2022-06-15T17:57:08.614Z"
   },
   {
    "duration": 5,
    "start_time": "2022-06-15T17:57:08.630Z"
   },
   {
    "duration": 7,
    "start_time": "2022-06-15T17:57:08.636Z"
   },
   {
    "duration": 11,
    "start_time": "2022-06-15T17:57:08.645Z"
   },
   {
    "duration": 41,
    "start_time": "2022-06-15T17:57:08.658Z"
   },
   {
    "duration": 321,
    "start_time": "2022-06-15T17:57:08.700Z"
   },
   {
    "duration": 280,
    "start_time": "2022-06-15T17:57:09.023Z"
   },
   {
    "duration": 12,
    "start_time": "2022-06-15T17:57:09.304Z"
   },
   {
    "duration": 155,
    "start_time": "2022-06-15T17:57:09.317Z"
   },
   {
    "duration": 4,
    "start_time": "2022-06-15T17:57:09.474Z"
   },
   {
    "duration": 18,
    "start_time": "2022-06-15T17:57:09.480Z"
   },
   {
    "duration": 225,
    "start_time": "2022-06-15T17:57:09.499Z"
   },
   {
    "duration": 5,
    "start_time": "2022-06-15T17:57:09.726Z"
   },
   {
    "duration": 283,
    "start_time": "2022-06-15T17:57:09.733Z"
   },
   {
    "duration": 300,
    "start_time": "2022-06-15T17:57:10.018Z"
   },
   {
    "duration": 15,
    "start_time": "2022-06-15T17:57:10.319Z"
   },
   {
    "duration": 471,
    "start_time": "2022-06-15T17:57:10.335Z"
   },
   {
    "duration": 17,
    "start_time": "2022-06-15T17:57:10.808Z"
   },
   {
    "duration": 1045,
    "start_time": "2022-06-15T17:57:10.827Z"
   },
   {
    "duration": 205,
    "start_time": "2022-06-15T17:57:11.874Z"
   },
   {
    "duration": 0,
    "start_time": "2022-06-15T17:57:12.080Z"
   },
   {
    "duration": 0,
    "start_time": "2022-06-15T17:57:12.082Z"
   },
   {
    "duration": 0,
    "start_time": "2022-06-15T17:57:12.083Z"
   },
   {
    "duration": 0,
    "start_time": "2022-06-15T17:57:12.084Z"
   },
   {
    "duration": 0,
    "start_time": "2022-06-15T17:57:12.085Z"
   },
   {
    "duration": 0,
    "start_time": "2022-06-15T17:57:12.086Z"
   },
   {
    "duration": 0,
    "start_time": "2022-06-15T17:57:12.094Z"
   },
   {
    "duration": 0,
    "start_time": "2022-06-15T17:57:12.095Z"
   },
   {
    "duration": 0,
    "start_time": "2022-06-15T17:57:12.096Z"
   },
   {
    "duration": 0,
    "start_time": "2022-06-15T17:57:12.097Z"
   },
   {
    "duration": 0,
    "start_time": "2022-06-15T17:57:12.097Z"
   },
   {
    "duration": 0,
    "start_time": "2022-06-15T17:57:12.098Z"
   },
   {
    "duration": 1,
    "start_time": "2022-06-15T17:57:12.099Z"
   },
   {
    "duration": 11,
    "start_time": "2022-06-15T18:02:43.476Z"
   },
   {
    "duration": 95,
    "start_time": "2022-06-15T18:08:30.018Z"
   },
   {
    "duration": 12,
    "start_time": "2022-06-15T18:08:47.809Z"
   },
   {
    "duration": 11,
    "start_time": "2022-06-15T18:08:56.326Z"
   },
   {
    "duration": 10,
    "start_time": "2022-06-15T18:09:17.232Z"
   },
   {
    "duration": 31,
    "start_time": "2022-06-15T18:12:38.600Z"
   },
   {
    "duration": 11,
    "start_time": "2022-06-15T18:12:51.069Z"
   },
   {
    "duration": 12,
    "start_time": "2022-06-15T18:13:03.921Z"
   },
   {
    "duration": 12,
    "start_time": "2022-06-15T18:13:58.924Z"
   },
   {
    "duration": 11,
    "start_time": "2022-06-15T18:14:08.482Z"
   },
   {
    "duration": 12,
    "start_time": "2022-06-15T18:14:34.841Z"
   },
   {
    "duration": 12,
    "start_time": "2022-06-15T18:14:46.786Z"
   },
   {
    "duration": 12,
    "start_time": "2022-06-15T18:15:32.820Z"
   },
   {
    "duration": 16,
    "start_time": "2022-06-15T18:15:56.227Z"
   },
   {
    "duration": 202,
    "start_time": "2022-06-15T18:16:29.825Z"
   },
   {
    "duration": 102,
    "start_time": "2022-06-15T18:16:53.380Z"
   },
   {
    "duration": 362,
    "start_time": "2022-06-15T18:17:16.011Z"
   },
   {
    "duration": 359,
    "start_time": "2022-06-15T18:17:45.658Z"
   },
   {
    "duration": 352,
    "start_time": "2022-06-15T18:18:17.214Z"
   },
   {
    "duration": 19,
    "start_time": "2022-06-15T18:18:49.276Z"
   },
   {
    "duration": 17,
    "start_time": "2022-06-15T18:19:10.333Z"
   },
   {
    "duration": 368,
    "start_time": "2022-06-15T18:19:33.563Z"
   },
   {
    "duration": 361,
    "start_time": "2022-06-15T18:20:03.511Z"
   },
   {
    "duration": 342,
    "start_time": "2022-06-15T18:20:32.653Z"
   },
   {
    "duration": 12,
    "start_time": "2022-06-15T18:20:53.469Z"
   },
   {
    "duration": 341,
    "start_time": "2022-06-15T18:21:04.456Z"
   },
   {
    "duration": 384,
    "start_time": "2022-06-15T18:21:33.216Z"
   },
   {
    "duration": 463,
    "start_time": "2022-06-15T18:21:47.732Z"
   },
   {
    "duration": 340,
    "start_time": "2022-06-15T18:22:01.390Z"
   },
   {
    "duration": 345,
    "start_time": "2022-06-15T18:22:10.702Z"
   },
   {
    "duration": 331,
    "start_time": "2022-06-15T18:22:43.063Z"
   },
   {
    "duration": 364,
    "start_time": "2022-06-15T18:23:01.805Z"
   },
   {
    "duration": 322,
    "start_time": "2022-06-15T18:23:12.468Z"
   },
   {
    "duration": 23,
    "start_time": "2022-06-15T18:23:37.675Z"
   },
   {
    "duration": 356,
    "start_time": "2022-06-15T18:23:53.711Z"
   },
   {
    "duration": 347,
    "start_time": "2022-06-15T18:24:01.351Z"
   },
   {
    "duration": 341,
    "start_time": "2022-06-15T18:24:22.846Z"
   },
   {
    "duration": 483,
    "start_time": "2022-06-15T18:24:42.981Z"
   },
   {
    "duration": 329,
    "start_time": "2022-06-15T18:27:13.408Z"
   },
   {
    "duration": 342,
    "start_time": "2022-06-15T18:28:38.846Z"
   },
   {
    "duration": 339,
    "start_time": "2022-06-15T18:28:57.123Z"
   },
   {
    "duration": 29,
    "start_time": "2022-06-15T18:29:16.032Z"
   },
   {
    "duration": 318,
    "start_time": "2022-06-15T18:29:26.672Z"
   },
   {
    "duration": 367,
    "start_time": "2022-06-15T18:29:55.834Z"
   },
   {
    "duration": 379,
    "start_time": "2022-06-15T18:30:13.720Z"
   },
   {
    "duration": 336,
    "start_time": "2022-06-15T18:30:21.472Z"
   },
   {
    "duration": 314,
    "start_time": "2022-06-15T18:30:42.952Z"
   },
   {
    "duration": 13728,
    "start_time": "2022-06-15T18:31:56.732Z"
   },
   {
    "duration": 399,
    "start_time": "2022-06-15T18:32:57.516Z"
   },
   {
    "duration": 374,
    "start_time": "2022-06-15T18:33:23.436Z"
   },
   {
    "duration": 23,
    "start_time": "2022-06-15T18:35:41.410Z"
   },
   {
    "duration": 23,
    "start_time": "2022-06-15T18:35:55.514Z"
   },
   {
    "duration": 26,
    "start_time": "2022-06-15T18:36:27.111Z"
   },
   {
    "duration": 32,
    "start_time": "2022-06-15T18:36:43.449Z"
   },
   {
    "duration": 20,
    "start_time": "2022-06-15T18:36:58.329Z"
   },
   {
    "duration": 1058,
    "start_time": "2022-06-15T18:37:16.807Z"
   },
   {
    "duration": 65,
    "start_time": "2022-06-15T18:37:17.867Z"
   },
   {
    "duration": 17,
    "start_time": "2022-06-15T18:37:17.933Z"
   },
   {
    "duration": 25,
    "start_time": "2022-06-15T18:37:17.952Z"
   },
   {
    "duration": 26,
    "start_time": "2022-06-15T18:37:17.979Z"
   },
   {
    "duration": 18,
    "start_time": "2022-06-15T18:37:18.008Z"
   },
   {
    "duration": 11,
    "start_time": "2022-06-15T18:37:18.028Z"
   },
   {
    "duration": 13,
    "start_time": "2022-06-15T18:37:18.040Z"
   },
   {
    "duration": 43,
    "start_time": "2022-06-15T18:37:18.055Z"
   },
   {
    "duration": 15,
    "start_time": "2022-06-15T18:37:18.104Z"
   },
   {
    "duration": 19,
    "start_time": "2022-06-15T18:37:18.120Z"
   },
   {
    "duration": 8,
    "start_time": "2022-06-15T18:37:18.141Z"
   },
   {
    "duration": 5,
    "start_time": "2022-06-15T18:37:18.150Z"
   },
   {
    "duration": 273,
    "start_time": "2022-06-15T18:37:18.156Z"
   },
   {
    "duration": 9,
    "start_time": "2022-06-15T18:37:18.431Z"
   },
   {
    "duration": 16,
    "start_time": "2022-06-15T18:37:18.441Z"
   },
   {
    "duration": 3,
    "start_time": "2022-06-15T18:37:18.459Z"
   },
   {
    "duration": 13,
    "start_time": "2022-06-15T18:37:18.464Z"
   },
   {
    "duration": 7,
    "start_time": "2022-06-15T18:37:18.494Z"
   },
   {
    "duration": 18,
    "start_time": "2022-06-15T18:37:18.502Z"
   },
   {
    "duration": 16,
    "start_time": "2022-06-15T18:37:18.521Z"
   },
   {
    "duration": 343,
    "start_time": "2022-06-15T18:37:18.539Z"
   },
   {
    "duration": 98,
    "start_time": "2022-06-15T18:37:18.884Z"
   },
   {
    "duration": 0,
    "start_time": "2022-06-15T18:37:18.984Z"
   },
   {
    "duration": 0,
    "start_time": "2022-06-15T18:37:18.985Z"
   },
   {
    "duration": 0,
    "start_time": "2022-06-15T18:37:18.986Z"
   },
   {
    "duration": 0,
    "start_time": "2022-06-15T18:37:18.994Z"
   },
   {
    "duration": 0,
    "start_time": "2022-06-15T18:37:18.995Z"
   },
   {
    "duration": 0,
    "start_time": "2022-06-15T18:37:18.996Z"
   },
   {
    "duration": 0,
    "start_time": "2022-06-15T18:37:18.998Z"
   },
   {
    "duration": 0,
    "start_time": "2022-06-15T18:37:18.999Z"
   },
   {
    "duration": 0,
    "start_time": "2022-06-15T18:37:19.000Z"
   },
   {
    "duration": 0,
    "start_time": "2022-06-15T18:37:19.001Z"
   },
   {
    "duration": 0,
    "start_time": "2022-06-15T18:37:19.002Z"
   },
   {
    "duration": 0,
    "start_time": "2022-06-15T18:37:19.004Z"
   },
   {
    "duration": 0,
    "start_time": "2022-06-15T18:37:19.005Z"
   },
   {
    "duration": 0,
    "start_time": "2022-06-15T18:37:19.006Z"
   },
   {
    "duration": 0,
    "start_time": "2022-06-15T18:37:19.007Z"
   },
   {
    "duration": 0,
    "start_time": "2022-06-15T18:37:19.008Z"
   },
   {
    "duration": 0,
    "start_time": "2022-06-15T18:37:19.009Z"
   },
   {
    "duration": 0,
    "start_time": "2022-06-15T18:37:19.010Z"
   },
   {
    "duration": 0,
    "start_time": "2022-06-15T18:37:19.011Z"
   },
   {
    "duration": 0,
    "start_time": "2022-06-15T18:37:19.013Z"
   },
   {
    "duration": 0,
    "start_time": "2022-06-15T18:37:19.014Z"
   },
   {
    "duration": 0,
    "start_time": "2022-06-15T18:37:19.015Z"
   },
   {
    "duration": 0,
    "start_time": "2022-06-15T18:37:19.016Z"
   },
   {
    "duration": 0,
    "start_time": "2022-06-15T18:37:19.017Z"
   },
   {
    "duration": 0,
    "start_time": "2022-06-15T18:37:19.018Z"
   },
   {
    "duration": 0,
    "start_time": "2022-06-15T18:37:19.019Z"
   },
   {
    "duration": 0,
    "start_time": "2022-06-15T18:37:19.020Z"
   },
   {
    "duration": 0,
    "start_time": "2022-06-15T18:37:19.021Z"
   },
   {
    "duration": 211,
    "start_time": "2022-06-15T18:37:47.654Z"
   },
   {
    "duration": 225,
    "start_time": "2022-06-15T18:38:06.903Z"
   },
   {
    "duration": 22,
    "start_time": "2022-06-15T18:38:22.822Z"
   },
   {
    "duration": 1062,
    "start_time": "2022-06-15T18:39:47.932Z"
   },
   {
    "duration": 60,
    "start_time": "2022-06-15T18:39:48.996Z"
   },
   {
    "duration": 19,
    "start_time": "2022-06-15T18:39:49.058Z"
   },
   {
    "duration": 26,
    "start_time": "2022-06-15T18:39:49.080Z"
   },
   {
    "duration": 14,
    "start_time": "2022-06-15T18:39:49.107Z"
   },
   {
    "duration": 20,
    "start_time": "2022-06-15T18:39:49.122Z"
   },
   {
    "duration": 9,
    "start_time": "2022-06-15T18:39:49.144Z"
   },
   {
    "duration": 15,
    "start_time": "2022-06-15T18:39:49.154Z"
   },
   {
    "duration": 33,
    "start_time": "2022-06-15T18:39:49.171Z"
   },
   {
    "duration": 9,
    "start_time": "2022-06-15T18:39:49.207Z"
   },
   {
    "duration": 25,
    "start_time": "2022-06-15T18:39:49.217Z"
   },
   {
    "duration": 7,
    "start_time": "2022-06-15T18:39:49.244Z"
   },
   {
    "duration": 6,
    "start_time": "2022-06-15T18:39:49.253Z"
   },
   {
    "duration": 262,
    "start_time": "2022-06-15T18:39:49.260Z"
   },
   {
    "duration": 11,
    "start_time": "2022-06-15T18:39:49.523Z"
   },
   {
    "duration": 17,
    "start_time": "2022-06-15T18:39:49.536Z"
   },
   {
    "duration": 5,
    "start_time": "2022-06-15T18:39:49.555Z"
   },
   {
    "duration": 38,
    "start_time": "2022-06-15T18:39:49.562Z"
   },
   {
    "duration": 6,
    "start_time": "2022-06-15T18:39:49.601Z"
   },
   {
    "duration": 10,
    "start_time": "2022-06-15T18:39:49.609Z"
   },
   {
    "duration": 19,
    "start_time": "2022-06-15T18:39:49.620Z"
   },
   {
    "duration": 332,
    "start_time": "2022-06-15T18:39:49.641Z"
   },
   {
    "duration": 337,
    "start_time": "2022-06-15T18:39:49.975Z"
   },
   {
    "duration": 333,
    "start_time": "2022-06-15T18:39:50.314Z"
   },
   {
    "duration": 350,
    "start_time": "2022-06-15T18:39:50.649Z"
   },
   {
    "duration": 13,
    "start_time": "2022-06-15T18:39:51.001Z"
   },
   {
    "duration": 172,
    "start_time": "2022-06-15T18:39:51.016Z"
   },
   {
    "duration": 5,
    "start_time": "2022-06-15T18:39:51.196Z"
   },
   {
    "duration": 12,
    "start_time": "2022-06-15T18:39:51.203Z"
   },
   {
    "duration": 364,
    "start_time": "2022-06-15T18:39:51.217Z"
   },
   {
    "duration": 6,
    "start_time": "2022-06-15T18:39:51.583Z"
   },
   {
    "duration": 324,
    "start_time": "2022-06-15T18:39:51.591Z"
   },
   {
    "duration": 689,
    "start_time": "2022-06-15T18:39:51.917Z"
   },
   {
    "duration": 17,
    "start_time": "2022-06-15T18:39:52.607Z"
   },
   {
    "duration": 806,
    "start_time": "2022-06-15T18:39:52.626Z"
   },
   {
    "duration": 74,
    "start_time": "2022-06-15T18:39:53.434Z"
   },
   {
    "duration": 1418,
    "start_time": "2022-06-15T18:39:53.510Z"
   },
   {
    "duration": 241,
    "start_time": "2022-06-15T18:39:54.929Z"
   },
   {
    "duration": 0,
    "start_time": "2022-06-15T18:39:55.172Z"
   },
   {
    "duration": 0,
    "start_time": "2022-06-15T18:39:55.173Z"
   },
   {
    "duration": 0,
    "start_time": "2022-06-15T18:39:55.174Z"
   },
   {
    "duration": 0,
    "start_time": "2022-06-15T18:39:55.175Z"
   },
   {
    "duration": 0,
    "start_time": "2022-06-15T18:39:55.177Z"
   },
   {
    "duration": 0,
    "start_time": "2022-06-15T18:39:55.178Z"
   },
   {
    "duration": 0,
    "start_time": "2022-06-15T18:39:55.180Z"
   },
   {
    "duration": 0,
    "start_time": "2022-06-15T18:39:55.195Z"
   },
   {
    "duration": 0,
    "start_time": "2022-06-15T18:39:55.196Z"
   },
   {
    "duration": 0,
    "start_time": "2022-06-15T18:39:55.198Z"
   },
   {
    "duration": 0,
    "start_time": "2022-06-15T18:39:55.199Z"
   },
   {
    "duration": 0,
    "start_time": "2022-06-15T18:39:55.201Z"
   },
   {
    "duration": 0,
    "start_time": "2022-06-15T18:39:55.202Z"
   },
   {
    "duration": 330,
    "start_time": "2022-06-15T18:42:54.788Z"
   },
   {
    "duration": 321,
    "start_time": "2022-06-15T18:43:14.065Z"
   },
   {
    "duration": 334,
    "start_time": "2022-06-15T18:43:19.099Z"
   },
   {
    "duration": 340,
    "start_time": "2022-06-15T18:44:50.588Z"
   },
   {
    "duration": 19,
    "start_time": "2022-06-15T18:45:30.869Z"
   },
   {
    "duration": 18,
    "start_time": "2022-06-15T18:46:36.449Z"
   },
   {
    "duration": 351,
    "start_time": "2022-06-15T18:46:54.598Z"
   },
   {
    "duration": 340,
    "start_time": "2022-06-15T18:48:14.117Z"
   },
   {
    "duration": 347,
    "start_time": "2022-06-15T18:48:24.981Z"
   },
   {
    "duration": 446,
    "start_time": "2022-06-15T18:48:49.113Z"
   },
   {
    "duration": 55,
    "start_time": "2022-06-15T18:49:33.817Z"
   },
   {
    "duration": 40,
    "start_time": "2022-06-15T18:50:06.186Z"
   },
   {
    "duration": 356,
    "start_time": "2022-06-15T18:50:43.730Z"
   },
   {
    "duration": 470,
    "start_time": "2022-06-15T18:51:14.080Z"
   },
   {
    "duration": 469,
    "start_time": "2022-06-15T18:51:24.965Z"
   },
   {
    "duration": 327,
    "start_time": "2022-06-15T18:51:34.343Z"
   },
   {
    "duration": 23,
    "start_time": "2022-06-15T18:51:55.119Z"
   },
   {
    "duration": 24,
    "start_time": "2022-06-15T18:52:16.022Z"
   },
   {
    "duration": 425,
    "start_time": "2022-06-15T18:52:22.656Z"
   },
   {
    "duration": 310,
    "start_time": "2022-06-15T18:53:53.400Z"
   },
   {
    "duration": 77,
    "start_time": "2022-06-15T18:55:03.647Z"
   },
   {
    "duration": 454,
    "start_time": "2022-06-15T18:55:11.040Z"
   },
   {
    "duration": 328,
    "start_time": "2022-06-15T18:55:24.591Z"
   },
   {
    "duration": 34178,
    "start_time": "2022-06-15T18:55:54.289Z"
   },
   {
    "duration": 369,
    "start_time": "2022-06-15T18:56:44.579Z"
   },
   {
    "duration": 53,
    "start_time": "2022-06-15T18:57:36.043Z"
   },
   {
    "duration": 28,
    "start_time": "2022-06-15T18:57:57.134Z"
   },
   {
    "duration": 378,
    "start_time": "2022-06-15T18:58:04.774Z"
   },
   {
    "duration": 317,
    "start_time": "2022-06-15T19:01:39.331Z"
   },
   {
    "duration": 359,
    "start_time": "2022-06-15T19:01:53.807Z"
   },
   {
    "duration": 15,
    "start_time": "2022-06-15T19:01:59.057Z"
   },
   {
    "duration": 312,
    "start_time": "2022-06-15T19:02:09.177Z"
   },
   {
    "duration": 1130,
    "start_time": "2022-06-15T19:40:12.696Z"
   },
   {
    "duration": 64,
    "start_time": "2022-06-15T19:40:13.829Z"
   },
   {
    "duration": 21,
    "start_time": "2022-06-15T19:40:13.898Z"
   },
   {
    "duration": 33,
    "start_time": "2022-06-15T19:40:13.921Z"
   },
   {
    "duration": 15,
    "start_time": "2022-06-15T19:40:13.956Z"
   },
   {
    "duration": 18,
    "start_time": "2022-06-15T19:40:13.995Z"
   },
   {
    "duration": 9,
    "start_time": "2022-06-15T19:40:14.015Z"
   },
   {
    "duration": 13,
    "start_time": "2022-06-15T19:40:14.025Z"
   },
   {
    "duration": 35,
    "start_time": "2022-06-15T19:40:14.040Z"
   },
   {
    "duration": 26,
    "start_time": "2022-06-15T19:40:14.077Z"
   },
   {
    "duration": 19,
    "start_time": "2022-06-15T19:40:14.105Z"
   },
   {
    "duration": 8,
    "start_time": "2022-06-15T19:40:14.125Z"
   },
   {
    "duration": 7,
    "start_time": "2022-06-15T19:40:14.136Z"
   },
   {
    "duration": 277,
    "start_time": "2022-06-15T19:40:14.145Z"
   },
   {
    "duration": 8,
    "start_time": "2022-06-15T19:40:14.424Z"
   },
   {
    "duration": 15,
    "start_time": "2022-06-15T19:40:14.433Z"
   },
   {
    "duration": 4,
    "start_time": "2022-06-15T19:40:14.450Z"
   },
   {
    "duration": 14,
    "start_time": "2022-06-15T19:40:14.455Z"
   },
   {
    "duration": 25,
    "start_time": "2022-06-15T19:40:14.471Z"
   },
   {
    "duration": 8,
    "start_time": "2022-06-15T19:40:14.497Z"
   },
   {
    "duration": 14,
    "start_time": "2022-06-15T19:40:14.507Z"
   },
   {
    "duration": 371,
    "start_time": "2022-06-15T19:40:14.523Z"
   },
   {
    "duration": 35155,
    "start_time": "2022-06-15T19:40:14.896Z"
   },
   {
    "duration": 337,
    "start_time": "2022-06-15T19:40:50.053Z"
   },
   {
    "duration": 339,
    "start_time": "2022-06-15T19:40:50.394Z"
   },
   {
    "duration": 12,
    "start_time": "2022-06-15T19:40:50.734Z"
   },
   {
    "duration": 158,
    "start_time": "2022-06-15T19:40:50.748Z"
   },
   {
    "duration": 4,
    "start_time": "2022-06-15T19:40:50.908Z"
   },
   {
    "duration": 10,
    "start_time": "2022-06-15T19:40:50.914Z"
   },
   {
    "duration": 276,
    "start_time": "2022-06-15T19:40:50.925Z"
   },
   {
    "duration": 6,
    "start_time": "2022-06-15T19:40:51.202Z"
   },
   {
    "duration": 338,
    "start_time": "2022-06-15T19:40:51.210Z"
   },
   {
    "duration": 325,
    "start_time": "2022-06-15T19:40:51.549Z"
   },
   {
    "duration": 26,
    "start_time": "2022-06-15T19:40:51.875Z"
   },
   {
    "duration": 618,
    "start_time": "2022-06-15T19:40:51.903Z"
   },
   {
    "duration": 13,
    "start_time": "2022-06-15T19:40:52.522Z"
   },
   {
    "duration": 1195,
    "start_time": "2022-06-15T19:40:52.537Z"
   },
   {
    "duration": 268,
    "start_time": "2022-06-15T19:40:53.733Z"
   },
   {
    "duration": 0,
    "start_time": "2022-06-15T19:40:54.004Z"
   },
   {
    "duration": 0,
    "start_time": "2022-06-15T19:40:54.005Z"
   },
   {
    "duration": 0,
    "start_time": "2022-06-15T19:40:54.007Z"
   },
   {
    "duration": 0,
    "start_time": "2022-06-15T19:40:54.008Z"
   },
   {
    "duration": 0,
    "start_time": "2022-06-15T19:40:54.010Z"
   },
   {
    "duration": 0,
    "start_time": "2022-06-15T19:40:54.011Z"
   },
   {
    "duration": 0,
    "start_time": "2022-06-15T19:40:54.012Z"
   },
   {
    "duration": 0,
    "start_time": "2022-06-15T19:40:54.013Z"
   },
   {
    "duration": 0,
    "start_time": "2022-06-15T19:40:54.014Z"
   },
   {
    "duration": 0,
    "start_time": "2022-06-15T19:40:54.015Z"
   },
   {
    "duration": 0,
    "start_time": "2022-06-15T19:40:54.016Z"
   },
   {
    "duration": 0,
    "start_time": "2022-06-15T19:40:54.018Z"
   },
   {
    "duration": 0,
    "start_time": "2022-06-15T19:40:54.019Z"
   },
   {
    "duration": 79,
    "start_time": "2022-06-15T19:41:19.581Z"
   },
   {
    "duration": 25,
    "start_time": "2022-06-15T19:41:26.081Z"
   },
   {
    "duration": 18,
    "start_time": "2022-06-15T19:41:36.344Z"
   },
   {
    "duration": 22946,
    "start_time": "2022-06-15T19:42:15.014Z"
   },
   {
    "duration": 972,
    "start_time": "2022-06-15T20:01:38.429Z"
   },
   {
    "duration": 55,
    "start_time": "2022-06-15T20:01:39.403Z"
   },
   {
    "duration": 17,
    "start_time": "2022-06-15T20:01:39.460Z"
   },
   {
    "duration": 24,
    "start_time": "2022-06-15T20:01:39.479Z"
   },
   {
    "duration": 11,
    "start_time": "2022-06-15T20:01:39.505Z"
   },
   {
    "duration": 15,
    "start_time": "2022-06-15T20:01:39.518Z"
   },
   {
    "duration": 8,
    "start_time": "2022-06-15T20:01:39.534Z"
   },
   {
    "duration": 11,
    "start_time": "2022-06-15T20:01:39.544Z"
   },
   {
    "duration": 17,
    "start_time": "2022-06-15T20:01:39.556Z"
   },
   {
    "duration": 27,
    "start_time": "2022-06-15T20:01:39.574Z"
   },
   {
    "duration": 18,
    "start_time": "2022-06-15T20:01:39.602Z"
   },
   {
    "duration": 5,
    "start_time": "2022-06-15T20:01:39.621Z"
   },
   {
    "duration": 7,
    "start_time": "2022-06-15T20:01:39.627Z"
   },
   {
    "duration": 241,
    "start_time": "2022-06-15T20:01:39.635Z"
   },
   {
    "duration": 8,
    "start_time": "2022-06-15T20:01:39.877Z"
   },
   {
    "duration": 17,
    "start_time": "2022-06-15T20:01:39.887Z"
   },
   {
    "duration": 4,
    "start_time": "2022-06-15T20:01:39.905Z"
   },
   {
    "duration": 16,
    "start_time": "2022-06-15T20:01:39.910Z"
   },
   {
    "duration": 5,
    "start_time": "2022-06-15T20:01:39.927Z"
   },
   {
    "duration": 7,
    "start_time": "2022-06-15T20:01:39.933Z"
   },
   {
    "duration": 16,
    "start_time": "2022-06-15T20:01:39.941Z"
   },
   {
    "duration": 337,
    "start_time": "2022-06-15T20:01:39.959Z"
   },
   {
    "duration": 300,
    "start_time": "2022-06-15T20:01:40.297Z"
   },
   {
    "duration": 310,
    "start_time": "2022-06-15T20:01:40.598Z"
   },
   {
    "duration": 313,
    "start_time": "2022-06-15T20:01:40.910Z"
   },
   {
    "duration": 13,
    "start_time": "2022-06-15T20:01:41.225Z"
   },
   {
    "duration": 160,
    "start_time": "2022-06-15T20:01:41.240Z"
   },
   {
    "duration": 4,
    "start_time": "2022-06-15T20:01:41.403Z"
   },
   {
    "duration": 12,
    "start_time": "2022-06-15T20:01:41.408Z"
   },
   {
    "duration": 310,
    "start_time": "2022-06-15T20:01:41.422Z"
   },
   {
    "duration": 6,
    "start_time": "2022-06-15T20:01:41.734Z"
   },
   {
    "duration": 293,
    "start_time": "2022-06-15T20:01:41.741Z"
   },
   {
    "duration": 327,
    "start_time": "2022-06-15T20:01:42.036Z"
   },
   {
    "duration": 15,
    "start_time": "2022-06-15T20:01:42.364Z"
   },
   {
    "duration": 470,
    "start_time": "2022-06-15T20:01:42.380Z"
   },
   {
    "duration": 12,
    "start_time": "2022-06-15T20:01:42.852Z"
   },
   {
    "duration": 1951,
    "start_time": "2022-06-15T20:01:42.866Z"
   },
   {
    "duration": 225,
    "start_time": "2022-06-15T20:01:44.819Z"
   },
   {
    "duration": 0,
    "start_time": "2022-06-15T20:01:45.046Z"
   },
   {
    "duration": 0,
    "start_time": "2022-06-15T20:01:45.047Z"
   },
   {
    "duration": 0,
    "start_time": "2022-06-15T20:01:45.048Z"
   },
   {
    "duration": 0,
    "start_time": "2022-06-15T20:01:45.049Z"
   },
   {
    "duration": 0,
    "start_time": "2022-06-15T20:01:45.050Z"
   },
   {
    "duration": 0,
    "start_time": "2022-06-15T20:01:45.051Z"
   },
   {
    "duration": 0,
    "start_time": "2022-06-15T20:01:45.052Z"
   },
   {
    "duration": 0,
    "start_time": "2022-06-15T20:01:45.053Z"
   },
   {
    "duration": 0,
    "start_time": "2022-06-15T20:01:45.054Z"
   },
   {
    "duration": 0,
    "start_time": "2022-06-15T20:01:45.055Z"
   },
   {
    "duration": 0,
    "start_time": "2022-06-15T20:01:45.056Z"
   },
   {
    "duration": 0,
    "start_time": "2022-06-15T20:01:45.057Z"
   },
   {
    "duration": 0,
    "start_time": "2022-06-15T20:01:45.058Z"
   },
   {
    "duration": 25,
    "start_time": "2022-06-15T20:27:46.660Z"
   },
   {
    "duration": 308,
    "start_time": "2022-06-15T20:28:00.452Z"
   },
   {
    "duration": 328,
    "start_time": "2022-06-15T20:45:36.132Z"
   },
   {
    "duration": 296,
    "start_time": "2022-06-15T20:45:52.955Z"
   },
   {
    "duration": 342,
    "start_time": "2022-06-15T20:46:04.815Z"
   },
   {
    "duration": 23,
    "start_time": "2022-06-15T20:46:23.563Z"
   },
   {
    "duration": 20,
    "start_time": "2022-06-15T20:46:45.170Z"
   },
   {
    "duration": 21,
    "start_time": "2022-06-15T20:46:56.547Z"
   },
   {
    "duration": 335,
    "start_time": "2022-06-15T20:47:12.617Z"
   },
   {
    "duration": 31634,
    "start_time": "2022-06-15T20:49:22.791Z"
   },
   {
    "duration": 1035,
    "start_time": "2022-06-15T20:51:37.641Z"
   },
   {
    "duration": 57,
    "start_time": "2022-06-15T20:51:38.678Z"
   },
   {
    "duration": 21,
    "start_time": "2022-06-15T20:51:38.737Z"
   },
   {
    "duration": 30,
    "start_time": "2022-06-15T20:51:38.760Z"
   },
   {
    "duration": 13,
    "start_time": "2022-06-15T20:51:38.794Z"
   },
   {
    "duration": 15,
    "start_time": "2022-06-15T20:51:38.808Z"
   },
   {
    "duration": 8,
    "start_time": "2022-06-15T20:51:38.824Z"
   },
   {
    "duration": 14,
    "start_time": "2022-06-15T20:51:38.833Z"
   },
   {
    "duration": 13,
    "start_time": "2022-06-15T20:51:38.848Z"
   },
   {
    "duration": 30,
    "start_time": "2022-06-15T20:51:38.864Z"
   },
   {
    "duration": 21,
    "start_time": "2022-06-15T20:51:38.896Z"
   },
   {
    "duration": 6,
    "start_time": "2022-06-15T20:51:38.918Z"
   },
   {
    "duration": 8,
    "start_time": "2022-06-15T20:51:38.925Z"
   },
   {
    "duration": 246,
    "start_time": "2022-06-15T20:51:38.934Z"
   },
   {
    "duration": 15,
    "start_time": "2022-06-15T20:51:39.182Z"
   },
   {
    "duration": 14,
    "start_time": "2022-06-15T20:51:39.198Z"
   },
   {
    "duration": 4,
    "start_time": "2022-06-15T20:51:39.213Z"
   },
   {
    "duration": 12,
    "start_time": "2022-06-15T20:51:39.218Z"
   },
   {
    "duration": 5,
    "start_time": "2022-06-15T20:51:39.232Z"
   },
   {
    "duration": 13,
    "start_time": "2022-06-15T20:51:39.239Z"
   },
   {
    "duration": 19,
    "start_time": "2022-06-15T20:51:39.253Z"
   },
   {
    "duration": 335,
    "start_time": "2022-06-15T20:51:39.274Z"
   },
   {
    "duration": 31688,
    "start_time": "2022-06-15T20:51:39.611Z"
   },
   {
    "duration": 312,
    "start_time": "2022-06-15T20:52:11.301Z"
   },
   {
    "duration": 337,
    "start_time": "2022-06-15T20:52:11.615Z"
   },
   {
    "duration": 13,
    "start_time": "2022-06-15T20:52:11.953Z"
   },
   {
    "duration": 169,
    "start_time": "2022-06-15T20:52:11.967Z"
   },
   {
    "duration": 4,
    "start_time": "2022-06-15T20:52:12.139Z"
   },
   {
    "duration": 13,
    "start_time": "2022-06-15T20:52:12.144Z"
   },
   {
    "duration": 261,
    "start_time": "2022-06-15T20:52:12.159Z"
   },
   {
    "duration": 6,
    "start_time": "2022-06-15T20:52:12.422Z"
   },
   {
    "duration": 303,
    "start_time": "2022-06-15T20:52:12.429Z"
   },
   {
    "duration": 313,
    "start_time": "2022-06-15T20:52:12.734Z"
   },
   {
    "duration": 17,
    "start_time": "2022-06-15T20:52:13.048Z"
   },
   {
    "duration": 610,
    "start_time": "2022-06-15T20:52:13.067Z"
   },
   {
    "duration": 15,
    "start_time": "2022-06-15T20:52:13.679Z"
   },
   {
    "duration": 1865,
    "start_time": "2022-06-15T20:52:13.696Z"
   },
   {
    "duration": 220,
    "start_time": "2022-06-15T20:52:15.562Z"
   },
   {
    "duration": 0,
    "start_time": "2022-06-15T20:52:15.784Z"
   },
   {
    "duration": 0,
    "start_time": "2022-06-15T20:52:15.785Z"
   },
   {
    "duration": 0,
    "start_time": "2022-06-15T20:52:15.794Z"
   },
   {
    "duration": 0,
    "start_time": "2022-06-15T20:52:15.795Z"
   },
   {
    "duration": 0,
    "start_time": "2022-06-15T20:52:15.796Z"
   },
   {
    "duration": 0,
    "start_time": "2022-06-15T20:52:15.797Z"
   },
   {
    "duration": 0,
    "start_time": "2022-06-15T20:52:15.798Z"
   },
   {
    "duration": 0,
    "start_time": "2022-06-15T20:52:15.799Z"
   },
   {
    "duration": 0,
    "start_time": "2022-06-15T20:52:15.800Z"
   },
   {
    "duration": 0,
    "start_time": "2022-06-15T20:52:15.801Z"
   },
   {
    "duration": 0,
    "start_time": "2022-06-15T20:52:15.802Z"
   },
   {
    "duration": 0,
    "start_time": "2022-06-15T20:52:15.803Z"
   },
   {
    "duration": 0,
    "start_time": "2022-06-15T20:52:15.804Z"
   },
   {
    "duration": 398,
    "start_time": "2022-06-15T20:53:26.062Z"
   },
   {
    "duration": 22,
    "start_time": "2022-06-15T20:53:42.012Z"
   },
   {
    "duration": 305,
    "start_time": "2022-06-15T20:53:46.541Z"
   },
   {
    "duration": 15,
    "start_time": "2022-06-15T20:56:52.903Z"
   },
   {
    "duration": 301,
    "start_time": "2022-06-15T20:57:09.813Z"
   },
   {
    "duration": 1009,
    "start_time": "2022-06-15T20:58:13.983Z"
   },
   {
    "duration": 58,
    "start_time": "2022-06-15T20:58:14.994Z"
   },
   {
    "duration": 17,
    "start_time": "2022-06-15T20:58:15.053Z"
   },
   {
    "duration": 24,
    "start_time": "2022-06-15T20:58:15.072Z"
   },
   {
    "duration": 12,
    "start_time": "2022-06-15T20:58:15.097Z"
   },
   {
    "duration": 15,
    "start_time": "2022-06-15T20:58:15.110Z"
   },
   {
    "duration": 7,
    "start_time": "2022-06-15T20:58:15.127Z"
   },
   {
    "duration": 12,
    "start_time": "2022-06-15T20:58:15.135Z"
   },
   {
    "duration": 12,
    "start_time": "2022-06-15T20:58:15.148Z"
   },
   {
    "duration": 7,
    "start_time": "2022-06-15T20:58:15.162Z"
   },
   {
    "duration": 18,
    "start_time": "2022-06-15T20:58:15.193Z"
   },
   {
    "duration": 7,
    "start_time": "2022-06-15T20:58:15.213Z"
   },
   {
    "duration": 11,
    "start_time": "2022-06-15T20:58:15.221Z"
   },
   {
    "duration": 228,
    "start_time": "2022-06-15T20:58:15.233Z"
   },
   {
    "duration": 8,
    "start_time": "2022-06-15T20:58:15.463Z"
   },
   {
    "duration": 24,
    "start_time": "2022-06-15T20:58:15.473Z"
   },
   {
    "duration": 4,
    "start_time": "2022-06-15T20:58:15.499Z"
   },
   {
    "duration": 13,
    "start_time": "2022-06-15T20:58:15.504Z"
   },
   {
    "duration": 5,
    "start_time": "2022-06-15T20:58:15.518Z"
   },
   {
    "duration": 7,
    "start_time": "2022-06-15T20:58:15.524Z"
   },
   {
    "duration": 14,
    "start_time": "2022-06-15T20:58:15.532Z"
   },
   {
    "duration": 331,
    "start_time": "2022-06-15T20:58:15.547Z"
   },
   {
    "duration": 316,
    "start_time": "2022-06-15T20:58:15.880Z"
   },
   {
    "duration": 301,
    "start_time": "2022-06-15T20:58:16.198Z"
   },
   {
    "duration": 308,
    "start_time": "2022-06-15T20:58:16.501Z"
   },
   {
    "duration": 13,
    "start_time": "2022-06-15T20:58:16.810Z"
   },
   {
    "duration": 150,
    "start_time": "2022-06-15T20:58:16.824Z"
   },
   {
    "duration": 3,
    "start_time": "2022-06-15T20:58:16.978Z"
   },
   {
    "duration": 19,
    "start_time": "2022-06-15T20:58:16.983Z"
   },
   {
    "duration": 328,
    "start_time": "2022-06-15T20:58:17.004Z"
   },
   {
    "duration": 6,
    "start_time": "2022-06-15T20:58:17.335Z"
   },
   {
    "duration": 335,
    "start_time": "2022-06-15T20:58:17.343Z"
   },
   {
    "duration": 304,
    "start_time": "2022-06-15T20:58:17.679Z"
   },
   {
    "duration": 18,
    "start_time": "2022-06-15T20:58:17.984Z"
   },
   {
    "duration": 448,
    "start_time": "2022-06-15T20:58:18.004Z"
   },
   {
    "duration": 13,
    "start_time": "2022-06-15T20:58:18.453Z"
   },
   {
    "duration": 1863,
    "start_time": "2022-06-15T20:58:18.468Z"
   },
   {
    "duration": 300,
    "start_time": "2022-06-15T20:58:20.333Z"
   },
   {
    "duration": 0,
    "start_time": "2022-06-15T20:58:20.634Z"
   },
   {
    "duration": 0,
    "start_time": "2022-06-15T20:58:20.635Z"
   },
   {
    "duration": 0,
    "start_time": "2022-06-15T20:58:20.636Z"
   },
   {
    "duration": 0,
    "start_time": "2022-06-15T20:58:20.637Z"
   },
   {
    "duration": 0,
    "start_time": "2022-06-15T20:58:20.638Z"
   },
   {
    "duration": 0,
    "start_time": "2022-06-15T20:58:20.639Z"
   },
   {
    "duration": 0,
    "start_time": "2022-06-15T20:58:20.640Z"
   },
   {
    "duration": 0,
    "start_time": "2022-06-15T20:58:20.641Z"
   },
   {
    "duration": 0,
    "start_time": "2022-06-15T20:58:20.642Z"
   },
   {
    "duration": 0,
    "start_time": "2022-06-15T20:58:20.643Z"
   },
   {
    "duration": 0,
    "start_time": "2022-06-15T20:58:20.644Z"
   },
   {
    "duration": 0,
    "start_time": "2022-06-15T20:58:20.645Z"
   },
   {
    "duration": 0,
    "start_time": "2022-06-15T20:58:20.646Z"
   },
   {
    "duration": 31427,
    "start_time": "2022-06-15T21:02:55.703Z"
   },
   {
    "duration": 294,
    "start_time": "2022-06-15T21:03:42.343Z"
   },
   {
    "duration": 5,
    "start_time": "2022-06-15T21:04:12.523Z"
   },
   {
    "duration": 293,
    "start_time": "2022-06-15T21:04:47.614Z"
   },
   {
    "duration": 320,
    "start_time": "2022-06-15T21:05:22.425Z"
   },
   {
    "duration": 299,
    "start_time": "2022-06-15T21:05:47.624Z"
   },
   {
    "duration": 324,
    "start_time": "2022-06-15T21:06:13.240Z"
   },
   {
    "duration": 330,
    "start_time": "2022-06-15T21:06:27.578Z"
   },
   {
    "duration": 10,
    "start_time": "2022-06-15T21:07:53.476Z"
   },
   {
    "duration": 23,
    "start_time": "2022-06-15T21:08:09.231Z"
   },
   {
    "duration": 154,
    "start_time": "2022-06-15T21:08:25.778Z"
   },
   {
    "duration": 115,
    "start_time": "2022-06-15T21:08:49.559Z"
   },
   {
    "duration": 23,
    "start_time": "2022-06-15T21:09:58.594Z"
   },
   {
    "duration": 1098,
    "start_time": "2022-06-15T21:10:09.813Z"
   },
   {
    "duration": 57,
    "start_time": "2022-06-15T21:10:10.913Z"
   },
   {
    "duration": 17,
    "start_time": "2022-06-15T21:10:10.971Z"
   },
   {
    "duration": 28,
    "start_time": "2022-06-15T21:10:10.989Z"
   },
   {
    "duration": 11,
    "start_time": "2022-06-15T21:10:11.019Z"
   },
   {
    "duration": 15,
    "start_time": "2022-06-15T21:10:11.032Z"
   },
   {
    "duration": 7,
    "start_time": "2022-06-15T21:10:11.048Z"
   },
   {
    "duration": 12,
    "start_time": "2022-06-15T21:10:11.056Z"
   },
   {
    "duration": 37,
    "start_time": "2022-06-15T21:10:11.069Z"
   },
   {
    "duration": 12,
    "start_time": "2022-06-15T21:10:11.109Z"
   },
   {
    "duration": 18,
    "start_time": "2022-06-15T21:10:11.123Z"
   },
   {
    "duration": 5,
    "start_time": "2022-06-15T21:10:11.143Z"
   },
   {
    "duration": 8,
    "start_time": "2022-06-15T21:10:11.150Z"
   },
   {
    "duration": 265,
    "start_time": "2022-06-15T21:10:11.159Z"
   },
   {
    "duration": 8,
    "start_time": "2022-06-15T21:10:11.426Z"
   },
   {
    "duration": 13,
    "start_time": "2022-06-15T21:10:11.435Z"
   },
   {
    "duration": 4,
    "start_time": "2022-06-15T21:10:11.449Z"
   },
   {
    "duration": 22,
    "start_time": "2022-06-15T21:10:11.454Z"
   },
   {
    "duration": 20,
    "start_time": "2022-06-15T21:10:11.477Z"
   },
   {
    "duration": 13,
    "start_time": "2022-06-15T21:10:11.499Z"
   },
   {
    "duration": 15,
    "start_time": "2022-06-15T21:10:11.513Z"
   },
   {
    "duration": 341,
    "start_time": "2022-06-15T21:10:11.529Z"
   },
   {
    "duration": 109,
    "start_time": "2022-06-15T21:10:11.871Z"
   },
   {
    "duration": 0,
    "start_time": "2022-06-15T21:10:11.982Z"
   },
   {
    "duration": 0,
    "start_time": "2022-06-15T21:10:11.983Z"
   },
   {
    "duration": 0,
    "start_time": "2022-06-15T21:10:11.984Z"
   },
   {
    "duration": 0,
    "start_time": "2022-06-15T21:10:11.985Z"
   },
   {
    "duration": 0,
    "start_time": "2022-06-15T21:10:11.986Z"
   },
   {
    "duration": 0,
    "start_time": "2022-06-15T21:10:11.994Z"
   },
   {
    "duration": 0,
    "start_time": "2022-06-15T21:10:11.995Z"
   },
   {
    "duration": 0,
    "start_time": "2022-06-15T21:10:11.996Z"
   },
   {
    "duration": 0,
    "start_time": "2022-06-15T21:10:11.998Z"
   },
   {
    "duration": 0,
    "start_time": "2022-06-15T21:10:11.999Z"
   },
   {
    "duration": 0,
    "start_time": "2022-06-15T21:10:12.000Z"
   },
   {
    "duration": 0,
    "start_time": "2022-06-15T21:10:12.001Z"
   },
   {
    "duration": 0,
    "start_time": "2022-06-15T21:10:12.002Z"
   },
   {
    "duration": 0,
    "start_time": "2022-06-15T21:10:12.003Z"
   },
   {
    "duration": 0,
    "start_time": "2022-06-15T21:10:12.005Z"
   },
   {
    "duration": 0,
    "start_time": "2022-06-15T21:10:12.006Z"
   },
   {
    "duration": 0,
    "start_time": "2022-06-15T21:10:12.007Z"
   },
   {
    "duration": 0,
    "start_time": "2022-06-15T21:10:12.008Z"
   },
   {
    "duration": 0,
    "start_time": "2022-06-15T21:10:12.009Z"
   },
   {
    "duration": 0,
    "start_time": "2022-06-15T21:10:12.011Z"
   },
   {
    "duration": 0,
    "start_time": "2022-06-15T21:10:12.012Z"
   },
   {
    "duration": 0,
    "start_time": "2022-06-15T21:10:12.013Z"
   },
   {
    "duration": 0,
    "start_time": "2022-06-15T21:10:12.014Z"
   },
   {
    "duration": 0,
    "start_time": "2022-06-15T21:10:12.015Z"
   },
   {
    "duration": 0,
    "start_time": "2022-06-15T21:10:12.016Z"
   },
   {
    "duration": 0,
    "start_time": "2022-06-15T21:10:12.018Z"
   },
   {
    "duration": 0,
    "start_time": "2022-06-15T21:10:12.020Z"
   },
   {
    "duration": 0,
    "start_time": "2022-06-15T21:10:12.021Z"
   }
  ],
  "kernelspec": {
   "display_name": "Python 3 (ipykernel)",
   "language": "python",
   "name": "python3"
  },
  "language_info": {
   "codemirror_mode": {
    "name": "ipython",
    "version": 3
   },
   "file_extension": ".py",
   "mimetype": "text/x-python",
   "name": "python",
   "nbconvert_exporter": "python",
   "pygments_lexer": "ipython3",
   "version": "3.9.7"
  },
  "toc": {
   "base_numbering": 1,
   "nav_menu": {},
   "number_sections": false,
   "sideBar": true,
   "skip_h1_title": true,
   "title_cell": "Table of Contents",
   "title_sidebar": "Contents",
   "toc_cell": false,
   "toc_position": {
    "height": "calc(100% - 180px)",
    "left": "10px",
    "top": "150px",
    "width": "237px"
   },
   "toc_section_display": true,
   "toc_window_display": true
  }
 },
 "nbformat": 4,
 "nbformat_minor": 2
}
